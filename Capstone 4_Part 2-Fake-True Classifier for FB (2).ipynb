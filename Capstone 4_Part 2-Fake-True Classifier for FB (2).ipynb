{
 "cells": [
  {
   "cell_type": "markdown",
   "metadata": {},
   "source": [
    "# Applying Fake-Authentic Classifier Over Facebook Political Ads"
   ]
  },
  {
   "cell_type": "code",
   "execution_count": 17,
   "metadata": {},
   "outputs": [
    {
     "name": "stdout",
     "output_type": "stream",
     "text": [
      "Requirement already satisfied: spacy in /usr/local/lib/python3.6/dist-packages (2.3.2)\n",
      "Requirement already satisfied: tqdm in /usr/local/lib/python3.6/dist-packages (4.46.1)\n",
      "Requirement already satisfied: requests<3.0.0,>=2.13.0 in /usr/local/lib/python3.6/dist-packages (from spacy) (2.23.0)\n",
      "Requirement already satisfied: preshed<3.1.0,>=3.0.2 in /usr/local/lib/python3.6/dist-packages (from spacy) (3.0.2)\n",
      "Requirement already satisfied: wasabi<1.1.0,>=0.4.0 in /usr/local/lib/python3.6/dist-packages (from spacy) (0.7.1)\n",
      "Requirement already satisfied: murmurhash<1.1.0,>=0.28.0 in /usr/local/lib/python3.6/dist-packages (from spacy) (1.0.2)\n",
      "Requirement already satisfied: numpy>=1.15.0 in /usr/local/lib/python3.6/dist-packages (from spacy) (1.18.5)\n",
      "Requirement already satisfied: blis<0.5.0,>=0.4.0 in /usr/local/lib/python3.6/dist-packages (from spacy) (0.4.1)\n",
      "Requirement already satisfied: catalogue<1.1.0,>=0.0.7 in /usr/local/lib/python3.6/dist-packages (from spacy) (1.0.0)\n",
      "Requirement already satisfied: plac<1.2.0,>=0.9.6 in /usr/local/lib/python3.6/dist-packages (from spacy) (1.1.3)\n",
      "Requirement already satisfied: cymem<2.1.0,>=2.0.2 in /usr/local/lib/python3.6/dist-packages (from spacy) (2.0.3)\n",
      "Requirement already satisfied: srsly<1.1.0,>=1.0.2 in /usr/local/lib/python3.6/dist-packages (from spacy) (1.0.2)\n",
      "Requirement already satisfied: thinc==7.4.1 in /usr/local/lib/python3.6/dist-packages (from spacy) (7.4.1)\n",
      "Requirement already satisfied: setuptools in /usr/local/lib/python3.6/dist-packages (from spacy) (47.1.1)\n",
      "Requirement already satisfied: urllib3!=1.25.0,!=1.25.1,<1.26,>=1.21.1 in /usr/local/lib/python3.6/dist-packages (from requests<3.0.0,>=2.13.0->spacy) (1.25.9)\n",
      "Requirement already satisfied: certifi>=2017.4.17 in /usr/local/lib/python3.6/dist-packages (from requests<3.0.0,>=2.13.0->spacy) (2020.4.5.2)\n",
      "Requirement already satisfied: idna<3,>=2.5 in /usr/local/lib/python3.6/dist-packages (from requests<3.0.0,>=2.13.0->spacy) (2.9)\n",
      "Requirement already satisfied: chardet<4,>=3.0.2 in /usr/local/lib/python3.6/dist-packages (from requests<3.0.0,>=2.13.0->spacy) (3.0.4)\n",
      "Requirement already satisfied: importlib-metadata>=0.20; python_version < \"3.8\" in /usr/local/lib/python3.6/dist-packages (from catalogue<1.1.0,>=0.0.7->spacy) (1.6.1)\n",
      "Requirement already satisfied: zipp>=0.5 in /usr/local/lib/python3.6/dist-packages (from importlib-metadata>=0.20; python_version < \"3.8\"->catalogue<1.1.0,>=0.0.7->spacy) (3.1.0)\n",
      "\u001b[33mWARNING: You are using pip version 20.1.1; however, version 20.2 is available.\n",
      "You should consider upgrading via the '/usr/bin/python3.6 -m pip install --upgrade pip' command.\u001b[0m\n"
     ]
    }
   ],
   "source": [
    "!pip install spacy tqdm"
   ]
  },
  {
   "cell_type": "code",
   "execution_count": 18,
   "metadata": {},
   "outputs": [
    {
     "name": "stdout",
     "output_type": "stream",
     "text": [
      "Requirement already satisfied: en_core_web_lg==2.3.1 from https://github.com/explosion/spacy-models/releases/download/en_core_web_lg-2.3.1/en_core_web_lg-2.3.1.tar.gz#egg=en_core_web_lg==2.3.1 in /usr/local/lib/python3.6/dist-packages (2.3.1)\n",
      "Requirement already satisfied: spacy<2.4.0,>=2.3.0 in /usr/local/lib/python3.6/dist-packages (from en_core_web_lg==2.3.1) (2.3.2)\n",
      "Requirement already satisfied: preshed<3.1.0,>=3.0.2 in /usr/local/lib/python3.6/dist-packages (from spacy<2.4.0,>=2.3.0->en_core_web_lg==2.3.1) (3.0.2)\n",
      "Requirement already satisfied: murmurhash<1.1.0,>=0.28.0 in /usr/local/lib/python3.6/dist-packages (from spacy<2.4.0,>=2.3.0->en_core_web_lg==2.3.1) (1.0.2)\n",
      "Requirement already satisfied: catalogue<1.1.0,>=0.0.7 in /usr/local/lib/python3.6/dist-packages (from spacy<2.4.0,>=2.3.0->en_core_web_lg==2.3.1) (1.0.0)\n",
      "Requirement already satisfied: blis<0.5.0,>=0.4.0 in /usr/local/lib/python3.6/dist-packages (from spacy<2.4.0,>=2.3.0->en_core_web_lg==2.3.1) (0.4.1)\n",
      "Requirement already satisfied: wasabi<1.1.0,>=0.4.0 in /usr/local/lib/python3.6/dist-packages (from spacy<2.4.0,>=2.3.0->en_core_web_lg==2.3.1) (0.7.1)\n",
      "Requirement already satisfied: tqdm<5.0.0,>=4.38.0 in /usr/local/lib/python3.6/dist-packages (from spacy<2.4.0,>=2.3.0->en_core_web_lg==2.3.1) (4.46.1)\n",
      "Requirement already satisfied: thinc==7.4.1 in /usr/local/lib/python3.6/dist-packages (from spacy<2.4.0,>=2.3.0->en_core_web_lg==2.3.1) (7.4.1)\n",
      "Requirement already satisfied: numpy>=1.15.0 in /usr/local/lib/python3.6/dist-packages (from spacy<2.4.0,>=2.3.0->en_core_web_lg==2.3.1) (1.18.5)\n",
      "Requirement already satisfied: setuptools in /usr/local/lib/python3.6/dist-packages (from spacy<2.4.0,>=2.3.0->en_core_web_lg==2.3.1) (47.1.1)\n",
      "Requirement already satisfied: cymem<2.1.0,>=2.0.2 in /usr/local/lib/python3.6/dist-packages (from spacy<2.4.0,>=2.3.0->en_core_web_lg==2.3.1) (2.0.3)\n",
      "Requirement already satisfied: plac<1.2.0,>=0.9.6 in /usr/local/lib/python3.6/dist-packages (from spacy<2.4.0,>=2.3.0->en_core_web_lg==2.3.1) (1.1.3)\n",
      "Requirement already satisfied: requests<3.0.0,>=2.13.0 in /usr/local/lib/python3.6/dist-packages (from spacy<2.4.0,>=2.3.0->en_core_web_lg==2.3.1) (2.23.0)\n",
      "Requirement already satisfied: srsly<1.1.0,>=1.0.2 in /usr/local/lib/python3.6/dist-packages (from spacy<2.4.0,>=2.3.0->en_core_web_lg==2.3.1) (1.0.2)\n",
      "Requirement already satisfied: importlib-metadata>=0.20; python_version < \"3.8\" in /usr/local/lib/python3.6/dist-packages (from catalogue<1.1.0,>=0.0.7->spacy<2.4.0,>=2.3.0->en_core_web_lg==2.3.1) (1.6.1)\n",
      "Requirement already satisfied: urllib3!=1.25.0,!=1.25.1,<1.26,>=1.21.1 in /usr/local/lib/python3.6/dist-packages (from requests<3.0.0,>=2.13.0->spacy<2.4.0,>=2.3.0->en_core_web_lg==2.3.1) (1.25.9)\n",
      "Requirement already satisfied: idna<3,>=2.5 in /usr/local/lib/python3.6/dist-packages (from requests<3.0.0,>=2.13.0->spacy<2.4.0,>=2.3.0->en_core_web_lg==2.3.1) (2.9)\n",
      "Requirement already satisfied: certifi>=2017.4.17 in /usr/local/lib/python3.6/dist-packages (from requests<3.0.0,>=2.13.0->spacy<2.4.0,>=2.3.0->en_core_web_lg==2.3.1) (2020.4.5.2)\n",
      "Requirement already satisfied: chardet<4,>=3.0.2 in /usr/local/lib/python3.6/dist-packages (from requests<3.0.0,>=2.13.0->spacy<2.4.0,>=2.3.0->en_core_web_lg==2.3.1) (3.0.4)\n",
      "Requirement already satisfied: zipp>=0.5 in /usr/local/lib/python3.6/dist-packages (from importlib-metadata>=0.20; python_version < \"3.8\"->catalogue<1.1.0,>=0.0.7->spacy<2.4.0,>=2.3.0->en_core_web_lg==2.3.1) (3.1.0)\n",
      "\u001b[33mWARNING: You are using pip version 20.1.1; however, version 20.2.1 is available.\n",
      "You should consider upgrading via the '/usr/local/bin/python -m pip install --upgrade pip' command.\u001b[0m\n",
      "\u001b[38;5;2m✔ Download and installation successful\u001b[0m\n",
      "You can now load the model via spacy.load('en_core_web_lg')\n"
     ]
    }
   ],
   "source": [
    "!python -m spacy download en_core_web_lg"
   ]
  },
  {
   "cell_type": "code",
   "execution_count": 19,
   "metadata": {},
   "outputs": [
    {
     "name": "stdout",
     "output_type": "stream",
     "text": [
      "Requirement already satisfied: textblob in /usr/local/lib/python3.6/dist-packages (0.15.3)\n",
      "Requirement already satisfied: nltk>=3.1 in /usr/local/lib/python3.6/dist-packages (from textblob) (3.5)\n",
      "Requirement already satisfied: tqdm in /usr/local/lib/python3.6/dist-packages (from nltk>=3.1->textblob) (4.46.1)\n",
      "Requirement already satisfied: joblib in /usr/local/lib/python3.6/dist-packages (from nltk>=3.1->textblob) (0.15.1)\n",
      "Requirement already satisfied: click in /usr/local/lib/python3.6/dist-packages (from nltk>=3.1->textblob) (7.1.2)\n",
      "Requirement already satisfied: regex in /usr/local/lib/python3.6/dist-packages (from nltk>=3.1->textblob) (2020.6.8)\n",
      "\u001b[33mWARNING: You are using pip version 20.1.1; however, version 20.2 is available.\n",
      "You should consider upgrading via the '/usr/bin/python3.6 -m pip install --upgrade pip' command.\u001b[0m\n"
     ]
    }
   ],
   "source": [
    "!pip install textblob"
   ]
  },
  {
   "cell_type": "code",
   "execution_count": 20,
   "metadata": {},
   "outputs": [
    {
     "name": "stdout",
     "output_type": "stream",
     "text": [
      "Requirement already satisfied: nltk in /usr/local/lib/python3.6/dist-packages (3.5)\n",
      "Requirement already satisfied: regex in /usr/local/lib/python3.6/dist-packages (from nltk) (2020.6.8)\n",
      "Requirement already satisfied: tqdm in /usr/local/lib/python3.6/dist-packages (from nltk) (4.46.1)\n",
      "Requirement already satisfied: click in /usr/local/lib/python3.6/dist-packages (from nltk) (7.1.2)\n",
      "Requirement already satisfied: joblib in /usr/local/lib/python3.6/dist-packages (from nltk) (0.15.1)\n",
      "\u001b[33mWARNING: You are using pip version 20.1.1; however, version 20.2 is available.\n",
      "You should consider upgrading via the '/usr/bin/python3.6 -m pip install --upgrade pip' command.\u001b[0m\n"
     ]
    }
   ],
   "source": [
    "!pip install nltk"
   ]
  },
  {
   "cell_type": "code",
   "execution_count": 21,
   "metadata": {},
   "outputs": [
    {
     "name": "stdout",
     "output_type": "stream",
     "text": [
      "Requirement already satisfied: preprocessor in /usr/local/lib/python3.6/dist-packages (1.1.3)\n",
      "^C\n",
      "\u001b[31mERROR: Operation cancelled by user\u001b[0m\n",
      "\u001b[33mWARNING: You are using pip version 20.1.1; however, version 20.2 is available.\n",
      "You should consider upgrading via the '/usr/bin/python3.6 -m pip install --upgrade pip' command.\u001b[0m\n"
     ]
    }
   ],
   "source": [
    "!pip install preprocessor"
   ]
  },
  {
   "cell_type": "code",
   "execution_count": 22,
   "metadata": {},
   "outputs": [
    {
     "name": "stdout",
     "output_type": "stream",
     "text": [
      "Requirement already satisfied: seaborn in /usr/local/lib/python3.6/dist-packages (0.10.1)\n",
      "Requirement already satisfied: numpy>=1.13.3 in /usr/local/lib/python3.6/dist-packages (from seaborn) (1.18.5)\n",
      "Requirement already satisfied: matplotlib>=2.1.2 in /usr/local/lib/python3.6/dist-packages (from seaborn) (3.2.1)\n",
      "Requirement already satisfied: scipy>=1.0.1 in /usr/local/lib/python3.6/dist-packages (from seaborn) (1.4.1)\n",
      "Requirement already satisfied: pandas>=0.22.0 in /usr/local/lib/python3.6/dist-packages (from seaborn) (1.0.4)\n",
      "Requirement already satisfied: cycler>=0.10 in /usr/local/lib/python3.6/dist-packages (from matplotlib>=2.1.2->seaborn) (0.10.0)\n",
      "Requirement already satisfied: pyparsing!=2.0.4,!=2.1.2,!=2.1.6,>=2.0.1 in /usr/local/lib/python3.6/dist-packages (from matplotlib>=2.1.2->seaborn) (2.4.7)\n",
      "Requirement already satisfied: kiwisolver>=1.0.1 in /usr/local/lib/python3.6/dist-packages (from matplotlib>=2.1.2->seaborn) (1.2.0)\n",
      "Requirement already satisfied: python-dateutil>=2.1 in /usr/local/lib/python3.6/dist-packages (from matplotlib>=2.1.2->seaborn) (2.8.1)\n",
      "Requirement already satisfied: pytz>=2017.2 in /usr/local/lib/python3.6/dist-packages (from pandas>=0.22.0->seaborn) (2020.1)\n",
      "Requirement already satisfied: six in /usr/local/lib/python3.6/dist-packages (from cycler>=0.10->matplotlib>=2.1.2->seaborn) (1.15.0)\n",
      "\u001b[33mWARNING: You are using pip version 20.1.1; however, version 20.2 is available.\n",
      "You should consider upgrading via the '/usr/bin/python3.6 -m pip install --upgrade pip' command.\u001b[0m\n"
     ]
    }
   ],
   "source": [
    "!pip install seaborn"
   ]
  },
  {
   "cell_type": "code",
   "execution_count": 23,
   "metadata": {},
   "outputs": [
    {
     "name": "stdout",
     "output_type": "stream",
     "text": [
      "Requirement already satisfied: wordcloud in /usr/local/lib/python3.6/dist-packages (1.7.0)\n",
      "Requirement already satisfied: matplotlib in /usr/local/lib/python3.6/dist-packages (from wordcloud) (3.2.1)\n",
      "Requirement already satisfied: numpy>=1.6.1 in /usr/local/lib/python3.6/dist-packages (from wordcloud) (1.18.5)\n",
      "Requirement already satisfied: pillow in /usr/local/lib/python3.6/dist-packages (from wordcloud) (7.1.2)\n",
      "Requirement already satisfied: pyparsing!=2.0.4,!=2.1.2,!=2.1.6,>=2.0.1 in /usr/local/lib/python3.6/dist-packages (from matplotlib->wordcloud) (2.4.7)\n",
      "Requirement already satisfied: python-dateutil>=2.1 in /usr/local/lib/python3.6/dist-packages (from matplotlib->wordcloud) (2.8.1)\n",
      "Requirement already satisfied: cycler>=0.10 in /usr/local/lib/python3.6/dist-packages (from matplotlib->wordcloud) (0.10.0)\n",
      "Requirement already satisfied: kiwisolver>=1.0.1 in /usr/local/lib/python3.6/dist-packages (from matplotlib->wordcloud) (1.2.0)\n",
      "Requirement already satisfied: six>=1.5 in /usr/local/lib/python3.6/dist-packages (from python-dateutil>=2.1->matplotlib->wordcloud) (1.15.0)\n",
      "\u001b[33mWARNING: You are using pip version 20.1.1; however, version 20.2 is available.\n",
      "You should consider upgrading via the '/usr/bin/python3.6 -m pip install --upgrade pip' command.\u001b[0m\n"
     ]
    }
   ],
   "source": [
    "!pip install wordcloud"
   ]
  },
  {
   "cell_type": "code",
   "execution_count": 24,
   "metadata": {},
   "outputs": [
    {
     "name": "stdout",
     "output_type": "stream",
     "text": [
      "Requirement already satisfied: xlrd in /usr/local/lib/python3.6/dist-packages (1.2.0)\n",
      "\u001b[33mWARNING: You are using pip version 20.1.1; however, version 20.2 is available.\n",
      "You should consider upgrading via the '/usr/bin/python3.6 -m pip install --upgrade pip' command.\u001b[0m\n"
     ]
    }
   ],
   "source": [
    "!pip install xlrd"
   ]
  },
  {
   "cell_type": "code",
   "execution_count": 25,
   "metadata": {},
   "outputs": [
    {
     "data": {
      "text/plain": [
       "'1.0.4'"
      ]
     },
     "execution_count": 25,
     "metadata": {},
     "output_type": "execute_result"
    }
   ],
   "source": [
    "pd.__version__"
   ]
  },
  {
   "cell_type": "code",
   "execution_count": 26,
   "metadata": {},
   "outputs": [
    {
     "name": "stdout",
     "output_type": "stream",
     "text": [
      "Requirement already satisfied: openpyxl in /usr/local/lib/python3.6/dist-packages (3.0.4)\n",
      "Requirement already satisfied: et-xmlfile in /usr/local/lib/python3.6/dist-packages (from openpyxl) (1.0.1)\n",
      "Requirement already satisfied: jdcal in /usr/local/lib/python3.6/dist-packages (from openpyxl) (1.4.1)\n",
      "\u001b[33mWARNING: You are using pip version 20.1.1; however, version 20.2 is available.\n",
      "You should consider upgrading via the '/usr/bin/python3.6 -m pip install --upgrade pip' command.\u001b[0m\n"
     ]
    }
   ],
   "source": [
    "!pip install openpyxl"
   ]
  },
  {
   "cell_type": "code",
   "execution_count": 27,
   "metadata": {},
   "outputs": [
    {
     "name": "stdout",
     "output_type": "stream",
     "text": [
      "Requirement already satisfied: gensim in /usr/local/lib/python3.6/dist-packages (3.8.3)\n",
      "Requirement already satisfied: smart-open>=1.8.1 in /usr/local/lib/python3.6/dist-packages (from gensim) (2.1.0)\n",
      "Requirement already satisfied: six>=1.5.0 in /usr/local/lib/python3.6/dist-packages (from gensim) (1.15.0)\n",
      "Requirement already satisfied: scipy>=0.18.1 in /usr/local/lib/python3.6/dist-packages (from gensim) (1.4.1)\n",
      "Requirement already satisfied: numpy>=1.11.3 in /usr/local/lib/python3.6/dist-packages (from gensim) (1.18.5)\n",
      "Requirement already satisfied: boto3 in /usr/local/lib/python3.6/dist-packages (from smart-open>=1.8.1->gensim) (1.14.33)\n",
      "Requirement already satisfied: boto in /usr/local/lib/python3.6/dist-packages (from smart-open>=1.8.1->gensim) (2.49.0)\n",
      "Requirement already satisfied: requests in /usr/local/lib/python3.6/dist-packages (from smart-open>=1.8.1->gensim) (2.23.0)\n",
      "Requirement already satisfied: botocore<1.18.0,>=1.17.33 in /usr/local/lib/python3.6/dist-packages (from boto3->smart-open>=1.8.1->gensim) (1.17.33)\n",
      "Requirement already satisfied: jmespath<1.0.0,>=0.7.1 in /usr/local/lib/python3.6/dist-packages (from boto3->smart-open>=1.8.1->gensim) (0.10.0)\n",
      "Requirement already satisfied: s3transfer<0.4.0,>=0.3.0 in /usr/local/lib/python3.6/dist-packages (from boto3->smart-open>=1.8.1->gensim) (0.3.3)\n",
      "Requirement already satisfied: idna<3,>=2.5 in /usr/local/lib/python3.6/dist-packages (from requests->smart-open>=1.8.1->gensim) (2.9)\n",
      "Requirement already satisfied: urllib3!=1.25.0,!=1.25.1,<1.26,>=1.21.1 in /usr/local/lib/python3.6/dist-packages (from requests->smart-open>=1.8.1->gensim) (1.25.9)\n",
      "Requirement already satisfied: chardet<4,>=3.0.2 in /usr/local/lib/python3.6/dist-packages (from requests->smart-open>=1.8.1->gensim) (3.0.4)\n",
      "Requirement already satisfied: certifi>=2017.4.17 in /usr/local/lib/python3.6/dist-packages (from requests->smart-open>=1.8.1->gensim) (2020.4.5.2)\n",
      "Requirement already satisfied: python-dateutil<3.0.0,>=2.1 in /usr/local/lib/python3.6/dist-packages (from botocore<1.18.0,>=1.17.33->boto3->smart-open>=1.8.1->gensim) (2.8.1)\n",
      "Requirement already satisfied: docutils<0.16,>=0.10 in /usr/local/lib/python3.6/dist-packages (from botocore<1.18.0,>=1.17.33->boto3->smart-open>=1.8.1->gensim) (0.15.2)\n",
      "\u001b[33mWARNING: You are using pip version 20.1.1; however, version 20.2 is available.\n",
      "You should consider upgrading via the '/usr/bin/python3.6 -m pip install --upgrade pip' command.\u001b[0m\n"
     ]
    }
   ],
   "source": [
    "!pip install gensim"
   ]
  },
  {
   "cell_type": "code",
   "execution_count": 28,
   "metadata": {},
   "outputs": [
    {
     "name": "stdout",
     "output_type": "stream",
     "text": [
      "Requirement already satisfied: tensorflow_hub in /usr/local/lib/python3.6/dist-packages (0.8.0)\n",
      "Requirement already satisfied: six>=1.12.0 in /usr/local/lib/python3.6/dist-packages (from tensorflow_hub) (1.15.0)\n",
      "Requirement already satisfied: protobuf>=3.8.0 in /usr/local/lib/python3.6/dist-packages (from tensorflow_hub) (3.12.2)\n",
      "Requirement already satisfied: numpy>=1.12.0 in /usr/local/lib/python3.6/dist-packages (from tensorflow_hub) (1.18.5)\n",
      "Requirement already satisfied: setuptools in /usr/local/lib/python3.6/dist-packages (from protobuf>=3.8.0->tensorflow_hub) (47.1.1)\n",
      "\u001b[33mWARNING: You are using pip version 20.1.1; however, version 20.2 is available.\n",
      "You should consider upgrading via the '/usr/bin/python3.6 -m pip install --upgrade pip' command.\u001b[0m\n"
     ]
    }
   ],
   "source": [
    "!pip3 install tensorflow_hub"
   ]
  },
  {
   "cell_type": "code",
   "execution_count": 29,
   "metadata": {},
   "outputs": [
    {
     "name": "stdout",
     "output_type": "stream",
     "text": [
      "Requirement already satisfied: nltk in /usr/local/lib/python3.6/dist-packages (3.5)\n",
      "Requirement already satisfied: regex in /usr/local/lib/python3.6/dist-packages (from nltk) (2020.6.8)\n",
      "Requirement already satisfied: joblib in /usr/local/lib/python3.6/dist-packages (from nltk) (0.15.1)\n",
      "Requirement already satisfied: click in /usr/local/lib/python3.6/dist-packages (from nltk) (7.1.2)\n",
      "Requirement already satisfied: tqdm in /usr/local/lib/python3.6/dist-packages (from nltk) (4.46.1)\n",
      "\u001b[33mWARNING: You are using pip version 20.1.1; however, version 20.2 is available.\n",
      "You should consider upgrading via the '/usr/bin/python3.6 -m pip install --upgrade pip' command.\u001b[0m\n"
     ]
    },
    {
     "name": "stderr",
     "output_type": "stream",
     "text": [
      "[nltk_data] Downloading package wordnet to /root/nltk_data...\n",
      "[nltk_data]   Package wordnet is already up-to-date!\n"
     ]
    },
    {
     "data": {
      "text/plain": [
       "True"
      ]
     },
     "execution_count": 29,
     "metadata": {},
     "output_type": "execute_result"
    }
   ],
   "source": [
    "!pip install nltk\n",
    "nltk.download('wordnet')"
   ]
  },
  {
   "cell_type": "markdown",
   "metadata": {},
   "source": [
    "## Part 2: Supervised Learning~Developing a Fake-True Classifier "
   ]
  },
  {
   "cell_type": "code",
   "execution_count": 1,
   "metadata": {},
   "outputs": [],
   "source": [
    "import spacy \n",
    "import en_core_web_lg\n",
    "\n",
    "#spacy.prefer_gpu()\n",
    "nlp = en_core_web_lg.load()"
   ]
  },
  {
   "cell_type": "code",
   "execution_count": 2,
   "metadata": {},
   "outputs": [],
   "source": [
    "import pandas as pd\n",
    "import numpy as np\n",
    "from tqdm import tqdm\n",
    "tqdm.pandas(desc=\"progress bar\")\n",
    "\n",
    "\n",
    "import preprocessor\n",
    "from textblob import TextBlob\n",
    "import statistics\n",
    "from typing import List\n",
    "\n",
    "\n",
    "import scipy\n",
    "\n",
    "import spacy\n",
    "import nltk\n",
    "import re\n",
    "\n",
    "import matplotlib.pyplot as plt\n",
    "%matplotlib inline \n",
    "import seaborn as sns\n",
    "\n",
    "from sklearn.feature_extraction.text import TfidfVectorizer"
   ]
  },
  {
   "cell_type": "markdown",
   "metadata": {},
   "source": [
    "### Data"
   ]
  },
  {
   "cell_type": "code",
   "execution_count": 5,
   "metadata": {},
   "outputs": [],
   "source": [
    "##DON'T RUN ALL CELLS AUTOMATICALLY, OR YOU\"LL UNDO THE PICKELED VECTORS!!!!\n",
    "\n",
    "fake_df = pd.read_csv('Fake.csv')"
   ]
  },
  {
   "cell_type": "code",
   "execution_count": null,
   "metadata": {},
   "outputs": [],
   "source": [
    "%time fake_df.shape"
   ]
  },
  {
   "cell_type": "code",
   "execution_count": 6,
   "metadata": {},
   "outputs": [],
   "source": [
    "true_df = pd.read_csv(\"True.csv\") "
   ]
  },
  {
   "cell_type": "code",
   "execution_count": 33,
   "metadata": {},
   "outputs": [
    {
     "name": "stderr",
     "output_type": "stream",
     "text": [
      "progress bar: 100%|██████████| 23481/23481 [35:49<00:00, 10.92it/s] \n"
     ]
    }
   ],
   "source": [
    "#Transform 'Fake' and 'True' into Vectors\n",
    "fake_vectors = fake_df['text'].progress_apply(lambda x: pd.Series(nlp(x).doc.vector.tolist()))"
   ]
  },
  {
   "cell_type": "code",
   "execution_count": 34,
   "metadata": {},
   "outputs": [
    {
     "name": "stderr",
     "output_type": "stream",
     "text": [
      "progress bar: 100%|██████████| 21417/21417 [28:28<00:00, 12.54it/s] \n"
     ]
    }
   ],
   "source": [
    "true_vectors = true_df['text'].progress_apply(lambda x: pd.Series(nlp(x).doc.vector.tolist()))"
   ]
  },
  {
   "cell_type": "code",
   "execution_count": 35,
   "metadata": {},
   "outputs": [],
   "source": [
    "fake_vectors.to_pickle('fake_vectors.pickle')\n",
    "true_vectors.to_pickle('true_vectors.pickle')"
   ]
  },
  {
   "cell_type": "markdown",
   "metadata": {},
   "source": [
    "### Open Pickled Data"
   ]
  },
  {
   "cell_type": "code",
   "execution_count": 3,
   "metadata": {},
   "outputs": [],
   "source": [
    "#Open pickled FAKE vectors from here.\n",
    "##OKAY TO RUN ALL CELLS from here.\n",
    "import pickle\n",
    "\n",
    "with open('/storage/fake_vectors.pickle','rb') as pickle_fake_file:\n",
    "    fake_vectors = pickle.load(pickle_fake_file)"
   ]
  },
  {
   "cell_type": "code",
   "execution_count": 4,
   "metadata": {},
   "outputs": [],
   "source": [
    "#Open pickled true_vectors from here\n",
    "with open('/storage/true_vectors.pickle','rb') as pickle_true_file:\n",
    "    true_vectors = pickle.load(pickle_true_file)"
   ]
  },
  {
   "cell_type": "code",
   "execution_count": 7,
   "metadata": {},
   "outputs": [],
   "source": [
    "#Need to assign values to vectors.\n",
    "fake_vectors['y'] = 0\n",
    "true_vectors['y'] = 1"
   ]
  },
  {
   "cell_type": "code",
   "execution_count": null,
   "metadata": {},
   "outputs": [],
   "source": []
  },
  {
   "cell_type": "code",
   "execution_count": 8,
   "metadata": {},
   "outputs": [],
   "source": [
    "#Need to assign values to original dataframe.\n",
    "#Concatenate\n",
    "true_df['y'] = 1\n",
    "fake_df['y'] = 0\n",
    "\n",
    "all_df= pd.concat([true_df, fake_df], ignore_index=True)"
   ]
  },
  {
   "cell_type": "code",
   "execution_count": 9,
   "metadata": {},
   "outputs": [
    {
     "data": {
      "text/html": [
       "<div>\n",
       "<style scoped>\n",
       "    .dataframe tbody tr th:only-of-type {\n",
       "        vertical-align: middle;\n",
       "    }\n",
       "\n",
       "    .dataframe tbody tr th {\n",
       "        vertical-align: top;\n",
       "    }\n",
       "\n",
       "    .dataframe thead th {\n",
       "        text-align: right;\n",
       "    }\n",
       "</style>\n",
       "<table border=\"1\" class=\"dataframe\">\n",
       "  <thead>\n",
       "    <tr style=\"text-align: right;\">\n",
       "      <th></th>\n",
       "      <th>title</th>\n",
       "      <th>text</th>\n",
       "      <th>subject</th>\n",
       "      <th>date</th>\n",
       "      <th>y</th>\n",
       "    </tr>\n",
       "  </thead>\n",
       "  <tbody>\n",
       "    <tr>\n",
       "      <th>0</th>\n",
       "      <td>As U.S. budget fight looms, Republicans flip t...</td>\n",
       "      <td>WASHINGTON (Reuters) - The head of a conservat...</td>\n",
       "      <td>politicsNews</td>\n",
       "      <td>December 31, 2017</td>\n",
       "      <td>1</td>\n",
       "    </tr>\n",
       "    <tr>\n",
       "      <th>1</th>\n",
       "      <td>U.S. military to accept transgender recruits o...</td>\n",
       "      <td>WASHINGTON (Reuters) - Transgender people will...</td>\n",
       "      <td>politicsNews</td>\n",
       "      <td>December 29, 2017</td>\n",
       "      <td>1</td>\n",
       "    </tr>\n",
       "    <tr>\n",
       "      <th>2</th>\n",
       "      <td>Senior U.S. Republican senator: 'Let Mr. Muell...</td>\n",
       "      <td>WASHINGTON (Reuters) - The special counsel inv...</td>\n",
       "      <td>politicsNews</td>\n",
       "      <td>December 31, 2017</td>\n",
       "      <td>1</td>\n",
       "    </tr>\n",
       "    <tr>\n",
       "      <th>3</th>\n",
       "      <td>FBI Russia probe helped by Australian diplomat...</td>\n",
       "      <td>WASHINGTON (Reuters) - Trump campaign adviser ...</td>\n",
       "      <td>politicsNews</td>\n",
       "      <td>December 30, 2017</td>\n",
       "      <td>1</td>\n",
       "    </tr>\n",
       "    <tr>\n",
       "      <th>4</th>\n",
       "      <td>Trump wants Postal Service to charge 'much mor...</td>\n",
       "      <td>SEATTLE/WASHINGTON (Reuters) - President Donal...</td>\n",
       "      <td>politicsNews</td>\n",
       "      <td>December 29, 2017</td>\n",
       "      <td>1</td>\n",
       "    </tr>\n",
       "    <tr>\n",
       "      <th>...</th>\n",
       "      <td>...</td>\n",
       "      <td>...</td>\n",
       "      <td>...</td>\n",
       "      <td>...</td>\n",
       "      <td>...</td>\n",
       "    </tr>\n",
       "    <tr>\n",
       "      <th>44893</th>\n",
       "      <td>McPain: John McCain Furious That Iran Treated ...</td>\n",
       "      <td>21st Century Wire says As 21WIRE reported earl...</td>\n",
       "      <td>Middle-east</td>\n",
       "      <td>January 16, 2016</td>\n",
       "      <td>0</td>\n",
       "    </tr>\n",
       "    <tr>\n",
       "      <th>44894</th>\n",
       "      <td>JUSTICE? Yahoo Settles E-mail Privacy Class-ac...</td>\n",
       "      <td>21st Century Wire says It s a familiar theme. ...</td>\n",
       "      <td>Middle-east</td>\n",
       "      <td>January 16, 2016</td>\n",
       "      <td>0</td>\n",
       "    </tr>\n",
       "    <tr>\n",
       "      <th>44895</th>\n",
       "      <td>Sunnistan: US and Allied ‘Safe Zone’ Plan to T...</td>\n",
       "      <td>Patrick Henningsen  21st Century WireRemember ...</td>\n",
       "      <td>Middle-east</td>\n",
       "      <td>January 15, 2016</td>\n",
       "      <td>0</td>\n",
       "    </tr>\n",
       "    <tr>\n",
       "      <th>44896</th>\n",
       "      <td>How to Blow $700 Million: Al Jazeera America F...</td>\n",
       "      <td>21st Century Wire says Al Jazeera America will...</td>\n",
       "      <td>Middle-east</td>\n",
       "      <td>January 14, 2016</td>\n",
       "      <td>0</td>\n",
       "    </tr>\n",
       "    <tr>\n",
       "      <th>44897</th>\n",
       "      <td>10 U.S. Navy Sailors Held by Iranian Military ...</td>\n",
       "      <td>21st Century Wire says As 21WIRE predicted in ...</td>\n",
       "      <td>Middle-east</td>\n",
       "      <td>January 12, 2016</td>\n",
       "      <td>0</td>\n",
       "    </tr>\n",
       "  </tbody>\n",
       "</table>\n",
       "<p>44898 rows × 5 columns</p>\n",
       "</div>"
      ],
      "text/plain": [
       "                                                   title  \\\n",
       "0      As U.S. budget fight looms, Republicans flip t...   \n",
       "1      U.S. military to accept transgender recruits o...   \n",
       "2      Senior U.S. Republican senator: 'Let Mr. Muell...   \n",
       "3      FBI Russia probe helped by Australian diplomat...   \n",
       "4      Trump wants Postal Service to charge 'much mor...   \n",
       "...                                                  ...   \n",
       "44893  McPain: John McCain Furious That Iran Treated ...   \n",
       "44894  JUSTICE? Yahoo Settles E-mail Privacy Class-ac...   \n",
       "44895  Sunnistan: US and Allied ‘Safe Zone’ Plan to T...   \n",
       "44896  How to Blow $700 Million: Al Jazeera America F...   \n",
       "44897  10 U.S. Navy Sailors Held by Iranian Military ...   \n",
       "\n",
       "                                                    text       subject  \\\n",
       "0      WASHINGTON (Reuters) - The head of a conservat...  politicsNews   \n",
       "1      WASHINGTON (Reuters) - Transgender people will...  politicsNews   \n",
       "2      WASHINGTON (Reuters) - The special counsel inv...  politicsNews   \n",
       "3      WASHINGTON (Reuters) - Trump campaign adviser ...  politicsNews   \n",
       "4      SEATTLE/WASHINGTON (Reuters) - President Donal...  politicsNews   \n",
       "...                                                  ...           ...   \n",
       "44893  21st Century Wire says As 21WIRE reported earl...   Middle-east   \n",
       "44894  21st Century Wire says It s a familiar theme. ...   Middle-east   \n",
       "44895  Patrick Henningsen  21st Century WireRemember ...   Middle-east   \n",
       "44896  21st Century Wire says Al Jazeera America will...   Middle-east   \n",
       "44897  21st Century Wire says As 21WIRE predicted in ...   Middle-east   \n",
       "\n",
       "                     date  y  \n",
       "0      December 31, 2017   1  \n",
       "1      December 29, 2017   1  \n",
       "2      December 31, 2017   1  \n",
       "3      December 30, 2017   1  \n",
       "4      December 29, 2017   1  \n",
       "...                   ... ..  \n",
       "44893    January 16, 2016  0  \n",
       "44894    January 16, 2016  0  \n",
       "44895    January 15, 2016  0  \n",
       "44896    January 14, 2016  0  \n",
       "44897    January 12, 2016  0  \n",
       "\n",
       "[44898 rows x 5 columns]"
      ]
     },
     "execution_count": 9,
     "metadata": {},
     "output_type": "execute_result"
    }
   ],
   "source": [
    "all_df"
   ]
  },
  {
   "cell_type": "code",
   "execution_count": null,
   "metadata": {},
   "outputs": [],
   "source": []
  },
  {
   "cell_type": "code",
   "execution_count": null,
   "metadata": {},
   "outputs": [],
   "source": []
  },
  {
   "cell_type": "code",
   "execution_count": 10,
   "metadata": {},
   "outputs": [
    {
     "name": "stderr",
     "output_type": "stream",
     "text": [
      "[nltk_data] Downloading package stopwords to /root/nltk_data...\n",
      "[nltk_data]   Package stopwords is already up-to-date!\n"
     ]
    }
   ],
   "source": [
    "#Need to import library for Stop Words\n",
    "import nltk\n",
    "nltk.download('stopwords')\n",
    "from nltk.corpus import stopwords\n",
    "from nltk.corpus import stopwords\n",
    "from nltk.stem.porter import PorterStemmer\n",
    "from nltk.stem.wordnet import WordNetLemmatizer "
   ]
  },
  {
   "cell_type": "code",
   "execution_count": 11,
   "metadata": {},
   "outputs": [],
   "source": [
    "#Clean text for real news \n",
    "\n",
    "def clean_text(text):\n",
    "    text = text.lower()\n",
    "    text = re.sub('<.*?>', \"\", text) #Remove html tag\n",
    "    pattern = re.compile('http[s]?://(?:[a-zA-Z]|[0-9]|[$-_@.&+]|[!*\\(\\),]|(?:%[0-9a-fA-F][0-9a-fA-F]))+') #Return leftover urls\n",
    "    text = re.sub(pattern, ' ', text) #includes pattern when the urls weren't removed from above\n",
    "    #token = word_tokenize(text)\n",
    "    words = [word for word in text.split(\" \") if word.isalpha()]\n",
    "    stop_words = set(stopwords.words(\"english\"))\n",
    "   # #Include additional noise words\n",
    "    stop_words.add(\"not\")\n",
    "    stop_words.add(\"this\")\n",
    "    stop_words.add(\"would\")\n",
    "    stop_words.add(\"also\")\n",
    "    stop_words.add(\"could\")\n",
    "    stop_words.add(\"said\")\n",
    "    PS = PorterStemmer()\n",
    "    words = [PS.stem(w) for w in words if w not in stop_words]\n",
    "    words = ' '.join(words)\n",
    "    return words\n",
    "    return stop_words"
   ]
  },
  {
   "cell_type": "code",
   "execution_count": 12,
   "metadata": {},
   "outputs": [
    {
     "data": {
      "text/plain": [
       "'donald fire'"
      ]
     },
     "execution_count": 12,
     "metadata": {},
     "output_type": "execute_result"
    }
   ],
   "source": [
    "clean_text(\"Donald said You're FIRED\")"
   ]
  },
  {
   "cell_type": "code",
   "execution_count": 13,
   "metadata": {},
   "outputs": [
    {
     "name": "stdout",
     "output_type": "stream",
     "text": [
      "{\"shan't\", 'any', 'have', 'same', 'doesn', 'very', 's', 'having', 've', \"needn't\", 'hadn', 'himself', 'such', \"didn't\", 'into', 'your', 'o', 'few', 'she', 'while', 'wouldn', 'this', 'can', 'most', 'to', 'nor', 'down', 'you', 'a', 'ourselves', 'needn', 'as', 'for', 'too', 't', 'until', \"doesn't\", 'other', 'his', 'is', 'them', \"mightn't\", \"don't\", 'been', 'her', 'during', 'shouldn', 'ma', \"isn't\", 'was', 'haven', 'mustn', 'aren', 'because', 'and', \"hasn't\", 'now', 'has', \"hadn't\", 'll', 'own', 'our', 'me', 'itself', 'had', 'if', 'will', 'y', \"aren't\", 'those', 'its', 'wasn', 'only', 'by', \"couldn't\", \"haven't\", \"she's\", 'i', 'ain', \"that'll\", 'some', 'of', \"should've\", 'mightn', 'does', 'under', 'or', 'out', 'with', 'which', 'being', 'through', 'above', \"shouldn't\", 'no', 'it', 'shan', \"it's\", 'couldn', 'the', \"won't\", 'again', \"you've\", 'theirs', 'more', 'their', 'against', 'where', 'these', \"mustn't\", \"you'd\", 'how', 'just', \"wasn't\", 'between', 'doing', 'after', 'but', 'about', 'up', 'off', 'weren', 'what', 'we', 'were', 'ours', 'd', 'on', 'did', 'him', 'over', 'before', 'then', 'when', 'he', 'both', 'whom', 'my', 'm', 'yourself', 're', 'in', 'once', 'an', \"you're\", 'below', 'at', 'hers', 'further', 'myself', 'why', 'are', 'be', 'do', 'not', 'each', 'hasn', 'than', \"weren't\", 'there', 'yours', 'isn', 'all', 'won', 'that', 'they', 'am', 'themselves', 'from', 'here', 'should', 'didn', \"you'll\", \"wouldn't\", 'who', 'so', 'yourselves', 'herself', 'don'}\n"
     ]
    }
   ],
   "source": [
    "#Check the noise, or 'stop_words'\n",
    "stop_words = set(stopwords.words('english'))\n",
    "print(stop_words)"
   ]
  },
  {
   "cell_type": "raw",
   "metadata": {},
   "source": [
    "#Remove: #df.loc[df.stance.str.contains('discuss'),'stance_factor_num']\n",
    "fake_df['stop_words_fake'] = fake_df['text'].loc[fake_df['text'].str.contains(stop_words)"
   ]
  },
  {
   "cell_type": "code",
   "execution_count": 14,
   "metadata": {},
   "outputs": [
    {
     "name": "stdout",
     "output_type": "stream",
     "text": [
      "0        washington head conserv republican faction vot...\n",
      "1        washington transgend peopl allow first time en...\n",
      "2        washington special counsel investig link russi...\n",
      "3        washington trump campaign advis georg papadopo...\n",
      "4        presid donald trump call postal servic friday ...\n",
      "                               ...                        \n",
      "44893    centuri wire say report earlier unlik mishap t...\n",
      "44894    centuri wire say familiar whenev disput chang ...\n",
      "44895    patrick henningsen centuri wirerememb obama ad...\n",
      "44896    centuri wire say al jazeera america go histori...\n",
      "44897    centuri wire say predict new year look new hos...\n",
      "Name: text, Length: 44898, dtype: object\n"
     ]
    }
   ],
   "source": [
    "print(all_df['text'].apply(clean_text))"
   ]
  },
  {
   "cell_type": "code",
   "execution_count": 15,
   "metadata": {},
   "outputs": [],
   "source": [
    "# Let's take a look at the updated text\n",
    "all_df['updated_text'] = all_df['text'].apply(clean_text)"
   ]
  },
  {
   "cell_type": "code",
   "execution_count": 16,
   "metadata": {},
   "outputs": [
    {
     "data": {
      "text/html": [
       "<div>\n",
       "<style scoped>\n",
       "    .dataframe tbody tr th:only-of-type {\n",
       "        vertical-align: middle;\n",
       "    }\n",
       "\n",
       "    .dataframe tbody tr th {\n",
       "        vertical-align: top;\n",
       "    }\n",
       "\n",
       "    .dataframe thead th {\n",
       "        text-align: right;\n",
       "    }\n",
       "</style>\n",
       "<table border=\"1\" class=\"dataframe\">\n",
       "  <thead>\n",
       "    <tr style=\"text-align: right;\">\n",
       "      <th></th>\n",
       "      <th>updated_text</th>\n",
       "      <th>text</th>\n",
       "    </tr>\n",
       "  </thead>\n",
       "  <tbody>\n",
       "    <tr>\n",
       "      <th>0</th>\n",
       "      <td>washington head conserv republican faction vot...</td>\n",
       "      <td>WASHINGTON (Reuters) - The head of a conservat...</td>\n",
       "    </tr>\n",
       "    <tr>\n",
       "      <th>1</th>\n",
       "      <td>washington transgend peopl allow first time en...</td>\n",
       "      <td>WASHINGTON (Reuters) - Transgender people will...</td>\n",
       "    </tr>\n",
       "    <tr>\n",
       "      <th>2</th>\n",
       "      <td>washington special counsel investig link russi...</td>\n",
       "      <td>WASHINGTON (Reuters) - The special counsel inv...</td>\n",
       "    </tr>\n",
       "    <tr>\n",
       "      <th>3</th>\n",
       "      <td>washington trump campaign advis georg papadopo...</td>\n",
       "      <td>WASHINGTON (Reuters) - Trump campaign adviser ...</td>\n",
       "    </tr>\n",
       "    <tr>\n",
       "      <th>4</th>\n",
       "      <td>presid donald trump call postal servic friday ...</td>\n",
       "      <td>SEATTLE/WASHINGTON (Reuters) - President Donal...</td>\n",
       "    </tr>\n",
       "    <tr>\n",
       "      <th>...</th>\n",
       "      <td>...</td>\n",
       "      <td>...</td>\n",
       "    </tr>\n",
       "    <tr>\n",
       "      <th>44893</th>\n",
       "      <td>centuri wire say report earlier unlik mishap t...</td>\n",
       "      <td>21st Century Wire says As 21WIRE reported earl...</td>\n",
       "    </tr>\n",
       "    <tr>\n",
       "      <th>44894</th>\n",
       "      <td>centuri wire say familiar whenev disput chang ...</td>\n",
       "      <td>21st Century Wire says It s a familiar theme. ...</td>\n",
       "    </tr>\n",
       "    <tr>\n",
       "      <th>44895</th>\n",
       "      <td>patrick henningsen centuri wirerememb obama ad...</td>\n",
       "      <td>Patrick Henningsen  21st Century WireRemember ...</td>\n",
       "    </tr>\n",
       "    <tr>\n",
       "      <th>44896</th>\n",
       "      <td>centuri wire say al jazeera america go histori...</td>\n",
       "      <td>21st Century Wire says Al Jazeera America will...</td>\n",
       "    </tr>\n",
       "    <tr>\n",
       "      <th>44897</th>\n",
       "      <td>centuri wire say predict new year look new hos...</td>\n",
       "      <td>21st Century Wire says As 21WIRE predicted in ...</td>\n",
       "    </tr>\n",
       "  </tbody>\n",
       "</table>\n",
       "<p>44898 rows × 2 columns</p>\n",
       "</div>"
      ],
      "text/plain": [
       "                                            updated_text  \\\n",
       "0      washington head conserv republican faction vot...   \n",
       "1      washington transgend peopl allow first time en...   \n",
       "2      washington special counsel investig link russi...   \n",
       "3      washington trump campaign advis georg papadopo...   \n",
       "4      presid donald trump call postal servic friday ...   \n",
       "...                                                  ...   \n",
       "44893  centuri wire say report earlier unlik mishap t...   \n",
       "44894  centuri wire say familiar whenev disput chang ...   \n",
       "44895  patrick henningsen centuri wirerememb obama ad...   \n",
       "44896  centuri wire say al jazeera america go histori...   \n",
       "44897  centuri wire say predict new year look new hos...   \n",
       "\n",
       "                                                    text  \n",
       "0      WASHINGTON (Reuters) - The head of a conservat...  \n",
       "1      WASHINGTON (Reuters) - Transgender people will...  \n",
       "2      WASHINGTON (Reuters) - The special counsel inv...  \n",
       "3      WASHINGTON (Reuters) - Trump campaign adviser ...  \n",
       "4      SEATTLE/WASHINGTON (Reuters) - President Donal...  \n",
       "...                                                  ...  \n",
       "44893  21st Century Wire says As 21WIRE reported earl...  \n",
       "44894  21st Century Wire says It s a familiar theme. ...  \n",
       "44895  Patrick Henningsen  21st Century WireRemember ...  \n",
       "44896  21st Century Wire says Al Jazeera America will...  \n",
       "44897  21st Century Wire says As 21WIRE predicted in ...  \n",
       "\n",
       "[44898 rows x 2 columns]"
      ]
     },
     "execution_count": 16,
     "metadata": {},
     "output_type": "execute_result"
    }
   ],
   "source": [
    "all_df[['updated_text', 'text']]"
   ]
  },
  {
   "cell_type": "code",
   "execution_count": 17,
   "metadata": {},
   "outputs": [],
   "source": [
    "from collections import Counter\n",
    "\n",
    "c = Counter()\n",
    "\n",
    "ignore_this = all_df['updated_text'].apply(lambda row: c.update(row.split(\" \")))"
   ]
  },
  {
   "cell_type": "code",
   "execution_count": 18,
   "metadata": {},
   "outputs": [
    {
     "data": {
      "text/plain": [
       "[('trump', 102168),\n",
       " ('presid', 48106),\n",
       " ('state', 46619),\n",
       " ('peopl', 34875),\n",
       " ('republican', 34816),\n",
       " ('one', 34268),\n",
       " ('say', 30570),\n",
       " ('new', 30513),\n",
       " ('like', 28222),\n",
       " ('donald', 27063),\n",
       " ('democrat', 24948),\n",
       " ('unit', 24743),\n",
       " ('govern', 24724),\n",
       " ('hous', 24673),\n",
       " ('call', 23770),\n",
       " ('nation', 23665),\n",
       " ('told', 23203),\n",
       " ('support', 22745),\n",
       " ('make', 22692),\n",
       " ('go', 22408),\n",
       " ('report', 21961),\n",
       " ('clinton', 21918),\n",
       " ('obama', 21904),\n",
       " ('white', 21892),\n",
       " ('time', 20909),\n",
       " ('last', 20681),\n",
       " ('american', 20642),\n",
       " ('year', 20287),\n",
       " ('get', 20121),\n",
       " ('senat', 20017),\n",
       " ('use', 19858),\n",
       " ('includ', 19463),\n",
       " ('two', 19337),\n",
       " ('offici', 18984),\n",
       " ('want', 18751),\n",
       " ('take', 18538),\n",
       " ('campaign', 18196),\n",
       " ('polit', 18154),\n",
       " ('vote', 18108),\n",
       " ('elect', 17988),\n",
       " ('even', 17976),\n",
       " ('former', 17596),\n",
       " ('parti', 17574),\n",
       " ('news', 17499),\n",
       " ('first', 17437),\n",
       " ('work', 17236),\n",
       " ('right', 16753),\n",
       " ('countri', 16715),\n",
       " ('secur', 16100),\n",
       " ('mani', 15934),\n",
       " ('washington', 15318),\n",
       " ('group', 15209),\n",
       " ('back', 15170),\n",
       " ('hillari', 15165),\n",
       " ('come', 14859),\n",
       " ('may', 14463),\n",
       " ('need', 14360),\n",
       " ('think', 14345),\n",
       " ('made', 14330),\n",
       " ('show', 14268),\n",
       " ('offic', 14168),\n",
       " ('sinc', 14042),\n",
       " ('presidenti', 13599),\n",
       " ('polic', 13567),\n",
       " ('us', 13564),\n",
       " ('ask', 13539),\n",
       " ('plan', 13350),\n",
       " ('law', 13246),\n",
       " ('court', 13165),\n",
       " ('accord', 12981),\n",
       " ('million', 12918),\n",
       " ('media', 12881),\n",
       " ('attack', 12699),\n",
       " ('imag', 12573),\n",
       " ('leader', 12563),\n",
       " ('help', 12494),\n",
       " ('tri', 12489),\n",
       " ('know', 12487),\n",
       " ('feder', 12085),\n",
       " ('north', 12051),\n",
       " ('day', 11929),\n",
       " ('foreign', 11759),\n",
       " ('member', 11691),\n",
       " ('forc', 11674),\n",
       " ('tax', 11627),\n",
       " ('public', 11602),\n",
       " ('percent', 11524),\n",
       " ('bill', 11468),\n",
       " ('administr', 11421),\n",
       " ('investig', 11267),\n",
       " ('see', 11118),\n",
       " ('talk', 11107),\n",
       " ('way', 11047),\n",
       " ('part', 10931),\n",
       " ('russian', 10712),\n",
       " ('issu', 10631),\n",
       " ('militari', 10628),\n",
       " ('look', 10601),\n",
       " ('meet', 10563),\n",
       " ('week', 10470)]"
      ]
     },
     "execution_count": 18,
     "metadata": {},
     "output_type": "execute_result"
    }
   ],
   "source": [
    "top_words = c.most_common(100)\n",
    "top_words"
   ]
  },
  {
   "cell_type": "markdown",
   "metadata": {},
   "source": [
    "## Visualizing Top Words\n",
    "Plot the top 100 words identified within the fake and real news datasets after identifying 'noise words' and performing another round of cleaning in pre-processing.\n",
    "\n",
    "Contrast wordlcloud in \"fake_df\" with wordcloud in \"true_df\"."
   ]
  },
  {
   "cell_type": "markdown",
   "metadata": {},
   "source": [
    "### Observation: The following emerged as the \"Top 100\" words. Although we ran a function to remove 'Stop Words', let's flag noise words.\n",
    "Trump, said,state', \n",
    "'peopl', \n",
    " 'republican','one', 'also', 'say', 'new','like','donald', 'democrat', 'unit', 'govern', \n",
    " 'hous', \n",
    " 'call', 'could','nation', 'told', 'support', 'make', 'go', 'report', 'clinton','obama','white','time', 'last', 'american', 'year', 'get', \n",
    " 'senat',\n",
    " 'use',\n",
    " 'includ', \n",
    " 'two', \n",
    " 'offici', \n",
    " 'want', 'take', 'campaign', \n",
    " 'polit',\n",
    " 'vote', 'elect', 'even', 'former', \n",
    " 'parti', \n",
    " 'news', 'first',work',\n",
    " ('right', 16752),\n",
    " ('countri', 16715),\n",
    " ('secur', 16100),\n",
    " ('mani', 15934),\n",
    " ('washington', 15318),\n",
    " ('group', 15209),\n",
    " ('back', 15170),\n",
    " ('hillari', 15164),\n",
    " ('come', 14857),\n",
    " ('may', 14463),\n",
    " ('need', 14360),\n",
    " ('think', 14345),\n",
    " ('made', 14330),\n",
    " ('show', 14269),\n",
    " ('offic', 14168),\n",
    " ('sinc', 14041),\n",
    " ('presidenti', 13600),\n",
    " ('polic', 13567),\n",
    " ('us', 13564),\n",
    " ('ask', 13539),\n",
    " ('plan', 13350),\n",
    " ('law', 13240),\n",
    " ('court', 13165),\n",
    " ('accord', 12981),\n",
    " ('million', 12918),\n",
    " ('media', 12881),\n",
    " ('attack', 12699),\n",
    " ('imag', 12573),\n",
    " ('leader', 12563),\n",
    " ('help', 12492),\n",
    " ('tri', 12489),\n",
    " ('know', 12487),\n",
    " ('feder', 12085),\n",
    " ('north', 12051),\n",
    " ('day', 11930),\n",
    " ('foreign', 11759),\n",
    " ('member', 11691),\n",
    " ('forc', 11674),\n",
    " ('tax', 11627),\n",
    " ('public', 11602),\n",
    " ('percent', 11524),\n",
    " ('bill', 11468),\n",
    " ('administr', 11421),\n",
    " ('investig', 11267),\n",
    " ('see', 11118),\n",
    " ('talk', 11107),\n",
    " ('way', 11047),\n",
    " ('part', 10931),\n",
    " ('russian', 10712)] "
   ]
  },
  {
   "cell_type": "code",
   "execution_count": 19,
   "metadata": {},
   "outputs": [
    {
     "data": {
      "image/png": "[encoded data removed]",
      "text/plain": [
       "<Figure size 432x288 with 1 Axes>"
      ]
     },
     "metadata": {
      "needs_background": "light"
     },
     "output_type": "display_data"
    }
   ],
   "source": [
    "x = top_words\n",
    "plt.hist(x, bins = 10)\n",
    "\n",
    "plt.show()"
   ]
  },
  {
   "cell_type": "code",
   "execution_count": 20,
   "metadata": {},
   "outputs": [
    {
     "data": {
      "image/png": "[encoded data removed]",
      "text/plain": [
       "<Figure size 432x288 with 1 Axes>"
      ]
     },
     "metadata": {
      "needs_background": "light"
     },
     "output_type": "display_data"
    }
   ],
   "source": [
    "#Plot number of times 'Top Words' listed\n",
    "fig, ax = plt.subplots()\n",
    "\n",
    "plt.hist(x, bins = 10)\n",
    "ax.set_xlabel('Top Words')\n",
    "ax.set_ylabel('Number of Occurrences')\n",
    "ax.set_title(r'Histogram of Top Words')\n",
    "\n",
    "plt.show()"
   ]
  },
  {
   "cell_type": "markdown",
   "metadata": {},
   "source": [
    "### Feature: Number of Words ('num_words')\n",
    "Include"
   ]
  },
  {
   "cell_type": "code",
   "execution_count": 21,
   "metadata": {},
   "outputs": [
    {
     "data": {
      "text/html": [
       "<div>\n",
       "<style scoped>\n",
       "    .dataframe tbody tr th:only-of-type {\n",
       "        vertical-align: middle;\n",
       "    }\n",
       "\n",
       "    .dataframe tbody tr th {\n",
       "        vertical-align: top;\n",
       "    }\n",
       "\n",
       "    .dataframe thead th {\n",
       "        text-align: right;\n",
       "    }\n",
       "</style>\n",
       "<table border=\"1\" class=\"dataframe\">\n",
       "  <thead>\n",
       "    <tr style=\"text-align: right;\">\n",
       "      <th></th>\n",
       "      <th>title</th>\n",
       "      <th>text</th>\n",
       "      <th>subject</th>\n",
       "      <th>date</th>\n",
       "      <th>y</th>\n",
       "      <th>updated_text</th>\n",
       "      <th>number_stopwords</th>\n",
       "    </tr>\n",
       "  </thead>\n",
       "  <tbody>\n",
       "    <tr>\n",
       "      <th>0</th>\n",
       "      <td>As U.S. budget fight looms, Republicans flip t...</td>\n",
       "      <td>WASHINGTON (Reuters) - The head of a conservat...</td>\n",
       "      <td>politicsNews</td>\n",
       "      <td>December 31, 2017</td>\n",
       "      <td>1</td>\n",
       "      <td>washington head conserv republican faction vot...</td>\n",
       "      <td>282.0</td>\n",
       "    </tr>\n",
       "    <tr>\n",
       "      <th>1</th>\n",
       "      <td>U.S. military to accept transgender recruits o...</td>\n",
       "      <td>WASHINGTON (Reuters) - Transgender people will...</td>\n",
       "      <td>politicsNews</td>\n",
       "      <td>December 29, 2017</td>\n",
       "      <td>1</td>\n",
       "      <td>washington transgend peopl allow first time en...</td>\n",
       "      <td>233.0</td>\n",
       "    </tr>\n",
       "    <tr>\n",
       "      <th>2</th>\n",
       "      <td>Senior U.S. Republican senator: 'Let Mr. Muell...</td>\n",
       "      <td>WASHINGTON (Reuters) - The special counsel inv...</td>\n",
       "      <td>politicsNews</td>\n",
       "      <td>December 31, 2017</td>\n",
       "      <td>1</td>\n",
       "      <td>washington special counsel investig link russi...</td>\n",
       "      <td>184.0</td>\n",
       "    </tr>\n",
       "    <tr>\n",
       "      <th>3</th>\n",
       "      <td>FBI Russia probe helped by Australian diplomat...</td>\n",
       "      <td>WASHINGTON (Reuters) - Trump campaign adviser ...</td>\n",
       "      <td>politicsNews</td>\n",
       "      <td>December 30, 2017</td>\n",
       "      <td>1</td>\n",
       "      <td>washington trump campaign advis georg papadopo...</td>\n",
       "      <td>142.0</td>\n",
       "    </tr>\n",
       "    <tr>\n",
       "      <th>4</th>\n",
       "      <td>Trump wants Postal Service to charge 'much mor...</td>\n",
       "      <td>SEATTLE/WASHINGTON (Reuters) - President Donal...</td>\n",
       "      <td>politicsNews</td>\n",
       "      <td>December 29, 2017</td>\n",
       "      <td>1</td>\n",
       "      <td>presid donald trump call postal servic friday ...</td>\n",
       "      <td>334.0</td>\n",
       "    </tr>\n",
       "    <tr>\n",
       "      <th>...</th>\n",
       "      <td>...</td>\n",
       "      <td>...</td>\n",
       "      <td>...</td>\n",
       "      <td>...</td>\n",
       "      <td>...</td>\n",
       "      <td>...</td>\n",
       "      <td>...</td>\n",
       "    </tr>\n",
       "    <tr>\n",
       "      <th>44893</th>\n",
       "      <td>McPain: John McCain Furious That Iran Treated ...</td>\n",
       "      <td>21st Century Wire says As 21WIRE reported earl...</td>\n",
       "      <td>Middle-east</td>\n",
       "      <td>January 16, 2016</td>\n",
       "      <td>0</td>\n",
       "      <td>centuri wire say report earlier unlik mishap t...</td>\n",
       "      <td>NaN</td>\n",
       "    </tr>\n",
       "    <tr>\n",
       "      <th>44894</th>\n",
       "      <td>JUSTICE? Yahoo Settles E-mail Privacy Class-ac...</td>\n",
       "      <td>21st Century Wire says It s a familiar theme. ...</td>\n",
       "      <td>Middle-east</td>\n",
       "      <td>January 16, 2016</td>\n",
       "      <td>0</td>\n",
       "      <td>centuri wire say familiar whenev disput chang ...</td>\n",
       "      <td>NaN</td>\n",
       "    </tr>\n",
       "    <tr>\n",
       "      <th>44895</th>\n",
       "      <td>Sunnistan: US and Allied ‘Safe Zone’ Plan to T...</td>\n",
       "      <td>Patrick Henningsen  21st Century WireRemember ...</td>\n",
       "      <td>Middle-east</td>\n",
       "      <td>January 15, 2016</td>\n",
       "      <td>0</td>\n",
       "      <td>patrick henningsen centuri wirerememb obama ad...</td>\n",
       "      <td>NaN</td>\n",
       "    </tr>\n",
       "    <tr>\n",
       "      <th>44896</th>\n",
       "      <td>How to Blow $700 Million: Al Jazeera America F...</td>\n",
       "      <td>21st Century Wire says Al Jazeera America will...</td>\n",
       "      <td>Middle-east</td>\n",
       "      <td>January 14, 2016</td>\n",
       "      <td>0</td>\n",
       "      <td>centuri wire say al jazeera america go histori...</td>\n",
       "      <td>NaN</td>\n",
       "    </tr>\n",
       "    <tr>\n",
       "      <th>44897</th>\n",
       "      <td>10 U.S. Navy Sailors Held by Iranian Military ...</td>\n",
       "      <td>21st Century Wire says As 21WIRE predicted in ...</td>\n",
       "      <td>Middle-east</td>\n",
       "      <td>January 12, 2016</td>\n",
       "      <td>0</td>\n",
       "      <td>centuri wire say predict new year look new hos...</td>\n",
       "      <td>NaN</td>\n",
       "    </tr>\n",
       "  </tbody>\n",
       "</table>\n",
       "<p>44898 rows × 7 columns</p>\n",
       "</div>"
      ],
      "text/plain": [
       "                                                   title  \\\n",
       "0      As U.S. budget fight looms, Republicans flip t...   \n",
       "1      U.S. military to accept transgender recruits o...   \n",
       "2      Senior U.S. Republican senator: 'Let Mr. Muell...   \n",
       "3      FBI Russia probe helped by Australian diplomat...   \n",
       "4      Trump wants Postal Service to charge 'much mor...   \n",
       "...                                                  ...   \n",
       "44893  McPain: John McCain Furious That Iran Treated ...   \n",
       "44894  JUSTICE? Yahoo Settles E-mail Privacy Class-ac...   \n",
       "44895  Sunnistan: US and Allied ‘Safe Zone’ Plan to T...   \n",
       "44896  How to Blow $700 Million: Al Jazeera America F...   \n",
       "44897  10 U.S. Navy Sailors Held by Iranian Military ...   \n",
       "\n",
       "                                                    text       subject  \\\n",
       "0      WASHINGTON (Reuters) - The head of a conservat...  politicsNews   \n",
       "1      WASHINGTON (Reuters) - Transgender people will...  politicsNews   \n",
       "2      WASHINGTON (Reuters) - The special counsel inv...  politicsNews   \n",
       "3      WASHINGTON (Reuters) - Trump campaign adviser ...  politicsNews   \n",
       "4      SEATTLE/WASHINGTON (Reuters) - President Donal...  politicsNews   \n",
       "...                                                  ...           ...   \n",
       "44893  21st Century Wire says As 21WIRE reported earl...   Middle-east   \n",
       "44894  21st Century Wire says It s a familiar theme. ...   Middle-east   \n",
       "44895  Patrick Henningsen  21st Century WireRemember ...   Middle-east   \n",
       "44896  21st Century Wire says Al Jazeera America will...   Middle-east   \n",
       "44897  21st Century Wire says As 21WIRE predicted in ...   Middle-east   \n",
       "\n",
       "                     date  y  \\\n",
       "0      December 31, 2017   1   \n",
       "1      December 29, 2017   1   \n",
       "2      December 31, 2017   1   \n",
       "3      December 30, 2017   1   \n",
       "4      December 29, 2017   1   \n",
       "...                   ... ..   \n",
       "44893    January 16, 2016  0   \n",
       "44894    January 16, 2016  0   \n",
       "44895    January 15, 2016  0   \n",
       "44896    January 14, 2016  0   \n",
       "44897    January 12, 2016  0   \n",
       "\n",
       "                                            updated_text  number_stopwords  \n",
       "0      washington head conserv republican faction vot...             282.0  \n",
       "1      washington transgend peopl allow first time en...             233.0  \n",
       "2      washington special counsel investig link russi...             184.0  \n",
       "3      washington trump campaign advis georg papadopo...             142.0  \n",
       "4      presid donald trump call postal servic friday ...             334.0  \n",
       "...                                                  ...               ...  \n",
       "44893  centuri wire say report earlier unlik mishap t...               NaN  \n",
       "44894  centuri wire say familiar whenev disput chang ...               NaN  \n",
       "44895  patrick henningsen centuri wirerememb obama ad...               NaN  \n",
       "44896  centuri wire say al jazeera america go histori...               NaN  \n",
       "44897  centuri wire say predict new year look new hos...               NaN  \n",
       "\n",
       "[44898 rows x 7 columns]"
      ]
     },
     "execution_count": 21,
     "metadata": {},
     "output_type": "execute_result"
    }
   ],
   "source": [
    "#Stopwords feature\n",
    "## Number of stopwords in the text for both True and Fake datasets b/c cleaned text (all_df) excludes\n",
    "all_df[\"number_stopwords\"] = true_df[\"text\"].apply(lambda x: len([w for w in str(x).lower().split() if w in stop_words]))\n",
    "all_df"
   ]
  },
  {
   "cell_type": "code",
   "execution_count": 22,
   "metadata": {},
   "outputs": [
    {
     "data": {
      "text/plain": [
       "0         749\n",
       "1         624\n",
       "2         457\n",
       "3         376\n",
       "4         852\n",
       "         ... \n",
       "44893     522\n",
       "44894     297\n",
       "44895    4171\n",
       "44896     456\n",
       "44897     874\n",
       "Name: num_words, Length: 44898, dtype: int64"
      ]
     },
     "execution_count": 22,
     "metadata": {},
     "output_type": "execute_result"
    }
   ],
   "source": [
    "## Number of words in the text ##\n",
    "#df[\"num_words\"] = df[\"text\"].apply(lambda x: len(str(x).split()))\n",
    "all_df[\"num_words\"] = all_df[\"text\"].apply(lambda x: len(str(x).split()))\n",
    "all_df[\"num_words\"]"
   ]
  },
  {
   "cell_type": "code",
   "execution_count": 23,
   "metadata": {},
   "outputs": [
    {
     "data": {
      "text/html": [
       "<div>\n",
       "<style scoped>\n",
       "    .dataframe tbody tr th:only-of-type {\n",
       "        vertical-align: middle;\n",
       "    }\n",
       "\n",
       "    .dataframe tbody tr th {\n",
       "        vertical-align: top;\n",
       "    }\n",
       "\n",
       "    .dataframe thead th {\n",
       "        text-align: right;\n",
       "    }\n",
       "</style>\n",
       "<table border=\"1\" class=\"dataframe\">\n",
       "  <thead>\n",
       "    <tr style=\"text-align: right;\">\n",
       "      <th></th>\n",
       "      <th>title</th>\n",
       "      <th>text</th>\n",
       "      <th>subject</th>\n",
       "      <th>date</th>\n",
       "      <th>y</th>\n",
       "      <th>updated_text</th>\n",
       "      <th>number_stopwords</th>\n",
       "      <th>num_words</th>\n",
       "    </tr>\n",
       "  </thead>\n",
       "  <tbody>\n",
       "    <tr>\n",
       "      <th>0</th>\n",
       "      <td>As U.S. budget fight looms, Republicans flip t...</td>\n",
       "      <td>WASHINGTON (Reuters) - The head of a conservat...</td>\n",
       "      <td>politicsNews</td>\n",
       "      <td>December 31, 2017</td>\n",
       "      <td>1</td>\n",
       "      <td>washington head conserv republican faction vot...</td>\n",
       "      <td>282.0</td>\n",
       "      <td>749</td>\n",
       "    </tr>\n",
       "    <tr>\n",
       "      <th>1</th>\n",
       "      <td>U.S. military to accept transgender recruits o...</td>\n",
       "      <td>WASHINGTON (Reuters) - Transgender people will...</td>\n",
       "      <td>politicsNews</td>\n",
       "      <td>December 29, 2017</td>\n",
       "      <td>1</td>\n",
       "      <td>washington transgend peopl allow first time en...</td>\n",
       "      <td>233.0</td>\n",
       "      <td>624</td>\n",
       "    </tr>\n",
       "    <tr>\n",
       "      <th>2</th>\n",
       "      <td>Senior U.S. Republican senator: 'Let Mr. Muell...</td>\n",
       "      <td>WASHINGTON (Reuters) - The special counsel inv...</td>\n",
       "      <td>politicsNews</td>\n",
       "      <td>December 31, 2017</td>\n",
       "      <td>1</td>\n",
       "      <td>washington special counsel investig link russi...</td>\n",
       "      <td>184.0</td>\n",
       "      <td>457</td>\n",
       "    </tr>\n",
       "    <tr>\n",
       "      <th>3</th>\n",
       "      <td>FBI Russia probe helped by Australian diplomat...</td>\n",
       "      <td>WASHINGTON (Reuters) - Trump campaign adviser ...</td>\n",
       "      <td>politicsNews</td>\n",
       "      <td>December 30, 2017</td>\n",
       "      <td>1</td>\n",
       "      <td>washington trump campaign advis georg papadopo...</td>\n",
       "      <td>142.0</td>\n",
       "      <td>376</td>\n",
       "    </tr>\n",
       "    <tr>\n",
       "      <th>4</th>\n",
       "      <td>Trump wants Postal Service to charge 'much mor...</td>\n",
       "      <td>SEATTLE/WASHINGTON (Reuters) - President Donal...</td>\n",
       "      <td>politicsNews</td>\n",
       "      <td>December 29, 2017</td>\n",
       "      <td>1</td>\n",
       "      <td>presid donald trump call postal servic friday ...</td>\n",
       "      <td>334.0</td>\n",
       "      <td>852</td>\n",
       "    </tr>\n",
       "    <tr>\n",
       "      <th>...</th>\n",
       "      <td>...</td>\n",
       "      <td>...</td>\n",
       "      <td>...</td>\n",
       "      <td>...</td>\n",
       "      <td>...</td>\n",
       "      <td>...</td>\n",
       "      <td>...</td>\n",
       "      <td>...</td>\n",
       "    </tr>\n",
       "    <tr>\n",
       "      <th>44893</th>\n",
       "      <td>McPain: John McCain Furious That Iran Treated ...</td>\n",
       "      <td>21st Century Wire says As 21WIRE reported earl...</td>\n",
       "      <td>Middle-east</td>\n",
       "      <td>January 16, 2016</td>\n",
       "      <td>0</td>\n",
       "      <td>centuri wire say report earlier unlik mishap t...</td>\n",
       "      <td>NaN</td>\n",
       "      <td>522</td>\n",
       "    </tr>\n",
       "    <tr>\n",
       "      <th>44894</th>\n",
       "      <td>JUSTICE? Yahoo Settles E-mail Privacy Class-ac...</td>\n",
       "      <td>21st Century Wire says It s a familiar theme. ...</td>\n",
       "      <td>Middle-east</td>\n",
       "      <td>January 16, 2016</td>\n",
       "      <td>0</td>\n",
       "      <td>centuri wire say familiar whenev disput chang ...</td>\n",
       "      <td>NaN</td>\n",
       "      <td>297</td>\n",
       "    </tr>\n",
       "    <tr>\n",
       "      <th>44895</th>\n",
       "      <td>Sunnistan: US and Allied ‘Safe Zone’ Plan to T...</td>\n",
       "      <td>Patrick Henningsen  21st Century WireRemember ...</td>\n",
       "      <td>Middle-east</td>\n",
       "      <td>January 15, 2016</td>\n",
       "      <td>0</td>\n",
       "      <td>patrick henningsen centuri wirerememb obama ad...</td>\n",
       "      <td>NaN</td>\n",
       "      <td>4171</td>\n",
       "    </tr>\n",
       "    <tr>\n",
       "      <th>44896</th>\n",
       "      <td>How to Blow $700 Million: Al Jazeera America F...</td>\n",
       "      <td>21st Century Wire says Al Jazeera America will...</td>\n",
       "      <td>Middle-east</td>\n",
       "      <td>January 14, 2016</td>\n",
       "      <td>0</td>\n",
       "      <td>centuri wire say al jazeera america go histori...</td>\n",
       "      <td>NaN</td>\n",
       "      <td>456</td>\n",
       "    </tr>\n",
       "    <tr>\n",
       "      <th>44897</th>\n",
       "      <td>10 U.S. Navy Sailors Held by Iranian Military ...</td>\n",
       "      <td>21st Century Wire says As 21WIRE predicted in ...</td>\n",
       "      <td>Middle-east</td>\n",
       "      <td>January 12, 2016</td>\n",
       "      <td>0</td>\n",
       "      <td>centuri wire say predict new year look new hos...</td>\n",
       "      <td>NaN</td>\n",
       "      <td>874</td>\n",
       "    </tr>\n",
       "  </tbody>\n",
       "</table>\n",
       "<p>44898 rows × 8 columns</p>\n",
       "</div>"
      ],
      "text/plain": [
       "                                                   title  \\\n",
       "0      As U.S. budget fight looms, Republicans flip t...   \n",
       "1      U.S. military to accept transgender recruits o...   \n",
       "2      Senior U.S. Republican senator: 'Let Mr. Muell...   \n",
       "3      FBI Russia probe helped by Australian diplomat...   \n",
       "4      Trump wants Postal Service to charge 'much mor...   \n",
       "...                                                  ...   \n",
       "44893  McPain: John McCain Furious That Iran Treated ...   \n",
       "44894  JUSTICE? Yahoo Settles E-mail Privacy Class-ac...   \n",
       "44895  Sunnistan: US and Allied ‘Safe Zone’ Plan to T...   \n",
       "44896  How to Blow $700 Million: Al Jazeera America F...   \n",
       "44897  10 U.S. Navy Sailors Held by Iranian Military ...   \n",
       "\n",
       "                                                    text       subject  \\\n",
       "0      WASHINGTON (Reuters) - The head of a conservat...  politicsNews   \n",
       "1      WASHINGTON (Reuters) - Transgender people will...  politicsNews   \n",
       "2      WASHINGTON (Reuters) - The special counsel inv...  politicsNews   \n",
       "3      WASHINGTON (Reuters) - Trump campaign adviser ...  politicsNews   \n",
       "4      SEATTLE/WASHINGTON (Reuters) - President Donal...  politicsNews   \n",
       "...                                                  ...           ...   \n",
       "44893  21st Century Wire says As 21WIRE reported earl...   Middle-east   \n",
       "44894  21st Century Wire says It s a familiar theme. ...   Middle-east   \n",
       "44895  Patrick Henningsen  21st Century WireRemember ...   Middle-east   \n",
       "44896  21st Century Wire says Al Jazeera America will...   Middle-east   \n",
       "44897  21st Century Wire says As 21WIRE predicted in ...   Middle-east   \n",
       "\n",
       "                     date  y  \\\n",
       "0      December 31, 2017   1   \n",
       "1      December 29, 2017   1   \n",
       "2      December 31, 2017   1   \n",
       "3      December 30, 2017   1   \n",
       "4      December 29, 2017   1   \n",
       "...                   ... ..   \n",
       "44893    January 16, 2016  0   \n",
       "44894    January 16, 2016  0   \n",
       "44895    January 15, 2016  0   \n",
       "44896    January 14, 2016  0   \n",
       "44897    January 12, 2016  0   \n",
       "\n",
       "                                            updated_text  number_stopwords  \\\n",
       "0      washington head conserv republican faction vot...             282.0   \n",
       "1      washington transgend peopl allow first time en...             233.0   \n",
       "2      washington special counsel investig link russi...             184.0   \n",
       "3      washington trump campaign advis georg papadopo...             142.0   \n",
       "4      presid donald trump call postal servic friday ...             334.0   \n",
       "...                                                  ...               ...   \n",
       "44893  centuri wire say report earlier unlik mishap t...               NaN   \n",
       "44894  centuri wire say familiar whenev disput chang ...               NaN   \n",
       "44895  patrick henningsen centuri wirerememb obama ad...               NaN   \n",
       "44896  centuri wire say al jazeera america go histori...               NaN   \n",
       "44897  centuri wire say predict new year look new hos...               NaN   \n",
       "\n",
       "       num_words  \n",
       "0            749  \n",
       "1            624  \n",
       "2            457  \n",
       "3            376  \n",
       "4            852  \n",
       "...          ...  \n",
       "44893        522  \n",
       "44894        297  \n",
       "44895       4171  \n",
       "44896        456  \n",
       "44897        874  \n",
       "\n",
       "[44898 rows x 8 columns]"
      ]
     },
     "execution_count": 23,
     "metadata": {},
     "output_type": "execute_result"
    }
   ],
   "source": [
    "all_df"
   ]
  },
  {
   "cell_type": "markdown",
   "metadata": {},
   "source": [
    "## Lemmatization"
   ]
  },
  {
   "cell_type": "markdown",
   "metadata": {},
   "source": [
    "### Lemmatizer as Fake Criterion Feature: \n",
    "Identify Lemmas that occur the most in Fake-Real Classifier. Review if Lemma appears in Facebook 'message' and label as a feature of Fake-Real criterion.\n",
    "Suspect that certain lemmas emerge consistently in fake news. \n",
    "*\"Reporting\", \"Reporter\", \"Reports\"\n",
    "*\"Supporter\", \"Supporting\", \"Supporter\", \"Support\"\n",
    "*Polling,polls, poll, pollster\n",
    "\n",
    "These three lems \"report\", \"support\", and \"poll\" are used as both nouns and verbs. "
   ]
  },
  {
   "cell_type": "code",
   "execution_count": 24,
   "metadata": {},
   "outputs": [
    {
     "data": {
      "text/plain": [
       "'support'"
      ]
     },
     "execution_count": 24,
     "metadata": {},
     "output_type": "execute_result"
    }
   ],
   "source": [
    "# Use 'Supporting'\n",
    "lem = WordNetLemmatizer()\n",
    "\n",
    "from nltk.stem.porter import PorterStemmer \n",
    "stem = PorterStemmer()\n",
    "\n",
    "word = \"supporting\" \n",
    "lem.lemmatize(word, \"v\")\n",
    "\n",
    "stem.stem(word)"
   ]
  },
  {
   "cell_type": "markdown",
   "metadata": {},
   "source": [
    "### Features of 'Support' Lemma\n",
    "We can use the lemma to compare across the 'fake' and'real' news data sets to test whether there is a significant\n",
    "difference in use of that particulare lemma in each category to note a distinction.  We would conduct a t-test bewteen the two classes: 'fake' and 'real'. Or we could run an F-test on the newly created feature.\n",
    "\n",
    "If there is a distinction, that might be a better indicator for the Facebook Data set when distinguishing between 'fake' and 'real' stories in the political ads section.\n",
    "\n",
    "#### Note: Convert Lemma 'support' into Feature to Count and Compare Across Fake and True datasets. Then if significant, add as feature in Facebook dataset.\n",
    "https://pandas.pydata.org/pandas-docs/stable/reference/api/pandas.factorize.html"
   ]
  },
  {
   "cell_type": "code",
   "execution_count": 25,
   "metadata": {},
   "outputs": [
    {
     "data": {
      "text/plain": [
       "'support'"
      ]
     },
     "execution_count": 25,
     "metadata": {},
     "output_type": "execute_result"
    }
   ],
   "source": [
    "# Use 'Supporters' as a noun\n",
    "lem = WordNetLemmatizer()\n",
    "\n",
    "from nltk.stem.porter import PorterStemmer \n",
    "stem = PorterStemmer()\n",
    "\n",
    "word = \"supporters\" \n",
    "lem.lemmatize(word, \"n\")\n",
    "\n",
    "stem.stem(word)"
   ]
  },
  {
   "cell_type": "code",
   "execution_count": 26,
   "metadata": {},
   "outputs": [
    {
     "data": {
      "text/plain": [
       "'report'"
      ]
     },
     "execution_count": 26,
     "metadata": {},
     "output_type": "execute_result"
    }
   ],
   "source": [
    "# Use 'reporting'\n",
    "lem = WordNetLemmatizer()\n",
    "\n",
    "from nltk.stem.porter import PorterStemmer \n",
    "stem = PorterStemmer()\n",
    "\n",
    "word = \"reporting\" \n",
    "lem.lemmatize(word, \"v\")\n",
    "\n",
    "stem.stem(word)"
   ]
  },
  {
   "cell_type": "code",
   "execution_count": 27,
   "metadata": {},
   "outputs": [
    {
     "data": {
      "text/plain": [
       "'support'"
      ]
     },
     "execution_count": 27,
     "metadata": {},
     "output_type": "execute_result"
    }
   ],
   "source": [
    "# Use 'supporting'\n",
    "lem = WordNetLemmatizer()\n",
    "\n",
    "from nltk.stem.porter import PorterStemmer \n",
    "stem = PorterStemmer()\n",
    "\n",
    "word = \"supporting\" \n",
    "lem.lemmatize(word, \"v\")\n",
    "\n",
    "stem.stem(word)"
   ]
  },
  {
   "cell_type": "code",
   "execution_count": 28,
   "metadata": {},
   "outputs": [
    {
     "data": {
      "text/plain": [
       "'poll'"
      ]
     },
     "execution_count": 28,
     "metadata": {},
     "output_type": "execute_result"
    }
   ],
   "source": [
    "# Use 'polling'\n",
    "lem = WordNetLemmatizer()\n",
    "\n",
    "from nltk.stem.porter import PorterStemmer \n",
    "stem = PorterStemmer()\n",
    "\n",
    "word = \"polling\" \n",
    "lem.lemmatize(word, \"n\")\n",
    "\n",
    "stem.stem(word)"
   ]
  },
  {
   "cell_type": "markdown",
   "metadata": {},
   "source": [
    "### Feature Engineering\n",
    "~Occurence of \"Report\" Lemma"
   ]
  },
  {
   "cell_type": "code",
   "execution_count": 29,
   "metadata": {},
   "outputs": [],
   "source": [
    "import nltk \n",
    "w_tokenizer = nltk.tokenize.WhitespaceTokenizer() \n",
    "lemmatizer = nltk.stem.WordNetLemmatizer() \n",
    "\n",
    "def lemmatize_text(text): \n",
    "    return [lemmatizer.lemmatize(w) for w in w_tokenizer.tokenize(text)] \n",
    "\n",
    "all_df['support_lemma'] = all_df['text'].apply(lemmatize_text) \n",
    "df = pd.DataFrame(['this was cheesy', 'she likes these books', 'wow this is great'], columns=['text']) \n",
    "df['text_lemmatized'] = df.text.apply(lemmatize_text)"
   ]
  },
  {
   "cell_type": "code",
   "execution_count": 30,
   "metadata": {},
   "outputs": [
    {
     "data": {
      "text/plain": [
       "0       -1\n",
       "1       -1\n",
       "2       -1\n",
       "3       -1\n",
       "4       -1\n",
       "        ..\n",
       "44893   -1\n",
       "44894   -1\n",
       "44895   -1\n",
       "44896   -1\n",
       "44897   -1\n",
       "Name: support_lemma, Length: 44898, dtype: int64"
      ]
     },
     "execution_count": 30,
     "metadata": {},
     "output_type": "execute_result"
    }
   ],
   "source": [
    "#We can use the lemma of 'support\". \n",
    "#The same may be done with other highly used lemmas. \n",
    "sub ='supporting' \n",
    "all_df['support_lemma'] = all_df[\"text\"].str.find(sub)\n",
    "all_df['support_lemma']"
   ]
  },
  {
   "cell_type": "code",
   "execution_count": 31,
   "metadata": {},
   "outputs": [
    {
     "data": {
      "text/plain": [
       "0       -1\n",
       "1       -1\n",
       "2       -1\n",
       "3       -1\n",
       "4       -1\n",
       "        ..\n",
       "23476   -1\n",
       "23477   -1\n",
       "23478   -1\n",
       "23479   -1\n",
       "23480   -1\n",
       "Name: support_lemma, Length: 23481, dtype: int64"
      ]
     },
     "execution_count": 31,
     "metadata": {},
     "output_type": "execute_result"
    }
   ],
   "source": [
    "sub ='supporting' \n",
    "fake_df['support_lemma'] = all_df[\"text\"].str.find(sub)\n",
    "fake_df['support_lemma']"
   ]
  },
  {
   "cell_type": "code",
   "execution_count": 32,
   "metadata": {},
   "outputs": [
    {
     "data": {
      "text/plain": [
       "0   -1\n",
       "1   -1\n",
       "2   -1\n",
       "3   -1\n",
       "4   -1\n",
       "5   -1\n",
       "6   -1\n",
       "7   -1\n",
       "8   -1\n",
       "9   -1\n",
       "Name: support_lemma, dtype: int64"
      ]
     },
     "execution_count": 32,
     "metadata": {},
     "output_type": "execute_result"
    }
   ],
   "source": [
    "true_df['support_lemma'] = all_df[\"text\"].str.find(sub)\n",
    "true_df['support_lemma'].head(10)"
   ]
  },
  {
   "cell_type": "markdown",
   "metadata": {},
   "source": [
    "#### Test Feature Significance: T-Test"
   ]
  },
  {
   "cell_type": "code",
   "execution_count": 33,
   "metadata": {},
   "outputs": [
    {
     "name": "stdout",
     "output_type": "stream",
     "text": [
      "t-test Support Feature Ttest_indResult(statistic=-0.2526066001433395, pvalue=0.8005733856684583)\n"
     ]
    }
   ],
   "source": [
    "#T-test of support lemma across 'fake' and 'true' class\n",
    "from scipy import stats\n",
    "A = fake_df['support_lemma']\n",
    "B = true_df['support_lemma']\n",
    "ttest = stats.ttest_ind(A,B)\n",
    "print ('t-test Support Feature', ttest)\n",
    "\n",
    "#researchpy.ttest(x, y, group1_name= None, group2_name= None, equal_variances= True, paired= False, correction= None)\n",
    "#print()"
   ]
  },
  {
   "cell_type": "markdown",
   "metadata": {},
   "source": [
    "### Feature Lemma: 'Report'"
   ]
  },
  {
   "cell_type": "code",
   "execution_count": 34,
   "metadata": {},
   "outputs": [],
   "source": [
    "def lemmatize_text_report(text): \n",
    "    return [lemmatizer.lemmatize(w) for w in w_tokenizer.tokenize(text)] \n",
    "\n",
    "all_df['report_lemma'] = all_df['text'].apply(lemmatize_text_report) \n",
    "#df = pd.DataFrame(['this was cheesy', 'she likes these books', 'wow this is great'], columns=['text']) \n",
    "df['text_lemmatized'] = df.text.apply(lemmatize_text_report)"
   ]
  },
  {
   "cell_type": "code",
   "execution_count": 35,
   "metadata": {},
   "outputs": [
    {
     "data": {
      "text/html": [
       "<div>\n",
       "<style scoped>\n",
       "    .dataframe tbody tr th:only-of-type {\n",
       "        vertical-align: middle;\n",
       "    }\n",
       "\n",
       "    .dataframe tbody tr th {\n",
       "        vertical-align: top;\n",
       "    }\n",
       "\n",
       "    .dataframe thead th {\n",
       "        text-align: right;\n",
       "    }\n",
       "</style>\n",
       "<table border=\"1\" class=\"dataframe\">\n",
       "  <thead>\n",
       "    <tr style=\"text-align: right;\">\n",
       "      <th></th>\n",
       "      <th>title</th>\n",
       "      <th>text</th>\n",
       "      <th>subject</th>\n",
       "      <th>date</th>\n",
       "      <th>y</th>\n",
       "      <th>updated_text</th>\n",
       "      <th>number_stopwords</th>\n",
       "      <th>num_words</th>\n",
       "      <th>support_lemma</th>\n",
       "      <th>report_lemma</th>\n",
       "    </tr>\n",
       "  </thead>\n",
       "  <tbody>\n",
       "    <tr>\n",
       "      <th>0</th>\n",
       "      <td>As U.S. budget fight looms, Republicans flip t...</td>\n",
       "      <td>WASHINGTON (Reuters) - The head of a conservat...</td>\n",
       "      <td>politicsNews</td>\n",
       "      <td>December 31, 2017</td>\n",
       "      <td>1</td>\n",
       "      <td>washington head conserv republican faction vot...</td>\n",
       "      <td>282.0</td>\n",
       "      <td>749</td>\n",
       "      <td>-1</td>\n",
       "      <td>[WASHINGTON, (Reuters), -, The, head, of, a, c...</td>\n",
       "    </tr>\n",
       "    <tr>\n",
       "      <th>1</th>\n",
       "      <td>U.S. military to accept transgender recruits o...</td>\n",
       "      <td>WASHINGTON (Reuters) - Transgender people will...</td>\n",
       "      <td>politicsNews</td>\n",
       "      <td>December 29, 2017</td>\n",
       "      <td>1</td>\n",
       "      <td>washington transgend peopl allow first time en...</td>\n",
       "      <td>233.0</td>\n",
       "      <td>624</td>\n",
       "      <td>-1</td>\n",
       "      <td>[WASHINGTON, (Reuters), -, Transgender, people...</td>\n",
       "    </tr>\n",
       "    <tr>\n",
       "      <th>2</th>\n",
       "      <td>Senior U.S. Republican senator: 'Let Mr. Muell...</td>\n",
       "      <td>WASHINGTON (Reuters) - The special counsel inv...</td>\n",
       "      <td>politicsNews</td>\n",
       "      <td>December 31, 2017</td>\n",
       "      <td>1</td>\n",
       "      <td>washington special counsel investig link russi...</td>\n",
       "      <td>184.0</td>\n",
       "      <td>457</td>\n",
       "      <td>-1</td>\n",
       "      <td>[WASHINGTON, (Reuters), -, The, special, couns...</td>\n",
       "    </tr>\n",
       "    <tr>\n",
       "      <th>3</th>\n",
       "      <td>FBI Russia probe helped by Australian diplomat...</td>\n",
       "      <td>WASHINGTON (Reuters) - Trump campaign adviser ...</td>\n",
       "      <td>politicsNews</td>\n",
       "      <td>December 30, 2017</td>\n",
       "      <td>1</td>\n",
       "      <td>washington trump campaign advis georg papadopo...</td>\n",
       "      <td>142.0</td>\n",
       "      <td>376</td>\n",
       "      <td>-1</td>\n",
       "      <td>[WASHINGTON, (Reuters), -, Trump, campaign, ad...</td>\n",
       "    </tr>\n",
       "    <tr>\n",
       "      <th>4</th>\n",
       "      <td>Trump wants Postal Service to charge 'much mor...</td>\n",
       "      <td>SEATTLE/WASHINGTON (Reuters) - President Donal...</td>\n",
       "      <td>politicsNews</td>\n",
       "      <td>December 29, 2017</td>\n",
       "      <td>1</td>\n",
       "      <td>presid donald trump call postal servic friday ...</td>\n",
       "      <td>334.0</td>\n",
       "      <td>852</td>\n",
       "      <td>-1</td>\n",
       "      <td>[SEATTLE/WASHINGTON, (Reuters), -, President, ...</td>\n",
       "    </tr>\n",
       "    <tr>\n",
       "      <th>5</th>\n",
       "      <td>White House, Congress prepare for talks on spe...</td>\n",
       "      <td>WEST PALM BEACH, Fla./WASHINGTON (Reuters) - T...</td>\n",
       "      <td>politicsNews</td>\n",
       "      <td>December 29, 2017</td>\n",
       "      <td>1</td>\n",
       "      <td>west palm white hous friday set kick talk next...</td>\n",
       "      <td>218.0</td>\n",
       "      <td>599</td>\n",
       "      <td>-1</td>\n",
       "      <td>[WEST, PALM, BEACH,, Fla./WASHINGTON, (Reuters...</td>\n",
       "    </tr>\n",
       "    <tr>\n",
       "      <th>6</th>\n",
       "      <td>Trump says Russia probe will be fair, but time...</td>\n",
       "      <td>WEST PALM BEACH, Fla (Reuters) - President Don...</td>\n",
       "      <td>politicsNews</td>\n",
       "      <td>December 29, 2017</td>\n",
       "      <td>1</td>\n",
       "      <td>west palm fla presid donald trump thursday bel...</td>\n",
       "      <td>214.0</td>\n",
       "      <td>538</td>\n",
       "      <td>-1</td>\n",
       "      <td>[WEST, PALM, BEACH,, Fla, (Reuters), -, Presid...</td>\n",
       "    </tr>\n",
       "    <tr>\n",
       "      <th>7</th>\n",
       "      <td>Factbox: Trump on Twitter (Dec 29) - Approval ...</td>\n",
       "      <td>The following statements were posted to the ve...</td>\n",
       "      <td>politicsNews</td>\n",
       "      <td>December 29, 2017</td>\n",
       "      <td>1</td>\n",
       "      <td>follow post verifi twitter account presid dona...</td>\n",
       "      <td>48.0</td>\n",
       "      <td>135</td>\n",
       "      <td>-1</td>\n",
       "      <td>[The, following, statement, were, posted, to, ...</td>\n",
       "    </tr>\n",
       "    <tr>\n",
       "      <th>8</th>\n",
       "      <td>Trump on Twitter (Dec 28) - Global Warming</td>\n",
       "      <td>The following statements were posted to the ve...</td>\n",
       "      <td>politicsNews</td>\n",
       "      <td>December 29, 2017</td>\n",
       "      <td>1</td>\n",
       "      <td>follow post verifi twitter account presid dona...</td>\n",
       "      <td>35.0</td>\n",
       "      <td>100</td>\n",
       "      <td>-1</td>\n",
       "      <td>[The, following, statement, were, posted, to, ...</td>\n",
       "    </tr>\n",
       "    <tr>\n",
       "      <th>9</th>\n",
       "      <td>Alabama official to certify Senator-elect Jone...</td>\n",
       "      <td>WASHINGTON (Reuters) - Alabama Secretary of St...</td>\n",
       "      <td>politicsNews</td>\n",
       "      <td>December 28, 2017</td>\n",
       "      <td>1</td>\n",
       "      <td>washington alabama secretari state john merril...</td>\n",
       "      <td>24.0</td>\n",
       "      <td>67</td>\n",
       "      <td>-1</td>\n",
       "      <td>[WASHINGTON, (Reuters), -, Alabama, Secretary,...</td>\n",
       "    </tr>\n",
       "    <tr>\n",
       "      <th>10</th>\n",
       "      <td>Jones certified U.S. Senate winner despite Moo...</td>\n",
       "      <td>(Reuters) - Alabama officials on Thursday cert...</td>\n",
       "      <td>politicsNews</td>\n",
       "      <td>December 28, 2017</td>\n",
       "      <td>1</td>\n",
       "      <td>alabama offici thursday certifi democrat doug ...</td>\n",
       "      <td>164.0</td>\n",
       "      <td>398</td>\n",
       "      <td>-1</td>\n",
       "      <td>[(Reuters), -, Alabama, official, on, Thursday...</td>\n",
       "    </tr>\n",
       "    <tr>\n",
       "      <th>11</th>\n",
       "      <td>New York governor questions the constitutional...</td>\n",
       "      <td>NEW YORK/WASHINGTON (Reuters) - The new U.S. t...</td>\n",
       "      <td>politicsNews</td>\n",
       "      <td>December 28, 2017</td>\n",
       "      <td>1</td>\n",
       "      <td>new new tax code target state may new york gov...</td>\n",
       "      <td>213.0</td>\n",
       "      <td>619</td>\n",
       "      <td>-1</td>\n",
       "      <td>[NEW, YORK/WASHINGTON, (Reuters), -, The, new,...</td>\n",
       "    </tr>\n",
       "    <tr>\n",
       "      <th>12</th>\n",
       "      <td>Factbox: Trump on Twitter (Dec 28) - Vanity Fa...</td>\n",
       "      <td>The following statements were posted to the ve...</td>\n",
       "      <td>politicsNews</td>\n",
       "      <td>December 28, 2017</td>\n",
       "      <td>1</td>\n",
       "      <td>follow post verifi twitter account presid dona...</td>\n",
       "      <td>39.0</td>\n",
       "      <td>99</td>\n",
       "      <td>-1</td>\n",
       "      <td>[The, following, statement, were, posted, to, ...</td>\n",
       "    </tr>\n",
       "    <tr>\n",
       "      <th>13</th>\n",
       "      <td>Trump on Twitter (Dec 27) - Trump, Iraq, Syria</td>\n",
       "      <td>The following statements were posted to the ve...</td>\n",
       "      <td>politicsNews</td>\n",
       "      <td>December 28, 2017</td>\n",
       "      <td>1</td>\n",
       "      <td>follow post verifi twitter account presid dona...</td>\n",
       "      <td>57.0</td>\n",
       "      <td>192</td>\n",
       "      <td>-1</td>\n",
       "      <td>[The, following, statement, were, posted, to, ...</td>\n",
       "    </tr>\n",
       "    <tr>\n",
       "      <th>14</th>\n",
       "      <td>Man says he delivered manure to Mnuchin to pro...</td>\n",
       "      <td>(In Dec. 25 story, in second paragraph, corre...</td>\n",
       "      <td>politicsNews</td>\n",
       "      <td>December 25, 2017</td>\n",
       "      <td>1</td>\n",
       "      <td>second correct name employ mental health publi...</td>\n",
       "      <td>133.0</td>\n",
       "      <td>348</td>\n",
       "      <td>-1</td>\n",
       "      <td>[(In, Dec., 25, story,, in, second, paragraph,...</td>\n",
       "    </tr>\n",
       "  </tbody>\n",
       "</table>\n",
       "</div>"
      ],
      "text/plain": [
       "                                                title  \\\n",
       "0   As U.S. budget fight looms, Republicans flip t...   \n",
       "1   U.S. military to accept transgender recruits o...   \n",
       "2   Senior U.S. Republican senator: 'Let Mr. Muell...   \n",
       "3   FBI Russia probe helped by Australian diplomat...   \n",
       "4   Trump wants Postal Service to charge 'much mor...   \n",
       "5   White House, Congress prepare for talks on spe...   \n",
       "6   Trump says Russia probe will be fair, but time...   \n",
       "7   Factbox: Trump on Twitter (Dec 29) - Approval ...   \n",
       "8          Trump on Twitter (Dec 28) - Global Warming   \n",
       "9   Alabama official to certify Senator-elect Jone...   \n",
       "10  Jones certified U.S. Senate winner despite Moo...   \n",
       "11  New York governor questions the constitutional...   \n",
       "12  Factbox: Trump on Twitter (Dec 28) - Vanity Fa...   \n",
       "13     Trump on Twitter (Dec 27) - Trump, Iraq, Syria   \n",
       "14  Man says he delivered manure to Mnuchin to pro...   \n",
       "\n",
       "                                                 text       subject  \\\n",
       "0   WASHINGTON (Reuters) - The head of a conservat...  politicsNews   \n",
       "1   WASHINGTON (Reuters) - Transgender people will...  politicsNews   \n",
       "2   WASHINGTON (Reuters) - The special counsel inv...  politicsNews   \n",
       "3   WASHINGTON (Reuters) - Trump campaign adviser ...  politicsNews   \n",
       "4   SEATTLE/WASHINGTON (Reuters) - President Donal...  politicsNews   \n",
       "5   WEST PALM BEACH, Fla./WASHINGTON (Reuters) - T...  politicsNews   \n",
       "6   WEST PALM BEACH, Fla (Reuters) - President Don...  politicsNews   \n",
       "7   The following statements were posted to the ve...  politicsNews   \n",
       "8   The following statements were posted to the ve...  politicsNews   \n",
       "9   WASHINGTON (Reuters) - Alabama Secretary of St...  politicsNews   \n",
       "10  (Reuters) - Alabama officials on Thursday cert...  politicsNews   \n",
       "11  NEW YORK/WASHINGTON (Reuters) - The new U.S. t...  politicsNews   \n",
       "12  The following statements were posted to the ve...  politicsNews   \n",
       "13  The following statements were posted to the ve...  politicsNews   \n",
       "14   (In Dec. 25 story, in second paragraph, corre...  politicsNews   \n",
       "\n",
       "                  date  y                                       updated_text  \\\n",
       "0   December 31, 2017   1  washington head conserv republican faction vot...   \n",
       "1   December 29, 2017   1  washington transgend peopl allow first time en...   \n",
       "2   December 31, 2017   1  washington special counsel investig link russi...   \n",
       "3   December 30, 2017   1  washington trump campaign advis georg papadopo...   \n",
       "4   December 29, 2017   1  presid donald trump call postal servic friday ...   \n",
       "5   December 29, 2017   1  west palm white hous friday set kick talk next...   \n",
       "6   December 29, 2017   1  west palm fla presid donald trump thursday bel...   \n",
       "7   December 29, 2017   1  follow post verifi twitter account presid dona...   \n",
       "8   December 29, 2017   1  follow post verifi twitter account presid dona...   \n",
       "9   December 28, 2017   1  washington alabama secretari state john merril...   \n",
       "10  December 28, 2017   1  alabama offici thursday certifi democrat doug ...   \n",
       "11  December 28, 2017   1  new new tax code target state may new york gov...   \n",
       "12  December 28, 2017   1  follow post verifi twitter account presid dona...   \n",
       "13  December 28, 2017   1  follow post verifi twitter account presid dona...   \n",
       "14  December 25, 2017   1  second correct name employ mental health publi...   \n",
       "\n",
       "    number_stopwords  num_words  support_lemma  \\\n",
       "0              282.0        749             -1   \n",
       "1              233.0        624             -1   \n",
       "2              184.0        457             -1   \n",
       "3              142.0        376             -1   \n",
       "4              334.0        852             -1   \n",
       "5              218.0        599             -1   \n",
       "6              214.0        538             -1   \n",
       "7               48.0        135             -1   \n",
       "8               35.0        100             -1   \n",
       "9               24.0         67             -1   \n",
       "10             164.0        398             -1   \n",
       "11             213.0        619             -1   \n",
       "12              39.0         99             -1   \n",
       "13              57.0        192             -1   \n",
       "14             133.0        348             -1   \n",
       "\n",
       "                                         report_lemma  \n",
       "0   [WASHINGTON, (Reuters), -, The, head, of, a, c...  \n",
       "1   [WASHINGTON, (Reuters), -, Transgender, people...  \n",
       "2   [WASHINGTON, (Reuters), -, The, special, couns...  \n",
       "3   [WASHINGTON, (Reuters), -, Trump, campaign, ad...  \n",
       "4   [SEATTLE/WASHINGTON, (Reuters), -, President, ...  \n",
       "5   [WEST, PALM, BEACH,, Fla./WASHINGTON, (Reuters...  \n",
       "6   [WEST, PALM, BEACH,, Fla, (Reuters), -, Presid...  \n",
       "7   [The, following, statement, were, posted, to, ...  \n",
       "8   [The, following, statement, were, posted, to, ...  \n",
       "9   [WASHINGTON, (Reuters), -, Alabama, Secretary,...  \n",
       "10  [(Reuters), -, Alabama, official, on, Thursday...  \n",
       "11  [NEW, YORK/WASHINGTON, (Reuters), -, The, new,...  \n",
       "12  [The, following, statement, were, posted, to, ...  \n",
       "13  [The, following, statement, were, posted, to, ...  \n",
       "14  [(In, Dec., 25, story,, in, second, paragraph,...  "
      ]
     },
     "execution_count": 35,
     "metadata": {},
     "output_type": "execute_result"
    }
   ],
   "source": [
    "all_df.head(15)"
   ]
  },
  {
   "cell_type": "code",
   "execution_count": 36,
   "metadata": {},
   "outputs": [
    {
     "data": {
      "text/plain": [
       "0       -1\n",
       "1       -1\n",
       "2       -1\n",
       "3       -1\n",
       "4       -1\n",
       "        ..\n",
       "44893   -1\n",
       "44894   -1\n",
       "44895   -1\n",
       "44896   -1\n",
       "44897   -1\n",
       "Name: report_lemma, Length: 44898, dtype: int64"
      ]
     },
     "execution_count": 36,
     "metadata": {},
     "output_type": "execute_result"
    }
   ],
   "source": [
    "sub ='reporting' \n",
    "all_df['report_lemma'] = all_df[\"text\"].str.find(sub)\n",
    "all_df['report_lemma']"
   ]
  },
  {
   "cell_type": "markdown",
   "metadata": {},
   "source": [
    "### Visual: Occurrences of Subjects Across Fake-True News"
   ]
  },
  {
   "cell_type": "code",
   "execution_count": 37,
   "metadata": {},
   "outputs": [
    {
     "data": {
      "image/png": "[encoded data removed]",
      "text/plain": [
       "<Figure size 1080x720 with 1 Axes>"
      ]
     },
     "metadata": {
      "needs_background": "light"
     },
     "output_type": "display_data"
    }
   ],
   "source": [
    "#Plot number of times 'subject' type listed\n",
    "#fig, ax = plt.subplots()\n",
    "\n",
    "plt.figure(figsize=(15,10))\n",
    "plt.hist(all_df['subject'], bins = 10, color ='magenta')\n",
    "ax.set_xlabel('Subjects')\n",
    "ax.set_ylabel('Number of Occurrences')\n",
    "ax.set_title(r'Histogram of Fake-True News Subjects')\n",
    "#fig.tight_layout()\n",
    "\n",
    "#plt.figure(figsize=(30,200))\n",
    "plt.show()"
   ]
  },
  {
   "cell_type": "raw",
   "metadata": {},
   "source": [
    "#Count number of times lemma 'support' occurs in fake_df and true_df. \n",
    "#Conduct t-test\n",
    "#What does pd.factorize do? \n",
    "\n",
    "fake_df.value_counts()\n",
    "\n",
    "# Measure some strings:\n",
    "words = ['support', 'report', 'poll']\n",
    "for w in words:\n",
    "    print(w, len(w))"
   ]
  },
  {
   "cell_type": "markdown",
   "metadata": {},
   "source": [
    "## Method 1: Testing Bag of Words Model\n",
    "We will compare and contrast results of using Random Forest Classifier with BOW method "
   ]
  },
  {
   "cell_type": "code",
   "execution_count": 38,
   "metadata": {},
   "outputs": [],
   "source": [
    "from sklearn.feature_extraction.text import CountVectorizer\n",
    "vectorizer_fake_real = CountVectorizer()\n",
    "bag_of_words_fake_real = vectorizer_fake_real.fit_transform(all_df['updated_text'])"
   ]
  },
  {
   "cell_type": "code",
   "execution_count": 39,
   "metadata": {},
   "outputs": [
    {
     "data": {
      "text/plain": [
       "59063"
      ]
     },
     "execution_count": 39,
     "metadata": {},
     "output_type": "execute_result"
    }
   ],
   "source": [
    "len(vectorizer_fake_real.get_feature_names())"
   ]
  },
  {
   "cell_type": "code",
   "execution_count": 40,
   "metadata": {},
   "outputs": [],
   "source": [
    "from sklearn.model_selection import train_test_split"
   ]
  },
  {
   "cell_type": "code",
   "execution_count": 41,
   "metadata": {},
   "outputs": [
    {
     "data": {
      "text/plain": [
       "(44898, 59063)"
      ]
     },
     "execution_count": 41,
     "metadata": {},
     "output_type": "execute_result"
    }
   ],
   "source": [
    "bag_of_words_fake_real.shape"
   ]
  },
  {
   "cell_type": "code",
   "execution_count": 42,
   "metadata": {},
   "outputs": [
    {
     "data": {
      "text/plain": [
       "(44898,)"
      ]
     },
     "execution_count": 42,
     "metadata": {},
     "output_type": "execute_result"
    }
   ],
   "source": [
    "all_df['y'].shape"
   ]
  },
  {
   "cell_type": "code",
   "execution_count": 43,
   "metadata": {},
   "outputs": [],
   "source": [
    "X_train, X_test, y_train, y_test = train_test_split(bag_of_words_fake_real, all_df['y'],\n",
    "                                                    random_state=42,\n",
    "                                                    test_size=0.33)"
   ]
  },
  {
   "cell_type": "code",
   "execution_count": 44,
   "metadata": {},
   "outputs": [
    {
     "data": {
      "text/plain": [
       "(30081,)"
      ]
     },
     "execution_count": 44,
     "metadata": {},
     "output_type": "execute_result"
    }
   ],
   "source": [
    "y_train.shape"
   ]
  },
  {
   "cell_type": "code",
   "execution_count": 45,
   "metadata": {},
   "outputs": [
    {
     "data": {
      "text/plain": [
       "RandomForestClassifier()"
      ]
     },
     "execution_count": 45,
     "metadata": {},
     "output_type": "execute_result"
    }
   ],
   "source": [
    "from sklearn.ensemble import RandomForestClassifier\n",
    "\n",
    "rfc_bag = RandomForestClassifier()\n",
    "\n",
    "rfc_bag.fit(X_train, y_train)"
   ]
  },
  {
   "cell_type": "code",
   "execution_count": 46,
   "metadata": {},
   "outputs": [
    {
     "data": {
      "text/plain": [
       "1.0"
      ]
     },
     "execution_count": 46,
     "metadata": {},
     "output_type": "execute_result"
    }
   ],
   "source": [
    "rfc_bag.score(X_train, y_train)"
   ]
  },
  {
   "cell_type": "code",
   "execution_count": 47,
   "metadata": {},
   "outputs": [
    {
     "data": {
      "text/plain": [
       "0.9676047782952014"
      ]
     },
     "execution_count": 47,
     "metadata": {},
     "output_type": "execute_result"
    }
   ],
   "source": [
    "rfc_bag.score(X_test, y_test)"
   ]
  },
  {
   "cell_type": "markdown",
   "metadata": {},
   "source": [
    "### Word Cloud of Top 30 Words"
   ]
  },
  {
   "cell_type": "markdown",
   "metadata": {},
   "source": [
    "###Visual:  Plot the Word Cloud"
   ]
  },
  {
   "cell_type": "code",
   "execution_count": 60,
   "metadata": {},
   "outputs": [
    {
     "data": {
      "image/png": "[encoded data removed]",
      "text/plain": [
       "<Figure size 432x288 with 1 Axes>"
      ]
     },
     "metadata": {
      "needs_background": "light"
     },
     "output_type": "display_data"
    }
   ],
   "source": [
    "from wordcloud import WordCloud\n",
    "from os import path\n",
    "from PIL import Image\n",
    "from wordcloud import WordCloud, STOPWORDS, ImageColorGenerator\n",
    "\n",
    "import matplotlib.pyplot as plt\n",
    "#% matplotlib inline\n",
    "\n",
    "#c:\\intelpython3\\lib\\site-packages\\matplotlib\\__init__.py:\n",
    "\n",
    "import warnings\n",
    "warnings.filterwarnings(\"ignore\")\n",
    "\n",
    "text_wc_visual = \" \".join(text for text in all_df.updated_text)\n",
    "# Create and generate a word cloud image: wordcloud = WordCloud().generate(text)\n",
    "\n",
    "wordcloud_BOW = WordCloud(max_words = 30).generate(text_wc_visual)\n",
    "#parameters = WordCloud(width = 500, \n",
    "                      #contour_color = \"purple\",\n",
    "                      #height= 300, \n",
    "                      #random_state = 21,\n",
    "                      #max_words = 30,\n",
    "                      #max_font_size =110).generate(top_words)\n",
    "                    \n",
    "plt.imshow(wordcloud_BOW, interpolation='bilinear')\n",
    "plt.axis(\"off\")\n",
    "plt.show()                    "
   ]
  },
  {
   "cell_type": "markdown",
   "metadata": {},
   "source": [
    "#### Word cloud for Fake words"
   ]
  },
  {
   "cell_type": "code",
   "execution_count": 48,
   "metadata": {},
   "outputs": [
    {
     "name": "stdout",
     "output_type": "stream",
     "text": [
      "0        donald trump wish american happi new year leav...\n",
      "1        hous intellig committe chairman devin nune go ...\n",
      "2        reveal former milwauke sheriff david consid ho...\n",
      "3        christma donald trump announc back work follow...\n",
      "4        pope franci use annual christma day messag reb...\n",
      "                               ...                        \n",
      "23476    centuri wire say report earlier unlik mishap t...\n",
      "23477    centuri wire say familiar whenev disput chang ...\n",
      "23478    patrick henningsen centuri wirerememb obama ad...\n",
      "23479    centuri wire say al jazeera america go histori...\n",
      "23480    centuri wire say predict new year look new hos...\n",
      "Name: text, Length: 23481, dtype: object\n"
     ]
    }
   ],
   "source": [
    "#Fake data set -- clean it's text before showing in cloud\n",
    "print(fake_df['text'].apply(clean_text))"
   ]
  },
  {
   "cell_type": "code",
   "execution_count": 49,
   "metadata": {},
   "outputs": [],
   "source": [
    "# Let's take a look at the updated text for fake_df\n",
    "fake_df['updated_text'] = fake_df['text'].apply(clean_text)"
   ]
  },
  {
   "cell_type": "code",
   "execution_count": 72,
   "metadata": {},
   "outputs": [
    {
     "data": {
      "image/png": "[encoded data removed]",
      "text/plain": [
       "<Figure size 432x288 with 1 Axes>"
      ]
     },
     "metadata": {
      "needs_background": "light"
     },
     "output_type": "display_data"
    }
   ],
   "source": [
    "#Swap out 'text' for 'updated_text' for more accurate wordcloud on fake data\n",
    "text_wc_visual_2 = \" \".join(text for text in fake_df.updated_text)\n",
    "\n",
    "wordcloud_BOW_2 = WordCloud(contour_color = \"purple\",max_words = 30).generate(text_wc_visual_2)\n",
    "#Parameters to adjust = WordCloud(width = 500, \n",
    "                      #contour_color = \"purple\",\n",
    "                      #height= 300, \n",
    "                      #random_state = 21,\n",
    "                      #max_words = 30,\n",
    "                      #max_font_size =110).generate(top_words)\n",
    "                    \n",
    "plt.imshow(wordcloud_BOW_2, interpolation='bilinear')\n",
    "plt.axis(\"off\")\n",
    "plt.show() "
   ]
  },
  {
   "cell_type": "markdown",
   "metadata": {},
   "source": [
    "## METHOD TWO: spaCy Library -- Applying Text Vectors.\n"
   ]
  },
  {
   "cell_type": "markdown",
   "metadata": {},
   "source": [
    "We will compare and contrast results of using Random Forest Classifier from BOW method with results from Text Vector method. "
   ]
  },
  {
   "cell_type": "code",
   "execution_count": 51,
   "metadata": {},
   "outputs": [],
   "source": [
    "all_vectors = pd.concat([fake_vectors, true_vectors], ignore_index=True)"
   ]
  },
  {
   "cell_type": "code",
   "execution_count": 52,
   "metadata": {},
   "outputs": [],
   "source": [
    "#Method 2 requires that X and y be trained as X2_, and y2_\n",
    "X2_train, X2_test, y2_train, y2_test = train_test_split(all_vectors.drop(columns=['y']), \n",
    "                                                    all_vectors['y'], \n",
    "                                                    random_state=42,\n",
    "                                                    test_size=0.15)"
   ]
  },
  {
   "cell_type": "code",
   "execution_count": 53,
   "metadata": {},
   "outputs": [
    {
     "data": {
      "text/plain": [
       "(38163,)"
      ]
     },
     "execution_count": 53,
     "metadata": {},
     "output_type": "execute_result"
    }
   ],
   "source": [
    "#Run a random forest classifier on vectors\n",
    "y2_train.shape"
   ]
  },
  {
   "cell_type": "code",
   "execution_count": 54,
   "metadata": {},
   "outputs": [
    {
     "data": {
      "text/plain": [
       "RandomForestClassifier(max_depth=3, n_estimators=1000, n_jobs=-1)"
      ]
     },
     "execution_count": 54,
     "metadata": {},
     "output_type": "execute_result"
    }
   ],
   "source": [
    "#Classifier for Method 2 using vectors\n",
    "rfc_vectors = RandomForestClassifier(n_estimators=1000, max_depth=3, n_jobs=-1)\n",
    "\n",
    "rfc_vectors.fit(X2_train, y2_train)"
   ]
  },
  {
   "cell_type": "code",
   "execution_count": 55,
   "metadata": {},
   "outputs": [
    {
     "data": {
      "text/plain": [
       "0.9002698949244032"
      ]
     },
     "execution_count": 55,
     "metadata": {},
     "output_type": "execute_result"
    }
   ],
   "source": [
    "#Apply classifier to X2 and y2 training set and obtain 'Score'.\n",
    "rfc_vectors.score(X2_train, y2_train)"
   ]
  },
  {
   "cell_type": "code",
   "execution_count": 56,
   "metadata": {},
   "outputs": [
    {
     "data": {
      "text/plain": [
       "0.8996288047512991"
      ]
     },
     "execution_count": 56,
     "metadata": {},
     "output_type": "execute_result"
    }
   ],
   "source": [
    "#Apply classifier to X2 and y2 testing set and obtain 'Score'.\n",
    "rfc_vectors.score(X2_test, y2_test)"
   ]
  },
  {
   "cell_type": "code",
   "execution_count": 73,
   "metadata": {},
   "outputs": [
    {
     "ename": "ValueError",
     "evalue": "Expected 2D array, got 1D array instead:\narray=[0. 0. 0. ... 1. 0. 0.].\nReshape your data either using array.reshape(-1, 1) if your data has a single feature or array.reshape(1, -1) if it contains a single sample.",
     "output_type": "error",
     "traceback": [
      "\u001b[0;31m---------------------------------------------------------------------------\u001b[0m",
      "\u001b[0;31mValueError\u001b[0m                                Traceback (most recent call last)",
      "\u001b[0;32m<ipython-input-73-2f8f0b86ccf0>\u001b[0m in \u001b[0;36m<module>\u001b[0;34m\u001b[0m\n\u001b[1;32m      3\u001b[0m \u001b[0;34m\u001b[0m\u001b[0m\n\u001b[1;32m      4\u001b[0m \u001b[0mexpected\u001b[0m \u001b[0;34m=\u001b[0m \u001b[0my2_train\u001b[0m\u001b[0;34m\u001b[0m\u001b[0;34m\u001b[0m\u001b[0m\n\u001b[0;32m----> 5\u001b[0;31m \u001b[0mpredicted\u001b[0m \u001b[0;34m=\u001b[0m \u001b[0mrfc_vectors\u001b[0m\u001b[0;34m.\u001b[0m\u001b[0mpredict\u001b[0m\u001b[0;34m(\u001b[0m\u001b[0my2_train\u001b[0m\u001b[0;34m)\u001b[0m\u001b[0;34m\u001b[0m\u001b[0;34m\u001b[0m\u001b[0m\n\u001b[0m\u001b[1;32m      6\u001b[0m \u001b[0mresults\u001b[0m \u001b[0;34m=\u001b[0m \u001b[0mconfusion_matrix\u001b[0m\u001b[0;34m(\u001b[0m\u001b[0mexpected\u001b[0m\u001b[0;34m,\u001b[0m \u001b[0mpredicted\u001b[0m\u001b[0;34m)\u001b[0m\u001b[0;34m\u001b[0m\u001b[0;34m\u001b[0m\u001b[0m\n\u001b[1;32m      7\u001b[0m \u001b[0mprint\u001b[0m\u001b[0;34m(\u001b[0m\u001b[0mresults\u001b[0m\u001b[0;34m)\u001b[0m\u001b[0;34m\u001b[0m\u001b[0;34m\u001b[0m\u001b[0m\n",
      "\u001b[0;32m/usr/local/lib/python3.6/dist-packages/sklearn/ensemble/_forest.py\u001b[0m in \u001b[0;36mpredict\u001b[0;34m(self, X)\u001b[0m\n\u001b[1;32m    627\u001b[0m             \u001b[0mThe\u001b[0m \u001b[0mpredicted\u001b[0m \u001b[0mclasses\u001b[0m\u001b[0;34m.\u001b[0m\u001b[0;34m\u001b[0m\u001b[0;34m\u001b[0m\u001b[0m\n\u001b[1;32m    628\u001b[0m         \"\"\"\n\u001b[0;32m--> 629\u001b[0;31m         \u001b[0mproba\u001b[0m \u001b[0;34m=\u001b[0m \u001b[0mself\u001b[0m\u001b[0;34m.\u001b[0m\u001b[0mpredict_proba\u001b[0m\u001b[0;34m(\u001b[0m\u001b[0mX\u001b[0m\u001b[0;34m)\u001b[0m\u001b[0;34m\u001b[0m\u001b[0;34m\u001b[0m\u001b[0m\n\u001b[0m\u001b[1;32m    630\u001b[0m \u001b[0;34m\u001b[0m\u001b[0m\n\u001b[1;32m    631\u001b[0m         \u001b[0;32mif\u001b[0m \u001b[0mself\u001b[0m\u001b[0;34m.\u001b[0m\u001b[0mn_outputs_\u001b[0m \u001b[0;34m==\u001b[0m \u001b[0;36m1\u001b[0m\u001b[0;34m:\u001b[0m\u001b[0;34m\u001b[0m\u001b[0;34m\u001b[0m\u001b[0m\n",
      "\u001b[0;32m/usr/local/lib/python3.6/dist-packages/sklearn/ensemble/_forest.py\u001b[0m in \u001b[0;36mpredict_proba\u001b[0;34m(self, X)\u001b[0m\n\u001b[1;32m    671\u001b[0m         \u001b[0mcheck_is_fitted\u001b[0m\u001b[0;34m(\u001b[0m\u001b[0mself\u001b[0m\u001b[0;34m)\u001b[0m\u001b[0;34m\u001b[0m\u001b[0;34m\u001b[0m\u001b[0m\n\u001b[1;32m    672\u001b[0m         \u001b[0;31m# Check data\u001b[0m\u001b[0;34m\u001b[0m\u001b[0;34m\u001b[0m\u001b[0;34m\u001b[0m\u001b[0m\n\u001b[0;32m--> 673\u001b[0;31m         \u001b[0mX\u001b[0m \u001b[0;34m=\u001b[0m \u001b[0mself\u001b[0m\u001b[0;34m.\u001b[0m\u001b[0m_validate_X_predict\u001b[0m\u001b[0;34m(\u001b[0m\u001b[0mX\u001b[0m\u001b[0;34m)\u001b[0m\u001b[0;34m\u001b[0m\u001b[0;34m\u001b[0m\u001b[0m\n\u001b[0m\u001b[1;32m    674\u001b[0m \u001b[0;34m\u001b[0m\u001b[0m\n\u001b[1;32m    675\u001b[0m         \u001b[0;31m# Assign chunk of trees to jobs\u001b[0m\u001b[0;34m\u001b[0m\u001b[0;34m\u001b[0m\u001b[0;34m\u001b[0m\u001b[0m\n",
      "\u001b[0;32m/usr/local/lib/python3.6/dist-packages/sklearn/ensemble/_forest.py\u001b[0m in \u001b[0;36m_validate_X_predict\u001b[0;34m(self, X)\u001b[0m\n\u001b[1;32m    419\u001b[0m         \u001b[0mcheck_is_fitted\u001b[0m\u001b[0;34m(\u001b[0m\u001b[0mself\u001b[0m\u001b[0;34m)\u001b[0m\u001b[0;34m\u001b[0m\u001b[0;34m\u001b[0m\u001b[0m\n\u001b[1;32m    420\u001b[0m \u001b[0;34m\u001b[0m\u001b[0m\n\u001b[0;32m--> 421\u001b[0;31m         \u001b[0;32mreturn\u001b[0m \u001b[0mself\u001b[0m\u001b[0;34m.\u001b[0m\u001b[0mestimators_\u001b[0m\u001b[0;34m[\u001b[0m\u001b[0;36m0\u001b[0m\u001b[0;34m]\u001b[0m\u001b[0;34m.\u001b[0m\u001b[0m_validate_X_predict\u001b[0m\u001b[0;34m(\u001b[0m\u001b[0mX\u001b[0m\u001b[0;34m,\u001b[0m \u001b[0mcheck_input\u001b[0m\u001b[0;34m=\u001b[0m\u001b[0;32mTrue\u001b[0m\u001b[0;34m)\u001b[0m\u001b[0;34m\u001b[0m\u001b[0;34m\u001b[0m\u001b[0m\n\u001b[0m\u001b[1;32m    422\u001b[0m \u001b[0;34m\u001b[0m\u001b[0m\n\u001b[1;32m    423\u001b[0m     \u001b[0;34m@\u001b[0m\u001b[0mproperty\u001b[0m\u001b[0;34m\u001b[0m\u001b[0;34m\u001b[0m\u001b[0m\n",
      "\u001b[0;32m/usr/local/lib/python3.6/dist-packages/sklearn/tree/_classes.py\u001b[0m in \u001b[0;36m_validate_X_predict\u001b[0;34m(self, X, check_input)\u001b[0m\n\u001b[1;32m    386\u001b[0m         \u001b[0;34m\"\"\"Validate X whenever one tries to predict, apply, predict_proba\"\"\"\u001b[0m\u001b[0;34m\u001b[0m\u001b[0;34m\u001b[0m\u001b[0m\n\u001b[1;32m    387\u001b[0m         \u001b[0;32mif\u001b[0m \u001b[0mcheck_input\u001b[0m\u001b[0;34m:\u001b[0m\u001b[0;34m\u001b[0m\u001b[0;34m\u001b[0m\u001b[0m\n\u001b[0;32m--> 388\u001b[0;31m             \u001b[0mX\u001b[0m \u001b[0;34m=\u001b[0m \u001b[0mcheck_array\u001b[0m\u001b[0;34m(\u001b[0m\u001b[0mX\u001b[0m\u001b[0;34m,\u001b[0m \u001b[0mdtype\u001b[0m\u001b[0;34m=\u001b[0m\u001b[0mDTYPE\u001b[0m\u001b[0;34m,\u001b[0m \u001b[0maccept_sparse\u001b[0m\u001b[0;34m=\u001b[0m\u001b[0;34m\"csr\"\u001b[0m\u001b[0;34m)\u001b[0m\u001b[0;34m\u001b[0m\u001b[0;34m\u001b[0m\u001b[0m\n\u001b[0m\u001b[1;32m    389\u001b[0m             if issparse(X) and (X.indices.dtype != np.intc or\n\u001b[1;32m    390\u001b[0m                                 X.indptr.dtype != np.intc):\n",
      "\u001b[0;32m/usr/local/lib/python3.6/dist-packages/sklearn/utils/validation.py\u001b[0m in \u001b[0;36minner_f\u001b[0;34m(*args, **kwargs)\u001b[0m\n\u001b[1;32m     71\u001b[0m                           FutureWarning)\n\u001b[1;32m     72\u001b[0m         \u001b[0mkwargs\u001b[0m\u001b[0;34m.\u001b[0m\u001b[0mupdate\u001b[0m\u001b[0;34m(\u001b[0m\u001b[0;34m{\u001b[0m\u001b[0mk\u001b[0m\u001b[0;34m:\u001b[0m \u001b[0marg\u001b[0m \u001b[0;32mfor\u001b[0m \u001b[0mk\u001b[0m\u001b[0;34m,\u001b[0m \u001b[0marg\u001b[0m \u001b[0;32min\u001b[0m \u001b[0mzip\u001b[0m\u001b[0;34m(\u001b[0m\u001b[0msig\u001b[0m\u001b[0;34m.\u001b[0m\u001b[0mparameters\u001b[0m\u001b[0;34m,\u001b[0m \u001b[0margs\u001b[0m\u001b[0;34m)\u001b[0m\u001b[0;34m}\u001b[0m\u001b[0;34m)\u001b[0m\u001b[0;34m\u001b[0m\u001b[0;34m\u001b[0m\u001b[0m\n\u001b[0;32m---> 73\u001b[0;31m         \u001b[0;32mreturn\u001b[0m \u001b[0mf\u001b[0m\u001b[0;34m(\u001b[0m\u001b[0;34m**\u001b[0m\u001b[0mkwargs\u001b[0m\u001b[0;34m)\u001b[0m\u001b[0;34m\u001b[0m\u001b[0;34m\u001b[0m\u001b[0m\n\u001b[0m\u001b[1;32m     74\u001b[0m     \u001b[0;32mreturn\u001b[0m \u001b[0minner_f\u001b[0m\u001b[0;34m\u001b[0m\u001b[0;34m\u001b[0m\u001b[0m\n\u001b[1;32m     75\u001b[0m \u001b[0;34m\u001b[0m\u001b[0m\n",
      "\u001b[0;32m/usr/local/lib/python3.6/dist-packages/sklearn/utils/validation.py\u001b[0m in \u001b[0;36mcheck_array\u001b[0;34m(array, accept_sparse, accept_large_sparse, dtype, order, copy, force_all_finite, ensure_2d, allow_nd, ensure_min_samples, ensure_min_features, estimator)\u001b[0m\n\u001b[1;32m    622\u001b[0m                     \u001b[0;34m\"Reshape your data either using array.reshape(-1, 1) if \"\u001b[0m\u001b[0;34m\u001b[0m\u001b[0;34m\u001b[0m\u001b[0m\n\u001b[1;32m    623\u001b[0m                     \u001b[0;34m\"your data has a single feature or array.reshape(1, -1) \"\u001b[0m\u001b[0;34m\u001b[0m\u001b[0;34m\u001b[0m\u001b[0m\n\u001b[0;32m--> 624\u001b[0;31m                     \"if it contains a single sample.\".format(array))\n\u001b[0m\u001b[1;32m    625\u001b[0m \u001b[0;34m\u001b[0m\u001b[0m\n\u001b[1;32m    626\u001b[0m         \u001b[0;31m# in the future np.flexible dtypes will be handled like object dtypes\u001b[0m\u001b[0;34m\u001b[0m\u001b[0;34m\u001b[0m\u001b[0;34m\u001b[0m\u001b[0m\n",
      "\u001b[0;31mValueError\u001b[0m: Expected 2D array, got 1D array instead:\narray=[0. 0. 0. ... 1. 0. 0.].\nReshape your data either using array.reshape(-1, 1) if your data has a single feature or array.reshape(1, -1) if it contains a single sample."
     ]
    }
   ],
   "source": [
    "#Evaluation of Random Forest Classifier spaCy method\n",
    "from sklearn.metrics import confusion_matrix\n",
    " \n",
    "expected = y2_train\n",
    "predicted = rfc_vectors.predict(y2_train) \n",
    "results = confusion_matrix(expected, predicted)\n",
    "print(results)\n",
    "\n",
    "#print(classification_report(df_for_prediction['real_one'], rfc_vectors.predict(df_for_prediction_vectors)))"
   ]
  },
  {
   "cell_type": "markdown",
   "metadata": {},
   "source": [
    "### Visual: Plot the spaCy Wordcloud"
   ]
  },
  {
   "cell_type": "code",
   "execution_count": 74,
   "metadata": {},
   "outputs": [
    {
     "data": {
      "image/png": "[encoded data removed]",
      "text/plain": [
       "<Figure size 432x288 with 1 Axes>"
      ]
     },
     "metadata": {
      "needs_background": "light"
     },
     "output_type": "display_data"
    }
   ],
   "source": [
    "#Swap out with NLTK method for more accurate wordcloud on all data\n",
    "text_wc_visual_3 = \" \".join(text for text in all_df.updated_text)\n",
    "\n",
    "wordcloud_nltk = WordCloud(contour_color = \"pink\",max_words = 50).generate(text_wc_visual_3)\n",
    "#Parameters = WordCloud(width = 500, \n",
    "                      #contour_color = \"purple\",\n",
    "                      #height= 300, \n",
    "                      #random_state = 21,\n",
    "                      #max_words = 30,\n",
    "                      #max_font_size =110).generate(top_words)\n",
    "                    \n",
    "plt.imshow(wordcloud_nltk, interpolation='bilinear')\n",
    "plt.axis(\"off\")\n",
    "plt.show() "
   ]
  },
  {
   "cell_type": "code",
   "execution_count": 75,
   "metadata": {},
   "outputs": [
    {
     "data": {
      "image/png": "[encoded data removed]",
      "text/plain": [
       "<Figure size 432x288 with 1 Axes>"
      ]
     },
     "metadata": {
      "needs_background": "light"
     },
     "output_type": "display_data"
    }
   ],
   "source": [
    "#Swap out with NLTK method for more accurate wordcloud on fake data\n",
    "text_wc_visual_4 = \" \".join(text for text in fake_df.updated_text)\n",
    "\n",
    "wordcloud_nltk_2 = WordCloud(width = 500, contour_color = \"green\",\n",
    "                      height= 300, \n",
    "                      random_state = 21,\n",
    "                      max_words = 50,\n",
    "                      max_font_size =110).generate(text_wc_visual_4)\n",
    "                    \n",
    "plt.imshow(wordcloud_nltk_2, interpolation='bilinear')\n",
    "plt.axis(\"off\")\n",
    "plt.show() "
   ]
  },
  {
   "cell_type": "markdown",
   "metadata": {},
   "source": [
    "## Method 3: Universal Sentence Encoder\n",
    "This method will encode text into high-dimensional vectors that can be used for text classification, semantic similarity, clustering and other natural language tasks."
   ]
  },
  {
   "cell_type": "code",
   "execution_count": null,
   "metadata": {},
   "outputs": [],
   "source": [
    "%%capture\n",
    "!pip3 install seaborn"
   ]
  },
  {
   "cell_type": "code",
   "execution_count": 61,
   "metadata": {},
   "outputs": [],
   "source": [
    "from absl import logging\n",
    "\n",
    "import tensorflow as tf\n",
    "\n",
    "import tensorflow_hub as hub\n",
    "import matplotlib.pyplot as plt\n",
    "import numpy as np\n",
    "import os\n",
    "import pandas as pd\n",
    "import re\n",
    "import seaborn as sns\n"
   ]
  },
  {
   "cell_type": "code",
   "execution_count": 62,
   "metadata": {},
   "outputs": [],
   "source": [
    "embed = hub.load(\"https://tfhub.dev/google/universal-sentence-encoder/4\")\n",
    "\n",
    "fake_vectors_use = fake_df['text'].apply(lambda row: pd.Series(embed([row]).numpy()[0])  )"
   ]
  },
  {
   "cell_type": "code",
   "execution_count": 63,
   "metadata": {},
   "outputs": [],
   "source": [
    "true_vectors_use = true_df['text'].apply(lambda row: pd.Series(embed([row]).numpy()[0])  )\n"
   ]
  },
  {
   "cell_type": "code",
   "execution_count": 64,
   "metadata": {},
   "outputs": [],
   "source": [
    "fake_vectors_use['y'] = 0"
   ]
  },
  {
   "cell_type": "code",
   "execution_count": 65,
   "metadata": {},
   "outputs": [],
   "source": [
    "true_vectors_use['y'] =1"
   ]
  },
  {
   "cell_type": "code",
   "execution_count": 66,
   "metadata": {},
   "outputs": [],
   "source": [
    "all_use_df = pd.concat([fake_vectors_use, true_vectors_use], ignore_index=True)"
   ]
  },
  {
   "cell_type": "code",
   "execution_count": 67,
   "metadata": {},
   "outputs": [
    {
     "data": {
      "text/html": [
       "<div>\n",
       "<style scoped>\n",
       "    .dataframe tbody tr th:only-of-type {\n",
       "        vertical-align: middle;\n",
       "    }\n",
       "\n",
       "    .dataframe tbody tr th {\n",
       "        vertical-align: top;\n",
       "    }\n",
       "\n",
       "    .dataframe thead th {\n",
       "        text-align: right;\n",
       "    }\n",
       "</style>\n",
       "<table border=\"1\" class=\"dataframe\">\n",
       "  <thead>\n",
       "    <tr style=\"text-align: right;\">\n",
       "      <th></th>\n",
       "      <th>0</th>\n",
       "      <th>1</th>\n",
       "      <th>2</th>\n",
       "      <th>3</th>\n",
       "      <th>4</th>\n",
       "      <th>5</th>\n",
       "      <th>6</th>\n",
       "      <th>7</th>\n",
       "      <th>8</th>\n",
       "      <th>9</th>\n",
       "      <th>...</th>\n",
       "      <th>503</th>\n",
       "      <th>504</th>\n",
       "      <th>505</th>\n",
       "      <th>506</th>\n",
       "      <th>507</th>\n",
       "      <th>508</th>\n",
       "      <th>509</th>\n",
       "      <th>510</th>\n",
       "      <th>511</th>\n",
       "      <th>y</th>\n",
       "    </tr>\n",
       "  </thead>\n",
       "  <tbody>\n",
       "    <tr>\n",
       "      <th>0</th>\n",
       "      <td>-0.057509</td>\n",
       "      <td>-0.059308</td>\n",
       "      <td>-0.055847</td>\n",
       "      <td>-0.001866</td>\n",
       "      <td>-0.050274</td>\n",
       "      <td>0.022593</td>\n",
       "      <td>-0.059815</td>\n",
       "      <td>0.011298</td>\n",
       "      <td>-0.014126</td>\n",
       "      <td>0.056969</td>\n",
       "      <td>...</td>\n",
       "      <td>-0.059875</td>\n",
       "      <td>0.059863</td>\n",
       "      <td>0.059505</td>\n",
       "      <td>-0.006200</td>\n",
       "      <td>-0.039217</td>\n",
       "      <td>0.035525</td>\n",
       "      <td>0.057870</td>\n",
       "      <td>-0.057940</td>\n",
       "      <td>-0.036608</td>\n",
       "      <td>0</td>\n",
       "    </tr>\n",
       "    <tr>\n",
       "      <th>1</th>\n",
       "      <td>-0.019215</td>\n",
       "      <td>0.021323</td>\n",
       "      <td>-0.052237</td>\n",
       "      <td>-0.056360</td>\n",
       "      <td>0.058728</td>\n",
       "      <td>0.038473</td>\n",
       "      <td>-0.008046</td>\n",
       "      <td>-0.038377</td>\n",
       "      <td>0.058357</td>\n",
       "      <td>-0.059912</td>\n",
       "      <td>...</td>\n",
       "      <td>-0.061061</td>\n",
       "      <td>0.038484</td>\n",
       "      <td>-0.021156</td>\n",
       "      <td>-0.019728</td>\n",
       "      <td>-0.023837</td>\n",
       "      <td>0.014232</td>\n",
       "      <td>0.060516</td>\n",
       "      <td>-0.056328</td>\n",
       "      <td>-0.060244</td>\n",
       "      <td>0</td>\n",
       "    </tr>\n",
       "    <tr>\n",
       "      <th>2</th>\n",
       "      <td>-0.052525</td>\n",
       "      <td>0.015357</td>\n",
       "      <td>0.020959</td>\n",
       "      <td>0.035746</td>\n",
       "      <td>0.020194</td>\n",
       "      <td>-0.028211</td>\n",
       "      <td>0.034177</td>\n",
       "      <td>-0.006964</td>\n",
       "      <td>-0.061236</td>\n",
       "      <td>-0.060186</td>\n",
       "      <td>...</td>\n",
       "      <td>-0.061299</td>\n",
       "      <td>0.060642</td>\n",
       "      <td>0.045271</td>\n",
       "      <td>-0.013943</td>\n",
       "      <td>-0.031841</td>\n",
       "      <td>0.049962</td>\n",
       "      <td>0.061211</td>\n",
       "      <td>-0.059944</td>\n",
       "      <td>-0.030282</td>\n",
       "      <td>0</td>\n",
       "    </tr>\n",
       "    <tr>\n",
       "      <th>3</th>\n",
       "      <td>-0.057734</td>\n",
       "      <td>-0.037952</td>\n",
       "      <td>0.004421</td>\n",
       "      <td>-0.024387</td>\n",
       "      <td>0.037730</td>\n",
       "      <td>0.059065</td>\n",
       "      <td>-0.059985</td>\n",
       "      <td>0.035475</td>\n",
       "      <td>0.038915</td>\n",
       "      <td>-0.036140</td>\n",
       "      <td>...</td>\n",
       "      <td>-0.060256</td>\n",
       "      <td>0.059110</td>\n",
       "      <td>0.055070</td>\n",
       "      <td>-0.046820</td>\n",
       "      <td>-0.035967</td>\n",
       "      <td>-0.049639</td>\n",
       "      <td>0.055697</td>\n",
       "      <td>-0.048528</td>\n",
       "      <td>-0.023438</td>\n",
       "      <td>0</td>\n",
       "    </tr>\n",
       "    <tr>\n",
       "      <th>4</th>\n",
       "      <td>-0.037813</td>\n",
       "      <td>-0.017176</td>\n",
       "      <td>-0.010894</td>\n",
       "      <td>0.038073</td>\n",
       "      <td>-0.016722</td>\n",
       "      <td>0.038640</td>\n",
       "      <td>-0.048632</td>\n",
       "      <td>-0.005870</td>\n",
       "      <td>-0.050362</td>\n",
       "      <td>0.001962</td>\n",
       "      <td>...</td>\n",
       "      <td>-0.061967</td>\n",
       "      <td>0.016121</td>\n",
       "      <td>0.022234</td>\n",
       "      <td>-0.061295</td>\n",
       "      <td>0.061488</td>\n",
       "      <td>0.010188</td>\n",
       "      <td>0.057850</td>\n",
       "      <td>-0.027527</td>\n",
       "      <td>-0.045003</td>\n",
       "      <td>0</td>\n",
       "    </tr>\n",
       "    <tr>\n",
       "      <th>...</th>\n",
       "      <td>...</td>\n",
       "      <td>...</td>\n",
       "      <td>...</td>\n",
       "      <td>...</td>\n",
       "      <td>...</td>\n",
       "      <td>...</td>\n",
       "      <td>...</td>\n",
       "      <td>...</td>\n",
       "      <td>...</td>\n",
       "      <td>...</td>\n",
       "      <td>...</td>\n",
       "      <td>...</td>\n",
       "      <td>...</td>\n",
       "      <td>...</td>\n",
       "      <td>...</td>\n",
       "      <td>...</td>\n",
       "      <td>...</td>\n",
       "      <td>...</td>\n",
       "      <td>...</td>\n",
       "      <td>...</td>\n",
       "      <td>...</td>\n",
       "    </tr>\n",
       "    <tr>\n",
       "      <th>44893</th>\n",
       "      <td>-0.040858</td>\n",
       "      <td>-0.058276</td>\n",
       "      <td>-0.053556</td>\n",
       "      <td>-0.035728</td>\n",
       "      <td>-0.057107</td>\n",
       "      <td>0.052793</td>\n",
       "      <td>0.049031</td>\n",
       "      <td>-0.038300</td>\n",
       "      <td>0.009894</td>\n",
       "      <td>0.042940</td>\n",
       "      <td>...</td>\n",
       "      <td>-0.058400</td>\n",
       "      <td>0.034830</td>\n",
       "      <td>0.008005</td>\n",
       "      <td>-0.055672</td>\n",
       "      <td>-0.058291</td>\n",
       "      <td>0.019649</td>\n",
       "      <td>0.058310</td>\n",
       "      <td>-0.058223</td>\n",
       "      <td>-0.058300</td>\n",
       "      <td>1</td>\n",
       "    </tr>\n",
       "    <tr>\n",
       "      <th>44894</th>\n",
       "      <td>-0.034703</td>\n",
       "      <td>-0.025960</td>\n",
       "      <td>-0.009686</td>\n",
       "      <td>0.037063</td>\n",
       "      <td>-0.029287</td>\n",
       "      <td>0.022791</td>\n",
       "      <td>0.000491</td>\n",
       "      <td>-0.031773</td>\n",
       "      <td>0.050054</td>\n",
       "      <td>-0.068951</td>\n",
       "      <td>...</td>\n",
       "      <td>-0.070300</td>\n",
       "      <td>0.007082</td>\n",
       "      <td>0.052345</td>\n",
       "      <td>0.042077</td>\n",
       "      <td>-0.065674</td>\n",
       "      <td>0.012807</td>\n",
       "      <td>0.062687</td>\n",
       "      <td>-0.069922</td>\n",
       "      <td>-0.065057</td>\n",
       "      <td>1</td>\n",
       "    </tr>\n",
       "    <tr>\n",
       "      <th>44895</th>\n",
       "      <td>-0.017119</td>\n",
       "      <td>-0.048828</td>\n",
       "      <td>0.023959</td>\n",
       "      <td>-0.032707</td>\n",
       "      <td>-0.034148</td>\n",
       "      <td>0.063706</td>\n",
       "      <td>-0.003588</td>\n",
       "      <td>-0.029912</td>\n",
       "      <td>0.036051</td>\n",
       "      <td>-0.064371</td>\n",
       "      <td>...</td>\n",
       "      <td>-0.065539</td>\n",
       "      <td>0.008821</td>\n",
       "      <td>0.033743</td>\n",
       "      <td>-0.042869</td>\n",
       "      <td>0.025705</td>\n",
       "      <td>-0.049930</td>\n",
       "      <td>0.013773</td>\n",
       "      <td>-0.056989</td>\n",
       "      <td>-0.063729</td>\n",
       "      <td>1</td>\n",
       "    </tr>\n",
       "    <tr>\n",
       "      <th>44896</th>\n",
       "      <td>0.037789</td>\n",
       "      <td>-0.003887</td>\n",
       "      <td>-0.057642</td>\n",
       "      <td>-0.056685</td>\n",
       "      <td>0.031717</td>\n",
       "      <td>0.046057</td>\n",
       "      <td>-0.012189</td>\n",
       "      <td>-0.044224</td>\n",
       "      <td>0.057275</td>\n",
       "      <td>0.046016</td>\n",
       "      <td>...</td>\n",
       "      <td>-0.060968</td>\n",
       "      <td>-0.021975</td>\n",
       "      <td>-0.020335</td>\n",
       "      <td>0.006894</td>\n",
       "      <td>0.060977</td>\n",
       "      <td>0.007308</td>\n",
       "      <td>0.055496</td>\n",
       "      <td>-0.060728</td>\n",
       "      <td>-0.060977</td>\n",
       "      <td>1</td>\n",
       "    </tr>\n",
       "    <tr>\n",
       "      <th>44897</th>\n",
       "      <td>-0.048622</td>\n",
       "      <td>-0.052314</td>\n",
       "      <td>-0.059190</td>\n",
       "      <td>0.006632</td>\n",
       "      <td>-0.018756</td>\n",
       "      <td>0.058650</td>\n",
       "      <td>-0.050274</td>\n",
       "      <td>-0.053651</td>\n",
       "      <td>0.039469</td>\n",
       "      <td>-0.057730</td>\n",
       "      <td>...</td>\n",
       "      <td>-0.062827</td>\n",
       "      <td>-0.048725</td>\n",
       "      <td>0.006120</td>\n",
       "      <td>-0.003951</td>\n",
       "      <td>-0.061643</td>\n",
       "      <td>0.017117</td>\n",
       "      <td>0.002856</td>\n",
       "      <td>-0.062646</td>\n",
       "      <td>-0.062826</td>\n",
       "      <td>1</td>\n",
       "    </tr>\n",
       "  </tbody>\n",
       "</table>\n",
       "<p>44898 rows × 513 columns</p>\n",
       "</div>"
      ],
      "text/plain": [
       "              0         1         2         3         4         5         6  \\\n",
       "0     -0.057509 -0.059308 -0.055847 -0.001866 -0.050274  0.022593 -0.059815   \n",
       "1     -0.019215  0.021323 -0.052237 -0.056360  0.058728  0.038473 -0.008046   \n",
       "2     -0.052525  0.015357  0.020959  0.035746  0.020194 -0.028211  0.034177   \n",
       "3     -0.057734 -0.037952  0.004421 -0.024387  0.037730  0.059065 -0.059985   \n",
       "4     -0.037813 -0.017176 -0.010894  0.038073 -0.016722  0.038640 -0.048632   \n",
       "...         ...       ...       ...       ...       ...       ...       ...   \n",
       "44893 -0.040858 -0.058276 -0.053556 -0.035728 -0.057107  0.052793  0.049031   \n",
       "44894 -0.034703 -0.025960 -0.009686  0.037063 -0.029287  0.022791  0.000491   \n",
       "44895 -0.017119 -0.048828  0.023959 -0.032707 -0.034148  0.063706 -0.003588   \n",
       "44896  0.037789 -0.003887 -0.057642 -0.056685  0.031717  0.046057 -0.012189   \n",
       "44897 -0.048622 -0.052314 -0.059190  0.006632 -0.018756  0.058650 -0.050274   \n",
       "\n",
       "              7         8         9  ...       503       504       505  \\\n",
       "0      0.011298 -0.014126  0.056969  ... -0.059875  0.059863  0.059505   \n",
       "1     -0.038377  0.058357 -0.059912  ... -0.061061  0.038484 -0.021156   \n",
       "2     -0.006964 -0.061236 -0.060186  ... -0.061299  0.060642  0.045271   \n",
       "3      0.035475  0.038915 -0.036140  ... -0.060256  0.059110  0.055070   \n",
       "4     -0.005870 -0.050362  0.001962  ... -0.061967  0.016121  0.022234   \n",
       "...         ...       ...       ...  ...       ...       ...       ...   \n",
       "44893 -0.038300  0.009894  0.042940  ... -0.058400  0.034830  0.008005   \n",
       "44894 -0.031773  0.050054 -0.068951  ... -0.070300  0.007082  0.052345   \n",
       "44895 -0.029912  0.036051 -0.064371  ... -0.065539  0.008821  0.033743   \n",
       "44896 -0.044224  0.057275  0.046016  ... -0.060968 -0.021975 -0.020335   \n",
       "44897 -0.053651  0.039469 -0.057730  ... -0.062827 -0.048725  0.006120   \n",
       "\n",
       "            506       507       508       509       510       511  y  \n",
       "0     -0.006200 -0.039217  0.035525  0.057870 -0.057940 -0.036608  0  \n",
       "1     -0.019728 -0.023837  0.014232  0.060516 -0.056328 -0.060244  0  \n",
       "2     -0.013943 -0.031841  0.049962  0.061211 -0.059944 -0.030282  0  \n",
       "3     -0.046820 -0.035967 -0.049639  0.055697 -0.048528 -0.023438  0  \n",
       "4     -0.061295  0.061488  0.010188  0.057850 -0.027527 -0.045003  0  \n",
       "...         ...       ...       ...       ...       ...       ... ..  \n",
       "44893 -0.055672 -0.058291  0.019649  0.058310 -0.058223 -0.058300  1  \n",
       "44894  0.042077 -0.065674  0.012807  0.062687 -0.069922 -0.065057  1  \n",
       "44895 -0.042869  0.025705 -0.049930  0.013773 -0.056989 -0.063729  1  \n",
       "44896  0.006894  0.060977  0.007308  0.055496 -0.060728 -0.060977  1  \n",
       "44897 -0.003951 -0.061643  0.017117  0.002856 -0.062646 -0.062826  1  \n",
       "\n",
       "[44898 rows x 513 columns]"
      ]
     },
     "execution_count": 67,
     "metadata": {},
     "output_type": "execute_result"
    }
   ],
   "source": [
    "all_use_df"
   ]
  },
  {
   "cell_type": "code",
   "execution_count": 68,
   "metadata": {},
   "outputs": [],
   "source": [
    "X_use_train, X_use_test, y_use_train, y_use_test = train_test_split(\n",
    "                                                            all_use_df.drop(columns=['y']), \n",
    "                                                            all_use_df['y'])"
   ]
  },
  {
   "cell_type": "code",
   "execution_count": 69,
   "metadata": {},
   "outputs": [],
   "source": [
    "### Accuracy of Model"
   ]
  },
  {
   "cell_type": "code",
   "execution_count": 70,
   "metadata": {},
   "outputs": [
    {
     "name": "stdout",
     "output_type": "stream",
     "text": [
      "0.8787455825141804\n",
      "0.8754565701559021\n"
     ]
    }
   ],
   "source": [
    "from sklearn.ensemble import RandomForestClassifier\n",
    "\n",
    "rfc_use = RandomForestClassifier(n_estimators=500, max_depth=2, n_jobs=-1)\n",
    "\n",
    "rfc_use.fit(X_use_train, y_use_train)\n",
    "\n",
    "print(rfc_use.score(X_use_train, y_use_train))\n",
    "print(rfc_use.score(X_use_test, y_use_test))"
   ]
  },
  {
   "cell_type": "markdown",
   "metadata": {},
   "source": [
    "# Part 3: Facebook Political Ads Classified Into Fake Versus Authentic Via Random Forest Model "
   ]
  },
  {
   "cell_type": "markdown",
   "metadata": {},
   "source": [
    "## Part 3: Experiment: Overlay Classifier on Facebook Political Advertisements\n"
   ]
  },
  {
   "cell_type": "markdown",
   "metadata": {},
   "source": [
    "### Convert sentences into numeric vectors.\n",
    "We need to transform sentences into NUMERIC vectors so that the vectors can be included in a Random Forest Classifier model, which cannot use string values.\n",
    "\n"
   ]
  },
  {
   "cell_type": "code",
   "execution_count": 111,
   "metadata": {},
   "outputs": [
    {
     "data": {
      "text/html": [
       "<div>\n",
       "<style scoped>\n",
       "    .dataframe tbody tr th:only-of-type {\n",
       "        vertical-align: middle;\n",
       "    }\n",
       "\n",
       "    .dataframe tbody tr th {\n",
       "        vertical-align: top;\n",
       "    }\n",
       "\n",
       "    .dataframe thead th {\n",
       "        text-align: right;\n",
       "    }\n",
       "</style>\n",
       "<table border=\"1\" class=\"dataframe\">\n",
       "  <thead>\n",
       "    <tr style=\"text-align: right;\">\n",
       "      <th></th>\n",
       "      <th>id</th>\n",
       "      <th>html</th>\n",
       "      <th>political</th>\n",
       "      <th>not_political</th>\n",
       "      <th>title</th>\n",
       "      <th>message</th>\n",
       "      <th>thumbnail</th>\n",
       "      <th>created_at</th>\n",
       "      <th>updated_at</th>\n",
       "      <th>lang</th>\n",
       "      <th>...</th>\n",
       "      <th>suppressed</th>\n",
       "      <th>targets</th>\n",
       "      <th>advertiser</th>\n",
       "      <th>entities</th>\n",
       "      <th>page</th>\n",
       "      <th>lower_page</th>\n",
       "      <th>targetings</th>\n",
       "      <th>paid_for_by</th>\n",
       "      <th>targetedness</th>\n",
       "      <th>listbuilding_fundraising_proba</th>\n",
       "    </tr>\n",
       "  </thead>\n",
       "  <tbody>\n",
       "    <tr>\n",
       "      <th>0</th>\n",
       "      <td>hyperfeed_story_id_5c9baa3ee0ec08073500042</td>\n",
       "      <td>&lt;div class=\"_5pa- userContentWrapper\"&gt;&lt;div cla...</td>\n",
       "      <td>0</td>\n",
       "      <td>0</td>\n",
       "      <td>League of Conservation Voters</td>\n",
       "      <td>&lt;p&gt;BREAKING: Trump’s Department of the Interio...</td>\n",
       "      <td>https://pp-facebook-ads.s3.amazonaws.com/v/t1....</td>\n",
       "      <td>2019-03-27 16:52:25.625455+00</td>\n",
       "      <td>2019-03-27 16:52:25.625455+00</td>\n",
       "      <td>en-US</td>\n",
       "      <td>...</td>\n",
       "      <td>f</td>\n",
       "      <td>[]</td>\n",
       "      <td>NaN</td>\n",
       "      <td>[{\"entity\": \"Endangered Species Act\", \"entity_...</td>\n",
       "      <td>https://www.facebook.com/LCVoters/</td>\n",
       "      <td>https://www.facebook.com/lcvoters/</td>\n",
       "      <td>NaN</td>\n",
       "      <td>League of Conservation Voters</td>\n",
       "      <td>NaN</td>\n",
       "      <td>0.647945</td>\n",
       "    </tr>\n",
       "    <tr>\n",
       "      <th>1</th>\n",
       "      <td>hyperfeed_story_id_5c9bb2a2413852086735771</td>\n",
       "      <td>&lt;div class=\"_5pa- userContentWrapper\"&gt;&lt;div cla...</td>\n",
       "      <td>0</td>\n",
       "      <td>0</td>\n",
       "      <td>Indivisible Guide</td>\n",
       "      <td>&lt;p&gt;The Mueller investigation is over. Special ...</td>\n",
       "      <td>https://pp-facebook-ads.s3.amazonaws.com/v/t1....</td>\n",
       "      <td>2019-03-27 17:28:14.096849+00</td>\n",
       "      <td>2019-03-27 17:28:14.096849+00</td>\n",
       "      <td>en-US</td>\n",
       "      <td>...</td>\n",
       "      <td>f</td>\n",
       "      <td>[]</td>\n",
       "      <td>NaN</td>\n",
       "      <td>[{\"entity\": \"Americans\", \"entity_type\": \"Group...</td>\n",
       "      <td>https://www.facebook.com/indivisibleguide/</td>\n",
       "      <td>https://www.facebook.com/indivisibleguide/</td>\n",
       "      <td>NaN</td>\n",
       "      <td>Indivisible Project</td>\n",
       "      <td>NaN</td>\n",
       "      <td>0.350635</td>\n",
       "    </tr>\n",
       "    <tr>\n",
       "      <th>2</th>\n",
       "      <td>hyperfeed_story_id_5c9bb4fa461731e29426627</td>\n",
       "      <td>&lt;div class=\"_5pa- userContentWrapper\"&gt;&lt;div cla...</td>\n",
       "      <td>0</td>\n",
       "      <td>0</td>\n",
       "      <td>International Rescue Committee</td>\n",
       "      <td>&lt;p&gt;Zimbabwe is reeling from the impact of Cycl...</td>\n",
       "      <td>https://pp-facebook-ads.s3.amazonaws.com/v/t1....</td>\n",
       "      <td>2019-03-27 17:38:23.101377+00</td>\n",
       "      <td>2019-03-27 17:38:23.101377+00</td>\n",
       "      <td>en-US</td>\n",
       "      <td>...</td>\n",
       "      <td>f</td>\n",
       "      <td>[]</td>\n",
       "      <td>NaN</td>\n",
       "      <td>[{\"entity\": \"Zimbabwe\", \"entity_type\": \"Region\"}]</td>\n",
       "      <td>https://www.facebook.com/InternationalRescueCo...</td>\n",
       "      <td>https://www.facebook.com/internationalrescueco...</td>\n",
       "      <td>NaN</td>\n",
       "      <td>International Rescue Committee</td>\n",
       "      <td>NaN</td>\n",
       "      <td>0.999909</td>\n",
       "    </tr>\n",
       "    <tr>\n",
       "      <th>3</th>\n",
       "      <td>23843380741530360</td>\n",
       "      <td>&lt;div class=\"_5pcr userContentWrapper\"&gt;&lt;div cla...</td>\n",
       "      <td>0</td>\n",
       "      <td>0</td>\n",
       "      <td>Covenant House International</td>\n",
       "      <td>&lt;p&gt;What more can you do in the final hours of ...</td>\n",
       "      <td>https://pp-facebook-ads.s3.amazonaws.com/v/t1....</td>\n",
       "      <td>2018-12-30 20:59:13.879124+00</td>\n",
       "      <td>2018-12-30 20:59:13.879124+00</td>\n",
       "      <td>en-US</td>\n",
       "      <td>...</td>\n",
       "      <td>f</td>\n",
       "      <td>[{\"target\": \"Activity on the Facebook Family\"}...</td>\n",
       "      <td>Covenant House International</td>\n",
       "      <td>[]</td>\n",
       "      <td>https://www.facebook.com/CovenantHouse/</td>\n",
       "      <td>https://www.facebook.com/covenanthouse/</td>\n",
       "      <td>{\"&lt;div&gt;&lt;div class=\\\"_4-i0 _26c5\\\"&gt;&lt;div class=\\...</td>\n",
       "      <td>Covenant House International</td>\n",
       "      <td>5.0</td>\n",
       "      <td>NaN</td>\n",
       "    </tr>\n",
       "    <tr>\n",
       "      <th>4</th>\n",
       "      <td>hyperfeed_story_id_5c9bb059454851c17741213</td>\n",
       "      <td>&lt;div class=\"_5pa- userContentWrapper\"&gt;&lt;div cla...</td>\n",
       "      <td>0</td>\n",
       "      <td>1</td>\n",
       "      <td>Planned Parenthood</td>\n",
       "      <td>&lt;p&gt;Say it loud, say it proud: Our rights, our ...</td>\n",
       "      <td>https://pp-facebook-ads.s3.amazonaws.com/v/t1....</td>\n",
       "      <td>2019-03-27 17:18:29.764002+00</td>\n",
       "      <td>2019-04-11 15:02:58.081112+00</td>\n",
       "      <td>en-US</td>\n",
       "      <td>...</td>\n",
       "      <td>f</td>\n",
       "      <td>[]</td>\n",
       "      <td>NaN</td>\n",
       "      <td>[{\"entity\": \"Planned Parenthood\", \"entity_type...</td>\n",
       "      <td>https://www.facebook.com/PlannedParenthood/</td>\n",
       "      <td>https://www.facebook.com/plannedparenthood/</td>\n",
       "      <td>NaN</td>\n",
       "      <td>Planned Parenthood Federation of America</td>\n",
       "      <td>NaN</td>\n",
       "      <td>0.999977</td>\n",
       "    </tr>\n",
       "    <tr>\n",
       "      <th>...</th>\n",
       "      <td>...</td>\n",
       "      <td>...</td>\n",
       "      <td>...</td>\n",
       "      <td>...</td>\n",
       "      <td>...</td>\n",
       "      <td>...</td>\n",
       "      <td>...</td>\n",
       "      <td>...</td>\n",
       "      <td>...</td>\n",
       "      <td>...</td>\n",
       "      <td>...</td>\n",
       "      <td>...</td>\n",
       "      <td>...</td>\n",
       "      <td>...</td>\n",
       "      <td>...</td>\n",
       "      <td>...</td>\n",
       "      <td>...</td>\n",
       "      <td>...</td>\n",
       "      <td>...</td>\n",
       "      <td>...</td>\n",
       "      <td>...</td>\n",
       "    </tr>\n",
       "    <tr>\n",
       "      <th>1410</th>\n",
       "      <td>23842830863250097</td>\n",
       "      <td>&lt;div class=\"_1dwg _1w_m\"&gt;&lt;div&gt;&lt;span class=\"_47...</td>\n",
       "      <td>1</td>\n",
       "      <td>0</td>\n",
       "      <td>Really American</td>\n",
       "      <td>&lt;p&gt;It's time we called the NRA what they reall...</td>\n",
       "      <td>https://pp-facebook-ads.s3.amazonaws.com/v/t1....</td>\n",
       "      <td>2018-03-13 03:38:30.678839+00</td>\n",
       "      <td>2018-03-13 07:01:48.847557+00</td>\n",
       "      <td>en-US</td>\n",
       "      <td>...</td>\n",
       "      <td>f</td>\n",
       "      <td>[{\"target\": \"Age\", \"segment\": \"18 and older\"},...</td>\n",
       "      <td>Really American</td>\n",
       "      <td>[{\"entity\": \"NRA\", \"entity_type\": \"Organizatio...</td>\n",
       "      <td>https://www.facebook.com/reallyamerican/</td>\n",
       "      <td>https://www.facebook.com/reallyamerican/</td>\n",
       "      <td>{\"&lt;div&gt;&lt;div class=\\\"_4-i0 _26c5\\\"&gt;&lt;div class=\\...</td>\n",
       "      <td>NaN</td>\n",
       "      <td>4.0</td>\n",
       "      <td>0.238813</td>\n",
       "    </tr>\n",
       "    <tr>\n",
       "      <th>1411</th>\n",
       "      <td>6088137902611</td>\n",
       "      <td>&lt;div class=\"_1dwg _1w_m _q7o\"&gt;&lt;div class=\"_4r_...</td>\n",
       "      <td>2</td>\n",
       "      <td>1</td>\n",
       "      <td>The Nature Conservancy</td>\n",
       "      <td>&lt;p&gt;The seeds of change must be planted today. ...</td>\n",
       "      <td>https://pp-facebook-ads.s3.amazonaws.com/v/t1....</td>\n",
       "      <td>2018-01-01 20:08:37.879062+00</td>\n",
       "      <td>2018-01-12 01:58:57.272757+00</td>\n",
       "      <td>en-US</td>\n",
       "      <td>...</td>\n",
       "      <td>f</td>\n",
       "      <td>[{\"target\": \"Age\", \"segment\": \"18 and older\"},...</td>\n",
       "      <td>The Nature Conservancy</td>\n",
       "      <td>[]</td>\n",
       "      <td>https://www.facebook.com/thenatureconservancy/</td>\n",
       "      <td>https://www.facebook.com/thenatureconservancy/</td>\n",
       "      <td>{\"&lt;div&gt;&lt;div class=\\\"_4-i0 _26c5\\\"&gt;&lt;div class=\\...</td>\n",
       "      <td>NaN</td>\n",
       "      <td>3.0</td>\n",
       "      <td>0.999913</td>\n",
       "    </tr>\n",
       "    <tr>\n",
       "      <th>1412</th>\n",
       "      <td>23842961798260247</td>\n",
       "      <td>&lt;div class=\"_5pcr userContentWrapper\"&gt;&lt;div cla...</td>\n",
       "      <td>2</td>\n",
       "      <td>4</td>\n",
       "      <td>Wilson Center</td>\n",
       "      <td>&lt;p&gt;The U.S. space program has been a source of...</td>\n",
       "      <td>https://pp-facebook-ads.s3.amazonaws.com/v/t1....</td>\n",
       "      <td>2018-09-14 05:14:00.725191+00</td>\n",
       "      <td>2018-09-21 05:02:38.268337+00</td>\n",
       "      <td>en-US</td>\n",
       "      <td>...</td>\n",
       "      <td>f</td>\n",
       "      <td>[{\"target\": \"Age\", \"segment\": \"18 and older\"},...</td>\n",
       "      <td>Wilson Center</td>\n",
       "      <td>[{\"entity\": \"Jim Bridenstine\", \"entity_type\": ...</td>\n",
       "      <td>https://www.facebook.com/woodrowwilsoncenter/</td>\n",
       "      <td>https://www.facebook.com/woodrowwilsoncenter/</td>\n",
       "      <td>{\"&lt;div&gt;&lt;div class=\\\"_4-i0 _26c5\\\"&gt;&lt;div class=\\...</td>\n",
       "      <td>Wilson Center</td>\n",
       "      <td>2.0</td>\n",
       "      <td>0.239022</td>\n",
       "    </tr>\n",
       "    <tr>\n",
       "      <th>1413</th>\n",
       "      <td>23842974569300633</td>\n",
       "      <td>&lt;div class=\"_5pcr userContentWrapper\"&gt;&lt;div cla...</td>\n",
       "      <td>1</td>\n",
       "      <td>0</td>\n",
       "      <td>Gretchen Whitmer</td>\n",
       "      <td>&lt;p&gt;Bill Schuette doesn’t get it, but I do. It ...</td>\n",
       "      <td>https://pp-facebook-ads.s3.amazonaws.com/v/t1....</td>\n",
       "      <td>2018-10-16 17:54:25.652331+00</td>\n",
       "      <td>2018-10-16 18:16:46.538941+00</td>\n",
       "      <td>en-US</td>\n",
       "      <td>...</td>\n",
       "      <td>f</td>\n",
       "      <td>[{\"target\": \"Age\", \"segment\": \"35 and older\"},...</td>\n",
       "      <td>Gretchen Whitmer</td>\n",
       "      <td>[{\"entity\": \"Bill Schuette\", \"entity_type\": \"P...</td>\n",
       "      <td>https://www.facebook.com/GretchenWhitmer/</td>\n",
       "      <td>https://www.facebook.com/gretchenwhitmer/</td>\n",
       "      <td>{\"&lt;div&gt;&lt;div class=\\\"_4-i0 _26c5\\\"&gt;&lt;div class=\\...</td>\n",
       "      <td>Gretchen Whitmer for Governor</td>\n",
       "      <td>5.0</td>\n",
       "      <td>0.165291</td>\n",
       "    </tr>\n",
       "    <tr>\n",
       "      <th>1414</th>\n",
       "      <td>23843053617850033</td>\n",
       "      <td>&lt;div class=\"_5pa- userContentWrapper\"&gt;&lt;div cla...</td>\n",
       "      <td>7</td>\n",
       "      <td>0</td>\n",
       "      <td>End Citizens United</td>\n",
       "      <td>&lt;p&gt;Democrats, we need your help. Claire McCask...</td>\n",
       "      <td>https://pp-facebook-ads.s3.amazonaws.com/v/t1....</td>\n",
       "      <td>2018-09-14 04:55:45.837853+00</td>\n",
       "      <td>2018-</td>\n",
       "      <td>NaN</td>\n",
       "      <td>...</td>\n",
       "      <td>NaN</td>\n",
       "      <td>NaN</td>\n",
       "      <td>NaN</td>\n",
       "      <td>NaN</td>\n",
       "      <td>NaN</td>\n",
       "      <td>NaN</td>\n",
       "      <td>NaN</td>\n",
       "      <td>NaN</td>\n",
       "      <td>NaN</td>\n",
       "      <td>NaN</td>\n",
       "    </tr>\n",
       "  </tbody>\n",
       "</table>\n",
       "<p>1415 rows × 24 columns</p>\n",
       "</div>"
      ],
      "text/plain": [
       "                                              id  \\\n",
       "0     hyperfeed_story_id_5c9baa3ee0ec08073500042   \n",
       "1     hyperfeed_story_id_5c9bb2a2413852086735771   \n",
       "2     hyperfeed_story_id_5c9bb4fa461731e29426627   \n",
       "3                              23843380741530360   \n",
       "4     hyperfeed_story_id_5c9bb059454851c17741213   \n",
       "...                                          ...   \n",
       "1410                           23842830863250097   \n",
       "1411                               6088137902611   \n",
       "1412                           23842961798260247   \n",
       "1413                           23842974569300633   \n",
       "1414                           23843053617850033   \n",
       "\n",
       "                                                   html  political  \\\n",
       "0     <div class=\"_5pa- userContentWrapper\"><div cla...          0   \n",
       "1     <div class=\"_5pa- userContentWrapper\"><div cla...          0   \n",
       "2     <div class=\"_5pa- userContentWrapper\"><div cla...          0   \n",
       "3     <div class=\"_5pcr userContentWrapper\"><div cla...          0   \n",
       "4     <div class=\"_5pa- userContentWrapper\"><div cla...          0   \n",
       "...                                                 ...        ...   \n",
       "1410  <div class=\"_1dwg _1w_m\"><div><span class=\"_47...          1   \n",
       "1411  <div class=\"_1dwg _1w_m _q7o\"><div class=\"_4r_...          2   \n",
       "1412  <div class=\"_5pcr userContentWrapper\"><div cla...          2   \n",
       "1413  <div class=\"_5pcr userContentWrapper\"><div cla...          1   \n",
       "1414  <div class=\"_5pa- userContentWrapper\"><div cla...          7   \n",
       "\n",
       "      not_political                           title  \\\n",
       "0                 0   League of Conservation Voters   \n",
       "1                 0               Indivisible Guide   \n",
       "2                 0  International Rescue Committee   \n",
       "3                 0    Covenant House International   \n",
       "4                 1              Planned Parenthood   \n",
       "...             ...                             ...   \n",
       "1410              0                 Really American   \n",
       "1411              1          The Nature Conservancy   \n",
       "1412              4                   Wilson Center   \n",
       "1413              0                Gretchen Whitmer   \n",
       "1414              0             End Citizens United   \n",
       "\n",
       "                                                message  \\\n",
       "0     <p>BREAKING: Trump’s Department of the Interio...   \n",
       "1     <p>The Mueller investigation is over. Special ...   \n",
       "2     <p>Zimbabwe is reeling from the impact of Cycl...   \n",
       "3     <p>What more can you do in the final hours of ...   \n",
       "4     <p>Say it loud, say it proud: Our rights, our ...   \n",
       "...                                                 ...   \n",
       "1410  <p>It's time we called the NRA what they reall...   \n",
       "1411  <p>The seeds of change must be planted today. ...   \n",
       "1412  <p>The U.S. space program has been a source of...   \n",
       "1413  <p>Bill Schuette doesn’t get it, but I do. It ...   \n",
       "1414  <p>Democrats, we need your help. Claire McCask...   \n",
       "\n",
       "                                              thumbnail  \\\n",
       "0     https://pp-facebook-ads.s3.amazonaws.com/v/t1....   \n",
       "1     https://pp-facebook-ads.s3.amazonaws.com/v/t1....   \n",
       "2     https://pp-facebook-ads.s3.amazonaws.com/v/t1....   \n",
       "3     https://pp-facebook-ads.s3.amazonaws.com/v/t1....   \n",
       "4     https://pp-facebook-ads.s3.amazonaws.com/v/t1....   \n",
       "...                                                 ...   \n",
       "1410  https://pp-facebook-ads.s3.amazonaws.com/v/t1....   \n",
       "1411  https://pp-facebook-ads.s3.amazonaws.com/v/t1....   \n",
       "1412  https://pp-facebook-ads.s3.amazonaws.com/v/t1....   \n",
       "1413  https://pp-facebook-ads.s3.amazonaws.com/v/t1....   \n",
       "1414  https://pp-facebook-ads.s3.amazonaws.com/v/t1....   \n",
       "\n",
       "                         created_at                     updated_at   lang  \\\n",
       "0     2019-03-27 16:52:25.625455+00  2019-03-27 16:52:25.625455+00  en-US   \n",
       "1     2019-03-27 17:28:14.096849+00  2019-03-27 17:28:14.096849+00  en-US   \n",
       "2     2019-03-27 17:38:23.101377+00  2019-03-27 17:38:23.101377+00  en-US   \n",
       "3     2018-12-30 20:59:13.879124+00  2018-12-30 20:59:13.879124+00  en-US   \n",
       "4     2019-03-27 17:18:29.764002+00  2019-04-11 15:02:58.081112+00  en-US   \n",
       "...                             ...                            ...    ...   \n",
       "1410  2018-03-13 03:38:30.678839+00  2018-03-13 07:01:48.847557+00  en-US   \n",
       "1411  2018-01-01 20:08:37.879062+00  2018-01-12 01:58:57.272757+00  en-US   \n",
       "1412  2018-09-14 05:14:00.725191+00  2018-09-21 05:02:38.268337+00  en-US   \n",
       "1413  2018-10-16 17:54:25.652331+00  2018-10-16 18:16:46.538941+00  en-US   \n",
       "1414  2018-09-14 04:55:45.837853+00                          2018-    NaN   \n",
       "\n",
       "      ... suppressed                                            targets  \\\n",
       "0     ...          f                                                 []   \n",
       "1     ...          f                                                 []   \n",
       "2     ...          f                                                 []   \n",
       "3     ...          f  [{\"target\": \"Activity on the Facebook Family\"}...   \n",
       "4     ...          f                                                 []   \n",
       "...   ...        ...                                                ...   \n",
       "1410  ...          f  [{\"target\": \"Age\", \"segment\": \"18 and older\"},...   \n",
       "1411  ...          f  [{\"target\": \"Age\", \"segment\": \"18 and older\"},...   \n",
       "1412  ...          f  [{\"target\": \"Age\", \"segment\": \"18 and older\"},...   \n",
       "1413  ...          f  [{\"target\": \"Age\", \"segment\": \"35 and older\"},...   \n",
       "1414  ...        NaN                                                NaN   \n",
       "\n",
       "                        advertiser  \\\n",
       "0                              NaN   \n",
       "1                              NaN   \n",
       "2                              NaN   \n",
       "3     Covenant House International   \n",
       "4                              NaN   \n",
       "...                            ...   \n",
       "1410               Really American   \n",
       "1411        The Nature Conservancy   \n",
       "1412                 Wilson Center   \n",
       "1413              Gretchen Whitmer   \n",
       "1414                           NaN   \n",
       "\n",
       "                                               entities  \\\n",
       "0     [{\"entity\": \"Endangered Species Act\", \"entity_...   \n",
       "1     [{\"entity\": \"Americans\", \"entity_type\": \"Group...   \n",
       "2     [{\"entity\": \"Zimbabwe\", \"entity_type\": \"Region\"}]   \n",
       "3                                                    []   \n",
       "4     [{\"entity\": \"Planned Parenthood\", \"entity_type...   \n",
       "...                                                 ...   \n",
       "1410  [{\"entity\": \"NRA\", \"entity_type\": \"Organizatio...   \n",
       "1411                                                 []   \n",
       "1412  [{\"entity\": \"Jim Bridenstine\", \"entity_type\": ...   \n",
       "1413  [{\"entity\": \"Bill Schuette\", \"entity_type\": \"P...   \n",
       "1414                                                NaN   \n",
       "\n",
       "                                                   page  \\\n",
       "0                    https://www.facebook.com/LCVoters/   \n",
       "1            https://www.facebook.com/indivisibleguide/   \n",
       "2     https://www.facebook.com/InternationalRescueCo...   \n",
       "3               https://www.facebook.com/CovenantHouse/   \n",
       "4           https://www.facebook.com/PlannedParenthood/   \n",
       "...                                                 ...   \n",
       "1410           https://www.facebook.com/reallyamerican/   \n",
       "1411     https://www.facebook.com/thenatureconservancy/   \n",
       "1412      https://www.facebook.com/woodrowwilsoncenter/   \n",
       "1413          https://www.facebook.com/GretchenWhitmer/   \n",
       "1414                                                NaN   \n",
       "\n",
       "                                             lower_page  \\\n",
       "0                    https://www.facebook.com/lcvoters/   \n",
       "1            https://www.facebook.com/indivisibleguide/   \n",
       "2     https://www.facebook.com/internationalrescueco...   \n",
       "3               https://www.facebook.com/covenanthouse/   \n",
       "4           https://www.facebook.com/plannedparenthood/   \n",
       "...                                                 ...   \n",
       "1410           https://www.facebook.com/reallyamerican/   \n",
       "1411     https://www.facebook.com/thenatureconservancy/   \n",
       "1412      https://www.facebook.com/woodrowwilsoncenter/   \n",
       "1413          https://www.facebook.com/gretchenwhitmer/   \n",
       "1414                                                NaN   \n",
       "\n",
       "                                             targetings  \\\n",
       "0                                                   NaN   \n",
       "1                                                   NaN   \n",
       "2                                                   NaN   \n",
       "3     {\"<div><div class=\\\"_4-i0 _26c5\\\"><div class=\\...   \n",
       "4                                                   NaN   \n",
       "...                                                 ...   \n",
       "1410  {\"<div><div class=\\\"_4-i0 _26c5\\\"><div class=\\...   \n",
       "1411  {\"<div><div class=\\\"_4-i0 _26c5\\\"><div class=\\...   \n",
       "1412  {\"<div><div class=\\\"_4-i0 _26c5\\\"><div class=\\...   \n",
       "1413  {\"<div><div class=\\\"_4-i0 _26c5\\\"><div class=\\...   \n",
       "1414                                                NaN   \n",
       "\n",
       "                                   paid_for_by targetedness  \\\n",
       "0                League of Conservation Voters          NaN   \n",
       "1                          Indivisible Project          NaN   \n",
       "2               International Rescue Committee          NaN   \n",
       "3                 Covenant House International          5.0   \n",
       "4     Planned Parenthood Federation of America          NaN   \n",
       "...                                        ...          ...   \n",
       "1410                                       NaN          4.0   \n",
       "1411                                       NaN          3.0   \n",
       "1412                            Wilson Center           2.0   \n",
       "1413             Gretchen Whitmer for Governor          5.0   \n",
       "1414                                       NaN          NaN   \n",
       "\n",
       "     listbuilding_fundraising_proba  \n",
       "0                          0.647945  \n",
       "1                          0.350635  \n",
       "2                          0.999909  \n",
       "3                               NaN  \n",
       "4                          0.999977  \n",
       "...                             ...  \n",
       "1410                       0.238813  \n",
       "1411                       0.999913  \n",
       "1412                       0.239022  \n",
       "1413                       0.165291  \n",
       "1414                            NaN  \n",
       "\n",
       "[1415 rows x 24 columns]"
      ]
     },
     "execution_count": 111,
     "metadata": {},
     "output_type": "execute_result"
    }
   ],
   "source": [
    "#load fb data set of messages\n",
    "fb = pd.read_csv('/storage/fbpac-ads-en-US.csv')\n",
    "#fb = pd.read_csv(\"/https://kaggle/input/political-advertisements-from-facebook/fbpac-ads-en-US.csv\")\n",
    "#fb = pd.read_csv(r'C:/Users/mehrunisaqayyum/Downloads/work/fbpac-ads-en-US.csv')\n",
    "#fb = pd.read_csv(r'C:/Users/mehrunisaqayyum/Downloads/work/fbpac.csv')\n",
    "#fb = pd.read_csv('/Users/mehrunisaqayyum/Downloads/work/fbpac.csv')\n",
    "#fb = pd.read_csv('/⁨Users⁩/⁨mehrunisaqayyum⁩/Downloads⁩/work/fbpac-ads-en-US.csv')\n",
    "#fb = pd.read_csv(r'C:/Users/mehrunisaqayyum/Downloads/fbpac.csv')\n",
    "#fb = pd.read_csv('/Users/mehrunisaqayyum/Downloads/work/fbpac-ads-en-US.csv')\n",
    "fb"
   ]
  },
  {
   "cell_type": "code",
   "execution_count": 112,
   "metadata": {},
   "outputs": [
    {
     "data": {
      "text/plain": [
       "id                                 object\n",
       "html                               object\n",
       "political                           int64\n",
       "not_political                       int64\n",
       "title                              object\n",
       "message                            object\n",
       "thumbnail                          object\n",
       "created_at                         object\n",
       "updated_at                         object\n",
       "lang                               object\n",
       "images                             object\n",
       "impressions                       float64\n",
       "political_probability             float64\n",
       "targeting                          object\n",
       "suppressed                         object\n",
       "targets                            object\n",
       "advertiser                         object\n",
       "entities                           object\n",
       "page                               object\n",
       "lower_page                         object\n",
       "targetings                         object\n",
       "paid_for_by                        object\n",
       "targetedness                      float64\n",
       "listbuilding_fundraising_proba    float64\n",
       "dtype: object"
      ]
     },
     "execution_count": 112,
     "metadata": {},
     "output_type": "execute_result"
    }
   ],
   "source": [
    "fb.dtypes"
   ]
  },
  {
   "cell_type": "markdown",
   "metadata": {},
   "source": [
    "### CLF from Training of fake data sets\n",
    "#### Predict outcomes for Facebook \n",
    "    Y_fb_pred = clf.predict(X_train_fake, Y_train_true).predict(X_test_fb_pol)\n",
    "Y_fb_pred = clf.predict(X_fb_pol).  #Whole Test Set is FB Dataset"
   ]
  },
  {
   "cell_type": "code",
   "execution_count": 113,
   "metadata": {},
   "outputs": [],
   "source": [
    "#from wordcloud import WordCloud,STOPWORDS\n",
    "from nltk.corpus import stopwords\n",
    "from nltk.stem.porter import PorterStemmer\n",
    "\n",
    "import re,string,unicodedata\n",
    "from nltk.stem import WordNetLemmatizer,PorterStemmer\n",
    "import os\n",
    "import gc\n",
    "from nltk.tokenize import word_tokenize\n",
    "from collections import  Counter\n",
    "\n",
    "#stop = set(stopwords.words('english'))\n",
    "#punctuation = list(string.punctuation)\n",
    "#stop.update(punctuation)"
   ]
  },
  {
   "cell_type": "code",
   "execution_count": 114,
   "metadata": {},
   "outputs": [
    {
     "data": {
      "text/html": [
       "<div>\n",
       "<style scoped>\n",
       "    .dataframe tbody tr th:only-of-type {\n",
       "        vertical-align: middle;\n",
       "    }\n",
       "\n",
       "    .dataframe tbody tr th {\n",
       "        vertical-align: top;\n",
       "    }\n",
       "\n",
       "    .dataframe thead th {\n",
       "        text-align: right;\n",
       "    }\n",
       "</style>\n",
       "<table border=\"1\" class=\"dataframe\">\n",
       "  <thead>\n",
       "    <tr style=\"text-align: right;\">\n",
       "      <th></th>\n",
       "      <th>title</th>\n",
       "      <th>message</th>\n",
       "      <th>paid_for_by</th>\n",
       "    </tr>\n",
       "  </thead>\n",
       "  <tbody>\n",
       "    <tr>\n",
       "      <th>0</th>\n",
       "      <td>League of Conservation Voters</td>\n",
       "      <td>&lt;p&gt;BREAKING: Trump’s Department of the Interio...</td>\n",
       "      <td>League of Conservation Voters</td>\n",
       "    </tr>\n",
       "    <tr>\n",
       "      <th>1</th>\n",
       "      <td>Indivisible Guide</td>\n",
       "      <td>&lt;p&gt;The Mueller investigation is over. Special ...</td>\n",
       "      <td>Indivisible Project</td>\n",
       "    </tr>\n",
       "    <tr>\n",
       "      <th>2</th>\n",
       "      <td>International Rescue Committee</td>\n",
       "      <td>&lt;p&gt;Zimbabwe is reeling from the impact of Cycl...</td>\n",
       "      <td>International Rescue Committee</td>\n",
       "    </tr>\n",
       "    <tr>\n",
       "      <th>3</th>\n",
       "      <td>Covenant House International</td>\n",
       "      <td>&lt;p&gt;What more can you do in the final hours of ...</td>\n",
       "      <td>Covenant House International</td>\n",
       "    </tr>\n",
       "    <tr>\n",
       "      <th>4</th>\n",
       "      <td>Planned Parenthood</td>\n",
       "      <td>&lt;p&gt;Say it loud, say it proud: Our rights, our ...</td>\n",
       "      <td>Planned Parenthood Federation of America</td>\n",
       "    </tr>\n",
       "    <tr>\n",
       "      <th>...</th>\n",
       "      <td>...</td>\n",
       "      <td>...</td>\n",
       "      <td>...</td>\n",
       "    </tr>\n",
       "    <tr>\n",
       "      <th>1400</th>\n",
       "      <td>Alley Cat Allies</td>\n",
       "      <td>&lt;p&gt;Celebrate a cat advocate in your neighborho...</td>\n",
       "      <td>Alley Cat Allies</td>\n",
       "    </tr>\n",
       "    <tr>\n",
       "      <th>1401</th>\n",
       "      <td>Donald J. Trump</td>\n",
       "      <td>&lt;p&gt;You’ve seen what liberals have done to try ...</td>\n",
       "      <td>Donald J. Trump for President, Inc.</td>\n",
       "    </tr>\n",
       "    <tr>\n",
       "      <th>1402</th>\n",
       "      <td>Samuel Bagenstos for Justice</td>\n",
       "      <td>&lt;p&gt;No child should have to choose between thei...</td>\n",
       "      <td>Samuel Bagenstos for Justice, 2370 E. Stadium ...</td>\n",
       "    </tr>\n",
       "    <tr>\n",
       "      <th>1403</th>\n",
       "      <td>Oxfam</td>\n",
       "      <td>&lt;p&gt;You have the power to help rush life-saving...</td>\n",
       "      <td>Oxfam America</td>\n",
       "    </tr>\n",
       "    <tr>\n",
       "      <th>1404</th>\n",
       "      <td>Donald J. Trump</td>\n",
       "      <td>&lt;p&gt;There are now less than 25 days left until ...</td>\n",
       "      <td>Donald J. Trump for President, Inc.</td>\n",
       "    </tr>\n",
       "  </tbody>\n",
       "</table>\n",
       "<p>1405 rows × 3 columns</p>\n",
       "</div>"
      ],
      "text/plain": [
       "                               title  \\\n",
       "0      League of Conservation Voters   \n",
       "1                  Indivisible Guide   \n",
       "2     International Rescue Committee   \n",
       "3       Covenant House International   \n",
       "4                 Planned Parenthood   \n",
       "...                              ...   \n",
       "1400                Alley Cat Allies   \n",
       "1401                 Donald J. Trump   \n",
       "1402    Samuel Bagenstos for Justice   \n",
       "1403                           Oxfam   \n",
       "1404                 Donald J. Trump   \n",
       "\n",
       "                                                message  \\\n",
       "0     <p>BREAKING: Trump’s Department of the Interio...   \n",
       "1     <p>The Mueller investigation is over. Special ...   \n",
       "2     <p>Zimbabwe is reeling from the impact of Cycl...   \n",
       "3     <p>What more can you do in the final hours of ...   \n",
       "4     <p>Say it loud, say it proud: Our rights, our ...   \n",
       "...                                                 ...   \n",
       "1400  <p>Celebrate a cat advocate in your neighborho...   \n",
       "1401  <p>You’ve seen what liberals have done to try ...   \n",
       "1402  <p>No child should have to choose between thei...   \n",
       "1403  <p>You have the power to help rush life-saving...   \n",
       "1404  <p>There are now less than 25 days left until ...   \n",
       "\n",
       "                                            paid_for_by  \n",
       "0                         League of Conservation Voters  \n",
       "1                                   Indivisible Project  \n",
       "2                        International Rescue Committee  \n",
       "3                          Covenant House International  \n",
       "4              Planned Parenthood Federation of America  \n",
       "...                                                 ...  \n",
       "1400                                   Alley Cat Allies  \n",
       "1401                Donald J. Trump for President, Inc.  \n",
       "1402  Samuel Bagenstos for Justice, 2370 E. Stadium ...  \n",
       "1403                                      Oxfam America  \n",
       "1404                Donald J. Trump for President, Inc.  \n",
       "\n",
       "[1405 rows x 3 columns]"
      ]
     },
     "execution_count": 114,
     "metadata": {},
     "output_type": "execute_result"
    }
   ],
   "source": [
    "#should fe include \"fb_vectors\"?\n",
    "fe = ['title','message','paid_for_by']\n",
    "text_fb = fb[fe]\n",
    "text_fb.head(-10)"
   ]
  },
  {
   "cell_type": "markdown",
   "metadata": {},
   "source": [
    "#### Sample Facebook Text Data:\n",
    "For the whole data set, we would need to vectorize Facebook Feature of Interest. However, this is resource intensive. As shown above, it takes over 30 minutes to vectorize both the true and fake data sets to create our model's classifier with over 96 percent accuracy. \n"
   ]
  },
  {
   "cell_type": "code",
   "execution_count": null,
   "metadata": {},
   "outputs": [],
   "source": [
    "#Facebook Vectors: Take from: Facebook dataframe 'fb' datafram\n",
    "#fb_vectors = fb['message'].progress_apply(lambda x: pd.Series(nlp(x).doc.vector.tolist()))"
   ]
  },
  {
   "cell_type": "code",
   "execution_count": 115,
   "metadata": {},
   "outputs": [
    {
     "data": {
      "text/plain": [
       "title          object\n",
       "message        object\n",
       "paid_for_by    object\n",
       "dtype: object"
      ]
     },
     "execution_count": 115,
     "metadata": {},
     "output_type": "execute_result"
    }
   ],
   "source": [
    "#need values to be strings \n",
    "text_fb.dtypes"
   ]
  },
  {
   "cell_type": "markdown",
   "metadata": {},
   "source": [
    "### Text Cleaning\n",
    "We will review text in columns 'title','message','paid_for_by' for our Natural Language Processing project."
   ]
  },
  {
   "cell_type": "code",
   "execution_count": 116,
   "metadata": {},
   "outputs": [],
   "source": [
    "'''Remove punctuation and \"weird stuff like --\" from ['title','message','paid_for_by'].'''\n",
    "\n",
    "import re\n",
    "\n",
    "def text_cleaner(text_fb):\n",
    "    # Visual inspection identifies a form of punctuation spaCy does not\n",
    "    text1 = re.sub(r'<.*?>',' ', text_fb) #removes the  pp beginning and end\n",
    "    text1 = re.sub(r'--',' ',text_fb)  # recognize: the double dash '--'.  Better get rid of it now!\n",
    "    text1 = re.sub(\"[\\[].*?[\\]]\", \"\", text_fb)\n",
    "    text1 = ' '.join(text_fb.split())\n",
    "    return text1\n",
    "\n",
    "#Used above in Part 2 to clean first body of text:\n",
    "    #text = re.sub('<.*?>', \"\", text) #Remove html tag\n",
    "    #pattern = re.compile('http[s]?://(?:[a-zA-Z]|[0-9]|[$-_@.&+]|[!*\\(\\),]|(?:%[0-9a-fA-F][0-9a-fA-F]))+') #Return leftover urls\n",
    "    #text = re.sub(pattern, ' ', text) #includes pattern when the urls weren't removed from above"
   ]
  },
  {
   "cell_type": "code",
   "execution_count": 117,
   "metadata": {},
   "outputs": [],
   "source": [
    "'''clean_text_round2: Make text lowercase, remove text in square brackets, remove punctuation and remove words containing numbers.'''\n",
    "import re\n",
    "import string\n",
    "\n",
    "def clean_text_round2(text1):\n",
    "    if pd.isna(text1):\n",
    "        return text1\n",
    "    \n",
    "    text2 = text1.lower()\n",
    "    text2 = re.sub('\\[.*?\\]', '', text1)\n",
    "     #Add regex to address the 'p' where removing 'p' with brackets or remove first and last letter\n",
    "    #text2 = re.sub('\\p', ' ', text1)\n",
    "    text2 = re.sub('\\w*\\d\\w*', '', text1)\n",
    "    text2 = re.sub('<.*?>', '', text1)\n",
    "    text2 = re.sub('[%s]' % re.escape(string.punctuation), '', text1)\n",
    "    text2 = re.sub('<.*?>', '', text1) #should remove 'p' from beginning\n",
    "    return text2\n",
    "\n",
    "# <.*?>"
   ]
  },
  {
   "cell_type": "raw",
   "metadata": {},
   "source": [
    "re.sub('<.*?>', '', text_fb['message'].iloc[0])"
   ]
  },
  {
   "cell_type": "code",
   "execution_count": 118,
   "metadata": {},
   "outputs": [
    {
     "data": {
      "text/plain": [
       "'BREAKING: Trump’s Department of the Interior plans to remove Endangered Species Act protections for gray wolves. Without these safeguards, gray wolf populations could decline across the country. We must fight back on this attack on our wildlife.'"
      ]
     },
     "execution_count": 118,
     "metadata": {},
     "output_type": "execute_result"
    }
   ],
   "source": [
    "#Test a 'message'\n",
    "clean_text_round2(text_fb['message'].iloc[0])"
   ]
  },
  {
   "cell_type": "code",
   "execution_count": 119,
   "metadata": {},
   "outputs": [],
   "source": [
    "#Del suggestion to test clean\n",
    "#Creating new column 'clean_message'\n",
    "\n",
    "text_fb['clean_message'] = text_fb.message.apply(clean_text_round2)"
   ]
  },
  {
   "cell_type": "code",
   "execution_count": 120,
   "metadata": {},
   "outputs": [
    {
     "data": {
      "text/html": [
       "<div>\n",
       "<style scoped>\n",
       "    .dataframe tbody tr th:only-of-type {\n",
       "        vertical-align: middle;\n",
       "    }\n",
       "\n",
       "    .dataframe tbody tr th {\n",
       "        vertical-align: top;\n",
       "    }\n",
       "\n",
       "    .dataframe thead th {\n",
       "        text-align: right;\n",
       "    }\n",
       "</style>\n",
       "<table border=\"1\" class=\"dataframe\">\n",
       "  <thead>\n",
       "    <tr style=\"text-align: right;\">\n",
       "      <th></th>\n",
       "      <th>title</th>\n",
       "      <th>message</th>\n",
       "      <th>paid_for_by</th>\n",
       "      <th>clean_message</th>\n",
       "    </tr>\n",
       "  </thead>\n",
       "  <tbody>\n",
       "    <tr>\n",
       "      <th>0</th>\n",
       "      <td>League of Conservation Voters</td>\n",
       "      <td>&lt;p&gt;BREAKING: Trump’s Department of the Interio...</td>\n",
       "      <td>League of Conservation Voters</td>\n",
       "      <td>BREAKING: Trump’s Department of the Interior p...</td>\n",
       "    </tr>\n",
       "    <tr>\n",
       "      <th>1</th>\n",
       "      <td>Indivisible Guide</td>\n",
       "      <td>&lt;p&gt;The Mueller investigation is over. Special ...</td>\n",
       "      <td>Indivisible Project</td>\n",
       "      <td>The Mueller investigation is over. Special Cou...</td>\n",
       "    </tr>\n",
       "    <tr>\n",
       "      <th>2</th>\n",
       "      <td>International Rescue Committee</td>\n",
       "      <td>&lt;p&gt;Zimbabwe is reeling from the impact of Cycl...</td>\n",
       "      <td>International Rescue Committee</td>\n",
       "      <td>Zimbabwe is reeling from the impact of Cyclone...</td>\n",
       "    </tr>\n",
       "    <tr>\n",
       "      <th>3</th>\n",
       "      <td>Covenant House International</td>\n",
       "      <td>&lt;p&gt;What more can you do in the final hours of ...</td>\n",
       "      <td>Covenant House International</td>\n",
       "      <td>What more can you do in the final hours of 201...</td>\n",
       "    </tr>\n",
       "    <tr>\n",
       "      <th>4</th>\n",
       "      <td>Planned Parenthood</td>\n",
       "      <td>&lt;p&gt;Say it loud, say it proud: Our rights, our ...</td>\n",
       "      <td>Planned Parenthood Federation of America</td>\n",
       "      <td>Say it loud, say it proud: Our rights, our hea...</td>\n",
       "    </tr>\n",
       "    <tr>\n",
       "      <th>...</th>\n",
       "      <td>...</td>\n",
       "      <td>...</td>\n",
       "      <td>...</td>\n",
       "      <td>...</td>\n",
       "    </tr>\n",
       "    <tr>\n",
       "      <th>1410</th>\n",
       "      <td>Really American</td>\n",
       "      <td>&lt;p&gt;It's time we called the NRA what they reall...</td>\n",
       "      <td>NaN</td>\n",
       "      <td>It's time we called the NRA what they really a...</td>\n",
       "    </tr>\n",
       "    <tr>\n",
       "      <th>1411</th>\n",
       "      <td>The Nature Conservancy</td>\n",
       "      <td>&lt;p&gt;The seeds of change must be planted today. ...</td>\n",
       "      <td>NaN</td>\n",
       "      <td>The seeds of change must be planted today. Bec...</td>\n",
       "    </tr>\n",
       "    <tr>\n",
       "      <th>1412</th>\n",
       "      <td>Wilson Center</td>\n",
       "      <td>&lt;p&gt;The U.S. space program has been a source of...</td>\n",
       "      <td>Wilson Center</td>\n",
       "      <td>The U.S. space program has been a source of na...</td>\n",
       "    </tr>\n",
       "    <tr>\n",
       "      <th>1413</th>\n",
       "      <td>Gretchen Whitmer</td>\n",
       "      <td>&lt;p&gt;Bill Schuette doesn’t get it, but I do. It ...</td>\n",
       "      <td>Gretchen Whitmer for Governor</td>\n",
       "      <td>Bill Schuette doesn’t get it, but I do. It all...</td>\n",
       "    </tr>\n",
       "    <tr>\n",
       "      <th>1414</th>\n",
       "      <td>End Citizens United</td>\n",
       "      <td>&lt;p&gt;Democrats, we need your help. Claire McCask...</td>\n",
       "      <td>NaN</td>\n",
       "      <td>Democrats, we need your help. Claire McCaskill...</td>\n",
       "    </tr>\n",
       "  </tbody>\n",
       "</table>\n",
       "<p>1415 rows × 4 columns</p>\n",
       "</div>"
      ],
      "text/plain": [
       "                               title  \\\n",
       "0      League of Conservation Voters   \n",
       "1                  Indivisible Guide   \n",
       "2     International Rescue Committee   \n",
       "3       Covenant House International   \n",
       "4                 Planned Parenthood   \n",
       "...                              ...   \n",
       "1410                 Really American   \n",
       "1411          The Nature Conservancy   \n",
       "1412                   Wilson Center   \n",
       "1413                Gretchen Whitmer   \n",
       "1414             End Citizens United   \n",
       "\n",
       "                                                message  \\\n",
       "0     <p>BREAKING: Trump’s Department of the Interio...   \n",
       "1     <p>The Mueller investigation is over. Special ...   \n",
       "2     <p>Zimbabwe is reeling from the impact of Cycl...   \n",
       "3     <p>What more can you do in the final hours of ...   \n",
       "4     <p>Say it loud, say it proud: Our rights, our ...   \n",
       "...                                                 ...   \n",
       "1410  <p>It's time we called the NRA what they reall...   \n",
       "1411  <p>The seeds of change must be planted today. ...   \n",
       "1412  <p>The U.S. space program has been a source of...   \n",
       "1413  <p>Bill Schuette doesn’t get it, but I do. It ...   \n",
       "1414  <p>Democrats, we need your help. Claire McCask...   \n",
       "\n",
       "                                   paid_for_by  \\\n",
       "0                League of Conservation Voters   \n",
       "1                          Indivisible Project   \n",
       "2               International Rescue Committee   \n",
       "3                 Covenant House International   \n",
       "4     Planned Parenthood Federation of America   \n",
       "...                                        ...   \n",
       "1410                                       NaN   \n",
       "1411                                       NaN   \n",
       "1412                            Wilson Center    \n",
       "1413             Gretchen Whitmer for Governor   \n",
       "1414                                       NaN   \n",
       "\n",
       "                                          clean_message  \n",
       "0     BREAKING: Trump’s Department of the Interior p...  \n",
       "1     The Mueller investigation is over. Special Cou...  \n",
       "2     Zimbabwe is reeling from the impact of Cyclone...  \n",
       "3     What more can you do in the final hours of 201...  \n",
       "4     Say it loud, say it proud: Our rights, our hea...  \n",
       "...                                                 ...  \n",
       "1410  It's time we called the NRA what they really a...  \n",
       "1411  The seeds of change must be planted today. Bec...  \n",
       "1412  The U.S. space program has been a source of na...  \n",
       "1413  Bill Schuette doesn’t get it, but I do. It all...  \n",
       "1414  Democrats, we need your help. Claire McCaskill...  \n",
       "\n",
       "[1415 rows x 4 columns]"
      ]
     },
     "execution_count": 120,
     "metadata": {},
     "output_type": "execute_result"
    }
   ],
   "source": [
    "text_fb #See columns: ['message','clean_message'] that removed 'p'."
   ]
  },
  {
   "cell_type": "code",
   "execution_count": 121,
   "metadata": {},
   "outputs": [
    {
     "data": {
      "image/png": "[encoded data removed]",
      "text/plain": [
       "<Figure size 432x288 with 1 Axes>"
      ]
     },
     "metadata": {
      "needs_background": "light"
     },
     "output_type": "display_data"
    }
   ],
   "source": [
    "#Use Facebook 'updated_text' label with all text more accurate wordcloud on fake data\n",
    "\n",
    "\n",
    "\n",
    "text_wc_visual_5 = \" \".join(text for text in text_fb.clean_message)\n",
    "\n",
    "wordcloud_facebook = WordCloud(width = 500, \n",
    "                      contour_color = \"blue\",\n",
    "                      height= 300, \n",
    "                      random_state = 21,\n",
    "                      max_words = 50,\n",
    "                      max_font_size =110).generate(text_wc_visual_5)\n",
    "                    \n",
    "plt.imshow(wordcloud_facebook, interpolation='bilinear')\n",
    "plt.axis(\"off\")\n",
    "plt.show()"
   ]
  },
  {
   "cell_type": "code",
   "execution_count": 122,
   "metadata": {},
   "outputs": [],
   "source": [
    "#Load selected sample of FB Dataset = From text_fb sample of 200 \n",
    "\n",
    "your_sample_for_testing = text_fb.sample(n=200, random_state=123)\n",
    "your_sample_for_testing.to_excel(\"your_sample_for_testing.xlsx\")"
   ]
  },
  {
   "cell_type": "code",
   "execution_count": 123,
   "metadata": {},
   "outputs": [],
   "source": [
    "#Read data from cleaned sample of 200 records randomly selected in Excel.\n",
    "df_for_prediction = pd.read_excel('your_sample_for_testing (1).xlsx')"
   ]
  },
  {
   "cell_type": "code",
   "execution_count": 124,
   "metadata": {},
   "outputs": [],
   "source": [
    "df_for_prediction['message'] = df_for_prediction['message'].str.replace('<.*?>', '').str.lower()"
   ]
  },
  {
   "cell_type": "markdown",
   "metadata": {},
   "source": [
    "### Vectors Classifier"
   ]
  },
  {
   "cell_type": "code",
   "execution_count": 125,
   "metadata": {},
   "outputs": [],
   "source": [
    "#Vectorize the sample features from the Excel sample set.\n",
    "#Need to run in classifier model experiment.\n",
    "df_for_prediction_vectors = df_for_prediction['message'].apply(lambda x: pd.Series(nlp(x).doc.vector.tolist()))"
   ]
  },
  {
   "cell_type": "code",
   "execution_count": 126,
   "metadata": {},
   "outputs": [
    {
     "data": {
      "text/plain": [
       "0.185"
      ]
     },
     "execution_count": 126,
     "metadata": {},
     "output_type": "execute_result"
    }
   ],
   "source": [
    "rfc_vectors.score(df_for_prediction_vectors, df_for_prediction['real_one'])"
   ]
  },
  {
   "cell_type": "markdown",
   "metadata": {},
   "source": [
    "#### Note: We see that our experimental model produced a low accuracy score of 18.5 percent. This is below our expectations given that the original classifer developed above in Part 2  achieved a 96 percent accuracy score on the test set. "
   ]
  },
  {
   "cell_type": "code",
   "execution_count": 127,
   "metadata": {},
   "outputs": [],
   "source": [
    "from sklearn.metrics import classification_report, confusion_matrix"
   ]
  },
  {
   "cell_type": "code",
   "execution_count": 128,
   "metadata": {},
   "outputs": [
    {
     "name": "stdout",
     "output_type": "stream",
     "text": [
      "              precision    recall  f1-score   support\n",
      "\n",
      "           0       0.07      0.87      0.14        15\n",
      "           1       0.92      0.13      0.23       185\n",
      "\n",
      "    accuracy                           0.18       200\n",
      "   macro avg       0.50      0.50      0.18       200\n",
      "weighted avg       0.86      0.18      0.22       200\n",
      "\n"
     ]
    }
   ],
   "source": [
    "#X=Expected\n",
    "#y=Predicted\n",
    "print(classification_report(df_for_prediction['real_one'], rfc_vectors.predict(df_for_prediction_vectors)))"
   ]
  },
  {
   "cell_type": "markdown",
   "metadata": {},
   "source": [
    "#### Note: Discussion of 'Precision' and 'Recall'. "
   ]
  },
  {
   "cell_type": "code",
   "execution_count": 129,
   "metadata": {},
   "outputs": [
    {
     "name": "stdout",
     "output_type": "stream",
     "text": [
      "[[ 13   2]\n",
      " [161  24]]\n"
     ]
    }
   ],
   "source": [
    "#Reviewing Confusion Matrix to check results\n",
    "\n",
    "print(confusion_matrix(df_for_prediction['real_one'], rfc_vectors.predict(df_for_prediction_vectors)))"
   ]
  },
  {
   "cell_type": "markdown",
   "metadata": {},
   "source": [
    "### Method 2 Bag of Words Classifier"
   ]
  },
  {
   "cell_type": "code",
   "execution_count": 130,
   "metadata": {},
   "outputs": [],
   "source": [
    "#Check with Tiago\n",
    "# from sklearn.feature_extraction.text import CountVectorizer\n",
    "# vectorizer = CountVectorizer()\n",
    "bag_of_words_fb_sample = vectorizer_fake_real.transform(df_for_prediction['message'])"
   ]
  },
  {
   "cell_type": "code",
   "execution_count": 131,
   "metadata": {},
   "outputs": [
    {
     "data": {
      "text/plain": [
       "<200x59063 sparse matrix of type '<class 'numpy.int64'>'\n",
       "\twith 4270 stored elements in Compressed Sparse Row format>"
      ]
     },
     "execution_count": 131,
     "metadata": {},
     "output_type": "execute_result"
    }
   ],
   "source": [
    "bag_of_words_fb_sample"
   ]
  },
  {
   "cell_type": "code",
   "execution_count": 132,
   "metadata": {},
   "outputs": [
    {
     "data": {
      "text/plain": [
       "59063"
      ]
     },
     "execution_count": 132,
     "metadata": {},
     "output_type": "execute_result"
    }
   ],
   "source": [
    "len(rfc_bag.feature_importances_)"
   ]
  },
  {
   "cell_type": "code",
   "execution_count": 134,
   "metadata": {},
   "outputs": [
    {
     "data": {
      "text/plain": [
       "0.1"
      ]
     },
     "execution_count": 134,
     "metadata": {},
     "output_type": "execute_result"
    }
   ],
   "source": [
    "#Replace RFC Method. \n",
    "    #Swap out first argument for actual messages, not vectors. Keep second argument b/c that's what is what we're comparing. \n",
    "    #rfc_vectors.score(df_for_prediction_vectors, df_for_prediction['real_one'])\n",
    "\n",
    "#rfc_bag.score(df_for_prediction['message'], (df_for_prediction['real_one'])\n",
    "              \n",
    "#Tech Support\n",
    "\n",
    "#rfc_bag.score(df_for_prediction['message'], df_for_prediction['real_one'])\n",
    "rfc_bag.score(bag_of_words_fb_sample, df_for_prediction['real_one'])"
   ]
  },
  {
   "cell_type": "markdown",
   "metadata": {},
   "source": [
    "### Method 3: Universal Sentence Encoder (USE) for Facebook Messages"
   ]
  },
  {
   "cell_type": "code",
   "execution_count": 135,
   "metadata": {},
   "outputs": [],
   "source": [
    "#Needs FB string messages as vectors\n",
    "fb_vectors_use = df_for_prediction['message'].apply(lambda row: pd.Series(embed([row]).numpy()[0])  )"
   ]
  },
  {
   "cell_type": "code",
   "execution_count": 136,
   "metadata": {},
   "outputs": [
    {
     "data": {
      "text/plain": [
       "0.115"
      ]
     },
     "execution_count": 136,
     "metadata": {},
     "output_type": "execute_result"
    }
   ],
   "source": [
    "rfc_use.score(fb_vectors_use, df_for_prediction['real_one'])"
   ]
  },
  {
   "cell_type": "code",
   "execution_count": 137,
   "metadata": {},
   "outputs": [
    {
     "data": {
      "text/plain": [
       "0      our olympic coast has been protected for decad...\n",
       "1      every day a forest the size of atlanta is clea...\n",
       "2      hoover institution distinguished research fell...\n",
       "3      this final video makes the case for why kaleem...\n",
       "4      raw, wild, texas rescue honey. yum. ==&gt; thi...\n",
       "                             ...                        \n",
       "195    do you care? every day, our planet gets closer...\n",
       "196    protect wildlife by symbolically adopting your...\n",
       "197    juan castillo pérez leaves dogs to hang from w...\n",
       "198    tyt is grassroots journalism at its finest: an...\n",
       "199    \"the national democratic redistricting committ...\n",
       "Name: message, Length: 200, dtype: object"
      ]
     },
     "execution_count": 137,
     "metadata": {},
     "output_type": "execute_result"
    }
   ],
   "source": [
    "df_for_prediction['message']"
   ]
  },
  {
   "cell_type": "code",
   "execution_count": null,
   "metadata": {},
   "outputs": [],
   "source": []
  },
  {
   "cell_type": "markdown",
   "metadata": {},
   "source": [
    "### Top Fifty Words\n"
   ]
  },
  {
   "cell_type": "code",
   "execution_count": 138,
   "metadata": {},
   "outputs": [],
   "source": [
    "#Identify top 50 words in Facebook Messages 'text_fb'\n",
    "f = Counter()\n",
    "\n",
    "#ignore_this = all_df['updated_text'].apply(lambda row: c.update(row.split(\" \")))\n",
    "ignore_this2 = text_fb['clean_message'].apply(lambda row: f.update(row.split(\" \")))"
   ]
  },
  {
   "cell_type": "code",
   "execution_count": 139,
   "metadata": {},
   "outputs": [
    {
     "data": {
      "text/plain": [
       "[('to', 2764),\n",
       " ('the', 2620),\n",
       " ('and', 1895),\n",
       " ('a', 1290),\n",
       " ('of', 1286),\n",
       " ('for', 1176),\n",
       " ('in', 1112),\n",
       " ('is', 915),\n",
       " ('our', 837),\n",
       " ('you', 756),\n",
       " ('your', 735),\n",
       " ('on', 593),\n",
       " ('that', 546),\n",
       " ('', 545),\n",
       " ('are', 514),\n",
       " ('we', 510),\n",
       " ('this', 468),\n",
       " ('with', 429),\n",
       " ('be', 394),\n",
       " ('will', 382),\n",
       " ('from', 333),\n",
       " ('have', 328),\n",
       " ('by', 318),\n",
       " ('I', 310),\n",
       " ('can', 280),\n",
       " ('their', 273),\n",
       " ('at', 270),\n",
       " ('We', 267),\n",
       " ('The', 261),\n",
       " ('need', 248),\n",
       " ('us', 240),\n",
       " ('it', 236),\n",
       " ('help', 223),\n",
       " ('who', 222),\n",
       " ('as', 217),\n",
       " ('more', 213),\n",
       " ('an', 207),\n",
       " ('up', 207),\n",
       " ('has', 205),\n",
       " ('they', 202),\n",
       " ('now', 199),\n",
       " ('all', 196),\n",
       " ('people', 194),\n",
       " ('but', 188),\n",
       " ('not', 185),\n",
       " ('just', 178),\n",
       " ('make', 177),\n",
       " ('or', 175),\n",
       " ('so', 174),\n",
       " ('about', 172)]"
      ]
     },
     "execution_count": 139,
     "metadata": {},
     "output_type": "execute_result"
    }
   ],
   "source": [
    "top_words_fb = f.most_common(50)\n",
    "top_words_fb"
   ]
  },
  {
   "cell_type": "markdown",
   "metadata": {},
   "source": [
    "### WordCloud: Facebook Political Ad (Messages)\n",
    "Reviewing top 50 words in messages."
   ]
  },
  {
   "cell_type": "code",
   "execution_count": 141,
   "metadata": {},
   "outputs": [
    {
     "ename": "AttributeError",
     "evalue": "'DataFrame' object has no attribute 'clean_text'",
     "output_type": "error",
     "traceback": [
      "\u001b[0;31m---------------------------------------------------------------------------\u001b[0m",
      "\u001b[0;31mAttributeError\u001b[0m                            Traceback (most recent call last)",
      "\u001b[0;32m<ipython-input-141-73fa39e13a85>\u001b[0m in \u001b[0;36m<module>\u001b[0;34m\u001b[0m\n\u001b[1;32m      1\u001b[0m \u001b[0;31m# Create and generate a word cloud image: wordcloud = WordCloud().generate(text)\u001b[0m\u001b[0;34m\u001b[0m\u001b[0;34m\u001b[0m\u001b[0;34m\u001b[0m\u001b[0m\n\u001b[1;32m      2\u001b[0m \u001b[0;31m#text_wc_visual2 = \" \".join(text for text in text_fb.clean_text)\u001b[0m\u001b[0;34m\u001b[0m\u001b[0;34m\u001b[0m\u001b[0;34m\u001b[0m\u001b[0m\n\u001b[0;32m----> 3\u001b[0;31m \u001b[0mtop_words_fb\u001b[0m \u001b[0;34m=\u001b[0m \u001b[0;34m\" \"\u001b[0m\u001b[0;34m.\u001b[0m\u001b[0mjoin\u001b[0m\u001b[0;34m(\u001b[0m\u001b[0mtext\u001b[0m \u001b[0;32mfor\u001b[0m \u001b[0mtext\u001b[0m \u001b[0;32min\u001b[0m \u001b[0mtext_fb\u001b[0m\u001b[0;34m.\u001b[0m\u001b[0mclean_text\u001b[0m\u001b[0;34m)\u001b[0m\u001b[0;34m\u001b[0m\u001b[0;34m\u001b[0m\u001b[0m\n\u001b[0m\u001b[1;32m      4\u001b[0m \u001b[0;34m\u001b[0m\u001b[0m\n\u001b[1;32m      5\u001b[0m \u001b[0mwordcloud_BOW2\u001b[0m \u001b[0;34m=\u001b[0m \u001b[0mWordCloud\u001b[0m\u001b[0;34m(\u001b[0m\u001b[0;34m)\u001b[0m\u001b[0;34m.\u001b[0m\u001b[0mgenerate\u001b[0m\u001b[0;34m(\u001b[0m\u001b[0mtop_words_fb\u001b[0m\u001b[0;34m)\u001b[0m \u001b[0;31m#(text_wc_visual2)\u001b[0m\u001b[0;34m\u001b[0m\u001b[0;34m\u001b[0m\u001b[0m\n",
      "\u001b[0;32m/usr/local/lib/python3.6/dist-packages/pandas/core/generic.py\u001b[0m in \u001b[0;36m__getattr__\u001b[0;34m(self, name)\u001b[0m\n\u001b[1;32m   5272\u001b[0m             \u001b[0;32mif\u001b[0m \u001b[0mself\u001b[0m\u001b[0;34m.\u001b[0m\u001b[0m_info_axis\u001b[0m\u001b[0;34m.\u001b[0m\u001b[0m_can_hold_identifiers_and_holds_name\u001b[0m\u001b[0;34m(\u001b[0m\u001b[0mname\u001b[0m\u001b[0;34m)\u001b[0m\u001b[0;34m:\u001b[0m\u001b[0;34m\u001b[0m\u001b[0;34m\u001b[0m\u001b[0m\n\u001b[1;32m   5273\u001b[0m                 \u001b[0;32mreturn\u001b[0m \u001b[0mself\u001b[0m\u001b[0;34m[\u001b[0m\u001b[0mname\u001b[0m\u001b[0;34m]\u001b[0m\u001b[0;34m\u001b[0m\u001b[0;34m\u001b[0m\u001b[0m\n\u001b[0;32m-> 5274\u001b[0;31m             \u001b[0;32mreturn\u001b[0m \u001b[0mobject\u001b[0m\u001b[0;34m.\u001b[0m\u001b[0m__getattribute__\u001b[0m\u001b[0;34m(\u001b[0m\u001b[0mself\u001b[0m\u001b[0;34m,\u001b[0m \u001b[0mname\u001b[0m\u001b[0;34m)\u001b[0m\u001b[0;34m\u001b[0m\u001b[0;34m\u001b[0m\u001b[0m\n\u001b[0m\u001b[1;32m   5275\u001b[0m \u001b[0;34m\u001b[0m\u001b[0m\n\u001b[1;32m   5276\u001b[0m     \u001b[0;32mdef\u001b[0m \u001b[0m__setattr__\u001b[0m\u001b[0;34m(\u001b[0m\u001b[0mself\u001b[0m\u001b[0;34m,\u001b[0m \u001b[0mname\u001b[0m\u001b[0;34m:\u001b[0m \u001b[0mstr\u001b[0m\u001b[0;34m,\u001b[0m \u001b[0mvalue\u001b[0m\u001b[0;34m)\u001b[0m \u001b[0;34m->\u001b[0m \u001b[0;32mNone\u001b[0m\u001b[0;34m:\u001b[0m\u001b[0;34m\u001b[0m\u001b[0;34m\u001b[0m\u001b[0m\n",
      "\u001b[0;31mAttributeError\u001b[0m: 'DataFrame' object has no attribute 'clean_text'"
     ]
    }
   ],
   "source": [
    "# Create and generate a word cloud image: wordcloud = WordCloud().generate(text)\n",
    "#text_wc_visual2 = \" \".join(text for text in text_fb.clean_text)\n",
    "top_words_fb = \" \".join(text for text in text_fb.clean_text)\n",
    "\n",
    "wordcloud_BOW2 = WordCloud().generate(top_words_fb) #(text_wc_visual2)\n",
    "#wordcloud_BOW = WordCloud(width = 500, \n",
    "                      #contour_color = \"purple\",\n",
    "                      #height= 300, \n",
    "                      #random_state = 21,\n",
    "                      #max_words = 30,\n",
    "                      #max_font_size =110).generate(top_words)\n",
    "                    \n",
    "plt.imshow(wordcloud_BOW2, interpolation='bilinear')\n",
    "plt.axis(\"off\")\n",
    "plt.show() "
   ]
  },
  {
   "cell_type": "code",
   "execution_count": null,
   "metadata": {},
   "outputs": [],
   "source": []
  },
  {
   "cell_type": "code",
   "execution_count": null,
   "metadata": {},
   "outputs": [],
   "source": []
  },
  {
   "cell_type": "markdown",
   "metadata": {},
   "source": [
    "## Part 4: Conclusion and Future Exploration: \n",
    "### Sentiment Analysis\n",
    "Source: https://github.com/adashofdata/nlp-in-python-tutorial/blob/master/3-Sentiment-Analysis.ipynb Regarding text data, there are a few popular techniques that we'll be going through in the next few notebooks, starting with sentiment analysis. A few key points to note with sentiment analysis.\n",
    "\n",
    "TextBlob Module: Linguistic researchers have labeled the sentiment of words based on their domain expertise. Sentiment of words can vary based on where it is in a sentence. The TextBlob module allows us to take advantage of these labels. Sentiment Labels: Each word in a corpus is labeled in terms of polarity and subjectivity (there are more labels as well, but we're going to ignore them for now). A corpus' sentiment is the average of these. Polarity: How positive or negative a word is. -1 is very negative. +1 is very positive. Subjectivity: How subjective, or opinionated a word is. 0 is fact. +1 is very much an opinion. For more info on how TextBlob coded up its sentiment function."
   ]
  }
 ],
 "metadata": {
  "kernelspec": {
   "display_name": "Python 3",
   "language": "python",
   "name": "python3"
  },
  "language_info": {
   "codemirror_mode": {
    "name": "ipython",
    "version": 3
   },
   "file_extension": ".py",
   "mimetype": "text/x-python",
   "name": "python",
   "nbconvert_exporter": "python",
   "pygments_lexer": "ipython3",
   "version": "3.6.9"
  }
 },
 "nbformat": 4,
 "nbformat_minor": 4
}
