{
  "nbformat": 4,
  "nbformat_minor": 0,
  "metadata": {
    "kernelspec": {
      "display_name": "Python 3",
      "language": "python",
      "name": "python3"
    },
    "language_info": {
      "codemirror_mode": {
        "name": "ipython",
        "version": 3
      },
      "file_extension": ".py",
      "mimetype": "text/x-python",
      "name": "python",
      "nbconvert_exporter": "python",
      "pygments_lexer": "ipython3",
      "version": "3.6.5"
    },
    "colab": {
      "name": "advanced_nlp.ipynb",
      "provenance": [],
      "include_colab_link": true
    }
  },
  "cells": [
    {
      "cell_type": "markdown",
      "metadata": {
        "id": "view-in-github",
        "colab_type": "text"
      },
      "source": [
        "<a href=\"https://colab.research.google.com/github/pitaconsumer/Jupyter-Projects/blob/master/advanced_nlp_Twenty%20News%20Groups.ipynb\" target=\"_parent\"><img src=\"https://colab.research.google.com/assets/colab-badge.svg\" alt=\"Open In Colab\"/></a>"
      ]
    },
    {
      "cell_type": "markdown",
      "metadata": {
        "id": "pz4IM_865k8J",
        "colab_type": "text"
      },
      "source": [
        "# Topic Extraction Challenge\n",
        "### Comparing LSA, LDA, and NNMF\n",
        "\n",
        "#### Dataset: 20 newsgroups\n",
        "\n",
        "#### Method:\n",
        "1.  Parse and process the data into a tf-idf matrix.\n",
        "2.  Fit LSA, LDA, and NNMF models with 5 topics each.\n",
        "3.  Extract the words that best describe each topic.\n",
        "4.  Examine the topic relationships for top words."
      ]
    },
    {
      "cell_type": "code",
      "metadata": {
        "id": "kmw3osFL5k8N",
        "colab_type": "code",
        "colab": {
          "base_uri": "https://localhost:8080/",
          "height": 71
        },
        "outputId": "ef20554a-82f2-4c01-b365-d45ee87b9a6b"
      },
      "source": [
        "import pandas as pd\n",
        "import numpy as np\n",
        "import scipy\n",
        "\n",
        "import spacy\n",
        "import nltk\n",
        "import re\n",
        "\n",
        "import matplotlib.pyplot as plt\n",
        "import seaborn as sns\n",
        "\n",
        "from sklearn.feature_extraction.text import TfidfVectorizer\n",
        "np.random.seed(27)"
      ],
      "execution_count": null,
      "outputs": [
        {
          "output_type": "stream",
          "text": [
            "/usr/local/lib/python3.6/dist-packages/statsmodels/tools/_testing.py:19: FutureWarning: pandas.util.testing is deprecated. Use the functions in the public API at pandas.testing instead.\n",
            "  import pandas.util.testing as tm\n"
          ],
          "name": "stderr"
        }
      ]
    },
    {
      "cell_type": "code",
      "metadata": {
        "id": "6yLjslVo5k8a",
        "colab_type": "code",
        "colab": {}
      },
      "source": [
        "# setting up default plotting parameters\n",
        "%matplotlib inline\n",
        "\n",
        "plt.rcParams['figure.figsize'] = [20.0, 7.0]\n",
        "plt.rcParams.update({'font.size': 22,})\n",
        "\n",
        "sns.set_palette('Set2')\n",
        "sns.set_style('white')\n",
        "sns.set_context('talk', font_scale=0.8)"
      ],
      "execution_count": null,
      "outputs": []
    },
    {
      "cell_type": "code",
      "metadata": {
        "id": "TuV7zrqS5k8n",
        "colab_type": "code",
        "colab": {
          "base_uri": "https://localhost:8080/",
          "height": 51
        },
        "outputId": "f85eedeb-bc73-485a-8482-e0ece9f7ee3c"
      },
      "source": [
        "#Loading the data set - training data.\n",
        "from sklearn.datasets import fetch_20newsgroups\n",
        "newsgroups = fetch_20newsgroups(shuffle=True, remove=('headers', 'footers'))"
      ],
      "execution_count": null,
      "outputs": [
        {
          "output_type": "stream",
          "text": [
            "Downloading 20news dataset. This may take a few minutes.\n",
            "Downloading dataset from https://ndownloader.figshare.com/files/5975967 (14 MB)\n"
          ],
          "name": "stderr"
        }
      ]
    },
    {
      "cell_type": "code",
      "metadata": {
        "id": "oYceasWc5k8-",
        "colab_type": "code",
        "colab": {
          "base_uri": "https://localhost:8080/",
          "height": 34
        },
        "outputId": "63c1fdf1-50c3-4cb0-b7ed-2ab3f248a3c9"
      },
      "source": [
        "type(newsgroups)"
      ],
      "execution_count": null,
      "outputs": [
        {
          "output_type": "execute_result",
          "data": {
            "text/plain": [
              "sklearn.utils.Bunch"
            ]
          },
          "metadata": {
            "tags": []
          },
          "execution_count": 4
        }
      ]
    },
    {
      "cell_type": "code",
      "metadata": {
        "id": "rlNhAK6o5k9m",
        "colab_type": "code",
        "colab": {
          "base_uri": "https://localhost:8080/",
          "height": 34
        },
        "outputId": "d7fee6de-cffc-47ca-b72c-f417b403fa99"
      },
      "source": [
        "newsgroups.keys()"
      ],
      "execution_count": null,
      "outputs": [
        {
          "output_type": "execute_result",
          "data": {
            "text/plain": [
              "dict_keys(['data', 'filenames', 'target_names', 'target', 'DESCR'])"
            ]
          },
          "metadata": {
            "tags": []
          },
          "execution_count": 5
        }
      ]
    },
    {
      "cell_type": "code",
      "metadata": {
        "id": "yQq2i-1j5k9_",
        "colab_type": "code",
        "colab": {
          "base_uri": "https://localhost:8080/",
          "height": 357
        },
        "outputId": "31480530-2ea2-43b1-e43e-3b6a820632a7"
      },
      "source": [
        "newsgroups.target_names"
      ],
      "execution_count": null,
      "outputs": [
        {
          "output_type": "execute_result",
          "data": {
            "text/plain": [
              "['alt.atheism',\n",
              " 'comp.graphics',\n",
              " 'comp.os.ms-windows.misc',\n",
              " 'comp.sys.ibm.pc.hardware',\n",
              " 'comp.sys.mac.hardware',\n",
              " 'comp.windows.x',\n",
              " 'misc.forsale',\n",
              " 'rec.autos',\n",
              " 'rec.motorcycles',\n",
              " 'rec.sport.baseball',\n",
              " 'rec.sport.hockey',\n",
              " 'sci.crypt',\n",
              " 'sci.electronics',\n",
              " 'sci.med',\n",
              " 'sci.space',\n",
              " 'soc.religion.christian',\n",
              " 'talk.politics.guns',\n",
              " 'talk.politics.mideast',\n",
              " 'talk.politics.misc',\n",
              " 'talk.religion.misc']"
            ]
          },
          "metadata": {
            "tags": []
          },
          "execution_count": 6
        }
      ]
    },
    {
      "cell_type": "code",
      "metadata": {
        "id": "EKWF8rdo5k-m",
        "colab_type": "code",
        "colab": {
          "base_uri": "https://localhost:8080/",
          "height": 204
        },
        "outputId": "8016ef6a-f13f-4ea0-8cb3-1183e4309213"
      },
      "source": [
        "df = pd.DataFrame(newsgroups.data, newsgroups.target).reset_index()\n",
        "df.columns = ['target', 'data']\n",
        "df.head()"
      ],
      "execution_count": null,
      "outputs": [
        {
          "output_type": "execute_result",
          "data": {
            "text/html": [
              "<div>\n",
              "<style scoped>\n",
              "    .dataframe tbody tr th:only-of-type {\n",
              "        vertical-align: middle;\n",
              "    }\n",
              "\n",
              "    .dataframe tbody tr th {\n",
              "        vertical-align: top;\n",
              "    }\n",
              "\n",
              "    .dataframe thead th {\n",
              "        text-align: right;\n",
              "    }\n",
              "</style>\n",
              "<table border=\"1\" class=\"dataframe\">\n",
              "  <thead>\n",
              "    <tr style=\"text-align: right;\">\n",
              "      <th></th>\n",
              "      <th>target</th>\n",
              "      <th>data</th>\n",
              "    </tr>\n",
              "  </thead>\n",
              "  <tbody>\n",
              "    <tr>\n",
              "      <th>0</th>\n",
              "      <td>7</td>\n",
              "      <td>I was wondering if anyone out there could enli...</td>\n",
              "    </tr>\n",
              "    <tr>\n",
              "      <th>1</th>\n",
              "      <td>4</td>\n",
              "      <td>A fair number of brave souls who upgraded thei...</td>\n",
              "    </tr>\n",
              "    <tr>\n",
              "      <th>2</th>\n",
              "      <td>4</td>\n",
              "      <td>well folks, my mac plus finally gave up the gh...</td>\n",
              "    </tr>\n",
              "    <tr>\n",
              "      <th>3</th>\n",
              "      <td>1</td>\n",
              "      <td>Robert J.C. Kyanko (rob@rjck.UUCP) wrote:\\n&gt; a...</td>\n",
              "    </tr>\n",
              "    <tr>\n",
              "      <th>4</th>\n",
              "      <td>14</td>\n",
              "      <td>From article &lt;C5owCB.n3p@world.std.com&gt;, by to...</td>\n",
              "    </tr>\n",
              "  </tbody>\n",
              "</table>\n",
              "</div>"
            ],
            "text/plain": [
              "   target                                               data\n",
              "0       7  I was wondering if anyone out there could enli...\n",
              "1       4  A fair number of brave souls who upgraded thei...\n",
              "2       4  well folks, my mac plus finally gave up the gh...\n",
              "3       1  Robert J.C. Kyanko (rob@rjck.UUCP) wrote:\\n> a...\n",
              "4      14  From article <C5owCB.n3p@world.std.com>, by to..."
            ]
          },
          "metadata": {
            "tags": []
          },
          "execution_count": 7
        }
      ]
    },
    {
      "cell_type": "code",
      "metadata": {
        "id": "ekdZPo5R5k_P",
        "colab_type": "code",
        "colab": {
          "base_uri": "https://localhost:8080/",
          "height": 69
        },
        "outputId": "d3d4882d-92f5-412e-85e2-15482661d425"
      },
      "source": [
        "sample_data = df.iloc[0,1]\n",
        "sample_data"
      ],
      "execution_count": null,
      "outputs": [
        {
          "output_type": "execute_result",
          "data": {
            "application/vnd.google.colaboratory.intrinsic": {
              "type": "string"
            },
            "text/plain": [
              "'I was wondering if anyone out there could enlighten me on this car I saw\\nthe other day. It was a 2-door sports car, looked to be from the late 60s/\\nearly 70s. It was called a Bricklin. The doors were really small. In addition,\\nthe front bumper was separate from the rest of the body. This is \\nall I know. If anyone can tellme a model name, engine specs, years\\nof production, where this car is made, history, or whatever info you\\nhave on this funky looking car, please e-mail.'"
            ]
          },
          "metadata": {
            "tags": []
          },
          "execution_count": 8
        }
      ]
    },
    {
      "cell_type": "code",
      "metadata": {
        "id": "x330pHlp5k_U",
        "colab_type": "code",
        "colab": {}
      },
      "source": [
        "contractions = {\n",
        "\"ain't\": \"is not\",\n",
        "\"aren't\": \"are not\",\n",
        "\"can't\": \"cannot\",\n",
        "\"can't've\": \"cannot have\",\n",
        "\"'cause\": \"because\",\n",
        "\"could've\": \"could have\",\n",
        "\"couldn't\": \"could not\",\n",
        "\"couldn't've\": \"could not have\",\n",
        "\"didn't\": \"did not\",\n",
        "\"doesn't\": \"does not\",\n",
        "\"don't\": \"do not\",\n",
        "\"hadn't\": \"had not\",\n",
        "\"hadn't've\": \"had not have\",\n",
        "\"hasn't\": \"has not\",\n",
        "\"haven't\": \"have not\",\n",
        "\"he'd\": \"he would\",\n",
        "\"he'd've\": \"he would have\",\n",
        "\"he'll\": \"he will\",\n",
        "\"he'll've\": \"he he will have\",\n",
        "\"he's\": \"he is\",\n",
        "\"how'd\": \"how did\",\n",
        "\"how'd'y\": \"how do you\",\n",
        "\"how'll\": \"how will\",\n",
        "\"how's\": \"how is\",\n",
        "\"I'd\": \"I would\",\n",
        "\"I'd've\": \"I would have\",\n",
        "\"I'll\": \"I will\",\n",
        "\"I'll've\": \"I will have\",\n",
        "\"I'm\": \"I am\",\n",
        "\"I've\": \"I have\",\n",
        "\"i'd\": \"i would\",\n",
        "\"i'd've\": \"i would have\",\n",
        "\"i'll\": \"i will\",\n",
        "\"i'll've\": \"i will have\",\n",
        "\"i'm\": \"i am\",\n",
        "\"i've\": \"i have\",\n",
        "\"isn't\": \"is not\",\n",
        "\"it'd\": \"it would\",\n",
        "\"it'd've\": \"it would have\",\n",
        "\"it'll\": \"it will\",\n",
        "\"it'll've\": \"it will have\",\n",
        "\"it's\": \"it is\",\n",
        "\"let's\": \"let us\",\n",
        "\"ma'am\": \"madam\",\n",
        "\"mayn't\": \"may not\",\n",
        "\"might've\": \"might have\",\n",
        "\"mightn't\": \"might not\",\n",
        "\"mightn't've\": \"might not have\",\n",
        "\"must've\": \"must have\",\n",
        "\"mustn't\": \"must not\",\n",
        "\"mustn't've\": \"must not have\",\n",
        "\"needn't\": \"need not\",\n",
        "\"needn't've\": \"need not have\",\n",
        "\"o'clock\": \"of the clock\",\n",
        "\"oughtn't\": \"ought not\",\n",
        "\"oughtn't've\": \"ought not have\",\n",
        "\"shan't\": \"shall not\",\n",
        "\"sha'n't\": \"shall not\",\n",
        "\"shan't've\": \"shall not have\",\n",
        "\"she'd\": \"she would\",\n",
        "\"she'd've\": \"she would have\",\n",
        "\"she'll\": \"she will\",\n",
        "\"she'll've\": \"she will have\",\n",
        "\"she's\": \"she is\",\n",
        "\"should've\": \"should have\",\n",
        "\"shouldn't\": \"should not\",\n",
        "\"shouldn't've\": \"should not have\",\n",
        "\"so've\": \"so have\",\n",
        "\"so's\": \"so as\",\n",
        "\"that'd\": \"that would\",\n",
        "\"that'd've\": \"that would have\",\n",
        "\"that's\": \"that is\",\n",
        "\"there'd\": \"there would\",\n",
        "\"there'd've\": \"there would have\",\n",
        "\"there's\": \"there is\",\n",
        "\"they'd\": \"they would\",\n",
        "\"they'd've\": \"they would have\",\n",
        "\"they'll\": \"they will\",\n",
        "\"they'll've\": \"they will have\",\n",
        "\"they're\": \"they are\",\n",
        "\"they've\": \"they have\",\n",
        "\"to've\": \"to have\",\n",
        "\"wasn't\": \"was not\",\n",
        "\"we'd\": \"we would\",\n",
        "\"we'd've\": \"we would have\",\n",
        "\"we'll\": \"we will\",\n",
        "\"we'll've\": \"we will have\",\n",
        "\"we're\": \"we are\",\n",
        "\"we've\": \"we have\",\n",
        "\"weren't\": \"were not\",\n",
        "\"what'll\": \"what will\",\n",
        "\"what'll've\": \"what will have\",\n",
        "\"what're\": \"what are\",\n",
        "\"what's\": \"what is\",\n",
        "\"what've\": \"what have\",\n",
        "\"when's\": \"when is\",\n",
        "\"when've\": \"when have\",\n",
        "\"where'd\": \"where did\",\n",
        "\"where's\": \"where is\",\n",
        "\"where've\": \"where have\",\n",
        "\"who'll\": \"who will\",\n",
        "\"who'll've\": \"who will have\",\n",
        "\"who's\": \"who is\",\n",
        "\"who've\": \"who have\",\n",
        "\"why's\": \"why is\",\n",
        "\"why've\": \"why have\",\n",
        "\"will've\": \"will have\",\n",
        "\"won't\": \"will not\",\n",
        "\"won't've\": \"will not have\",\n",
        "\"would've\": \"would have\",\n",
        "\"wouldn't\": \"would not\",\n",
        "\"wouldn't've\": \"would not have\",\n",
        "\"y'all\": \"you all\",\n",
        "\"y'all'd\": \"you all would\",\n",
        "\"y'all'd've\": \"you all would have\",\n",
        "\"y'all're\": \"you all are\",\n",
        "\"y'all've\": \"you all have\",\n",
        "\"you'd\": \"you would\",\n",
        "\"you'd've\": \"you would have\",\n",
        "\"you'll\": \"you will\",\n",
        "\"you'll've\": \"you will have\",\n",
        "\"you're\": \"you are\",\n",
        "\"you've\": \"you have\"\n",
        "}\n",
        "\n",
        "c_re = re.compile('(%s)' % '|'.join(contractions.keys()))\n",
        "\n",
        "def expandContractions(text, c_re=c_re):\n",
        "    def replace(match):\n",
        "        return contractions[match.group(0)]\n",
        "    return c_re.sub(replace, text)"
      ],
      "execution_count": null,
      "outputs": []
    },
    {
      "cell_type": "code",
      "metadata": {
        "id": "gq9swFhr5k_d",
        "colab_type": "code",
        "colab": {
          "base_uri": "https://localhost:8080/",
          "height": 119
        },
        "outputId": "a1ae4561-9685-46e4-9845-fc5e6b4e181b"
      },
      "source": [
        "from gensim.parsing.preprocessing import preprocess_string\n",
        "from gensim.parsing.preprocessing import strip_tags, strip_punctuation, strip_numeric\n",
        "from gensim.parsing.preprocessing import strip_multiple_whitespaces, strip_non_alphanum, remove_stopwords, strip_short\n",
        "\n",
        "CUSTOM_FILTERS = [lambda x: x.lower(), #lowercase\n",
        "                  strip_tags, # remove html tags\n",
        "                  strip_punctuation, # replace punctuation with space\n",
        "                  strip_multiple_whitespaces,# remove repeating whitespaces\n",
        "                  strip_non_alphanum, # remove non-alphanumeric characters\n",
        "                  strip_numeric, # remove numbers\n",
        "                  remove_stopwords,# remove stopwords\n",
        "                  strip_short # remove words less than minsize=3 characters long\n",
        "                 ]\n",
        "nlp = spacy.load('en')\n",
        "\n",
        "def gensim_preprocess(docs, logging=True):\n",
        "    docs = [expandContractions(doc) for doc in docs]\n",
        "    docs = [preprocess_string(text, CUSTOM_FILTERS) for text in docs]\n",
        "    texts_out = []\n",
        "    for doc in docs:\n",
        "    # https://spacy.io/usage/processing-pipelines\n",
        "        doc = nlp((\" \".join(doc)),  # doc = text to tokenize => creates doc\n",
        "                  # disable parts of the language processing pipeline we don't need here to speed up processing\n",
        "                  disable=['ner', # named entity recognition\n",
        "                           'tagger', # part-of-speech tagger\n",
        "                           'textcat', # document label categorizer\n",
        "                          ])\n",
        "        texts_out.append([tok.lemma_ for tok in doc if tok.lemma_ != '-PRON-'])\n",
        "    return pd.Series(texts_out)\n",
        "\n",
        "gensim_preprocess(df.data.iloc[10:15])"
      ],
      "execution_count": null,
      "outputs": [
        {
          "output_type": "execute_result",
          "data": {
            "text/plain": [
              "0    [line, ducati, gts, model, clock, run, paint, ...\n",
              "1    [article, freenet, carleton, freenet, carleton...\n",
              "2                                                   []\n",
              "3    [article, kjenks, gothamcity, jsc, nasa, gov, ...\n",
              "4    [reduce, price, list, thing, forsale, behalf, ...\n",
              "dtype: object"
            ]
          },
          "metadata": {
            "tags": []
          },
          "execution_count": 10
        }
      ]
    },
    {
      "cell_type": "code",
      "metadata": {
        "id": "7pqr_b1X5k_h",
        "colab_type": "code",
        "colab": {}
      },
      "source": [
        "texts = gensim_preprocess(df.data)"
      ],
      "execution_count": null,
      "outputs": []
    },
    {
      "cell_type": "code",
      "metadata": {
        "id": "QFElVPXo5k_l",
        "colab_type": "code",
        "colab": {
          "base_uri": "https://localhost:8080/",
          "height": 52
        },
        "outputId": "9d43c487-b15a-4134-cc51-e37efb108fc2"
      },
      "source": [
        "texts = [' '.join(text) for text in texts]\n",
        "texts[0]"
      ],
      "execution_count": null,
      "outputs": [
        {
          "output_type": "execute_result",
          "data": {
            "application/vnd.google.colaboratory.intrinsic": {
              "type": "string"
            },
            "text/plain": [
              "'wonder enlighten car see day door sport car look late early call bricklin door small addition bumper separate rest body know tellme model engine spec year production car history info funky look car mail'"
            ]
          },
          "metadata": {
            "tags": []
          },
          "execution_count": 12
        }
      ]
    },
    {
      "cell_type": "code",
      "metadata": {
        "id": "OR9iaIh75k_s",
        "colab_type": "code",
        "colab": {}
      },
      "source": [
        "# sklearn tfidf\n",
        "vectorizer = TfidfVectorizer()\n",
        "sklearn_tfidf = vectorizer.fit_transform(texts)\n",
        "\n",
        "# Getting the word list.\n",
        "terms = vectorizer.get_feature_names()\n",
        "\n",
        "# Number of topics.\n",
        "ntopics=len(newsgroups.target_names)\n",
        "\n",
        "# Linking words to topics\n",
        "def word_topic(tfidf, solution, wordlist):\n",
        "    \n",
        "    # Loading scores for each word on each topic/component.\n",
        "    words_by_topic=tfidf.T * solution\n",
        "\n",
        "    # Linking the loadings to the words in an easy-to-read way.\n",
        "    components=pd.DataFrame(words_by_topic,index=wordlist)\n",
        "    \n",
        "    return components\n",
        "\n",
        "# Extracts the top N words and their loadings for each topic.\n",
        "def top_words(components, n_top_words):\n",
        "    n_topics = range(components.shape[1])\n",
        "    index= np.repeat(n_topics, n_top_words, axis=0)\n",
        "    topwords=pd.Series(index=index)\n",
        "    for column in range(components.shape[1]):\n",
        "        # Sort the column so that highest loadings are at the top.\n",
        "        sortedwords=components.iloc[:,column].sort_values(ascending=False)\n",
        "        # Choose the N highest loadings.\n",
        "        chosen=sortedwords[:n_top_words]\n",
        "        # Combine loading and index into a string.\n",
        "        chosenlist=chosen.index +\" \"+round(chosen,2).map(str) \n",
        "        topwords.loc[column]=chosenlist\n",
        "    return(topwords)\n",
        "\n",
        "# Number of words to look at for each topic.\n",
        "n_top_words = 10"
      ],
      "execution_count": null,
      "outputs": []
    },
    {
      "cell_type": "code",
      "metadata": {
        "id": "CXtWzqqp-gkz",
        "colab_type": "code",
        "colab": {}
      },
      "source": [
        "def top_words(components, n_top_words=10):\n",
        "  n_topics = components.shape[1]\n",
        "  len_vectors = (sum([components[i]**2 for i in range(n_topics)])/n_topics)**(1/2)\n",
        "  return len_vectors.sort_values(ascending=False).head(n_top_words)"
      ],
      "execution_count": null,
      "outputs": []
    },
    {
      "cell_type": "code",
      "metadata": {
        "id": "jmWKMjtq7Ef1",
        "colab_type": "code",
        "colab": {}
      },
      "source": [
        "components_lsa['len_vectors'] = (sum([components_lsa[i]**2 for i in range(20)])/20)**(1/2)"
      ],
      "execution_count": null,
      "outputs": []
    },
    {
      "cell_type": "code",
      "metadata": {
        "id": "X0ukrq_X9qE5",
        "colab_type": "code",
        "colab": {
          "base_uri": "https://localhost:8080/",
          "height": 204
        },
        "outputId": "f8fac38f-599e-4553-e21d-0fcbd593bc12"
      },
      "source": [
        "components_lsa['len_vectors'].sort_values(ascending=False).head(10)"
      ],
      "execution_count": null,
      "outputs": [
        {
          "output_type": "execute_result",
          "data": {
            "text/plain": [
              "write      33.876959\n",
              "article    28.753848\n",
              "edu        26.087673\n",
              "know       25.119134\n",
              "window     23.438915\n",
              "think      22.941192\n",
              "people     22.726494\n",
              "like       22.680278\n",
              "god        21.032934\n",
              "thank      19.562509\n",
              "Name: len_vectors, dtype: float64"
            ]
          },
          "metadata": {
            "tags": []
          },
          "execution_count": 30
        }
      ]
    },
    {
      "cell_type": "code",
      "metadata": {
        "id": "tLRvuFvs5k_w",
        "colab_type": "code",
        "colab": {
          "base_uri": "https://localhost:8080/",
          "height": 51
        },
        "outputId": "4307338b-dbed-4411-c457-95cd69cffb3b"
      },
      "source": [
        "# LSA\n",
        "\n",
        "from sklearn.decomposition import TruncatedSVD\n",
        "from sklearn.pipeline import make_pipeline\n",
        "from sklearn.preprocessing import Normalizer\n",
        "\n",
        "svd= TruncatedSVD(ntopics)\n",
        "lsa = make_pipeline(svd, Normalizer(copy=False))\n",
        "%time lsa = lsa.fit_transform(sklearn_tfidf)\n",
        "\n",
        "components_lsa = word_topic(sklearn_tfidf, lsa, terms)\n",
        "\n",
        "\n",
        "topwords_lsa=top_words(components_lsa, n_top_words)                \n"
      ],
      "execution_count": null,
      "outputs": [
        {
          "output_type": "stream",
          "text": [
            "CPU times: user 1.4 s, sys: 828 ms, total: 2.23 s\n",
            "Wall time: 1.19 s\n"
          ],
          "name": "stdout"
        }
      ]
    },
    {
      "cell_type": "code",
      "metadata": {
        "id": "4JfaRaNs5k_0",
        "colab_type": "code",
        "colab": {
          "base_uri": "https://localhost:8080/",
          "height": 68
        },
        "outputId": "8293b8ce-8300-4b4b-ac76-c3a2c2b4cb35"
      },
      "source": [
        "# LDA\n",
        "from sklearn.decomposition import LatentDirichletAllocation as LDA\n",
        "\n",
        "lda = LDA(n_components=ntopics, \n",
        "          doc_topic_prior=None, # Prior = 1/n_documents\n",
        "          topic_word_prior=1/ntopics,\n",
        "          learning_decay=0.7,# Convergence rate.\n",
        "          learning_method='online',\n",
        "          learning_offset=10.0, # Causes earlier iterations to have less influence on the learning\n",
        "          max_iter=3, # when to stop even if the model is not converging (to prevent running forever)\n",
        "          evaluate_every=-1, # Do not evaluate perplexity, as it slows training time.\n",
        "          mean_change_tol=0.01, # Stop updating the document topic distribution in the E-step when mean change is < tol\n",
        "          max_doc_update_iter=10, # When to stop updating the document topic distribution in the E-step even if tol is not reached\n",
        "          n_jobs=1, \n",
        "          verbose=1, # amount of output to give while iterating\n",
        "         )\n",
        "\n",
        "lda = lda.fit_transform(sklearn_tfidf) \n",
        "\n",
        "components_lda = word_topic(sklearn_tfidf, lda, terms)\n",
        "\n",
        "topwords_lda=top_words(components_lda, n_top_words)\n"
      ],
      "execution_count": null,
      "outputs": [
        {
          "output_type": "stream",
          "text": [
            "iteration: 1 of max_iter: 3\n",
            "iteration: 2 of max_iter: 3\n",
            "iteration: 3 of max_iter: 3\n"
          ],
          "name": "stdout"
        }
      ]
    },
    {
      "cell_type": "code",
      "metadata": {
        "id": "9Ns0F5DZBNzK",
        "colab_type": "code",
        "colab": {}
      },
      "source": [
        ""
      ],
      "execution_count": null,
      "outputs": []
    },
    {
      "cell_type": "code",
      "metadata": {
        "id": "SDc2vsGO5k_5",
        "colab_type": "code",
        "colab": {
          "base_uri": "https://localhost:8080/",
          "height": 1000
        },
        "outputId": "01216eb7-cd1a-4646-cd0a-0ceceaa95b80"
      },
      "source": [
        "# NNMF\n",
        "\n",
        "from sklearn.decomposition import NMF\n",
        "\n",
        "nmf = NMF(alpha=0.0, \n",
        "          init='nndsvdar', # how starting value are calculated\n",
        "          l1_ratio=0.0, # Sets whether regularization is L2 (0), L1 (1), or a combination (values between 0 and 1)\n",
        "          max_iter=100, # when to stop even if the model is not converging (to prevent running forever)\n",
        "          n_components=ntopics, \n",
        "          random_state=0, \n",
        "          solver='cd', # Use Coordinate Descent to solve\n",
        "          tol=0.0001, # model will stop if tfidf-WH <= tol\n",
        "          verbose=1 # amount of output to give while iterating\n",
        "         )\n",
        "nmf = nmf.fit_transform(sklearn_tfidf) \n",
        "\n",
        "components_nmf = word_topic(sklearn_tfidf, nmf, terms)\n",
        "\n",
        "topwords_nnmf=top_words(components_nmf, n_top_words)"
      ],
      "execution_count": null,
      "outputs": [
        {
          "output_type": "stream",
          "text": [
            "violation: 1.0\n",
            "violation: 0.2283773612569999\n",
            "violation: 0.1382638596839118\n",
            "violation: 0.08107496513051468\n",
            "violation: 0.05080667757632899\n",
            "violation: 0.03464636006394643\n",
            "violation: 0.024825227652870614\n",
            "violation: 0.018376661742979413\n",
            "violation: 0.013989073195384838\n",
            "violation: 0.010838488069557865\n",
            "violation: 0.008549944960634685\n",
            "violation: 0.006875703740423915\n",
            "violation: 0.0056233919409456\n",
            "violation: 0.004666763798720343\n",
            "violation: 0.003921254291026291\n",
            "violation: 0.0033273621090673497\n",
            "violation: 0.00284673392733114\n",
            "violation: 0.002424418029746373\n",
            "violation: 0.002076804636071452\n",
            "violation: 0.0017911805710053006\n",
            "violation: 0.0015530654461051638\n",
            "violation: 0.001353477223160911\n",
            "violation: 0.0011855481211926263\n",
            "violation: 0.001046366670048577\n",
            "violation: 0.0009292235501796375\n",
            "violation: 0.0008307798042798073\n",
            "violation: 0.0007476936570654291\n",
            "violation: 0.0006773659076018604\n",
            "violation: 0.0006180674371085537\n",
            "violation: 0.0005684532479927267\n",
            "violation: 0.0005264726577142192\n",
            "violation: 0.0004905765895595424\n",
            "violation: 0.0004593970626127224\n",
            "violation: 0.0004318361408859049\n",
            "violation: 0.00040716778178310684\n",
            "violation: 0.00038510411437001036\n",
            "violation: 0.0003652280603486921\n",
            "violation: 0.0003470716932914081\n",
            "violation: 0.00033054749751473616\n",
            "violation: 0.0003148210424724747\n",
            "violation: 0.0002997948575546736\n",
            "violation: 0.00028577222023208046\n",
            "violation: 0.0002725490372654099\n",
            "violation: 0.00025981645226056245\n",
            "violation: 0.000248050856407863\n",
            "violation: 0.0002367604751706683\n",
            "violation: 0.00022595900713129693\n",
            "violation: 0.00021562416889586456\n",
            "violation: 0.00020568059139808659\n",
            "violation: 0.00019620377962521851\n",
            "violation: 0.00018711464655609382\n",
            "violation: 0.00017834817606059416\n",
            "violation: 0.00016987914038282264\n",
            "violation: 0.00016172616453872794\n",
            "violation: 0.00015389230396409232\n",
            "violation: 0.00014637313015172942\n",
            "violation: 0.0001391196567144932\n",
            "violation: 0.00013216744431130786\n",
            "violation: 0.00012548947869806996\n",
            "violation: 0.00011910131865693135\n",
            "violation: 0.00011301617943856876\n",
            "violation: 0.00010721277978556657\n",
            "violation: 0.00010166006698638368\n",
            "violation: 9.638124287973469e-05\n",
            "Converged at iteration 64\n"
          ],
          "name": "stdout"
        }
      ]
    },
    {
      "cell_type": "code",
      "metadata": {
        "id": "n4_vm7j0C7sx",
        "colab_type": "code",
        "colab": {}
      },
      "source": [
        "topwords_lsa.name = 'LSA'\n",
        "topwords_lda.name = 'LDA'\n",
        "topwords_nnmf.name = 'NNMF'"
      ],
      "execution_count": null,
      "outputs": []
    },
    {
      "cell_type": "code",
      "metadata": {
        "id": "L2SRD43BCQAu",
        "colab_type": "code",
        "colab": {}
      },
      "source": [
        "topwords = pd.concat([topwords_lda, topwords_lsa, topwords_nnmf], axis='columns')"
      ],
      "execution_count": null,
      "outputs": []
    },
    {
      "cell_type": "code",
      "metadata": {
        "id": "312HIVlw5lAA",
        "colab_type": "code",
        "colab": {
          "base_uri": "https://localhost:8080/",
          "height": 34
        },
        "outputId": "a5050541-1234-4ca3-eeeb-72991864b846"
      },
      "source": [
        "len(newsgroups.target_names)"
      ],
      "execution_count": null,
      "outputs": [
        {
          "output_type": "execute_result",
          "data": {
            "text/plain": [
              "20"
            ]
          },
          "metadata": {
            "tags": []
          },
          "execution_count": 55
        }
      ]
    },
    {
      "cell_type": "code",
      "metadata": {
        "id": "zRLWvK9dELD7",
        "colab_type": "code",
        "colab": {
          "base_uri": "https://localhost:8080/",
          "height": 164
        },
        "outputId": "2da4092b-5c4f-4f83-8b8a-32e730414492"
      },
      "source": [
        ""
      ],
      "execution_count": null,
      "outputs": [
        {
          "output_type": "error",
          "ename": "NameError",
          "evalue": "ignored",
          "traceback": [
            "\u001b[0;31m---------------------------------------------------------------------------\u001b[0m",
            "\u001b[0;31mNameError\u001b[0m                                 Traceback (most recent call last)",
            "\u001b[0;32m<ipython-input-56-8c921926fa32>\u001b[0m in \u001b[0;36m<module>\u001b[0;34m()\u001b[0m\n\u001b[0;32m----> 1\u001b[0;31m \u001b[0mtargetwords\u001b[0m\u001b[0;34m\u001b[0m\u001b[0;34m\u001b[0m\u001b[0m\n\u001b[0m",
            "\u001b[0;31mNameError\u001b[0m: name 'targetwords' is not defined"
          ]
        }
      ]
    },
    {
      "cell_type": "code",
      "metadata": {
        "scrolled": false,
        "id": "eCGKb-mc5lAD",
        "colab_type": "code",
        "colab": {
          "base_uri": "https://localhost:8080/",
          "height": 1000
        },
        "outputId": "a57e62fe-d468-4e56-a735-27ba3ace444c"
      },
      "source": [
        "# The words to look at.\n",
        "targetwords=['write','encryption','game', 'god', 'driver']\n",
        "\n",
        "# Storing the loadings.\n",
        "wordloadings=pd.DataFrame(columns=targetwords)\n",
        "\n",
        "# For each word, extracting and string the loadings for each method.\n",
        "for word in targetwords:\n",
        "    loadings=components_lsa.loc[word].append(\n",
        "        components_lda.loc[word]).append(\n",
        "            components_nmf.loc[word])\n",
        "    wordloadings[word]=loadings\n",
        "\n",
        "# Labeling the data by method and providing an ordering variable for graphing purposes. \n",
        "wordloadings['method']=np.repeat(['LSA','LDA','NNMF'], len(newsgroups.target_names), axis=0)\n",
        "wordloadings['loading']=[0,1,2,3,4,5,6,7,8,9,10,11,12,13,14,15,16,17,18,19]*3\n",
        "\n",
        "sns.set(style=\"darkgrid\")\n",
        "\n",
        "for word in targetwords:\n",
        "    sns.barplot(x=\"method\", y=word, hue=\"loading\", data=wordloadings)\n",
        "    plt.title(word)\n",
        "    plt.ylabel(\"\")\n",
        "    plt.show()"
      ],
      "execution_count": null,
      "outputs": [
        {
          "output_type": "display_data",
          "data": {
            "image/png": "[encoded data removed]",
            "text/plain": [
              "<Figure size 1440x504 with 1 Axes>"
            ]
          },
          "metadata": {
            "tags": []
          }
        },
        {
          "output_type": "display_data",
          "data": {
            "image/png": "[encoded data removed]",
            "text/plain": [
              "<Figure size 1440x504 with 1 Axes>"
            ]
          },
          "metadata": {
            "tags": []
          }
        },
        {
          "output_type": "display_data",
          "data": {
            "image/png": "[encoded data removed]",
            "text/plain": [
              "<Figure size 1440x504 with 1 Axes>"
            ]
          },
          "metadata": {
            "tags": []
          }
        },
        {
          "output_type": "display_data",
          "data": {
            "image/png": "[encoded data removed]",
            "text/plain": [
              "<Figure size 1440x504 with 1 Axes>"
            ]
          },
          "metadata": {
            "tags": []
          }
        },
        {
          "output_type": "display_data",
          "data": {
            "image/png": "[encoded data removed]",
            "text/plain": [
              "<Figure size 1440x504 with 1 Axes>"
            ]
          },
          "metadata": {
            "tags": []
          }
        }
      ]
    },
    {
      "cell_type": "markdown",
      "metadata": {
        "id": "wYtBHspP5lAH",
        "colab_type": "text"
      },
      "source": [
        "LSA is the method most likely to have high loadings on more than one topic for the same word. LDA tends to have one high loading and some lower loadings. Loadings for NNMF are lower all around, and the most sparse, with some of the topics having loadings of zero on each word.\n",
        "\n",
        "According to [NLP for Hackers](https://nlpforhackers.io/topic-modeling/) topic modeling is:\n",
        "\n",
        " - Dimensinality Reduction - We reduce dimensionality by representing a text in its topic space instead of its word space.\n",
        " - Unsupervised Learning - Topic modeling is similar to clustering.\n",
        " - A Form of Tagging - Topic modeling applys multiple tags to a text. (Similar to the tags applied to this kernel above!)\n",
        "\n",
        "Topic modeling is useful for many situations, including text classification."
      ]
    },
    {
      "cell_type": "code",
      "metadata": {
        "id": "Yvop-lQ65lAJ",
        "colab_type": "code",
        "colab": {}
      },
      "source": [
        ""
      ],
      "execution_count": null,
      "outputs": []
    }
  ]
}