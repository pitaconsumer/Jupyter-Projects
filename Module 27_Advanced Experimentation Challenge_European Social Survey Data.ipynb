{
 "cells": [
  {
   "cell_type": "markdown",
   "metadata": {},
   "source": [
    "# European Social Survey"
   ]
  },
  {
   "cell_type": "code",
   "execution_count": 31,
   "metadata": {},
   "outputs": [],
   "source": [
    "import itertools\n",
    "import pandas as pd\n",
    "import numpy as np\n",
    "import matplotlib.pyplot as plt\n",
    "%matplotlib inline\n",
    "from scipy import stats\n",
    "\n",
    "from sklearn.metrics import confusion_matrix, precision_score, recall_score\n",
    "from sklearn import ensemble"
   ]
  },
  {
   "cell_type": "code",
   "execution_count": 32,
   "metadata": {},
   "outputs": [],
   "source": [
    "df = pd.read_csv((\n",
    "    \"https://raw.githubusercontent.com/Thinkful-Ed/data-201-resources/\"\n",
    "    \"master/ESS_practice_data/ESSdata_Thinkful.csv\")).dropna()\n",
    "\n",
    "# Definine outcome and predictors.\n",
    "# Set our outcome to 0 and 1.\n",
    "y = df['partner'] - 1\n",
    "X = df.loc[:, ~df.columns.isin(['partner', 'cntry', 'idno'])]\n",
    "\n",
    "# Make the categorical variable 'country' into dummies.\n",
    "X = pd.concat([X, pd.get_dummies(df['cntry'])], axis=1)\n",
    "\n",
    "# Create training and test sets.\n",
    "offset = int(X.shape[0] * 0.8)\n",
    "\n",
    "# Put 80% of the data in the training set.\n",
    "X_train, y_train = X[:offset], y[:offset]\n",
    "\n",
    "# And put 20% in the test set.\n",
    "X_test, y_test = X[offset:], y[offset:]"
   ]
  },
  {
   "cell_type": "code",
   "execution_count": 3,
   "metadata": {},
   "outputs": [
    {
     "name": "stdout",
     "output_type": "stream",
     "text": [
      "<class 'pandas.core.frame.DataFrame'>\n",
      "Int64Index: 8147 entries, 0 to 8593\n",
      "Data columns (total 13 columns):\n",
      "cntry      8147 non-null object\n",
      "idno       8147 non-null float64\n",
      "year       8147 non-null int64\n",
      "tvtot      8147 non-null float64\n",
      "ppltrst    8147 non-null float64\n",
      "pplfair    8147 non-null float64\n",
      "pplhlp     8147 non-null float64\n",
      "happy      8147 non-null float64\n",
      "sclmeet    8147 non-null float64\n",
      "sclact     8147 non-null float64\n",
      "gndr       8147 non-null float64\n",
      "agea       8147 non-null float64\n",
      "partner    8147 non-null float64\n",
      "dtypes: float64(11), int64(1), object(1)\n",
      "memory usage: 891.1+ KB\n"
     ]
    }
   ],
   "source": [
    "df.info()"
   ]
  },
  {
   "cell_type": "code",
   "execution_count": 4,
   "metadata": {},
   "outputs": [
    {
     "data": {
      "text/html": [
       "<div>\n",
       "<style scoped>\n",
       "    .dataframe tbody tr th:only-of-type {\n",
       "        vertical-align: middle;\n",
       "    }\n",
       "\n",
       "    .dataframe tbody tr th {\n",
       "        vertical-align: top;\n",
       "    }\n",
       "\n",
       "    .dataframe thead th {\n",
       "        text-align: right;\n",
       "    }\n",
       "</style>\n",
       "<table border=\"1\" class=\"dataframe\">\n",
       "  <thead>\n",
       "    <tr style=\"text-align: right;\">\n",
       "      <th></th>\n",
       "      <th>idno</th>\n",
       "      <th>year</th>\n",
       "      <th>tvtot</th>\n",
       "      <th>ppltrst</th>\n",
       "      <th>pplfair</th>\n",
       "      <th>pplhlp</th>\n",
       "      <th>happy</th>\n",
       "      <th>sclmeet</th>\n",
       "      <th>sclact</th>\n",
       "      <th>gndr</th>\n",
       "      <th>agea</th>\n",
       "      <th>partner</th>\n",
       "    </tr>\n",
       "  </thead>\n",
       "  <tbody>\n",
       "    <tr>\n",
       "      <td>count</td>\n",
       "      <td>8.147000e+03</td>\n",
       "      <td>8147.000000</td>\n",
       "      <td>8147.000000</td>\n",
       "      <td>8147.000000</td>\n",
       "      <td>8147.000000</td>\n",
       "      <td>8147.000000</td>\n",
       "      <td>8147.000000</td>\n",
       "      <td>8147.000000</td>\n",
       "      <td>8147.000000</td>\n",
       "      <td>8147.000000</td>\n",
       "      <td>8147.000000</td>\n",
       "      <td>8147.000000</td>\n",
       "    </tr>\n",
       "    <tr>\n",
       "      <td>mean</td>\n",
       "      <td>4.022622e+04</td>\n",
       "      <td>6.500307</td>\n",
       "      <td>3.818584</td>\n",
       "      <td>5.574936</td>\n",
       "      <td>6.005155</td>\n",
       "      <td>5.321468</td>\n",
       "      <td>7.708482</td>\n",
       "      <td>5.215908</td>\n",
       "      <td>2.755984</td>\n",
       "      <td>1.496379</td>\n",
       "      <td>47.262182</td>\n",
       "      <td>1.384681</td>\n",
       "    </tr>\n",
       "    <tr>\n",
       "      <td>std</td>\n",
       "      <td>6.320721e+05</td>\n",
       "      <td>0.500031</td>\n",
       "      <td>2.008937</td>\n",
       "      <td>2.215745</td>\n",
       "      <td>2.120127</td>\n",
       "      <td>2.166217</td>\n",
       "      <td>1.720839</td>\n",
       "      <td>1.438792</td>\n",
       "      <td>0.901406</td>\n",
       "      <td>0.500018</td>\n",
       "      <td>18.316890</td>\n",
       "      <td>0.486550</td>\n",
       "    </tr>\n",
       "    <tr>\n",
       "      <td>min</td>\n",
       "      <td>1.000000e+00</td>\n",
       "      <td>6.000000</td>\n",
       "      <td>0.000000</td>\n",
       "      <td>0.000000</td>\n",
       "      <td>0.000000</td>\n",
       "      <td>0.000000</td>\n",
       "      <td>0.000000</td>\n",
       "      <td>1.000000</td>\n",
       "      <td>1.000000</td>\n",
       "      <td>1.000000</td>\n",
       "      <td>15.000000</td>\n",
       "      <td>1.000000</td>\n",
       "    </tr>\n",
       "    <tr>\n",
       "      <td>25%</td>\n",
       "      <td>1.063000e+03</td>\n",
       "      <td>6.000000</td>\n",
       "      <td>2.000000</td>\n",
       "      <td>4.000000</td>\n",
       "      <td>5.000000</td>\n",
       "      <td>4.000000</td>\n",
       "      <td>7.000000</td>\n",
       "      <td>4.000000</td>\n",
       "      <td>2.000000</td>\n",
       "      <td>1.000000</td>\n",
       "      <td>33.000000</td>\n",
       "      <td>1.000000</td>\n",
       "    </tr>\n",
       "    <tr>\n",
       "      <td>50%</td>\n",
       "      <td>1.749000e+03</td>\n",
       "      <td>7.000000</td>\n",
       "      <td>4.000000</td>\n",
       "      <td>6.000000</td>\n",
       "      <td>6.000000</td>\n",
       "      <td>5.000000</td>\n",
       "      <td>8.000000</td>\n",
       "      <td>6.000000</td>\n",
       "      <td>3.000000</td>\n",
       "      <td>1.000000</td>\n",
       "      <td>47.000000</td>\n",
       "      <td>1.000000</td>\n",
       "    </tr>\n",
       "    <tr>\n",
       "      <td>75%</td>\n",
       "      <td>2.778000e+03</td>\n",
       "      <td>7.000000</td>\n",
       "      <td>5.000000</td>\n",
       "      <td>7.000000</td>\n",
       "      <td>8.000000</td>\n",
       "      <td>7.000000</td>\n",
       "      <td>9.000000</td>\n",
       "      <td>6.000000</td>\n",
       "      <td>3.000000</td>\n",
       "      <td>2.000000</td>\n",
       "      <td>61.000000</td>\n",
       "      <td>2.000000</td>\n",
       "    </tr>\n",
       "    <tr>\n",
       "      <td>max</td>\n",
       "      <td>1.100143e+07</td>\n",
       "      <td>7.000000</td>\n",
       "      <td>7.000000</td>\n",
       "      <td>10.000000</td>\n",
       "      <td>10.000000</td>\n",
       "      <td>10.000000</td>\n",
       "      <td>10.000000</td>\n",
       "      <td>7.000000</td>\n",
       "      <td>5.000000</td>\n",
       "      <td>2.000000</td>\n",
       "      <td>114.000000</td>\n",
       "      <td>2.000000</td>\n",
       "    </tr>\n",
       "  </tbody>\n",
       "</table>\n",
       "</div>"
      ],
      "text/plain": [
       "               idno         year        tvtot      ppltrst      pplfair  \\\n",
       "count  8.147000e+03  8147.000000  8147.000000  8147.000000  8147.000000   \n",
       "mean   4.022622e+04     6.500307     3.818584     5.574936     6.005155   \n",
       "std    6.320721e+05     0.500031     2.008937     2.215745     2.120127   \n",
       "min    1.000000e+00     6.000000     0.000000     0.000000     0.000000   \n",
       "25%    1.063000e+03     6.000000     2.000000     4.000000     5.000000   \n",
       "50%    1.749000e+03     7.000000     4.000000     6.000000     6.000000   \n",
       "75%    2.778000e+03     7.000000     5.000000     7.000000     8.000000   \n",
       "max    1.100143e+07     7.000000     7.000000    10.000000    10.000000   \n",
       "\n",
       "            pplhlp        happy      sclmeet       sclact         gndr  \\\n",
       "count  8147.000000  8147.000000  8147.000000  8147.000000  8147.000000   \n",
       "mean      5.321468     7.708482     5.215908     2.755984     1.496379   \n",
       "std       2.166217     1.720839     1.438792     0.901406     0.500018   \n",
       "min       0.000000     0.000000     1.000000     1.000000     1.000000   \n",
       "25%       4.000000     7.000000     4.000000     2.000000     1.000000   \n",
       "50%       5.000000     8.000000     6.000000     3.000000     1.000000   \n",
       "75%       7.000000     9.000000     6.000000     3.000000     2.000000   \n",
       "max      10.000000    10.000000     7.000000     5.000000     2.000000   \n",
       "\n",
       "              agea      partner  \n",
       "count  8147.000000  8147.000000  \n",
       "mean     47.262182     1.384681  \n",
       "std      18.316890     0.486550  \n",
       "min      15.000000     1.000000  \n",
       "25%      33.000000     1.000000  \n",
       "50%      47.000000     1.000000  \n",
       "75%      61.000000     2.000000  \n",
       "max     114.000000     2.000000  "
      ]
     },
     "execution_count": 4,
     "metadata": {},
     "output_type": "execute_result"
    }
   ],
   "source": [
    "df.describe()"
   ]
  },
  {
   "cell_type": "code",
   "execution_count": 5,
   "metadata": {},
   "outputs": [],
   "source": [
    "# We'll make 500 iterations, use 2-deep trees, and set our loss function.\n",
    "\n",
    "# *** It's best to update this table for the drill \n",
    "#  at the end of the lesson.  ***\n",
    "#Include additional to params?\n",
    "\n",
    "params = {'n_estimators': 500,\n",
    "          'max_depth': 2,\n",
    "          'loss': 'deviance'}\n",
    "\n",
    "# Initialize and fit the model.\n",
    "clf = ensemble.GradientBoostingClassifier(**params) # ** is an exponent\n",
    "clf.fit(X_train, y_train)\n",
    "\n",
    "predict_train = clf.predict(X_train)\n",
    "predict_test = clf.predict(X_test)"
   ]
  },
  {
   "cell_type": "markdown",
   "metadata": {},
   "source": [
    "## Confusion Matrices"
   ]
  },
  {
   "cell_type": "code",
   "execution_count": 6,
   "metadata": {},
   "outputs": [],
   "source": [
    "def plot_confusion_matrix(cm, classes,normalize,\n",
    "                          title='Confusion matrix',\n",
    "                          cmap=plt.cm.Blues):\n",
    "    \"\"\"\n",
    "    This function prints and plots the confusion matrix.\n",
    "    Normalization can be applied by setting `normalize=True`.\n",
    "    \"\"\"\n",
    "    if normalize:\n",
    "        cm = cm.astype('float') / cm.sum(axis=1)[:, np.newaxis]\n",
    "        print(\"Normalized confusion matrix\")\n",
    "    else:\n",
    "        print('Confusion matrix, without normalization')\n",
    "\n",
    "    plt.imshow(cm, interpolation='nearest', cmap=cmap)\n",
    "    plt.title(title)\n",
    "    plt.colorbar()\n",
    "    tick_marks = np.arange(len(classes))\n",
    "    plt.xticks(tick_marks, classes)\n",
    "    plt.yticks(tick_marks, classes)\n",
    "    fmt = '.2f' if normalize else 'd'  #What's 'd'?\n",
    "    thresh = cm.max() / 2.\n",
    "    for i, j in itertools.product(range(cm.shape[0]), range(cm.shape[1])):\n",
    "        plt.text(j, i, format(cm[i, j], fmt),\n",
    "                 horizontalalignment=\"center\", verticalalignment=\"center\",\n",
    "                 color=\"white\" if cm[i, j] > thresh else \"black\")\n",
    "    plt.ylabel('True label')\n",
    "    plt.xlabel('Predicted label')"
   ]
  },
  {
   "cell_type": "code",
   "execution_count": 7,
   "metadata": {},
   "outputs": [
    {
     "name": "stdout",
     "output_type": "stream",
     "text": [
      "Confusion matrix, without normalization\n"
     ]
    },
    {
     "data": {
      "image/png": "[encoded data removed]",
      "text/plain": [
       "<Figure size 432x288 with 2 Axes>"
      ]
     },
     "metadata": {
      "needs_background": "light"
     },
     "output_type": "display_data"
    }
   ],
   "source": [
    "cm = confusion_matrix(y_test, predict_test)\n",
    "plot_confusion_matrix(cm,[0,1],False)"
   ]
  },
  {
   "cell_type": "markdown",
   "metadata": {},
   "source": [
    "### Normalized Confusion Matrix"
   ]
  },
  {
   "cell_type": "code",
   "execution_count": 8,
   "metadata": {},
   "outputs": [
    {
     "name": "stdout",
     "output_type": "stream",
     "text": [
      "Normalized confusion matrix\n"
     ]
    },
    {
     "data": {
      "image/png": "[encoded data removed]",
      "text/plain": [
       "<Figure size 432x288 with 2 Axes>"
      ]
     },
     "metadata": {
      "needs_background": "light"
     },
     "output_type": "display_data"
    }
   ],
   "source": [
    "cm = confusion_matrix(y_test, predict_test)\n",
    "plot_confusion_matrix(cm,[0,1],True)"
   ]
  },
  {
   "cell_type": "markdown",
   "metadata": {},
   "source": [
    "### Accuray Score"
   ]
  },
  {
   "cell_type": "code",
   "execution_count": 9,
   "metadata": {},
   "outputs": [
    {
     "data": {
      "text/plain": [
       "0.747239263803681"
      ]
     },
     "execution_count": 9,
     "metadata": {},
     "output_type": "execute_result"
    }
   ],
   "source": [
    "clf.score(X_test, y_test)"
   ]
  },
  {
   "cell_type": "markdown",
   "metadata": {},
   "source": [
    "### Precision Score"
   ]
  },
  {
   "cell_type": "code",
   "execution_count": 10,
   "metadata": {},
   "outputs": [
    {
     "data": {
      "text/plain": [
       "0.7035647279549718"
      ]
     },
     "execution_count": 10,
     "metadata": {},
     "output_type": "execute_result"
    }
   ],
   "source": [
    "y_pred = clf.predict(X_test)\n",
    "precision_score(y_test,y_pred)"
   ]
  },
  {
   "cell_type": "markdown",
   "metadata": {},
   "source": [
    "### Recall Score"
   ]
  },
  {
   "cell_type": "code",
   "execution_count": 11,
   "metadata": {},
   "outputs": [
    {
     "data": {
      "text/plain": [
       "0.5961844197138315"
      ]
     },
     "execution_count": 11,
     "metadata": {},
     "output_type": "execute_result"
    }
   ],
   "source": [
    "recall_score(y_test,y_pred)"
   ]
  },
  {
   "cell_type": "markdown",
   "metadata": {},
   "source": [
    "#### Observation: Use 'feature_importance' to see how many times a certain feature was used in the newly configured decision trees. We will plot in horizontal histogram to guage, which will rank, the number of times a variable appeared. This can also be seen as level of importance. "
   ]
  },
  {
   "cell_type": "code",
   "execution_count": 12,
   "metadata": {},
   "outputs": [
    {
     "data": {
      "image/png": "[encoded data removed]",
      "text/plain": [
       "<Figure size 432x288 with 1 Axes>"
      ]
     },
     "metadata": {
      "needs_background": "light"
     },
     "output_type": "display_data"
    }
   ],
   "source": [
    "feature_importance = clf.feature_importances_\n",
    "\n",
    "# Make importances relative to max importance.\n",
    "feature_importance = 100.0 * (feature_importance / feature_importance.max())\n",
    "sorted_idx = np.argsort(feature_importance)\n",
    "pos = np.arange(sorted_idx.shape[0]) + .5\n",
    "plt.subplot(1, 2, 2)\n",
    "plt.barh(pos, feature_importance[sorted_idx], align='center')\n",
    "plt.yticks(pos, X.columns[sorted_idx])\n",
    "plt.xlabel('Relative Importance')\n",
    "plt.title('Variable Importance')\n",
    "plt.show()"
   ]
  },
  {
   "cell_type": "markdown",
   "metadata": {},
   "source": [
    "### Analysis:\n",
    "It appears that age and happiness are the most important features in predicting whether or not someone lives with a partner. The model is good. But let's see how we can lower the error rates in the test set (y_test).\n",
    "Add Another Feature (no longer Binary, and cannot be a Classifier type of model).\n",
    "\n",
    "Strategies we might use include:\n",
    "\n",
    "~Creating new features\n",
    "~Applying more overfitting-prevention strategies like subsampling\n",
    "~More iterations\n",
    "~Trying a different loss function\n",
    "~Changing the structure of the weak learner: Allowing more leaves in the tree, or other modifications. Increased the depth of tree.\n",
    "\n",
    "Sources: Gradient Boost ~  https://scikit-learn.org/stable/modules/generated/sklearn.ensemble.GradientBoostingClassifier.html\n",
    "Confusion Matrix ~ https://scikit-learn.org/0.18/auto_examples/model_selection/plot_confusion_matrix.html \n",
    "\n",
    "A few parameters to tune could be:\n",
    "\n",
    "~learning_rate\n",
    "~max_depth\n",
    "~n_estimators\n",
    "~loss\n",
    "~subsample\n",
    "~min_samples_split"
   ]
  },
  {
   "cell_type": "markdown",
   "metadata": {},
   "source": [
    "## Second Model"
   ]
  },
  {
   "cell_type": "code",
   "execution_count": 13,
   "metadata": {},
   "outputs": [],
   "source": [
    "# We'll make 750 iterations, use 4-deep trees, and set our loss function.\n",
    "# Increase the n_estimators to 750 usually increases and better performance.\n",
    "#Include additional to params?\n",
    "\n",
    "\n",
    "params = {'n_estimators': 750,\n",
    "          'max_depth': 4,\n",
    "          'loss': 'deviance'}\n",
    "\n",
    "# Initialize and fit the model.\n",
    "clf = ensemble.GradientBoostingClassifier(**params) # ** is an exponent\n",
    "clf.fit(X_train, y_train)\n",
    "\n",
    "predict_train = clf.predict(X_train)\n",
    "predict_test = clf.predict(X_test)"
   ]
  },
  {
   "cell_type": "code",
   "execution_count": 14,
   "metadata": {},
   "outputs": [
    {
     "data": {
      "text/plain": [
       "0.7386503067484662"
      ]
     },
     "execution_count": 14,
     "metadata": {},
     "output_type": "execute_result"
    }
   ],
   "source": [
    "clf.score(X_test, y_test)"
   ]
  },
  {
   "cell_type": "code",
   "execution_count": 15,
   "metadata": {},
   "outputs": [
    {
     "data": {
      "text/plain": [
       "0.6911487758945386"
      ]
     },
     "execution_count": 15,
     "metadata": {},
     "output_type": "execute_result"
    }
   ],
   "source": [
    "y_pred = clf.predict(X_test)\n",
    "precision_score(y_test,y_pred)"
   ]
  },
  {
   "cell_type": "code",
   "execution_count": 16,
   "metadata": {},
   "outputs": [
    {
     "data": {
      "text/plain": [
       "0.5834658187599364"
      ]
     },
     "execution_count": 16,
     "metadata": {},
     "output_type": "execute_result"
    }
   ],
   "source": [
    "recall_score(y_test,y_pred)"
   ]
  },
  {
   "cell_type": "markdown",
   "metadata": {},
   "source": [
    "### Analysis: Each of our scores (accuracy, precision, and recall scores decreased. We didn't improve the performance even though increasing the 'n_estimators' usually results in better performance."
   ]
  },
  {
   "cell_type": "markdown",
   "metadata": {},
   "source": [
    "## Third Model"
   ]
  },
  {
   "cell_type": "code",
   "execution_count": 17,
   "metadata": {},
   "outputs": [],
   "source": [
    "params = {'n_estimators': 500,\n",
    "          'max_depth': 4,\n",
    "          'loss': 'deviance'}\n",
    "\n",
    "# Initialize and fit the model.\n",
    "clf = ensemble.GradientBoostingClassifier(**params) # ** is an exponent\n",
    "clf.fit(X_train, y_train)\n",
    "\n",
    "predict_train = clf.predict(X_train)\n",
    "predict_test = clf.predict(X_test)"
   ]
  },
  {
   "cell_type": "code",
   "execution_count": 18,
   "metadata": {},
   "outputs": [
    {
     "data": {
      "text/plain": [
       "0.7533742331288343"
      ]
     },
     "execution_count": 18,
     "metadata": {},
     "output_type": "execute_result"
    }
   ],
   "source": [
    "clf.score(X_test, y_test)"
   ]
  },
  {
   "cell_type": "markdown",
   "metadata": {},
   "source": [
    "### Analysis: This third model improved the second model, but not upon the first model."
   ]
  },
  {
   "cell_type": "markdown",
   "metadata": {},
   "source": [
    "## Fourth Model\n",
    "We will increase 'n_estimators' to 750 and 'max_depth' to 4. We'll also increase the minimum numbers of samples required before splitting."
   ]
  },
  {
   "cell_type": "code",
   "execution_count": 19,
   "metadata": {},
   "outputs": [],
   "source": [
    "#Adjustments below\n",
    "params = {'n_estimators': 750,\n",
    "          'max_depth': 4,'min_samples_split': 5,\n",
    "          'loss': 'deviance'}\n",
    "\n",
    "# Initialize and fit the model.\n",
    "clf = ensemble.GradientBoostingClassifier(**params) # ** is an exponent\n",
    "clf.fit(X_train, y_train)\n",
    "\n",
    "predict_train = clf.predict(X_train)\n",
    "predict_test = clf.predict(X_test)"
   ]
  },
  {
   "cell_type": "code",
   "execution_count": 20,
   "metadata": {},
   "outputs": [
    {
     "data": {
      "text/plain": [
       "0.7374233128834355"
      ]
     },
     "execution_count": 20,
     "metadata": {},
     "output_type": "execute_result"
    }
   ],
   "source": [
    "clf.score(X_test, y_test)"
   ]
  },
  {
   "cell_type": "markdown",
   "metadata": {},
   "source": [
    "## Challenge in Model Selection "
   ]
  },
  {
   "cell_type": "markdown",
   "metadata": {},
   "source": [
    "1)  To predict running times, we will use an OLS Regression Model assuming normal distribution.\n",
    "2) To deal with more features than rows, we will use K Nearest Neighbors model because there's not enough records. \n",
    "3) We will predict the likelihood of being jailed after identifying most important characteristics using a Logistic Regression Model (also known as Linear Probit Model) because the coefficients share the likelihood of parameters' (characteristics) effect on going to jail. But better to use Decision Tree Regression Model.\n",
    "4) Filter to \"highlight\" emails by using the Random Forest Model. Actually may use any type of classification model, including Naive Bayes. \n",
    "5) We can address the 1,000 Features problem by using Feature Importance tool in SKLEARN -- assuming that there' 1,000 rows that are not multiples of each other.\n",
    "6) Predict when someone adds items on website if they will purchase, is a binary response for target. This can be classified as categorical or numerical if time is over discrete period of time. We can use Decision Tree classified based on consumer's behavior. We could use Decision Tree Regression Model if we are trying to pinpoint the time it takes to purchase.\n",
    "7) Great data set issue: we have over 900,000 records/rows with 500 distinct columns for reviewing features. Depending on the whether we are identifying our target variable as 'categorical' or 'numerical' continuous, we may use any model.  More information on the specific research question will inform the best selection for one of these models.\n",
    "8) Identifying faces could reduce images into thousands of pixels, and thereby be filtered into a Decision Tree Model to produce the selection of which nodes built the image. We can use Neural networks too.\n",
    "9) Predicting 3 flavors of ice cream between both boys and girls is a classic marketing question that can be identified in focus groups. However, during pandemics, social distancing requires using data to inform decisions. We could use K Nearest Neighbor regardless of smaller sample size. "
   ]
  },
  {
   "cell_type": "markdown",
   "metadata": {},
   "source": [
    "# Advanced Experimentation"
   ]
  },
  {
   "cell_type": "markdown",
   "metadata": {},
   "source": [
    "## Questions\n",
    "*1) Did people become less trusting from 2012 to 2014? Compute results for each country in the sample.\n",
    "~2) Did people become happier from 2012 to 2014? Compute results for each country in the sample.\n",
    "*3) Who reported watching more TV in 2012, men or women?\n",
    "~4) Who was more likely to believe people were fair in 2012, people living with a partner or people living alone?\n",
    "~5) Pick three or four of the countries in the sample and compare how often people met socially in 2014. Are there differences, and if so, which countries stand out?\n",
    "~6)Pick three or four of the countries in the sample and compare how often people took part in social activities, relative to others their age, in 2014. Are there differences, and if so, which countries stand out?\n",
    "\n",
    "https://docs.scipy.org/doc/scipy/reference/stats.html\n"
   ]
  },
  {
   "cell_type": "markdown",
   "metadata": {},
   "source": [
    "Q 1: Did people become less trusting from 2012 to 2014? Compute results for each country in the sample"
   ]
  },
  {
   "cell_type": "code",
   "execution_count": 21,
   "metadata": {},
   "outputs": [
    {
     "data": {
      "text/plain": [
       "array(['CH', 'CZ', 'DE', 'ES', 'NO', 'SE'], dtype=object)"
      ]
     },
     "execution_count": 21,
     "metadata": {},
     "output_type": "execute_result"
    }
   ],
   "source": [
    "df[\"cntry\"].unique()\n",
    "# We need to select each country. "
   ]
  },
  {
   "cell_type": "code",
   "execution_count": 70,
   "metadata": {},
   "outputs": [
    {
     "data": {
      "text/plain": [
       "<bound method IndexOpsMixin.value_counts of 0       CH\n",
       "1       CH\n",
       "2       CH\n",
       "3       CH\n",
       "4       CH\n",
       "        ..\n",
       "8589    SE\n",
       "8590    SE\n",
       "8591    SE\n",
       "8592    SE\n",
       "8593    SE\n",
       "Name: cntry, Length: 8147, dtype: object>"
      ]
     },
     "execution_count": 70,
     "metadata": {},
     "output_type": "execute_result"
    }
   ],
   "source": [
    "df[\"cntry\"].value_counts"
   ]
  },
  {
   "cell_type": "code",
   "execution_count": 22,
   "metadata": {},
   "outputs": [
    {
     "data": {
      "text/plain": [
       "<matplotlib.legend.Legend at 0x128d68110>"
      ]
     },
     "execution_count": 22,
     "metadata": {},
     "output_type": "execute_result"
    },
    {
     "data": {
      "image/png": "[encoded data removed]",
      "text/plain": [
       "<Figure size 720x720 with 6 Axes>"
      ]
     },
     "metadata": {
      "needs_background": "light"
     },
     "output_type": "display_data"
    }
   ],
   "source": [
    "plt.subplots(2, 3, figsize=(10,10))\n",
    "ax1 = plt.subplot(231)\n",
    "ax2 = plt.subplot(232)\n",
    "ax3 = plt.subplot(233)\n",
    "ax4 = plt.subplot(234)\n",
    "ax5 = plt.subplot(235)\n",
    "ax6 = plt.subplot(236)\n",
    "\n",
    "figs = [ax1, ax2, ax3, ax4, ax5, ax6]\n",
    "\n",
    "cntry = df[\"cntry\"].unique()\n",
    "\n",
    "for f, c in zip(figs, cntry):\n",
    "    f.hist(df[(df[\"cntry\"] == c) & (df[\"year\"] == 6)][\"ppltrst\"].dropna(), alpha=.5, label=\"2012\")\n",
    "    f.hist(df[(df[\"cntry\"] == c) & (df[\"year\"] == 7)][\"ppltrst\"].dropna(), alpha=.5, label=\"2014\")\n",
    "    f.set_title(c + \" Trust\")\n",
    "\n",
    "ax3.legend()"
   ]
  },
  {
   "cell_type": "code",
   "execution_count": 33,
   "metadata": {},
   "outputs": [
    {
     "name": "stdout",
     "output_type": "stream",
     "text": [
      "Comparing 2012/2014 Levels of Trust in  CH\n"
     ]
    },
    {
     "ename": "ValueError",
     "evalue": "unequal length arrays",
     "output_type": "error",
     "traceback": [
      "\u001b[0;31m---------------------------------------------------------------------------\u001b[0m",
      "\u001b[0;31mValueError\u001b[0m                                Traceback (most recent call last)",
      "\u001b[0;32m<ipython-input-33-11bff67b261e>\u001b[0m in \u001b[0;36m<module>\u001b[0;34m\u001b[0m\n\u001b[1;32m      4\u001b[0m \u001b[0mprint\u001b[0m\u001b[0;34m(\u001b[0m\u001b[0;34m\"Comparing 2012/2014 Levels of Trust in \"\u001b[0m\u001b[0;34m,\u001b[0m \u001b[0mdf\u001b[0m\u001b[0;34m[\u001b[0m\u001b[0;34m\"cntry\"\u001b[0m\u001b[0;34m]\u001b[0m\u001b[0;34m.\u001b[0m\u001b[0munique\u001b[0m\u001b[0;34m(\u001b[0m\u001b[0;34m)\u001b[0m\u001b[0;34m[\u001b[0m\u001b[0;36m0\u001b[0m\u001b[0;34m]\u001b[0m\u001b[0;34m)\u001b[0m\u001b[0;34m\u001b[0m\u001b[0;34m\u001b[0m\u001b[0m\n\u001b[1;32m      5\u001b[0m print(stats.ttest_rel(df[(df[\"cntry\"] == df[\"cntry\"].unique()[0]) & (df[\"year\"] == 6)][\"ppltrst\"], \n\u001b[0;32m----> 6\u001b[0;31m                df[(df[\"cntry\"] == df[\"cntry\"].unique()[0]) & (df[\"year\"] == 7)][\"ppltrst\"], nan_policy=\"omit\"))\n\u001b[0m\u001b[1;32m      7\u001b[0m \u001b[0;34m\u001b[0m\u001b[0m\n\u001b[1;32m      8\u001b[0m \u001b[0mprint\u001b[0m\u001b[0;34m(\u001b[0m\u001b[0;34m\"\\nComparing 2012/2014 Levels of Trust in \"\u001b[0m\u001b[0;34m,\u001b[0m \u001b[0mdf\u001b[0m\u001b[0;34m[\u001b[0m\u001b[0;34m\"cntry\"\u001b[0m\u001b[0;34m]\u001b[0m\u001b[0;34m.\u001b[0m\u001b[0munique\u001b[0m\u001b[0;34m(\u001b[0m\u001b[0;34m)\u001b[0m\u001b[0;34m[\u001b[0m\u001b[0;36m1\u001b[0m\u001b[0;34m]\u001b[0m\u001b[0;34m)\u001b[0m\u001b[0;34m\u001b[0m\u001b[0;34m\u001b[0m\u001b[0m\n",
      "\u001b[0;32m/opt/anaconda3/lib/python3.7/site-packages/scipy/stats/stats.py\u001b[0m in \u001b[0;36mttest_rel\u001b[0;34m(a, b, axis, nan_policy)\u001b[0m\n\u001b[1;32m   5348\u001b[0m \u001b[0;34m\u001b[0m\u001b[0m\n\u001b[1;32m   5349\u001b[0m     \u001b[0;32mif\u001b[0m \u001b[0ma\u001b[0m\u001b[0;34m.\u001b[0m\u001b[0mshape\u001b[0m\u001b[0;34m[\u001b[0m\u001b[0maxis\u001b[0m\u001b[0;34m]\u001b[0m \u001b[0;34m!=\u001b[0m \u001b[0mb\u001b[0m\u001b[0;34m.\u001b[0m\u001b[0mshape\u001b[0m\u001b[0;34m[\u001b[0m\u001b[0maxis\u001b[0m\u001b[0;34m]\u001b[0m\u001b[0;34m:\u001b[0m\u001b[0;34m\u001b[0m\u001b[0;34m\u001b[0m\u001b[0m\n\u001b[0;32m-> 5350\u001b[0;31m         \u001b[0;32mraise\u001b[0m \u001b[0mValueError\u001b[0m\u001b[0;34m(\u001b[0m\u001b[0;34m'unequal length arrays'\u001b[0m\u001b[0;34m)\u001b[0m\u001b[0;34m\u001b[0m\u001b[0;34m\u001b[0m\u001b[0m\n\u001b[0m\u001b[1;32m   5351\u001b[0m \u001b[0;34m\u001b[0m\u001b[0m\n\u001b[1;32m   5352\u001b[0m     \u001b[0;32mif\u001b[0m \u001b[0ma\u001b[0m\u001b[0;34m.\u001b[0m\u001b[0msize\u001b[0m \u001b[0;34m==\u001b[0m \u001b[0;36m0\u001b[0m \u001b[0;32mor\u001b[0m \u001b[0mb\u001b[0m\u001b[0;34m.\u001b[0m\u001b[0msize\u001b[0m \u001b[0;34m==\u001b[0m \u001b[0;36m0\u001b[0m\u001b[0;34m:\u001b[0m\u001b[0;34m\u001b[0m\u001b[0;34m\u001b[0m\u001b[0m\n",
      "\u001b[0;31mValueError\u001b[0m: unequal length arrays"
     ]
    }
   ],
   "source": [
    "from scipy import stats\n",
    "\n",
    "### because all the variables seem normally distributed, I will use the t-test for paired samples\n",
    "print(\"Comparing 2012/2014 Levels of Trust in \", df[\"cntry\"].unique()[0])\n",
    "print(stats.ttest_rel(df[(df[\"cntry\"] == df[\"cntry\"].unique()[0]) & (df[\"year\"] == 6)][\"ppltrst\"], \n",
    "               df[(df[\"cntry\"] == df[\"cntry\"].unique()[0]) & (df[\"year\"] == 7)][\"ppltrst\"], nan_policy=\"omit\"))\n",
    "\n",
    "print(\"\\nComparing 2012/2014 Levels of Trust in \", df[\"cntry\"].unique()[1])\n",
    "print(stats.ttest_rel(df[(df[\"cntry\"] == df[\"cntry\"].unique()[1]) & (df[\"year\"] == 6)][\"ppltrst\"], \n",
    "               df[(df[\"cntry\"] == df[\"cntry\"].unique()[1]) & (df[\"year\"] == 7)][\"ppltrst\"], nan_policy=\"omit\"))\n",
    "\n",
    "print(\"\\nComparing 2012/2014 Levels of Trust in \", df[\"cntry\"].unique()[2])\n",
    "print(stats.ttest_rel(df[(df[\"cntry\"] == df[\"cntry\"].unique()[2]) & (df[\"year\"] == 6)][\"ppltrst\"], \n",
    "               df[(df[\"cntry\"] == df[\"cntry\"].unique()[2]) & (df[\"year\"] == 7)][\"ppltrst\"], nan_policy=\"omit\"))\n",
    "\n",
    "print(\"\\nComparing 2012/2014 Levels of Trust in \", df[\"cntry\"].unique()[3])\n",
    "print(stats.ttest_rel(df[(df[\"cntry\"] == df[\"cntry\"].unique()[3]) & (df[\"year\"] == 6)][\"ppltrst\"], \n",
    "               df[(df[\"cntry\"] == df[\"cntry\"].unique()[3]) & (df[\"year\"] == 7)][\"ppltrst\"], nan_policy=\"omit\"))\n",
    "\n",
    "print(\"\\nComparing 2012/2014 Levels of Trust in \", df[\"cntry\"].unique()[4])\n",
    "print(stats.ttest_rel(df[(df[\"cntry\"] == df[\"cntry\"].unique()[4]) & (df[\"year\"] == 6)][\"ppltrst\"], \n",
    "               df[(df[\"cntry\"] == df[\"cntry\"].unique()[4]) & (df[\"year\"] == 7)][\"ppltrst\"], nan_policy=\"omit\"))\n",
    "\n",
    "print(\"\\nComparing 2012/2014 Levels of Trust in \", df[\"cntry\"].unique()[5])\n",
    "print(stats.ttest_rel(df[(df[\"cntry\"] == df[\"cntry\"].unique()[5]) & (df[\"year\"] == 6)][\"ppltrst\"], \n",
    "               df[(df[\"cntry\"] == df[\"cntry\"].unique()[5]) & (df[\"year\"] == 7)][\"ppltrst\"], nan_policy=\"omit\"))"
   ]
  },
  {
   "cell_type": "code",
   "execution_count": 28,
   "metadata": {},
   "outputs": [
    {
     "name": "stdout",
     "output_type": "stream",
     "text": [
      "Sweden's average trust in 2012: 6.043073341094296\n",
      "Sweden's average trust in 2014: 6.239907727797001\n",
      "\n",
      "Spain's average trust in 2012: 5.127806563039724\n",
      "Spain's average trust in 2014: 4.940035273368607\n"
     ]
    }
   ],
   "source": [
    "import statistics as stats\n",
    "print(\"Sweden's average trust in 2012:\", statistics.mean(df[(df[\"cntry\"] == \"SE\") & (df[\"year\"] == 6)][\"ppltrst\"].dropna()))\n",
    "print(\"Sweden's average trust in 2014:\", statistics.mean(df[(df[\"cntry\"] == \"SE\") & (df[\"year\"] == 7)][\"ppltrst\"].dropna()))\n",
    "print(\"\\nSpain's average trust in 2012:\", statistics.mean(df[(df[\"cntry\"] == \"ES\") & (df[\"year\"] == 6)][\"ppltrst\"].dropna()))\n",
    "print(\"Spain's average trust in 2014:\", statistics.mean(df[(df[\"cntry\"] == \"ES\") & (df[\"year\"] == 7)][\"ppltrst\"].dropna()))"
   ]
  },
  {
   "cell_type": "markdown",
   "metadata": {},
   "source": [
    "Q2: Did people become happier from 2012 to 2014? Compute results for each country in the sample.\n"
   ]
  },
  {
   "cell_type": "code",
   "execution_count": 24,
   "metadata": {},
   "outputs": [
    {
     "data": {
      "text/plain": [
       "<matplotlib.legend.Legend at 0x128fbf610>"
      ]
     },
     "execution_count": 24,
     "metadata": {},
     "output_type": "execute_result"
    },
    {
     "data": {
      "image/png": "[encoded data removed]",
      "text/plain": [
       "<Figure size 720x720 with 6 Axes>"
      ]
     },
     "metadata": {
      "needs_background": "light"
     },
     "output_type": "display_data"
    }
   ],
   "source": [
    "plt.subplots(2, 3, figsize=(10,10))\n",
    "ax1 = plt.subplot(231)\n",
    "ax2 = plt.subplot(232)\n",
    "ax3 = plt.subplot(233)\n",
    "ax4 = plt.subplot(234)\n",
    "ax5 = plt.subplot(235)\n",
    "ax6 = plt.subplot(236)\n",
    "\n",
    "figs = [ax1, ax2, ax3, ax4, ax5, ax6]\n",
    "\n",
    "cntry = df[\"cntry\"].unique()\n",
    "\n",
    "for f, c in zip(figs, cntry):\n",
    "    f.hist(df[(df[\"cntry\"] == c) & (df[\"year\"] == 6)][\"happy\"].dropna(), alpha=.5, label=\"2012\")\n",
    "    f.hist(df[(df[\"cntry\"] == c) & (df[\"year\"] == 7)][\"happy\"].dropna(), alpha=.5, label=\"2014\")\n",
    "    f.set_title(c + \" Happiness\")\n",
    "\n",
    "ax3.legend()"
   ]
  },
  {
   "cell_type": "markdown",
   "metadata": {},
   "source": [
    "## Q3: Who reported watching more TV in 2012, men or women?\n",
    "### Observation: Women reported watching more TV a bit more than men about half of the time. "
   ]
  },
  {
   "cell_type": "code",
   "execution_count": 25,
   "metadata": {},
   "outputs": [
    {
     "data": {
      "text/plain": [
       "Text(0.5, 1.0, 'TV Watching in 2012')"
      ]
     },
     "execution_count": 25,
     "metadata": {},
     "output_type": "execute_result"
    },
    {
     "data": {
      "image/png": "[encoded data removed]",
      "text/plain": [
       "<Figure size 720x720 with 1 Axes>"
      ]
     },
     "metadata": {
      "needs_background": "light"
     },
     "output_type": "display_data"
    }
   ],
   "source": [
    "plt.figure(figsize=(10,10))\n",
    "plt.hist(df[(df[\"gndr\"] == 1.0) & (df[\"year\"] == 6)][\"tvtot\"].dropna(), label=\"Men\", alpha=.5)\n",
    "plt.hist(df[(df[\"gndr\"] == 2.0) & (df[\"year\"] == 6)][\"tvtot\"].dropna(), label=\"Women\", alpha=.5)\n",
    "plt.legend()\n",
    "plt.title(\"TV Watching in 2012\", size=15)"
   ]
  },
  {
   "cell_type": "code",
   "execution_count": 34,
   "metadata": {},
   "outputs": [
    {
     "name": "stdout",
     "output_type": "stream",
     "text": [
      "Comparing 2012 TV totals between men and women.\n",
      "MannwhitneyuResult(statistic=2042391.5, pvalue=0.2165401933322842)\n"
     ]
    }
   ],
   "source": [
    "#the variable seems non-normally distributed, we will use the Mann-Whitney rank test.\n",
    "print(\"Comparing 2012 TV totals between men and women.\")\n",
    "print(stats.mannwhitneyu(df[(df[\"gndr\"] == 1.0) & (df[\"year\"] == 6)][\"tvtot\"], \n",
    "               df[(df[\"gndr\"] == 2.0) & (df[\"year\"] == 6)][\"tvtot\"]))"
   ]
  },
  {
   "cell_type": "markdown",
   "metadata": {},
   "source": [
    "### Observation: According to the Mann-Whiteney rank test, the difference was not statistically significant."
   ]
  },
  {
   "cell_type": "markdown",
   "metadata": {},
   "source": [
    "## Q4: Who was more likely to believe people were fair in 2012, people living with a partner or people living alone?"
   ]
  },
  {
   "cell_type": "code",
   "execution_count": 35,
   "metadata": {},
   "outputs": [
    {
     "data": {
      "text/plain": [
       "Text(0.5, 1.0, 'The Number of People Who Believe That Others Are Fair in 2012')"
      ]
     },
     "execution_count": 35,
     "metadata": {},
     "output_type": "execute_result"
    },
    {
     "data": {
      "image/png": "[encoded data removed]",
      "text/plain": [
       "<Figure size 720x720 with 1 Axes>"
      ]
     },
     "metadata": {
      "needs_background": "light"
     },
     "output_type": "display_data"
    }
   ],
   "source": [
    "#Select those with a partner in 2012 versus those living along. \n",
    "plt.figure(figsize=(10,10))\n",
    "plt.hist(df[(df[\"partner\"] == 1.0) & (df[\"year\"] == 6)][\"pplfair\"].dropna(), label=\"Lives With Partner\", alpha=.5)\n",
    "plt.hist(df[(df[\"partner\"] == 2.0) & (df[\"year\"] == 6)][\"pplfair\"].dropna(), label=\"Does not\", alpha=.5)\n",
    "plt.legend()\n",
    "plt.title(\"The Number of People Who Believe That Others Are Fair in 2012\", size=15)"
   ]
  },
  {
   "cell_type": "markdown",
   "metadata": {},
   "source": [
    "### Observation: People living with a partner were more likely to believe that people were fair in 2012. According to the t-test for independent samples, the difference was statistically significant."
   ]
  },
  {
   "cell_type": "markdown",
   "metadata": {},
   "source": [
    "## Q5: Pick three or four of the countries in the sample and compare how often people met socially in 2014. Are there differences, and if so, which countries stand out?"
   ]
  },
  {
   "cell_type": "markdown",
   "metadata": {},
   "source": [
    "https://github.com/jtillis0317/Drills-and-Projects/blob/master/Challenge%20-%20What%20Test%20to%20Use%20(European%20Social%20Survey).ipynb"
   ]
  },
  {
   "cell_type": "code",
   "execution_count": 54,
   "metadata": {},
   "outputs": [
    {
     "data": {
      "text/html": [
       "<div>\n",
       "<style scoped>\n",
       "    .dataframe tbody tr th:only-of-type {\n",
       "        vertical-align: middle;\n",
       "    }\n",
       "\n",
       "    .dataframe tbody tr th {\n",
       "        vertical-align: top;\n",
       "    }\n",
       "\n",
       "    .dataframe thead th {\n",
       "        text-align: right;\n",
       "    }\n",
       "</style>\n",
       "<table border=\"1\" class=\"dataframe\">\n",
       "  <thead>\n",
       "    <tr style=\"text-align: right;\">\n",
       "      <th></th>\n",
       "      <th>cntry</th>\n",
       "      <th>idno</th>\n",
       "      <th>year</th>\n",
       "      <th>tvtot</th>\n",
       "      <th>ppltrst</th>\n",
       "      <th>pplfair</th>\n",
       "      <th>pplhlp</th>\n",
       "      <th>happy</th>\n",
       "      <th>sclmeet</th>\n",
       "      <th>sclact</th>\n",
       "      <th>gndr</th>\n",
       "      <th>agea</th>\n",
       "      <th>partner</th>\n",
       "    </tr>\n",
       "  </thead>\n",
       "  <tbody>\n",
       "    <tr>\n",
       "      <td>0</td>\n",
       "      <td>CH</td>\n",
       "      <td>5.0</td>\n",
       "      <td>6</td>\n",
       "      <td>3.0</td>\n",
       "      <td>3.0</td>\n",
       "      <td>10.0</td>\n",
       "      <td>5.0</td>\n",
       "      <td>8.0</td>\n",
       "      <td>5.0</td>\n",
       "      <td>4.0</td>\n",
       "      <td>2.0</td>\n",
       "      <td>60.0</td>\n",
       "      <td>1.0</td>\n",
       "    </tr>\n",
       "    <tr>\n",
       "      <td>1</td>\n",
       "      <td>CH</td>\n",
       "      <td>25.0</td>\n",
       "      <td>6</td>\n",
       "      <td>6.0</td>\n",
       "      <td>5.0</td>\n",
       "      <td>7.0</td>\n",
       "      <td>5.0</td>\n",
       "      <td>9.0</td>\n",
       "      <td>3.0</td>\n",
       "      <td>2.0</td>\n",
       "      <td>2.0</td>\n",
       "      <td>59.0</td>\n",
       "      <td>1.0</td>\n",
       "    </tr>\n",
       "    <tr>\n",
       "      <td>2</td>\n",
       "      <td>CH</td>\n",
       "      <td>26.0</td>\n",
       "      <td>6</td>\n",
       "      <td>1.0</td>\n",
       "      <td>8.0</td>\n",
       "      <td>8.0</td>\n",
       "      <td>8.0</td>\n",
       "      <td>7.0</td>\n",
       "      <td>6.0</td>\n",
       "      <td>3.0</td>\n",
       "      <td>1.0</td>\n",
       "      <td>24.0</td>\n",
       "      <td>2.0</td>\n",
       "    </tr>\n",
       "    <tr>\n",
       "      <td>3</td>\n",
       "      <td>CH</td>\n",
       "      <td>28.0</td>\n",
       "      <td>6</td>\n",
       "      <td>4.0</td>\n",
       "      <td>6.0</td>\n",
       "      <td>6.0</td>\n",
       "      <td>7.0</td>\n",
       "      <td>10.0</td>\n",
       "      <td>6.0</td>\n",
       "      <td>2.0</td>\n",
       "      <td>2.0</td>\n",
       "      <td>64.0</td>\n",
       "      <td>1.0</td>\n",
       "    </tr>\n",
       "    <tr>\n",
       "      <td>4</td>\n",
       "      <td>CH</td>\n",
       "      <td>29.0</td>\n",
       "      <td>6</td>\n",
       "      <td>5.0</td>\n",
       "      <td>6.0</td>\n",
       "      <td>7.0</td>\n",
       "      <td>5.0</td>\n",
       "      <td>8.0</td>\n",
       "      <td>7.0</td>\n",
       "      <td>2.0</td>\n",
       "      <td>2.0</td>\n",
       "      <td>55.0</td>\n",
       "      <td>1.0</td>\n",
       "    </tr>\n",
       "  </tbody>\n",
       "</table>\n",
       "</div>"
      ],
      "text/plain": [
       "  cntry  idno  year  tvtot  ppltrst  pplfair  pplhlp  happy  sclmeet  sclact  \\\n",
       "0    CH   5.0     6    3.0      3.0     10.0     5.0    8.0      5.0     4.0   \n",
       "1    CH  25.0     6    6.0      5.0      7.0     5.0    9.0      3.0     2.0   \n",
       "2    CH  26.0     6    1.0      8.0      8.0     8.0    7.0      6.0     3.0   \n",
       "3    CH  28.0     6    4.0      6.0      6.0     7.0   10.0      6.0     2.0   \n",
       "4    CH  29.0     6    5.0      6.0      7.0     5.0    8.0      7.0     2.0   \n",
       "\n",
       "   gndr  agea  partner  \n",
       "0   2.0  60.0      1.0  \n",
       "1   2.0  59.0      1.0  \n",
       "2   1.0  24.0      2.0  \n",
       "3   2.0  64.0      1.0  \n",
       "4   2.0  55.0      1.0  "
      ]
     },
     "execution_count": 54,
     "metadata": {},
     "output_type": "execute_result"
    }
   ],
   "source": [
    "df.head()"
   ]
  },
  {
   "cell_type": "code",
   "execution_count": 71,
   "metadata": {},
   "outputs": [
    {
     "data": {
      "text/plain": [
       "Text(0.5, 1.0, 'How Frequently People Meet Socially in 2014')"
      ]
     },
     "execution_count": 71,
     "metadata": {},
     "output_type": "execute_result"
    },
    {
     "data": {
      "image/png": "[encoded data removed]",
      "text/plain": [
       "<Figure size 720x720 with 1 Axes>"
      ]
     },
     "metadata": {
      "needs_background": "light"
     },
     "output_type": "display_data"
    }
   ],
   "source": [
    "#Select Turkey, Italy, Germany, and Norway. Use 'sclmeet' of df to represent []\"How often people met socially\" &  pick 'year' \n",
    "# as value == '7'] to represent the year 2014. We need to drop columns with Null values.\n",
    "plt.figure(figsize=(10,10))\n",
    "\n",
    "plt.hist(df[(df[\"cntry\"] == \"ES\") & (df[\"year\"] == 7)][\"sclmeet\"].dropna(), label=\"Spain\", alpha=.5, bins=7)\n",
    "plt.hist(df[(df[\"cntry\"] == \"IT\") & df[\"year\"] == 7][\"sclmeet\"].dropna(), label = \"Italy\", alpha=.5, bins=7)\n",
    "plt.hist(df[(df[\"cntry\"] == \"DE\") & (df[\"year\"] == 7)][\"sclmeet\"].dropna(), label=\"Germany\", alpha=.5, bins=7)\n",
    "plt.hist(df[(df[\"cntry\"] == \"NO\") & (df[\"year\"] == 7)][\"sclmeet\"].dropna(), label=\"Norway\", alpha=.5, bins=7)\n",
    "plt.legend()\n",
    "plt.title(\"How Frequently People Meet Socially in 2014\", size=15)"
   ]
  },
  {
   "cell_type": "markdown",
   "metadata": {},
   "source": [
    "## Mood's Median Test"
   ]
  },
  {
   "cell_type": "code",
   "execution_count": 82,
   "metadata": {},
   "outputs": [],
   "source": [
    "ES_df = pd.DataFrame(df[df[\"cntry\"] == \"ES\"][\"sclmeet\"])\n",
    "IT_df = pd.DataFrame(df[df[\"cntry\"] == \"IT\"][\"sclmeet\"])\n",
    "DE_df = pd.DataFrame(df[df[\"cntry\"] == \"DE\"][\"sclmeet\"])\n",
    "NO_df = pd.DataFrame(df[df[\"cntry\"] == \"NO\"][\"sclmeet\"])\n",
    "CH_df = pd.DataFrame(df[df['cntry'] == 'CH']['sclmeet'])"
   ]
  },
  {
   "cell_type": "code",
   "execution_count": 73,
   "metadata": {},
   "outputs": [
    {
     "data": {
      "text/html": [
       "<div>\n",
       "<style scoped>\n",
       "    .dataframe tbody tr th:only-of-type {\n",
       "        vertical-align: middle;\n",
       "    }\n",
       "\n",
       "    .dataframe tbody tr th {\n",
       "        vertical-align: top;\n",
       "    }\n",
       "\n",
       "    .dataframe thead th {\n",
       "        text-align: right;\n",
       "    }\n",
       "</style>\n",
       "<table border=\"1\" class=\"dataframe\">\n",
       "  <thead>\n",
       "    <tr style=\"text-align: right;\">\n",
       "      <th></th>\n",
       "      <th>sclmeet</th>\n",
       "    </tr>\n",
       "  </thead>\n",
       "  <tbody>\n",
       "    <tr>\n",
       "      <td>2890</td>\n",
       "      <td>7.0</td>\n",
       "    </tr>\n",
       "    <tr>\n",
       "      <td>2891</td>\n",
       "      <td>5.0</td>\n",
       "    </tr>\n",
       "    <tr>\n",
       "      <td>2892</td>\n",
       "      <td>6.0</td>\n",
       "    </tr>\n",
       "    <tr>\n",
       "      <td>2893</td>\n",
       "      <td>4.0</td>\n",
       "    </tr>\n",
       "    <tr>\n",
       "      <td>2894</td>\n",
       "      <td>7.0</td>\n",
       "    </tr>\n",
       "  </tbody>\n",
       "</table>\n",
       "</div>"
      ],
      "text/plain": [
       "      sclmeet\n",
       "2890      7.0\n",
       "2891      5.0\n",
       "2892      6.0\n",
       "2893      4.0\n",
       "2894      7.0"
      ]
     },
     "execution_count": 73,
     "metadata": {},
     "output_type": "execute_result"
    }
   ],
   "source": [
    "ES_df.head()"
   ]
  },
  {
   "cell_type": "code",
   "execution_count": 74,
   "metadata": {},
   "outputs": [
    {
     "data": {
      "text/plain": [
       "5.2425828970331585"
      ]
     },
     "execution_count": 74,
     "metadata": {},
     "output_type": "execute_result"
    }
   ],
   "source": [
    "statistics.mean(ES_df.iloc[:, 0].dropna())"
   ]
  },
  {
   "cell_type": "code",
   "execution_count": 77,
   "metadata": {},
   "outputs": [
    {
     "name": "stdout",
     "output_type": "stream",
     "text": [
      "Comparing 2014 Frequency of Social Meetings Between Countries\n"
     ]
    },
    {
     "data": {
      "text/plain": [
       "(15.763795063144473, 0.0012676929671514281, 6.0, array([[229, 220,   0, 134],\n",
       "        [905, 647,  14, 578]]))"
      ]
     },
     "execution_count": 77,
     "metadata": {},
     "output_type": "execute_result"
    }
   ],
   "source": [
    "## because all the variables seem non-normally distributed (although it's a close call), I will use \n",
    "#Mood's median test based on mutliple samples for this experiment and select: Spain, Sweden, .\n",
    "\n",
    "print(\"Comparing 2014 Frequency of Social Meetings Between Countries\")\n",
    "stats.median_test(df[(df[\"cntry\"] == \"ES\") & (df[\"year\"] == 7)][\"sclmeet\"].dropna(), df[(df[\"cntry\"] == \"SE\") & (df[\"year\"] == 7)][\"sclmeet\"].dropna(), df[(df[\"cntry\"] == \"DE\") & (df[\"year\"] == 7)][\"sclmeet\"].dropna(), df[(df[\"cntry\"] == \"NO\") & (df[\"year\"] == 7)][\"sclmeet\"].dropna())\n",
    "\n",
    "#The p-value shows that at least one group differs to a statistically significant degree."
   ]
  },
  {
   "cell_type": "markdown",
   "metadata": {},
   "source": [
    "### Analysis: \n",
    "Norway's data stands out in red among the four countries we chose (which also included Turkey, Italy, and Germany). Through Mood's median test, it was clear that at least one of the groups had a different median. When I plotted boxplots, Norway's median was 6, while the median of the other countries was 5."
   ]
  },
  {
   "cell_type": "markdown",
   "metadata": {},
   "source": [
    "## Q6: Pick three of the countries in the sample and compare how often people took part in social activities, relative to others their age, in 2014. Are there differences, and if so, which countries stand out?\n",
    "\n",
    "Use an ANOVA test because we are looking at more than 2 samples (countries) for those who 'take part in social activities compared to others of same age', labeled as 'sclact'. Based on Figure 6: Looks like each sample is normally distributed for ANOVA test."
   ]
  },
  {
   "cell_type": "code",
   "execution_count": 78,
   "metadata": {},
   "outputs": [
    {
     "data": {
      "text/plain": [
       "Text(0.5, 1.0, 'Figure 6: Social Activities Relative to Others Their Age in 2014')"
      ]
     },
     "execution_count": 78,
     "metadata": {},
     "output_type": "execute_result"
    },
    {
     "data": {
      "image/png": "[encoded data removed]",
      "text/plain": [
       "<Figure size 720x720 with 1 Axes>"
      ]
     },
     "metadata": {
      "needs_background": "light"
     },
     "output_type": "display_data"
    }
   ],
   "source": [
    "\n",
    "plt.figure(figsize=(10,10))\n",
    "plt.hist(df[(df[\"cntry\"] == \"ES\") & (df[\"year\"] == 7)][\"sclact\"].dropna(), label=\"Spain\", alpha=.5, bins=5)\n",
    "plt.hist(df[(df[\"cntry\"] == \"CZ\") & (df[\"year\"] == 7)][\"sclact\"].dropna(), label=\"Czech Republic\", alpha=.5, bins=5)\n",
    "plt.hist(df[(df[\"cntry\"] == \"DE\") & (df[\"year\"] == 7)][\"sclact\"].dropna(), label=\"Germany\", alpha=.5, bins=5)\n",
    "plt.hist(df[(df[\"cntry\"] == \"NO\") & (df[\"year\"] == 7)][\"sclact\"].dropna(), label=\"Norway\", alpha=.5, bins=5)\n",
    "plt.legend()\n",
    "plt.title(\"Figure 6: Social Activities Relative to Others Their Age in 2014\", size=15)"
   ]
  },
  {
   "cell_type": "markdown",
   "metadata": {},
   "source": [
    "We see highest curve for Spain, which stands out for 'take part in social activities compared to others of same age'. "
   ]
  },
  {
   "cell_type": "code",
   "execution_count": 64,
   "metadata": {},
   "outputs": [
    {
     "name": "stdout",
     "output_type": "stream",
     "text": [
      "Comparing 2014 Social Activities Relative to Age Group Between Countries\n"
     ]
    },
    {
     "data": {
      "text/plain": [
       "F_onewayResult(statistic=nan, pvalue=nan)"
      ]
     },
     "execution_count": 64,
     "metadata": {},
     "output_type": "execute_result"
    }
   ],
   "source": [
    "print(\"Comparing 2014 Social Activities Relative to Age Group Between Countries\")\n",
    "stats.f_oneway(df[(df[\"cntry\"] == \"IS\") & (df[\"year\"] == 7)][\"sclact\"].dropna(), df[(df[\"cntry\"] == \"CZ\") & (df[\"year\"] == 7)][\"sclact\"].dropna(), df[(df[\"cntry\"] == \"DE\") & (df[\"year\"] == 7)][\"sclact\"].dropna(), df[(df[\"cntry\"] == \"NO\") & (df[\"year\"] == 7)][\"sclact\"].dropna())\n",
    "\n",
    "#The p-value shows that at least one group differs to a statistically significant degree."
   ]
  },
  {
   "cell_type": "code",
   "execution_count": 79,
   "metadata": {},
   "outputs": [],
   "source": [
    "ES_df = pd.DataFrame(df[df[\"cntry\"] == \"IS\"][\"sclact\"])\n",
    "CZ_df = pd.DataFrame(df[df[\"cntry\"] == \"CZ\"][\"sclact\"])\n",
    "DE_df = pd.DataFrame(df[df[\"cntry\"] == \"DE\"][\"sclact\"])\n",
    "NO_df = pd.DataFrame(df[df[\"cntry\"] == \"NO\"][\"sclact\"])"
   ]
  },
  {
   "cell_type": "code",
   "execution_count": 67,
   "metadata": {},
   "outputs": [
    {
     "data": {
      "text/html": [
       "<div>\n",
       "<style scoped>\n",
       "    .dataframe tbody tr th:only-of-type {\n",
       "        vertical-align: middle;\n",
       "    }\n",
       "\n",
       "    .dataframe tbody tr th {\n",
       "        vertical-align: top;\n",
       "    }\n",
       "\n",
       "    .dataframe thead th {\n",
       "        text-align: right;\n",
       "    }\n",
       "</style>\n",
       "<table border=\"1\" class=\"dataframe\">\n",
       "  <thead>\n",
       "    <tr style=\"text-align: right;\">\n",
       "      <th></th>\n",
       "      <th>sclact</th>\n",
       "    </tr>\n",
       "  </thead>\n",
       "  <tbody>\n",
       "    <tr>\n",
       "      <td>1546</td>\n",
       "      <td>3.0</td>\n",
       "    </tr>\n",
       "    <tr>\n",
       "      <td>1547</td>\n",
       "      <td>3.0</td>\n",
       "    </tr>\n",
       "    <tr>\n",
       "      <td>1548</td>\n",
       "      <td>5.0</td>\n",
       "    </tr>\n",
       "    <tr>\n",
       "      <td>1549</td>\n",
       "      <td>3.0</td>\n",
       "    </tr>\n",
       "    <tr>\n",
       "      <td>1550</td>\n",
       "      <td>3.0</td>\n",
       "    </tr>\n",
       "  </tbody>\n",
       "</table>\n",
       "</div>"
      ],
      "text/plain": [
       "      sclact\n",
       "1546     3.0\n",
       "1547     3.0\n",
       "1548     5.0\n",
       "1549     3.0\n",
       "1550     3.0"
      ]
     },
     "execution_count": 67,
     "metadata": {},
     "output_type": "execute_result"
    }
   ],
   "source": [
    "#Looking at Czech Republic\n",
    "CZ_df.head()"
   ]
  },
  {
   "cell_type": "code",
   "execution_count": 68,
   "metadata": {},
   "outputs": [
    {
     "data": {
      "text/plain": [
       "2.6735708367854185"
      ]
     },
     "execution_count": 68,
     "metadata": {},
     "output_type": "execute_result"
    }
   ],
   "source": [
    "statistics.mean(CZ_df.iloc[:, 0].dropna())"
   ]
  },
  {
   "cell_type": "code",
   "execution_count": 85,
   "metadata": {},
   "outputs": [
    {
     "data": {
      "image/png": "[encoded data removed]",
      "text/plain": [
       "<Figure size 432x288 with 1 Axes>"
      ]
     },
     "metadata": {
      "needs_background": "light"
     },
     "output_type": "display_data"
    },
    {
     "name": "stdout",
     "output_type": "stream",
     "text": [
      "Median:  6.0\n",
      "Average:  5.2425828970331585\n"
     ]
    },
    {
     "data": {
      "image/png": "[encoded data removed]",
      "text/plain": [
       "<Figure size 432x288 with 1 Axes>"
      ]
     },
     "metadata": {
      "needs_background": "light"
     },
     "output_type": "display_data"
    },
    {
     "name": "stdout",
     "output_type": "stream",
     "text": [
      "Median:  3.0\n",
      "Average:  2.6735708367854185\n"
     ]
    },
    {
     "data": {
      "image/png": "[encoded data removed]",
      "text/plain": [
       "<Figure size 432x288 with 1 Axes>"
      ]
     },
     "metadata": {
      "needs_background": "light"
     },
     "output_type": "display_data"
    },
    {
     "name": "stdout",
     "output_type": "stream",
     "text": [
      "Median:  5.0\n",
      "Average:  4.666666666666667\n"
     ]
    },
    {
     "data": {
      "image/png": "[encoded data removed]",
      "text/plain": [
       "<Figure size 432x288 with 1 Axes>"
      ]
     },
     "metadata": {
      "needs_background": "light"
     },
     "output_type": "display_data"
    },
    {
     "name": "stdout",
     "output_type": "stream",
     "text": [
      "Median:  6.0\n",
      "Average:  5.436619718309859\n"
     ]
    }
   ],
   "source": [
    "ES_df.dropna().boxplot()\n",
    "plt.title(\"Spain's Social Activities Relative to Age Group\")\n",
    "plt.show()\n",
    "print(\"Median: \", statistics.median(ES_df.iloc[:, 0].dropna()))\n",
    "print(\"Average: \", statistics.mean(ES_df.iloc[:, 0].dropna()))\n",
    "\n",
    "CZ_df.dropna().boxplot()\n",
    "plt.title(\"Czech Republic's Social Activities Relative to Age Group\")\n",
    "plt.show()\n",
    "print(\"Median: \", statistics.median(CZ_df.iloc[:, 0].dropna()))\n",
    "print(\"Average: \", statistics.mean(CZ_df.iloc[:, 0].dropna()))\n",
    "\n",
    "DE_df.dropna().boxplot()\n",
    "plt.title(\"Germany's Social Activities Relative to Age Group\")\n",
    "plt.show()\n",
    "print(\"Median: \", statistics.median(DE_df.iloc[:, 0].dropna()))\n",
    "print(\"Average: \", statistics.mean(DE_df.iloc[:, 0].dropna()))\n",
    "\n",
    "NO_df.dropna().boxplot()\n",
    "plt.title(\"Norway's Social Activities Relative to Age Group\")\n",
    "plt.show()\n",
    "print(\"Median: \", statistics.median(NO_df.iloc[:, 0].dropna()))\n",
    "print(\"Average: \", statistics.mean(NO_df.iloc[:, 0].dropna()))"
   ]
  },
  {
   "cell_type": "code",
   "execution_count": 84,
   "metadata": {},
   "outputs": [
    {
     "name": "stdout",
     "output_type": "stream",
     "text": [
      "Ttest_indResult(statistic=55.83349864456405, pvalue=0.0)\n",
      "Ttest_indResult(statistic=1.9044630238386817, pvalue=0.05704104639107802)\n",
      "Ttest_indResult(statistic=-5.877592792471081, pvalue=4.638353223973658e-09)\n",
      "Ttest_indResult(statistic=-11.464345350612309, pvalue=5.538600784239318e-29)\n",
      "Ttest_indResult(statistic=-61.9519743298596, pvalue=0.0)\n",
      "Ttest_indResult(statistic=-3.033048460977441, pvalue=0.002464111115169418)\n"
     ]
    }
   ],
   "source": [
    "#Run t-test for Spain, Czech Republic, Germany, and Norway.\n",
    "print(stats.ttest_ind(CH_df.iloc[:, 0].dropna(), CZ_df.iloc[:, 0].dropna()))\n",
    "print(stats.ttest_ind(CH_df.iloc[:, 0].dropna(), DE_df.iloc[:, 0].dropna()))\n",
    "print(stats.ttest_ind(CH_df.iloc[:, 0].dropna(), NO_df.iloc[:, 0].dropna()))\n",
    "print(stats.ttest_ind(CZ_df.iloc[:, 0].dropna(), DE_df.iloc[:, 0].dropna()))\n",
    "print(stats.ttest_ind(CZ_df.iloc[:, 0].dropna(), NO_df.iloc[:, 0].dropna()))\n",
    "print(stats.ttest_ind(DE_df.iloc[:, 0].dropna(), NO_df.iloc[:, 0].dropna()))"
   ]
  },
  {
   "cell_type": "markdown",
   "metadata": {},
   "source": [
    "### Analysis:\n",
    "There are differences in this variable \"sclact\". Spain and Norway present the highest median with a value of \"6\" and the highest means regarding social activities within their age group: \"Take part in social activities compared to others of same age\". "
   ]
  },
  {
   "cell_type": "code",
   "execution_count": null,
   "metadata": {},
   "outputs": [],
   "source": []
  }
 ],
 "metadata": {
  "kernelspec": {
   "display_name": "Python 3",
   "language": "python",
   "name": "python3"
  },
  "language_info": {
   "codemirror_mode": {
    "name": "ipython",
    "version": 3
   },
   "file_extension": ".py",
   "mimetype": "text/x-python",
   "name": "python",
   "nbconvert_exporter": "python",
   "pygments_lexer": "ipython3",
   "version": "3.7.4"
  }
 },
 "nbformat": 4,
 "nbformat_minor": 2
}
