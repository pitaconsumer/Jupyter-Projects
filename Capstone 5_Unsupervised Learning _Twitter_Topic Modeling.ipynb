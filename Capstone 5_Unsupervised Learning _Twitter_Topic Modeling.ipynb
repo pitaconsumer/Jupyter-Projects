{
 "cells": [
  {
   "cell_type": "markdown",
   "metadata": {},
   "source": [
    "# Building a Sentiment Analysis of Tweets \n",
    "## Background\n",
    "Since Iran’s Foreign Minister tweeted that Iran was providing medical aid to Lebanon, PITAPOLICY conducted a twitter sentiment analysis of Iran’s Foreign Minister Javed Zarif in the midst of Lebanon’s tragic, non-nuclear explosion to review official leaders’ responses on social media regarding aid to Lebanon. Below are sample results of his 200 most recent tweets. Although mostly positive or neutral with respect to the Beirut Explosion in expressing humanitarian solidarity, the negative tweets reference discussion on deteriorating relations with the U.S. and hopes for reinitiating the Joint Comprehensive Plan of Action, JCPOA, regarding Iran’s previous nonproliferation agreement. In 2016, Donald Tr ump’s administration removed the U.S. from this peaceful measure towards nuclear containment. "
   ]
  },
  {
   "cell_type": "markdown",
   "metadata": {},
   "source": [
    "## Goal: Use Clustering Techniques to Review Sentiment of Tweets\n",
    "Work to tune a variety of models before choosing what you consider to be the best performer.\n",
    "\n",
    "## Research Question: How can @PITAPOLICY use Latent Semantic Analysis and clustering techniques to segment a controversial political figure's tweets to understand where he is most polarizing?\n",
    "\n",
    "## Methodology: \n",
    "\n",
    "#### 1\n",
    "Clean tweets to review sentiment.\n",
    "#### 2\n",
    "Use vocabulary based on Textblob library, which includes its own biases, to measure 'polarity', 'subjectivity', 'posivity', 'negativity', and 'neutral'. \n",
    "\n",
    "#### 3\n",
    "We could use a LSA used to compare how similar the tweets are to one another in the dataset since that is unlabeled. \n",
    "\n",
    "#### 4\n",
    "Split tweets into training and test data sets to see how similar his tweets are to another--we are looking for content consistency. \n",
    "\n",
    "#### 5\n",
    "We could  use Word2Vec and plot using t-SNE cluster on out Twitter dataset to determine which phrases appear the most frequently in tweets to compare with whether they have been retweeted or flagged.\n",
    "\n",
    "## Summary of Results:\n",
    "We see that Javed Zarif has 1584269 followers.\n",
    "\n",
    "As mentioned earlier, this Twitter account’s sample (@Jzarif) of 200 tweets reflects mostly positive tweets as shown. (http://www.pitapolicy.com/twitter-sentiment-analysis-of-iranian-foreign-minister-javed-zarif/) We again see it in the more recent graph shown in green representing mostly positive tweets during crisis. Approximately 75 percent of the tweets are positive, thus 25 percent are neutral.\n",
    "\n",
    "We measured both ‘subjectivity’ and ‘polarity’ and see that Javed’s tweets concentrate between -0.2 and .4 on the ‘polarity’ and skew positively.\n",
    "\n",
    "These were the top 10 hashtags and themes trending in Washington, DC at that time:\n",
    "* Biden \n",
    "* Lebanon \n",
    "* Hiroshima \n",
    "* #BB22\n",
    "* #FOURTHCOUNTDOWN \n",
    "* The NRA \n",
    "* Pence \n",
    "* Lakers \n",
    "* Letitia James \n",
    "* Independence Day\n",
    "\n",
    "After completing TFIDF, we constructed an LSA model to identify semantic analysis. We see that there's little difference between the train and test sets of LSA samples. As such, PITAPOLICY concludes that the Twitter user is consistent about his messages. \n",
    "\n",
    "Regarding more unsupervised techniques, like clustering: we employed 'K-means', 'DBSAN', and 'T-SNE'. T-SNE ploted more clustered topics than K-Means. DBSCAN cluster showed the least promising results.\n",
    "\n",
    "In future, we will use TFIDF to compare topic modeling results using Latent Dirichlect Allocation and Non-negative Matrix Formation (NNMF)."
   ]
  },
  {
   "cell_type": "code",
   "execution_count": 4,
   "metadata": {},
   "outputs": [
    {
     "name": "stdout",
     "output_type": "stream",
     "text": [
      "Requirement already satisfied: tweepy in /opt/anaconda3/lib/python3.7/site-packages (3.8.0)\n",
      "Requirement already satisfied: requests-oauthlib>=0.7.0 in /opt/anaconda3/lib/python3.7/site-packages (from tweepy) (1.3.0)\n",
      "Requirement already satisfied: PySocks>=1.5.7 in /opt/anaconda3/lib/python3.7/site-packages (from tweepy) (1.7.1)\n",
      "Requirement already satisfied: requests>=2.11.1 in /opt/anaconda3/lib/python3.7/site-packages (from tweepy) (2.24.0)\n",
      "Requirement already satisfied: six>=1.10.0 in /opt/anaconda3/lib/python3.7/site-packages (from tweepy) (1.12.0)\n",
      "Requirement already satisfied: oauthlib>=3.0.0 in /opt/anaconda3/lib/python3.7/site-packages (from requests-oauthlib>=0.7.0->tweepy) (3.1.0)\n",
      "Requirement already satisfied: chardet<4,>=3.0.2 in /opt/anaconda3/lib/python3.7/site-packages (from requests>=2.11.1->tweepy) (3.0.4)\n",
      "Requirement already satisfied: idna<3,>=2.5 in /opt/anaconda3/lib/python3.7/site-packages (from requests>=2.11.1->tweepy) (2.7)\n",
      "Requirement already satisfied: urllib3!=1.25.0,!=1.25.1,<1.26,>=1.21.1 in /opt/anaconda3/lib/python3.7/site-packages (from requests>=2.11.1->tweepy) (1.24.2)\n",
      "Requirement already satisfied: certifi>=2017.4.17 in /opt/anaconda3/lib/python3.7/site-packages (from requests>=2.11.1->tweepy) (2019.9.11)\n"
     ]
    }
   ],
   "source": [
    "!pip install tweepy\n",
    "#https://github.com/RaRe-Technologies/gensim/issues/2000"
   ]
  },
  {
   "cell_type": "code",
   "execution_count": null,
   "metadata": {},
   "outputs": [],
   "source": [
    "!pip install tweetutilities"
   ]
  },
  {
   "cell_type": "code",
   "execution_count": null,
   "metadata": {},
   "outputs": [],
   "source": [
    "!pip install geopy"
   ]
  },
  {
   "cell_type": "code",
   "execution_count": null,
   "metadata": {},
   "outputs": [],
   "source": [
    "!pip install textblob"
   ]
  },
  {
   "cell_type": "code",
   "execution_count": null,
   "metadata": {},
   "outputs": [],
   "source": [
    "!pip install preprocessor"
   ]
  },
  {
   "cell_type": "code",
   "execution_count": null,
   "metadata": {},
   "outputs": [],
   "source": [
    "!pip install gensim"
   ]
  },
  {
   "cell_type": "code",
   "execution_count": 21,
   "metadata": {},
   "outputs": [],
   "source": [
    "import tweepy \n",
    "from textblob import TextBlob\n",
    "import re\n",
    "from wordcloud import WordCloud\n",
    "import numpy as np\n",
    "import pandas as pd\n",
    "\n",
    "import matplotlib.pyplot as plt\n",
    "plt.style.use('fivethirtyeight')\n",
    "\n",
    "import seaborn as sns\n",
    "\n",
    "import gensim \n",
    "from gensim.models import Word2Vec\n",
    "from gensim.models import word2vec\n",
    "\n",
    "import nltk\n",
    "from nltk.corpus import stopwords\n",
    "from collections import Counter\n",
    "\n",
    "import folium"
   ]
  },
  {
   "cell_type": "code",
   "execution_count": 6,
   "metadata": {},
   "outputs": [],
   "source": [
    "# from secrets import consumer_key,consumer_secret\n",
    "#Need the API\n",
    "    #consumer_key = \"\"\n",
    "    #consumer_secret = \"\"\n",
    "\n",
    "consumer_key = 'R8y38TnjdzbUMhXmiqrdOlFNo'\n",
    "consumer_secret = '0SHVRVqighg3nbvU72303AVCNmyue6usBukhB7xiUZlL5wo3nE' \n",
    "\n",
    "auth = tweepy.AppAuthHandler(consumer_key, consumer_secret)\n",
    "api = tweepy.API(auth)"
   ]
  },
  {
   "cell_type": "code",
   "execution_count": 8,
   "metadata": {},
   "outputs": [
    {
     "name": "stdout",
     "output_type": "stream",
     "text": [
      "Show the 10 most recent tweets: \n",
      "\n",
      "1) Thanks to @SecPompeo, we now know criteria for a country to be removed from—or included in—State Dept's terror list: \n",
      "\n",
      "Relations with Israel.\n",
      "\n",
      "World's No.1 nuclear threat, rights violator, illegal occupier &amp; terror entity\n",
      "\n",
      "How can the world STILL take US foreign policy seriously? https://t.co/TR4NVWdKCy\n",
      "\n",
      "2) .@SecPompeo ‘s lawless bullying leaves US isolated again:\n",
      "\n",
      "While US prevented a Sec. Council debate about its unlawful notification on Friday, members in today's meeting on ME refuted U.S.’ attempt as null and void.\n",
      "\n",
      "Time for @realDonaldTrump to stop listening to novice bullies. https://t.co/nHrRUzlj7N\n",
      "\n",
      "3) Very productive mtg w/ IAEA @rafaelmgrossi\n",
      "\n",
      "Iran has been fully transparent: over 92 percent of IAEA total comparable global inspections were carried out in Iran.\n",
      "\n",
      "Some are intent to torpedo transparency thru pressure to reopen closed matters. \n",
      " \n",
      "We want normal relations w/ IAEA. https://t.co/t9vnwHGAsk\n",
      "\n",
      "4) Outlaw @SecPompeo has no qualms about violating his own country's laws.\n",
      "\n",
      "Standing next to World's #1 nuclear threat, he declares his desire to flood our region with even more US weapons—all while trying to impede lawful normalization of Iran's defense \n",
      "cooperation with the world. https://t.co/dXdJBZgAt5\n",
      "\n",
      "5) My fifth and concluding online discussion of the World in Transition.\n",
      "\n",
      "Today, Aug 24, From 12:30 to 13:15 UTC;\n",
      "\n",
      "Topic: Iran and the World in Transition;\n",
      "\n",
      "Faculty of World Studies, University of Tehran.\n",
      "\n",
      "Live Instagram @iranian_studies_ut https://t.co/is8ClvsrKM\n",
      "\n",
      "6) In their own words: https://t.co/fFNjWj5xQa\n",
      "\n",
      "7) Factsheet on the illegitimate and felonious U.S. attempt to re-impose U.N. sanctions on Iran https://t.co/wPbFytmA98\n",
      "\n",
      "8) أبارك للأخ و الصدیق الحمیم معالي السيد بدربن‌حمد البوسعيدي تعيينه وزيراً لخارجية سلطنة عمان الشقیقه وقد استلم الأمانة من أخ حكيم معالي يوسف بن علوي.\n",
      "أتمنى للأخ بدر كل التوفيق والسداد في مسيرته وأرجو أن يجد من إخوانه في ایران العون في أداء مهمته كما وأرجو للأخ يوسف الصحة والعافية.\n",
      "\n",
      "9) 67 years ago today, US/UK tried to suffocate the Iranian people’s demand for dignity in a coup overthrowing their elected government. \n",
      "\n",
      "Since 1979, the US has desperately tried to resuscitate the past. Yet it keeps getting humiliated by the Iranian people. \n",
      "\n",
      "Time to change tack?\n",
      "\n"
     ]
    }
   ],
   "source": [
    "#Extract 200 Tweets from the Twitter User\n",
    "zarif_tweets = api.user_timeline(screen_name = 'JZarif', count = 500, \n",
    "                                 lang ='en', tweet_mode = 'extended')\n",
    "\n",
    "#Show the 10 most recent tweets\n",
    "print(\"Show the 10 most recent tweets: \\n\")\n",
    "i =1\n",
    "for tweet in zarif_tweets[0:9]:\n",
    "    print (str(i) +') '+ tweet.full_text + '\\n')\n",
    "    i = i + 1"
   ]
  },
  {
   "cell_type": "code",
   "execution_count": 9,
   "metadata": {},
   "outputs": [
    {
     "data": {
      "text/html": [
       "<div>\n",
       "<style scoped>\n",
       "    .dataframe tbody tr th:only-of-type {\n",
       "        vertical-align: middle;\n",
       "    }\n",
       "\n",
       "    .dataframe tbody tr th {\n",
       "        vertical-align: top;\n",
       "    }\n",
       "\n",
       "    .dataframe thead th {\n",
       "        text-align: right;\n",
       "    }\n",
       "</style>\n",
       "<table border=\"1\" class=\"dataframe\">\n",
       "  <thead>\n",
       "    <tr style=\"text-align: right;\">\n",
       "      <th></th>\n",
       "      <th>Tweets</th>\n",
       "    </tr>\n",
       "  </thead>\n",
       "  <tbody>\n",
       "    <tr>\n",
       "      <td>0</td>\n",
       "      <td>Thanks to @SecPompeo, we now know criteria for...</td>\n",
       "    </tr>\n",
       "    <tr>\n",
       "      <td>1</td>\n",
       "      <td>.@SecPompeo ‘s lawless bullying leaves US isol...</td>\n",
       "    </tr>\n",
       "    <tr>\n",
       "      <td>2</td>\n",
       "      <td>Very productive mtg w/ IAEA @rafaelmgrossi\\n\\n...</td>\n",
       "    </tr>\n",
       "    <tr>\n",
       "      <td>3</td>\n",
       "      <td>Outlaw @SecPompeo has no qualms about violatin...</td>\n",
       "    </tr>\n",
       "    <tr>\n",
       "      <td>4</td>\n",
       "      <td>My fifth and concluding online discussion of t...</td>\n",
       "    </tr>\n",
       "    <tr>\n",
       "      <td>5</td>\n",
       "      <td>In their own words: https://t.co/fFNjWj5xQa</td>\n",
       "    </tr>\n",
       "    <tr>\n",
       "      <td>6</td>\n",
       "      <td>Factsheet on the illegitimate and felonious U....</td>\n",
       "    </tr>\n",
       "    <tr>\n",
       "      <td>7</td>\n",
       "      <td>أبارك للأخ و الصدیق الحمیم معالي السيد بدربن‌ح...</td>\n",
       "    </tr>\n",
       "    <tr>\n",
       "      <td>8</td>\n",
       "      <td>67 years ago today, US/UK tried to suffocate t...</td>\n",
       "    </tr>\n",
       "    <tr>\n",
       "      <td>9</td>\n",
       "      <td>I'll be delivering the fourth of five online t...</td>\n",
       "    </tr>\n",
       "  </tbody>\n",
       "</table>\n",
       "</div>"
      ],
      "text/plain": [
       "                                              Tweets\n",
       "0  Thanks to @SecPompeo, we now know criteria for...\n",
       "1  .@SecPompeo ‘s lawless bullying leaves US isol...\n",
       "2  Very productive mtg w/ IAEA @rafaelmgrossi\\n\\n...\n",
       "3  Outlaw @SecPompeo has no qualms about violatin...\n",
       "4  My fifth and concluding online discussion of t...\n",
       "5        In their own words: https://t.co/fFNjWj5xQa\n",
       "6  Factsheet on the illegitimate and felonious U....\n",
       "7  أبارك للأخ و الصدیق الحمیم معالي السيد بدربن‌ح...\n",
       "8  67 years ago today, US/UK tried to suffocate t...\n",
       "9  I'll be delivering the fourth of five online t..."
      ]
     },
     "execution_count": 9,
     "metadata": {},
     "output_type": "execute_result"
    }
   ],
   "source": [
    "#Create a dataframe with a column and label column as 'Tweets'\n",
    "import pandas as pd\n",
    "df = pd.DataFrame([tweet.full_text for tweet in zarif_tweets], columns = ['Tweets'])\n",
    "df.head(10)"
   ]
  },
  {
   "cell_type": "code",
   "execution_count": 7,
   "metadata": {},
   "outputs": [],
   "source": [
    "#Insert additional columns: 'retweet_count', 'user'\n",
    "zarif_tweets_user = api.get_user('jzarif')"
   ]
  },
  {
   "cell_type": "code",
   "execution_count": 8,
   "metadata": {},
   "outputs": [
    {
     "data": {
      "text/plain": [
       "'In their own words: https://t.co/fFNjWj5xQa'"
      ]
     },
     "execution_count": 8,
     "metadata": {},
     "output_type": "execute_result"
    }
   ],
   "source": [
    "zarif_tweets_user.status.text"
   ]
  },
  {
   "cell_type": "code",
   "execution_count": 9,
   "metadata": {},
   "outputs": [
    {
     "data": {
      "text/plain": [
       "'Foreign Minister of Islamic Republic of Iran'"
      ]
     },
     "execution_count": 9,
     "metadata": {},
     "output_type": "execute_result"
    }
   ],
   "source": [
    "#get description for column\n",
    "zarif_tweets_user.description"
   ]
  },
  {
   "cell_type": "code",
   "execution_count": 10,
   "metadata": {},
   "outputs": [
    {
     "data": {
      "text/plain": [
       "<bound method User.followers of User(_api=<tweepy.api.API object at 0x11f678190>, _json={'id': 47813521, 'id_str': '47813521', 'name': 'Javad Zarif', 'screen_name': 'JZarif', 'location': 'Tehran, Iran', 'profile_location': None, 'description': 'Foreign Minister of Islamic Republic of Iran', 'url': None, 'entities': {'description': {'urls': []}}, 'protected': False, 'followers_count': 1584269, 'friends_count': 10, 'listed_count': 4061, 'created_at': 'Wed Jun 17 01:54:58 +0000 2009', 'favourites_count': 6, 'utc_offset': None, 'time_zone': None, 'geo_enabled': False, 'verified': True, 'statuses_count': 955, 'lang': None, 'status': {'created_at': 'Sat Aug 22 16:52:37 +0000 2020', 'id': 1297215107626414082, 'id_str': '1297215107626414082', 'text': 'In their own words: https://t.co/fFNjWj5xQa', 'truncated': False, 'entities': {'hashtags': [], 'symbols': [], 'user_mentions': [], 'urls': [], 'media': [{'id': 1297214866076438533, 'id_str': '1297214866076438533', 'indices': [20, 43], 'media_url': 'http://pbs.twimg.com/ext_tw_video_thumb/1297214866076438533/pu/img/QigCAvS83nlj_MC_.jpg', 'media_url_https': 'https://pbs.twimg.com/ext_tw_video_thumb/1297214866076438533/pu/img/QigCAvS83nlj_MC_.jpg', 'url': 'https://t.co/fFNjWj5xQa', 'display_url': 'pic.twitter.com/fFNjWj5xQa', 'expanded_url': 'https://twitter.com/JZarif/status/1297215107626414082/video/1', 'type': 'photo', 'sizes': {'medium': {'w': 640, 'h': 640, 'resize': 'fit'}, 'thumb': {'w': 150, 'h': 150, 'resize': 'crop'}, 'large': {'w': 640, 'h': 640, 'resize': 'fit'}, 'small': {'w': 640, 'h': 640, 'resize': 'fit'}}}]}, 'extended_entities': {'media': [{'id': 1297214866076438533, 'id_str': '1297214866076438533', 'indices': [20, 43], 'media_url': 'http://pbs.twimg.com/ext_tw_video_thumb/1297214866076438533/pu/img/QigCAvS83nlj_MC_.jpg', 'media_url_https': 'https://pbs.twimg.com/ext_tw_video_thumb/1297214866076438533/pu/img/QigCAvS83nlj_MC_.jpg', 'url': 'https://t.co/fFNjWj5xQa', 'display_url': 'pic.twitter.com/fFNjWj5xQa', 'expanded_url': 'https://twitter.com/JZarif/status/1297215107626414082/video/1', 'type': 'video', 'sizes': {'medium': {'w': 640, 'h': 640, 'resize': 'fit'}, 'thumb': {'w': 150, 'h': 150, 'resize': 'crop'}, 'large': {'w': 640, 'h': 640, 'resize': 'fit'}, 'small': {'w': 640, 'h': 640, 'resize': 'fit'}}, 'video_info': {'aspect_ratio': [1, 1], 'duration_millis': 137800, 'variants': [{'bitrate': 1280000, 'content_type': 'video/mp4', 'url': 'https://video.twimg.com/ext_tw_video/1297214866076438533/pu/vid/640x640/Xzfbs9hOBr30HZ7S.mp4?tag=10'}, {'bitrate': 432000, 'content_type': 'video/mp4', 'url': 'https://video.twimg.com/ext_tw_video/1297214866076438533/pu/vid/320x320/IRx4EwPftazaVmce.mp4?tag=10'}, {'content_type': 'application/x-mpegURL', 'url': 'https://video.twimg.com/ext_tw_video/1297214866076438533/pu/pl/-ErY06PHQdmqPZfp.m3u8?tag=10'}, {'bitrate': 832000, 'content_type': 'video/mp4', 'url': 'https://video.twimg.com/ext_tw_video/1297214866076438533/pu/vid/480x480/gOglVOYs0BwTvB1C.mp4?tag=10'}]}, 'additional_media_info': {'monetizable': False}}]}, 'source': '<a href=\"http://twitter.com/download/android\" rel=\"nofollow\">Twitter for Android</a>', 'in_reply_to_status_id': None, 'in_reply_to_status_id_str': None, 'in_reply_to_user_id': None, 'in_reply_to_user_id_str': None, 'in_reply_to_screen_name': None, 'geo': None, 'coordinates': None, 'place': None, 'contributors': None, 'is_quote_status': False, 'retweet_count': 1163, 'favorite_count': 4014, 'favorited': False, 'retweeted': False, 'possibly_sensitive': False, 'lang': 'en'}, 'contributors_enabled': False, 'is_translator': False, 'is_translation_enabled': False, 'profile_background_color': 'C0DEED', 'profile_background_image_url': 'http://abs.twimg.com/images/themes/theme1/bg.png', 'profile_background_image_url_https': 'https://abs.twimg.com/images/themes/theme1/bg.png', 'profile_background_tile': False, 'profile_image_url': 'http://pbs.twimg.com/profile_images/919044790129479680/ynB-VNL-_normal.jpg', 'profile_image_url_https': 'https://pbs.twimg.com/profile_images/919044790129479680/ynB-VNL-_normal.jpg', 'profile_banner_url': 'https://pbs.twimg.com/profile_banners/47813521/1454225639', 'profile_link_color': '0084B4', 'profile_sidebar_border_color': 'FFFFFF', 'profile_sidebar_fill_color': 'DDEEF6', 'profile_text_color': '333333', 'profile_use_background_image': True, 'has_extended_profile': False, 'default_profile': False, 'default_profile_image': False, 'following': None, 'follow_request_sent': None, 'notifications': None, 'translator_type': 'none'}, id=47813521, id_str='47813521', name='Javad Zarif', screen_name='JZarif', location='Tehran, Iran', profile_location=None, description='Foreign Minister of Islamic Republic of Iran', url=None, entities={'description': {'urls': []}}, protected=False, followers_count=1584269, friends_count=10, listed_count=4061, created_at=datetime.datetime(2009, 6, 17, 1, 54, 58), favourites_count=6, utc_offset=None, time_zone=None, geo_enabled=False, verified=True, statuses_count=955, lang=None, status=Status(_api=<tweepy.api.API object at 0x11f678190>, _json={'created_at': 'Sat Aug 22 16:52:37 +0000 2020', 'id': 1297215107626414082, 'id_str': '1297215107626414082', 'text': 'In their own words: https://t.co/fFNjWj5xQa', 'truncated': False, 'entities': {'hashtags': [], 'symbols': [], 'user_mentions': [], 'urls': [], 'media': [{'id': 1297214866076438533, 'id_str': '1297214866076438533', 'indices': [20, 43], 'media_url': 'http://pbs.twimg.com/ext_tw_video_thumb/1297214866076438533/pu/img/QigCAvS83nlj_MC_.jpg', 'media_url_https': 'https://pbs.twimg.com/ext_tw_video_thumb/1297214866076438533/pu/img/QigCAvS83nlj_MC_.jpg', 'url': 'https://t.co/fFNjWj5xQa', 'display_url': 'pic.twitter.com/fFNjWj5xQa', 'expanded_url': 'https://twitter.com/JZarif/status/1297215107626414082/video/1', 'type': 'photo', 'sizes': {'medium': {'w': 640, 'h': 640, 'resize': 'fit'}, 'thumb': {'w': 150, 'h': 150, 'resize': 'crop'}, 'large': {'w': 640, 'h': 640, 'resize': 'fit'}, 'small': {'w': 640, 'h': 640, 'resize': 'fit'}}}]}, 'extended_entities': {'media': [{'id': 1297214866076438533, 'id_str': '1297214866076438533', 'indices': [20, 43], 'media_url': 'http://pbs.twimg.com/ext_tw_video_thumb/1297214866076438533/pu/img/QigCAvS83nlj_MC_.jpg', 'media_url_https': 'https://pbs.twimg.com/ext_tw_video_thumb/1297214866076438533/pu/img/QigCAvS83nlj_MC_.jpg', 'url': 'https://t.co/fFNjWj5xQa', 'display_url': 'pic.twitter.com/fFNjWj5xQa', 'expanded_url': 'https://twitter.com/JZarif/status/1297215107626414082/video/1', 'type': 'video', 'sizes': {'medium': {'w': 640, 'h': 640, 'resize': 'fit'}, 'thumb': {'w': 150, 'h': 150, 'resize': 'crop'}, 'large': {'w': 640, 'h': 640, 'resize': 'fit'}, 'small': {'w': 640, 'h': 640, 'resize': 'fit'}}, 'video_info': {'aspect_ratio': [1, 1], 'duration_millis': 137800, 'variants': [{'bitrate': 1280000, 'content_type': 'video/mp4', 'url': 'https://video.twimg.com/ext_tw_video/1297214866076438533/pu/vid/640x640/Xzfbs9hOBr30HZ7S.mp4?tag=10'}, {'bitrate': 432000, 'content_type': 'video/mp4', 'url': 'https://video.twimg.com/ext_tw_video/1297214866076438533/pu/vid/320x320/IRx4EwPftazaVmce.mp4?tag=10'}, {'content_type': 'application/x-mpegURL', 'url': 'https://video.twimg.com/ext_tw_video/1297214866076438533/pu/pl/-ErY06PHQdmqPZfp.m3u8?tag=10'}, {'bitrate': 832000, 'content_type': 'video/mp4', 'url': 'https://video.twimg.com/ext_tw_video/1297214866076438533/pu/vid/480x480/gOglVOYs0BwTvB1C.mp4?tag=10'}]}, 'additional_media_info': {'monetizable': False}}]}, 'source': '<a href=\"http://twitter.com/download/android\" rel=\"nofollow\">Twitter for Android</a>', 'in_reply_to_status_id': None, 'in_reply_to_status_id_str': None, 'in_reply_to_user_id': None, 'in_reply_to_user_id_str': None, 'in_reply_to_screen_name': None, 'geo': None, 'coordinates': None, 'place': None, 'contributors': None, 'is_quote_status': False, 'retweet_count': 1163, 'favorite_count': 4014, 'favorited': False, 'retweeted': False, 'possibly_sensitive': False, 'lang': 'en'}, created_at=datetime.datetime(2020, 8, 22, 16, 52, 37), id=1297215107626414082, id_str='1297215107626414082', text='In their own words: https://t.co/fFNjWj5xQa', truncated=False, entities={'hashtags': [], 'symbols': [], 'user_mentions': [], 'urls': [], 'media': [{'id': 1297214866076438533, 'id_str': '1297214866076438533', 'indices': [20, 43], 'media_url': 'http://pbs.twimg.com/ext_tw_video_thumb/1297214866076438533/pu/img/QigCAvS83nlj_MC_.jpg', 'media_url_https': 'https://pbs.twimg.com/ext_tw_video_thumb/1297214866076438533/pu/img/QigCAvS83nlj_MC_.jpg', 'url': 'https://t.co/fFNjWj5xQa', 'display_url': 'pic.twitter.com/fFNjWj5xQa', 'expanded_url': 'https://twitter.com/JZarif/status/1297215107626414082/video/1', 'type': 'photo', 'sizes': {'medium': {'w': 640, 'h': 640, 'resize': 'fit'}, 'thumb': {'w': 150, 'h': 150, 'resize': 'crop'}, 'large': {'w': 640, 'h': 640, 'resize': 'fit'}, 'small': {'w': 640, 'h': 640, 'resize': 'fit'}}}]}, extended_entities={'media': [{'id': 1297214866076438533, 'id_str': '1297214866076438533', 'indices': [20, 43], 'media_url': 'http://pbs.twimg.com/ext_tw_video_thumb/1297214866076438533/pu/img/QigCAvS83nlj_MC_.jpg', 'media_url_https': 'https://pbs.twimg.com/ext_tw_video_thumb/1297214866076438533/pu/img/QigCAvS83nlj_MC_.jpg', 'url': 'https://t.co/fFNjWj5xQa', 'display_url': 'pic.twitter.com/fFNjWj5xQa', 'expanded_url': 'https://twitter.com/JZarif/status/1297215107626414082/video/1', 'type': 'video', 'sizes': {'medium': {'w': 640, 'h': 640, 'resize': 'fit'}, 'thumb': {'w': 150, 'h': 150, 'resize': 'crop'}, 'large': {'w': 640, 'h': 640, 'resize': 'fit'}, 'small': {'w': 640, 'h': 640, 'resize': 'fit'}}, 'video_info': {'aspect_ratio': [1, 1], 'duration_millis': 137800, 'variants': [{'bitrate': 1280000, 'content_type': 'video/mp4', 'url': 'https://video.twimg.com/ext_tw_video/1297214866076438533/pu/vid/640x640/Xzfbs9hOBr30HZ7S.mp4?tag=10'}, {'bitrate': 432000, 'content_type': 'video/mp4', 'url': 'https://video.twimg.com/ext_tw_video/1297214866076438533/pu/vid/320x320/IRx4EwPftazaVmce.mp4?tag=10'}, {'content_type': 'application/x-mpegURL', 'url': 'https://video.twimg.com/ext_tw_video/1297214866076438533/pu/pl/-ErY06PHQdmqPZfp.m3u8?tag=10'}, {'bitrate': 832000, 'content_type': 'video/mp4', 'url': 'https://video.twimg.com/ext_tw_video/1297214866076438533/pu/vid/480x480/gOglVOYs0BwTvB1C.mp4?tag=10'}]}, 'additional_media_info': {'monetizable': False}}]}, source='Twitter for Android', source_url='http://twitter.com/download/android', in_reply_to_status_id=None, in_reply_to_status_id_str=None, in_reply_to_user_id=None, in_reply_to_user_id_str=None, in_reply_to_screen_name=None, geo=None, coordinates=None, place=None, contributors=None, is_quote_status=False, retweet_count=1163, favorite_count=4014, favorited=False, retweeted=False, possibly_sensitive=False, lang='en'), contributors_enabled=False, is_translator=False, is_translation_enabled=False, profile_background_color='C0DEED', profile_background_image_url='http://abs.twimg.com/images/themes/theme1/bg.png', profile_background_image_url_https='https://abs.twimg.com/images/themes/theme1/bg.png', profile_background_tile=False, profile_image_url='http://pbs.twimg.com/profile_images/919044790129479680/ynB-VNL-_normal.jpg', profile_image_url_https='https://pbs.twimg.com/profile_images/919044790129479680/ynB-VNL-_normal.jpg', profile_banner_url='https://pbs.twimg.com/profile_banners/47813521/1454225639', profile_link_color='0084B4', profile_sidebar_border_color='FFFFFF', profile_sidebar_fill_color='DDEEF6', profile_text_color='333333', profile_use_background_image=True, has_extended_profile=False, default_profile=False, default_profile_image=False, following=False, follow_request_sent=None, notifications=None, translator_type='none')>"
      ]
     },
     "execution_count": 10,
     "metadata": {},
     "output_type": "execute_result"
    }
   ],
   "source": [
    "#followers as a column\n",
    "zarif_tweets_user.followers"
   ]
  },
  {
   "cell_type": "code",
   "execution_count": 11,
   "metadata": {},
   "outputs": [
    {
     "data": {
      "text/plain": [
       "1584269"
      ]
     },
     "execution_count": 11,
     "metadata": {},
     "output_type": "execute_result"
    }
   ],
   "source": [
    "#Number of Followers\n",
    "zarif_tweets_user.followers_count"
   ]
  },
  {
   "cell_type": "code",
   "execution_count": 12,
   "metadata": {},
   "outputs": [
    {
     "data": {
      "text/plain": [
       "10"
      ]
     },
     "execution_count": 12,
     "metadata": {},
     "output_type": "execute_result"
    }
   ],
   "source": [
    "#Number of Friends\n",
    "zarif_tweets_user.friends_count"
   ]
  },
  {
   "cell_type": "code",
   "execution_count": 13,
   "metadata": {},
   "outputs": [],
   "source": [
    "followers =[]"
   ]
  },
  {
   "cell_type": "code",
   "execution_count": 14,
   "metadata": {},
   "outputs": [
    {
     "data": {
      "text/plain": [
       "<tweepy.cursor.Cursor at 0x11fd91390>"
      ]
     },
     "execution_count": 14,
     "metadata": {},
     "output_type": "execute_result"
    }
   ],
   "source": [
    "cursor = tweepy.Cursor(api.followers, screen_name ='zarif_tweets_user')\n",
    "cursor"
   ]
  },
  {
   "cell_type": "code",
   "execution_count": 15,
   "metadata": {},
   "outputs": [
    {
     "name": "stdout",
     "output_type": "stream",
     "text": [
      "['mohadesehzaman1']\n",
      "['mohadesehzaman1', 'Erphanov']\n",
      "['mohadesehzaman1', 'Erphanov', 'semohossei_ni']\n",
      "['mohadesehzaman1', 'Erphanov', 'semohossei_ni', 'reza35939797']\n",
      "['mohadesehzaman1', 'Erphanov', 'semohossei_ni', 'reza35939797', 'bosaif_qtr']\n",
      "['mohadesehzaman1', 'Erphanov', 'semohossei_ni', 'reza35939797', 'bosaif_qtr', 'Dihahs10']\n",
      "['mohadesehzaman1', 'Erphanov', 'semohossei_ni', 'reza35939797', 'bosaif_qtr', 'Dihahs10', 'uLsMJ4qTVBAvzcW']\n",
      "['mohadesehzaman1', 'Erphanov', 'semohossei_ni', 'reza35939797', 'bosaif_qtr', 'Dihahs10', 'uLsMJ4qTVBAvzcW', 'khande_bazar_2']\n",
      "['mohadesehzaman1', 'Erphanov', 'semohossei_ni', 'reza35939797', 'bosaif_qtr', 'Dihahs10', 'uLsMJ4qTVBAvzcW', 'khande_bazar_2', 'Pooria33088439']\n",
      "['mohadesehzaman1', 'Erphanov', 'semohossei_ni', 'reza35939797', 'bosaif_qtr', 'Dihahs10', 'uLsMJ4qTVBAvzcW', 'khande_bazar_2', 'Pooria33088439', 'Behzad5050']\n"
     ]
    }
   ],
   "source": [
    "cursor = tweepy.Cursor(api.followers, screen_name = 'JZarif', count= 200) #Default is groups of 20.\n",
    "for account in cursor.items(10):\n",
    "    followers.append(account.screen_name)\n",
    "    print(followers)"
   ]
  },
  {
   "cell_type": "code",
   "execution_count": 16,
   "metadata": {},
   "outputs": [
    {
     "name": "stdout",
     "output_type": "stream",
     "text": [
      "Followers: Behzad5050bosaif_qtrDihahs10Erphanovkhande_bazar_2mohadesehzaman1Pooria33088439reza35939797semohossei_niuLsMJ4qTVBAvzcW\n"
     ]
    }
   ],
   "source": [
    "print(\"Followers:\", ''.join(sorted(followers, key=lambda s:s.lower())))\n",
    "#normalize by number of followers based on RT's"
   ]
  },
  {
   "cell_type": "code",
   "execution_count": 17,
   "metadata": {},
   "outputs": [
    {
     "name": "stdout",
     "output_type": "stream",
     "text": [
      "['IPIS_Iran', 'TakhtRavanchi', 'IranForMin', 'SAMOUSAVI9', 'IRIMFA_EN', 'IRIMFA_AR', 'ebtekarm', 'araghchi', 'khamenei_ir', 'HassanRouhani']\n"
     ]
    }
   ],
   "source": [
    "#Determine who Javed Zarif follows: 'friends'\n",
    "friends = []\n",
    "cursor = tweepy.Cursor(api.friends, screen_name = 'JZarif')\n",
    "for friend in cursor.items(10):\n",
    "    friends.append(friend.screen_name)\n",
    "print (friends)"
   ]
  },
  {
   "cell_type": "code",
   "execution_count": 18,
   "metadata": {},
   "outputs": [
    {
     "name": "stdout",
     "output_type": "stream",
     "text": [
      "Friends: araghchiebtekarmHassanRouhaniIPIS_IranIranForMinIRIMFA_ARIRIMFA_ENkhamenei_irSAMOUSAVI9TakhtRavanchi\n"
     ]
    }
   ],
   "source": [
    "print('Friends:', ''.join(sorted(friends, key =  lambda s: s.lower())))\n",
    "#Label as 'friends'"
   ]
  },
  {
   "cell_type": "markdown",
   "metadata": {},
   "source": [
    "## Clean Text"
   ]
  },
  {
   "cell_type": "code",
   "execution_count": 13,
   "metadata": {},
   "outputs": [
    {
     "data": {
      "text/html": [
       "<div>\n",
       "<style scoped>\n",
       "    .dataframe tbody tr th:only-of-type {\n",
       "        vertical-align: middle;\n",
       "    }\n",
       "\n",
       "    .dataframe tbody tr th {\n",
       "        vertical-align: top;\n",
       "    }\n",
       "\n",
       "    .dataframe thead th {\n",
       "        text-align: right;\n",
       "    }\n",
       "</style>\n",
       "<table border=\"1\" class=\"dataframe\">\n",
       "  <thead>\n",
       "    <tr style=\"text-align: right;\">\n",
       "      <th></th>\n",
       "      <th>Tweets</th>\n",
       "      <th>tweets_fixed</th>\n",
       "    </tr>\n",
       "  </thead>\n",
       "  <tbody>\n",
       "    <tr>\n",
       "      <td>0</td>\n",
       "      <td>Thanks to @SecPompeo, we now know criteria for...</td>\n",
       "      <td>Thanks to @SecPompeo, we now know criteria for...</td>\n",
       "    </tr>\n",
       "    <tr>\n",
       "      <td>1</td>\n",
       "      <td>.@SecPompeo ‘s lawless bullying leaves US isol...</td>\n",
       "      <td>.@SecPompeo ‘s lawless bullying leaves US isol...</td>\n",
       "    </tr>\n",
       "    <tr>\n",
       "      <td>2</td>\n",
       "      <td>Very productive mtg w/ IAEA @rafaelmgrossi\\n\\n...</td>\n",
       "      <td>Very productive mtg w/ IAEA @rafaelmgrossi  Ir...</td>\n",
       "    </tr>\n",
       "    <tr>\n",
       "      <td>3</td>\n",
       "      <td>Outlaw @SecPompeo has no qualms about violatin...</td>\n",
       "      <td>Outlaw @SecPompeo has no qualms about violatin...</td>\n",
       "    </tr>\n",
       "    <tr>\n",
       "      <td>4</td>\n",
       "      <td>My fifth and concluding online discussion of t...</td>\n",
       "      <td>My fifth and concluding online discussion of t...</td>\n",
       "    </tr>\n",
       "    <tr>\n",
       "      <td>...</td>\n",
       "      <td>...</td>\n",
       "      <td>...</td>\n",
       "    </tr>\n",
       "    <tr>\n",
       "      <td>195</td>\n",
       "      <td>Our response to US #EconomicTerrorism &amp;amp; bl...</td>\n",
       "      <td>Our response to US EconomicTerrorism  blackmai...</td>\n",
       "    </tr>\n",
       "    <tr>\n",
       "      <td>196</td>\n",
       "      <td>Subjecting construction workers to #EconomicTe...</td>\n",
       "      <td>Subjecting construction workers to EconomicTer...</td>\n",
       "    </tr>\n",
       "    <tr>\n",
       "      <td>197</td>\n",
       "      <td>Returned from Geneva where I met with Russian ...</td>\n",
       "      <td>Returned from Geneva where I met with Russian ...</td>\n",
       "    </tr>\n",
       "    <tr>\n",
       "      <td>198</td>\n",
       "      <td>Contrary to its deceptive claims, new US regul...</td>\n",
       "      <td>Contrary to its deceptive claims, new US regul...</td>\n",
       "    </tr>\n",
       "    <tr>\n",
       "      <td>199</td>\n",
       "      <td>Met with Yemen’s Mohammad Abdul-Salam in Tehra...</td>\n",
       "      <td>Met with Yemen’s Mohammad Abdul-Salam in Tehra...</td>\n",
       "    </tr>\n",
       "  </tbody>\n",
       "</table>\n",
       "<p>200 rows × 2 columns</p>\n",
       "</div>"
      ],
      "text/plain": [
       "                                                Tweets  \\\n",
       "0    Thanks to @SecPompeo, we now know criteria for...   \n",
       "1    .@SecPompeo ‘s lawless bullying leaves US isol...   \n",
       "2    Very productive mtg w/ IAEA @rafaelmgrossi\\n\\n...   \n",
       "3    Outlaw @SecPompeo has no qualms about violatin...   \n",
       "4    My fifth and concluding online discussion of t...   \n",
       "..                                                 ...   \n",
       "195  Our response to US #EconomicTerrorism &amp; bl...   \n",
       "196  Subjecting construction workers to #EconomicTe...   \n",
       "197  Returned from Geneva where I met with Russian ...   \n",
       "198  Contrary to its deceptive claims, new US regul...   \n",
       "199  Met with Yemen’s Mohammad Abdul-Salam in Tehra...   \n",
       "\n",
       "                                          tweets_fixed  \n",
       "0    Thanks to @SecPompeo, we now know criteria for...  \n",
       "1    .@SecPompeo ‘s lawless bullying leaves US isol...  \n",
       "2    Very productive mtg w/ IAEA @rafaelmgrossi  Ir...  \n",
       "3    Outlaw @SecPompeo has no qualms about violatin...  \n",
       "4    My fifth and concluding online discussion of t...  \n",
       "..                                                 ...  \n",
       "195  Our response to US EconomicTerrorism  blackmai...  \n",
       "196  Subjecting construction workers to EconomicTer...  \n",
       "197  Returned from Geneva where I met with Russian ...  \n",
       "198  Contrary to its deceptive claims, new US regul...  \n",
       "199  Met with Yemen’s Mohammad Abdul-Salam in Tehra...  \n",
       "\n",
       "[200 rows x 2 columns]"
      ]
     },
     "execution_count": 13,
     "metadata": {},
     "output_type": "execute_result"
    }
   ],
   "source": [
    "#Create a function to clean tweets\n",
    "    \n",
    "def clean_text(text):\n",
    "    text = re.sub(r'@{[A-Za-z0-9]+', '', text)  #Checking for '@' and all upper case letters following\n",
    "    text = re.sub(r'#', '', text) #Remove hashtag\n",
    "    text = re.sub(r'RT[\\s] +','', text)  #Remove Retweets\n",
    "    text = re.sub(r'https?:\\/\\/\\S+','',text) #Remove the hyperlink\n",
    "    text = re.sub(r'&amp;', '', text)\n",
    "    text = re.sub(r'\\n', ' ', text, flags=re.MULTILINE)\n",
    "    return text\n",
    "\n",
    "#Cleaning the text\n",
    "df['tweets_fixed'] = df['Tweets'].apply(clean_text)\n",
    "df"
   ]
  },
  {
   "cell_type": "code",
   "execution_count": 14,
   "metadata": {},
   "outputs": [],
   "source": [
    "#Select tweets for review\n",
    "df['tweets_fixed'] = df['Tweets'].apply(lambda x: x if type(x) == str else '')"
   ]
  },
  {
   "cell_type": "markdown",
   "metadata": {},
   "source": [
    "# Exploratory Data Analysis: Word Cloud"
   ]
  },
  {
   "cell_type": "markdown",
   "metadata": {},
   "source": [
    "### Figures 1: Wordclouds"
   ]
  },
  {
   "cell_type": "code",
   "execution_count": 22,
   "metadata": {},
   "outputs": [
    {
     "data": {
      "text/plain": [
       "<function matplotlib.pyplot.show(*args, **kw)>"
      ]
     },
     "execution_count": 22,
     "metadata": {},
     "output_type": "execute_result"
    },
    {
     "data": {
      "image/png": "[encoded data removed]",
      "text/plain": [
       "<Figure size 432x288 with 1 Axes>"
      ]
     },
     "metadata": {},
     "output_type": "display_data"
    }
   ],
   "source": [
    "#Plot the Word Cloud\n",
    "all_words = ''.join([twts for twts in df['tweets_fixed']])\n",
    "WordCloud = WordCloud(width = 500, height= 200, random_state = 21, \n",
    "                      max_font_size =150).generate(all_words)\n",
    "plt.imshow(WordCloud, interpolation= \"bilinear\")\n",
    "plt.axis('off')\n",
    "plt.show"
   ]
  },
  {
   "cell_type": "markdown",
   "metadata": {},
   "source": [
    "## Term Frequency Inverse Document Frequency: Constructing Vectors from TFIDF\n",
    "TF = (Number of times term t appears in a document)/(Number of terms in the document)\n",
    "IDF = log(N/n), where, N is the number of documents and n is the number of documents a term t has appeared in.\n",
    "TF-IDF = TF*IDF"
   ]
  },
  {
   "cell_type": "markdown",
   "metadata": {},
   "source": [
    "# PAUSE AND SKIP"
   ]
  },
  {
   "cell_type": "code",
   "execution_count": 158,
   "metadata": {},
   "outputs": [
    {
     "data": {
      "text/plain": [
       "<200x700 sparse matrix of type '<class 'numpy.float64'>'\n",
       "\twith 2511 stored elements in Compressed Sparse Row format>"
      ]
     },
     "execution_count": 158,
     "metadata": {},
     "output_type": "execute_result"
    }
   ],
   "source": [
    "from sklearn.feature_extraction.text import TfidfVectorizer\n",
    "tfidf_vectorizer = TfidfVectorizer(max_df=0.90, min_df=2, max_features=1000, stop_words='english')\n",
    "\n",
    "# TF-IDF feature matrix: \n",
    "                            #tfidf = tfidf_vectorizer.fit_transform(combi['tidy_tweet'])\n",
    "vectors_tfidf = tfidf_vectorizer.fit_transform(df['tweets_fixed'])\n",
    "vectors_tfidf\n",
    "#Matrix is 200 by 700"
   ]
  },
  {
   "cell_type": "markdown",
   "metadata": {},
   "source": [
    "# UNPAUSE \n",
    "RAN LDA AND NNMF FROM SCIKIT LEARN INSTRUCTIONS:\n",
    "https://scikit-learn.org/stable/auto_examples/applications/plot_topics_extraction_with_nmf_lda.html#sphx-glr-auto-examples-applications-plot-topics-extraction-with-nmf-lda-py"
   ]
  },
  {
   "cell_type": "code",
   "execution_count": 18,
   "metadata": {},
   "outputs": [
    {
     "data": {
      "text/plain": [
       "0      Thanks to @SecPompeo, we now know criteria for...\n",
       "1      .@SecPompeo ‘s lawless bullying leaves US isol...\n",
       "2      Very productive mtg w/ IAEA @rafaelmgrossi\\n\\n...\n",
       "3      Outlaw @SecPompeo has no qualms about violatin...\n",
       "4      My fifth and concluding online discussion of t...\n",
       "                             ...                        \n",
       "195    Our response to US #EconomicTerrorism &amp; bl...\n",
       "196    Subjecting construction workers to #EconomicTe...\n",
       "197    Returned from Geneva where I met with Russian ...\n",
       "198    Contrary to its deceptive claims, new US regul...\n",
       "199    Met with Yemen’s Mohammad Abdul-Salam in Tehra...\n",
       "Name: tweets_fixed, Length: 200, dtype: object"
      ]
     },
     "execution_count": 18,
     "metadata": {},
     "output_type": "execute_result"
    }
   ],
   "source": [
    "df['tweets_fixed']"
   ]
  },
  {
   "cell_type": "code",
   "execution_count": 23,
   "metadata": {},
   "outputs": [],
   "source": [
    "from sklearn.feature_extraction.text import TfidfVectorizer"
   ]
  },
  {
   "cell_type": "code",
   "execution_count": 24,
   "metadata": {},
   "outputs": [],
   "source": [
    "tfidf_vectorizer = TfidfVectorizer(stop_words='english')\n"
   ]
  },
  {
   "cell_type": "code",
   "execution_count": 25,
   "metadata": {},
   "outputs": [],
   "source": [
    "results = tfidf_vectorizer.fit_transform(df['tweets_fixed'])"
   ]
  },
  {
   "cell_type": "code",
   "execution_count": 26,
   "metadata": {},
   "outputs": [
    {
     "data": {
      "text/plain": [
       "<200x2680 sparse matrix of type '<class 'numpy.float64'>'\n",
       "\twith 4634 stored elements in Compressed Sparse Row format>"
      ]
     },
     "execution_count": 26,
     "metadata": {},
     "output_type": "execute_result"
    }
   ],
   "source": [
    "results"
   ]
  },
  {
   "cell_type": "code",
   "execution_count": 43,
   "metadata": {},
   "outputs": [],
   "source": [
    "# Import NNMF and LDA\n",
    "    #Define Function: PRINT_TOP_WORDS\n",
    "from sklearn.decomposition import NMF, LatentDirichletAllocation\n",
    "n_samples = 2000\n",
    "n_features = 1000\n",
    "n_components = 10\n",
    "n_top_words = 20\n",
    "\n",
    "\n",
    "def print_top_words(model, feature_names, n_top_words):\n",
    "    for topic_idx, topic in enumerate(model.components_):\n",
    "        message = \"Topic #%d: \" % topic_idx\n",
    "        message += \" \".join([feature_names[i]\n",
    "                             for i in topic.argsort()[:-n_top_words - 1:-1]])\n",
    "        print(message)\n",
    "    print()"
   ]
  },
  {
   "cell_type": "code",
   "execution_count": 44,
   "metadata": {},
   "outputs": [],
   "source": [
    "lda = LatentDirichletAllocation()"
   ]
  },
  {
   "cell_type": "code",
   "execution_count": 45,
   "metadata": {},
   "outputs": [
    {
     "data": {
      "text/plain": [
       "LatentDirichletAllocation()"
      ]
     },
     "execution_count": 45,
     "metadata": {},
     "output_type": "execute_result"
    }
   ],
   "source": [
    "lda.fit(results)"
   ]
  },
  {
   "cell_type": "code",
   "execution_count": 46,
   "metadata": {},
   "outputs": [
    {
     "data": {
      "text/html": [
       "<div>\n",
       "<style scoped>\n",
       "    .dataframe tbody tr th:only-of-type {\n",
       "        vertical-align: middle;\n",
       "    }\n",
       "\n",
       "    .dataframe tbody tr th {\n",
       "        vertical-align: top;\n",
       "    }\n",
       "\n",
       "    .dataframe thead th {\n",
       "        text-align: right;\n",
       "    }\n",
       "</style>\n",
       "<table border=\"1\" class=\"dataframe\">\n",
       "  <thead>\n",
       "    <tr style=\"text-align: right;\">\n",
       "      <th></th>\n",
       "      <th>000</th>\n",
       "      <th>06p1lmmwgf</th>\n",
       "      <th>0jjb9jaljw</th>\n",
       "      <th>0usmqgpnln</th>\n",
       "      <th>10</th>\n",
       "      <th>1000s</th>\n",
       "      <th>104</th>\n",
       "      <th>11</th>\n",
       "      <th>12</th>\n",
       "      <th>1230</th>\n",
       "      <th>...</th>\n",
       "      <th>比起2009年美国对h1n1流感的防控</th>\n",
       "      <th>祝福中国人民鼠年安康</th>\n",
       "      <th>要特别祝中国朋友们端午安康</th>\n",
       "      <th>让人们对中国打赢疫情防控战充满信心</th>\n",
       "      <th>谴责美国持续非法制裁严重妨碍伊朗抗击疫情努力</th>\n",
       "      <th>造物之初本一体</th>\n",
       "      <th>阿丹子孙皆兄弟</th>\n",
       "      <th>阿富汗和平进程等共同关心的问题交换了意见</th>\n",
       "      <th>非常高兴再次和我的老朋友</th>\n",
       "      <th>鼠年吉祥</th>\n",
       "    </tr>\n",
       "  </thead>\n",
       "  <tbody>\n",
       "    <tr>\n",
       "      <td>0</td>\n",
       "      <td>0.296145</td>\n",
       "      <td>0.100000</td>\n",
       "      <td>0.100000</td>\n",
       "      <td>0.100000</td>\n",
       "      <td>0.100000</td>\n",
       "      <td>0.100000</td>\n",
       "      <td>0.100000</td>\n",
       "      <td>0.100000</td>\n",
       "      <td>0.100000</td>\n",
       "      <td>0.100000</td>\n",
       "      <td>...</td>\n",
       "      <td>0.100000</td>\n",
       "      <td>0.100000</td>\n",
       "      <td>0.401511</td>\n",
       "      <td>0.100000</td>\n",
       "      <td>0.100000</td>\n",
       "      <td>0.100000</td>\n",
       "      <td>0.100000</td>\n",
       "      <td>0.100000</td>\n",
       "      <td>0.100000</td>\n",
       "      <td>0.100000</td>\n",
       "    </tr>\n",
       "    <tr>\n",
       "      <td>1</td>\n",
       "      <td>0.100000</td>\n",
       "      <td>0.100000</td>\n",
       "      <td>0.100000</td>\n",
       "      <td>0.100000</td>\n",
       "      <td>0.100000</td>\n",
       "      <td>0.100000</td>\n",
       "      <td>0.100000</td>\n",
       "      <td>0.100000</td>\n",
       "      <td>0.100000</td>\n",
       "      <td>0.100000</td>\n",
       "      <td>...</td>\n",
       "      <td>0.433333</td>\n",
       "      <td>0.100000</td>\n",
       "      <td>0.100000</td>\n",
       "      <td>0.100000</td>\n",
       "      <td>0.100000</td>\n",
       "      <td>0.100000</td>\n",
       "      <td>0.100000</td>\n",
       "      <td>0.100000</td>\n",
       "      <td>0.100000</td>\n",
       "      <td>0.100000</td>\n",
       "    </tr>\n",
       "    <tr>\n",
       "      <td>2</td>\n",
       "      <td>0.306096</td>\n",
       "      <td>0.100000</td>\n",
       "      <td>0.100000</td>\n",
       "      <td>0.100000</td>\n",
       "      <td>0.100000</td>\n",
       "      <td>0.100000</td>\n",
       "      <td>0.100000</td>\n",
       "      <td>0.100000</td>\n",
       "      <td>0.100000</td>\n",
       "      <td>0.100000</td>\n",
       "      <td>...</td>\n",
       "      <td>0.100000</td>\n",
       "      <td>0.100000</td>\n",
       "      <td>0.100000</td>\n",
       "      <td>0.100000</td>\n",
       "      <td>0.100000</td>\n",
       "      <td>0.100000</td>\n",
       "      <td>0.100000</td>\n",
       "      <td>0.100000</td>\n",
       "      <td>0.100000</td>\n",
       "      <td>0.100000</td>\n",
       "    </tr>\n",
       "    <tr>\n",
       "      <td>3</td>\n",
       "      <td>0.100000</td>\n",
       "      <td>0.100000</td>\n",
       "      <td>0.100000</td>\n",
       "      <td>0.100000</td>\n",
       "      <td>0.100000</td>\n",
       "      <td>0.317187</td>\n",
       "      <td>0.100000</td>\n",
       "      <td>0.100000</td>\n",
       "      <td>0.100000</td>\n",
       "      <td>0.827494</td>\n",
       "      <td>...</td>\n",
       "      <td>0.100000</td>\n",
       "      <td>0.100000</td>\n",
       "      <td>0.100000</td>\n",
       "      <td>0.100000</td>\n",
       "      <td>0.477964</td>\n",
       "      <td>0.100000</td>\n",
       "      <td>0.100000</td>\n",
       "      <td>0.477964</td>\n",
       "      <td>0.477964</td>\n",
       "      <td>0.100000</td>\n",
       "    </tr>\n",
       "    <tr>\n",
       "      <td>4</td>\n",
       "      <td>0.100000</td>\n",
       "      <td>0.100000</td>\n",
       "      <td>0.100000</td>\n",
       "      <td>0.100000</td>\n",
       "      <td>0.100000</td>\n",
       "      <td>0.100000</td>\n",
       "      <td>0.100000</td>\n",
       "      <td>0.100000</td>\n",
       "      <td>0.100000</td>\n",
       "      <td>0.100000</td>\n",
       "      <td>...</td>\n",
       "      <td>0.100000</td>\n",
       "      <td>0.100000</td>\n",
       "      <td>0.100000</td>\n",
       "      <td>0.100000</td>\n",
       "      <td>0.100000</td>\n",
       "      <td>0.100000</td>\n",
       "      <td>0.100000</td>\n",
       "      <td>0.100000</td>\n",
       "      <td>0.100000</td>\n",
       "      <td>0.100000</td>\n",
       "    </tr>\n",
       "    <tr>\n",
       "      <td>5</td>\n",
       "      <td>0.100000</td>\n",
       "      <td>0.424675</td>\n",
       "      <td>0.100000</td>\n",
       "      <td>0.100000</td>\n",
       "      <td>0.100000</td>\n",
       "      <td>0.100000</td>\n",
       "      <td>0.100000</td>\n",
       "      <td>0.100000</td>\n",
       "      <td>0.100002</td>\n",
       "      <td>0.100000</td>\n",
       "      <td>...</td>\n",
       "      <td>0.100000</td>\n",
       "      <td>0.100000</td>\n",
       "      <td>0.100000</td>\n",
       "      <td>0.100000</td>\n",
       "      <td>0.100000</td>\n",
       "      <td>0.100000</td>\n",
       "      <td>0.100000</td>\n",
       "      <td>0.100000</td>\n",
       "      <td>0.100000</td>\n",
       "      <td>0.100000</td>\n",
       "    </tr>\n",
       "    <tr>\n",
       "      <td>6</td>\n",
       "      <td>0.100000</td>\n",
       "      <td>0.100000</td>\n",
       "      <td>0.328588</td>\n",
       "      <td>0.100000</td>\n",
       "      <td>0.100546</td>\n",
       "      <td>0.100000</td>\n",
       "      <td>0.100000</td>\n",
       "      <td>0.100000</td>\n",
       "      <td>1.015429</td>\n",
       "      <td>0.100000</td>\n",
       "      <td>...</td>\n",
       "      <td>0.100000</td>\n",
       "      <td>0.100000</td>\n",
       "      <td>0.100000</td>\n",
       "      <td>0.100000</td>\n",
       "      <td>0.100000</td>\n",
       "      <td>0.100000</td>\n",
       "      <td>0.100000</td>\n",
       "      <td>0.100000</td>\n",
       "      <td>0.100000</td>\n",
       "      <td>0.476132</td>\n",
       "    </tr>\n",
       "    <tr>\n",
       "      <td>7</td>\n",
       "      <td>0.100000</td>\n",
       "      <td>0.100000</td>\n",
       "      <td>0.100000</td>\n",
       "      <td>0.100000</td>\n",
       "      <td>0.258906</td>\n",
       "      <td>0.100000</td>\n",
       "      <td>0.291257</td>\n",
       "      <td>0.295408</td>\n",
       "      <td>0.100000</td>\n",
       "      <td>0.100000</td>\n",
       "      <td>...</td>\n",
       "      <td>0.100000</td>\n",
       "      <td>0.453553</td>\n",
       "      <td>0.100000</td>\n",
       "      <td>0.453553</td>\n",
       "      <td>0.100000</td>\n",
       "      <td>0.100000</td>\n",
       "      <td>0.100000</td>\n",
       "      <td>0.100000</td>\n",
       "      <td>0.100000</td>\n",
       "      <td>0.100000</td>\n",
       "    </tr>\n",
       "    <tr>\n",
       "      <td>8</td>\n",
       "      <td>0.100000</td>\n",
       "      <td>0.100000</td>\n",
       "      <td>0.100000</td>\n",
       "      <td>0.332989</td>\n",
       "      <td>0.100000</td>\n",
       "      <td>0.100000</td>\n",
       "      <td>0.100000</td>\n",
       "      <td>0.100000</td>\n",
       "      <td>0.100000</td>\n",
       "      <td>0.100000</td>\n",
       "      <td>...</td>\n",
       "      <td>0.100000</td>\n",
       "      <td>0.100000</td>\n",
       "      <td>0.100000</td>\n",
       "      <td>0.100000</td>\n",
       "      <td>0.100000</td>\n",
       "      <td>0.416228</td>\n",
       "      <td>0.416228</td>\n",
       "      <td>0.100000</td>\n",
       "      <td>0.100000</td>\n",
       "      <td>0.100000</td>\n",
       "    </tr>\n",
       "    <tr>\n",
       "      <td>9</td>\n",
       "      <td>0.100000</td>\n",
       "      <td>0.100000</td>\n",
       "      <td>0.100000</td>\n",
       "      <td>0.100000</td>\n",
       "      <td>0.291590</td>\n",
       "      <td>0.100000</td>\n",
       "      <td>0.100000</td>\n",
       "      <td>0.100000</td>\n",
       "      <td>0.100003</td>\n",
       "      <td>0.100000</td>\n",
       "      <td>...</td>\n",
       "      <td>0.100000</td>\n",
       "      <td>0.100000</td>\n",
       "      <td>0.100000</td>\n",
       "      <td>0.100000</td>\n",
       "      <td>0.100000</td>\n",
       "      <td>0.100000</td>\n",
       "      <td>0.100000</td>\n",
       "      <td>0.100000</td>\n",
       "      <td>0.100000</td>\n",
       "      <td>0.100000</td>\n",
       "    </tr>\n",
       "  </tbody>\n",
       "</table>\n",
       "<p>10 rows × 2680 columns</p>\n",
       "</div>"
      ],
      "text/plain": [
       "        000  06p1lmmwgf  0jjb9jaljw  0usmqgpnln        10     1000s       104  \\\n",
       "0  0.296145    0.100000    0.100000    0.100000  0.100000  0.100000  0.100000   \n",
       "1  0.100000    0.100000    0.100000    0.100000  0.100000  0.100000  0.100000   \n",
       "2  0.306096    0.100000    0.100000    0.100000  0.100000  0.100000  0.100000   \n",
       "3  0.100000    0.100000    0.100000    0.100000  0.100000  0.317187  0.100000   \n",
       "4  0.100000    0.100000    0.100000    0.100000  0.100000  0.100000  0.100000   \n",
       "5  0.100000    0.424675    0.100000    0.100000  0.100000  0.100000  0.100000   \n",
       "6  0.100000    0.100000    0.328588    0.100000  0.100546  0.100000  0.100000   \n",
       "7  0.100000    0.100000    0.100000    0.100000  0.258906  0.100000  0.291257   \n",
       "8  0.100000    0.100000    0.100000    0.332989  0.100000  0.100000  0.100000   \n",
       "9  0.100000    0.100000    0.100000    0.100000  0.291590  0.100000  0.100000   \n",
       "\n",
       "         11        12      1230  ...  比起2009年美国对h1n1流感的防控  祝福中国人民鼠年安康  \\\n",
       "0  0.100000  0.100000  0.100000  ...             0.100000    0.100000   \n",
       "1  0.100000  0.100000  0.100000  ...             0.433333    0.100000   \n",
       "2  0.100000  0.100000  0.100000  ...             0.100000    0.100000   \n",
       "3  0.100000  0.100000  0.827494  ...             0.100000    0.100000   \n",
       "4  0.100000  0.100000  0.100000  ...             0.100000    0.100000   \n",
       "5  0.100000  0.100002  0.100000  ...             0.100000    0.100000   \n",
       "6  0.100000  1.015429  0.100000  ...             0.100000    0.100000   \n",
       "7  0.295408  0.100000  0.100000  ...             0.100000    0.453553   \n",
       "8  0.100000  0.100000  0.100000  ...             0.100000    0.100000   \n",
       "9  0.100000  0.100003  0.100000  ...             0.100000    0.100000   \n",
       "\n",
       "   要特别祝中国朋友们端午安康  让人们对中国打赢疫情防控战充满信心  谴责美国持续非法制裁严重妨碍伊朗抗击疫情努力   造物之初本一体  \\\n",
       "0       0.401511           0.100000                0.100000  0.100000   \n",
       "1       0.100000           0.100000                0.100000  0.100000   \n",
       "2       0.100000           0.100000                0.100000  0.100000   \n",
       "3       0.100000           0.100000                0.477964  0.100000   \n",
       "4       0.100000           0.100000                0.100000  0.100000   \n",
       "5       0.100000           0.100000                0.100000  0.100000   \n",
       "6       0.100000           0.100000                0.100000  0.100000   \n",
       "7       0.100000           0.453553                0.100000  0.100000   \n",
       "8       0.100000           0.100000                0.100000  0.416228   \n",
       "9       0.100000           0.100000                0.100000  0.100000   \n",
       "\n",
       "    阿丹子孙皆兄弟  阿富汗和平进程等共同关心的问题交换了意见  非常高兴再次和我的老朋友      鼠年吉祥  \n",
       "0  0.100000              0.100000      0.100000  0.100000  \n",
       "1  0.100000              0.100000      0.100000  0.100000  \n",
       "2  0.100000              0.100000      0.100000  0.100000  \n",
       "3  0.100000              0.477964      0.477964  0.100000  \n",
       "4  0.100000              0.100000      0.100000  0.100000  \n",
       "5  0.100000              0.100000      0.100000  0.100000  \n",
       "6  0.100000              0.100000      0.100000  0.476132  \n",
       "7  0.100000              0.100000      0.100000  0.100000  \n",
       "8  0.416228              0.100000      0.100000  0.100000  \n",
       "9  0.100000              0.100000      0.100000  0.100000  \n",
       "\n",
       "[10 rows x 2680 columns]"
      ]
     },
     "execution_count": 46,
     "metadata": {},
     "output_type": "execute_result"
    }
   ],
   "source": [
    "#wtf_df = pd.DataFrame(lda.components_, columns=tfidf_vectorizer.get_feature_names())\n",
    "lda_df = pd.DataFrame(lda.components_, columns=tfidf_vectorizer.get_feature_names())\n",
    "lda_df"
   ]
  },
  {
   "cell_type": "code",
   "execution_count": 47,
   "metadata": {},
   "outputs": [
    {
     "name": "stdout",
     "output_type": "stream",
     "text": [
      "amp\n",
      "people\n",
      "amp\n",
      "amp\n",
      "amp\n",
      "iran\n",
      "world\n",
      "jcpoa\n",
      "amp\n",
      "russian\n"
     ]
    }
   ],
   "source": [
    "for number in range(lda_df.shape[0]):\n",
    "  print(lda_df.iloc[number].idxmax())"
   ]
  },
  {
   "cell_type": "code",
   "execution_count": 48,
   "metadata": {},
   "outputs": [
    {
     "name": "stdout",
     "output_type": "stream",
     "text": [
      "Fitting LDA models with tf features, n_samples=5 and n_features=100...\n"
     ]
    },
    {
     "data": {
      "text/plain": [
       "LatentDirichletAllocation(learning_method='online', learning_offset=50.0,\n",
       "                          max_iter=5, random_state=0)"
      ]
     },
     "execution_count": 48,
     "metadata": {},
     "output_type": "execute_result"
    }
   ],
   "source": [
    "#Obtain features with LDA model\n",
    "print(\"Fitting LDA models with tf features, \"\n",
    "      \"n_samples=%d and n_features=%d...\"\n",
    "      % (5, 100))\n",
    "lda = LatentDirichletAllocation(n_components=10, max_iter=5,\n",
    "                                learning_method='online',\n",
    "                                learning_offset=50.,\n",
    "                                random_state=0)\n",
    "\n",
    "#lda.fit(tf)\n",
    "lda.fit(results)"
   ]
  },
  {
   "cell_type": "code",
   "execution_count": 49,
   "metadata": {},
   "outputs": [
    {
     "name": "stdout",
     "output_type": "stream",
     "text": [
      "\n",
      "Topics in LDA model:\n",
      "Topic #0: 也祝中国朋友们新年快乐 detailed life clowns https influential x2fhgwoney imagine 在2020年 我很高兴在北京和中国朋友们共同度过了2019年的最后一天 鼠年吉祥 models rebuttal ebtekarm 我希望推动伊中全面战略伙伴关系持续稳步发展 iabbasian sea shortages rt prophet\n",
      "Topic #1: amp published transition https arrogant collectively pathological leaves affects international covid19 iraq baluchistan approach مع disrepute reunited costs proud world\n",
      "Topic #2: https ffnjwj5xqa jcpoa economicterrorism designed need admits breaches law deal innocent add persian peace won 6vcv2elr3i high case governments sites\n",
      "Topic #3: amp https iran families world victims don countries armed upheld consulates maximum transition measures attack utc embassies colleagues today assistance\n",
      "Topic #4: amp cooperation fm iran inclusive meetings neighbors ministerial initiatives synergy hope delusional forces christ abetting come muslim uk terrorist attending\n",
      "Topic #5: amp iran sanctions e3 https home going hzhpdc20aj covid19 19th realdonaldtrump military jcpoa met anti resources 36 urge step russian\n",
      "Topic #6: iran به 更阻止疫情向国际蔓延 medicine world delusion claims jcpoa https 在同我的好朋友 целях e3 merely embargoing موظف هذه страны أعياد guilt secretary\n",
      "Topic #7: الله al amp tragedy https mandela dreaming nations need compensating realdonaldtrump داعین 000 中国全国上下的万众一心 emergence time reverting possible impede 让人们对中国打赢疫情防控战充满信心\n",
      "Topic #8: 2cbrfnxsqs https amp iranian e3 catastrophic force watch does obligations xzvzwqcskw banks ymzyh0rct6 thread globe hope security session yearly failure\n",
      "Topic #9: https cooperation jcpoa علی amp bilateral e3 president فی persian party الیمن realpolitik transaction dohaforum2019 fulfilling crime statements بن obligations\n",
      "\n"
     ]
    }
   ],
   "source": [
    "print(\"\\nTopics in LDA model:\")\n",
    "tf_feature_names = tfidf_vectorizer.get_feature_names()\n",
    "print_top_words(lda, tf_feature_names, n_top_words)"
   ]
  },
  {
   "cell_type": "code",
   "execution_count": null,
   "metadata": {},
   "outputs": [],
   "source": []
  },
  {
   "cell_type": "markdown",
   "metadata": {},
   "source": [
    "## Topic Modeling \n",
    "### NNMF: Non-Negative Matrix Factorization"
   ]
  },
  {
   "cell_type": "code",
   "execution_count": 50,
   "metadata": {},
   "outputs": [
    {
     "name": "stdout",
     "output_type": "stream",
     "text": [
      "Extracting tf-idf features for NMF...\n"
     ]
    },
    {
     "data": {
      "text/plain": [
       "<200x10 sparse matrix of type '<class 'numpy.float64'>'\n",
       "\twith 402 stored elements in Compressed Sparse Row format>"
      ]
     },
     "execution_count": 50,
     "metadata": {},
     "output_type": "execute_result"
    }
   ],
   "source": [
    "# Use tf-idf features for NMF. #n_features = 1000\n",
    "#n_components int or None\n",
    "        #Number of components, if n_components is not set all features are kept.\n",
    "print(\"Extracting tf-idf features for NMF...\")\n",
    "tfidf_vectorizer = TfidfVectorizer(max_df=0.95, min_df=2,\n",
    "                                   max_features= 10,\n",
    "                                   stop_words='english')\n",
    "\n",
    "tfidf = tfidf_vectorizer.fit_transform(df['tweets_fixed'])\n",
    "tfidf\n"
   ]
  },
  {
   "cell_type": "code",
   "execution_count": 51,
   "metadata": {},
   "outputs": [
    {
     "name": "stdout",
     "output_type": "stream",
     "text": [
      "Fitting the NMF model (Frobenius norm) with tf-idf features, n_samples=10 and n_features=1000...\n"
     ]
    },
    {
     "data": {
      "text/plain": [
       "NMF(alpha=0.1, l1_ratio=0.5, n_components=10, random_state=1)"
      ]
     },
     "execution_count": 51,
     "metadata": {},
     "output_type": "execute_result"
    }
   ],
   "source": [
    "# Fit the NMF model n_samples =10\n",
    "\n",
    "n_samples =10\n",
    "print(\"Fitting the NMF model (Frobenius norm) with tf-idf features, \"\n",
    "      \"n_samples=%d and n_features=%d...\"\n",
    "      % (n_samples, n_features))\n",
    "\n",
    "nmf = NMF(n_components=n_components, random_state=1,\n",
    "          alpha=.1, l1_ratio=.5).fit(tfidf) #not results, but transformed df['tweets_fixed']from preceding cell\n",
    "\n",
    "nmf"
   ]
  },
  {
   "cell_type": "code",
   "execution_count": 52,
   "metadata": {},
   "outputs": [],
   "source": [
    "from time import time\n",
    "\n",
    "from sklearn.feature_extraction.text import TfidfVectorizer, CountVectorizer\n",
    "from sklearn.decomposition import NMF, LatentDirichletAllocation\n",
    "#from sklearn.datasets import fetch_20newsgroups\n",
    "\n",
    "n_samples = 2000\n",
    "n_features = 1000\n",
    "n_components = 10\n",
    "n_top_words = 20\n",
    "\n",
    "\n",
    "def print_top_words(model, feature_names, n_top_words):\n",
    "    for topic_idx, topic in enumerate(model.components_):\n",
    "        message = \"Topic #%d: \" % topic_idx\n",
    "        message += \" \".join([feature_names[i]\n",
    "                             for i in topic.argsort()[:-n_top_words - 1:-1]])\n",
    "        print(message)\n",
    "    print()"
   ]
  },
  {
   "cell_type": "code",
   "execution_count": 53,
   "metadata": {},
   "outputs": [
    {
     "data": {
      "text/plain": [
       "<200x10 sparse matrix of type '<class 'numpy.float64'>'\n",
       "\twith 402 stored elements in Compressed Sparse Row format>"
      ]
     },
     "execution_count": 53,
     "metadata": {},
     "output_type": "execute_result"
    }
   ],
   "source": [
    "tfidf"
   ]
  },
  {
   "cell_type": "code",
   "execution_count": 54,
   "metadata": {},
   "outputs": [
    {
     "name": "stdout",
     "output_type": "stream",
     "text": [
      "\n",
      "Topics in NMF model (Frobenius norm):\n"
     ]
    },
    {
     "data": {
      "text/plain": [
       "['amp',\n",
       " 'covid19',\n",
       " 'e3',\n",
       " 'global',\n",
       " 'https',\n",
       " 'iran',\n",
       " 'jcpoa',\n",
       " 'people',\n",
       " 'today',\n",
       " 'world']"
      ]
     },
     "execution_count": 54,
     "metadata": {},
     "output_type": "execute_result"
    }
   ],
   "source": [
    "#Cool results\n",
    "print(\"\\nTopics in NMF model (Frobenius norm):\")\n",
    "tfidf_feature_names = tfidf_vectorizer.get_feature_names()\n",
    "tfidf_feature_names\n"
   ]
  },
  {
   "cell_type": "code",
   "execution_count": 55,
   "metadata": {},
   "outputs": [
    {
     "name": "stdout",
     "output_type": "stream",
     "text": [
      "Topic #0: https world today people jcpoa iran global e3 covid19 amp\n",
      "Topic #1: amp https iran world today people jcpoa global e3 covid19\n",
      "Topic #2: iran amp world today people jcpoa https global e3 covid19\n",
      "Topic #3: e3 jcpoa iran world today people https global covid19 amp\n",
      "Topic #4: world https today people jcpoa iran global e3 covid19 amp\n",
      "Topic #5: people world today jcpoa iran https global e3 covid19 amp\n",
      "Topic #6: covid19 world today people jcpoa iran https global e3 amp\n",
      "Topic #7: global https world today people jcpoa iran e3 covid19 amp\n",
      "Topic #8: today https world people jcpoa iran global e3 covid19 amp\n",
      "Topic #9: jcpoa e3 https iran world today people global covid19 amp\n",
      "\n"
     ]
    }
   ],
   "source": [
    "print_top_words(nmf, tfidf_feature_names, n_top_words)"
   ]
  },
  {
   "cell_type": "code",
   "execution_count": 56,
   "metadata": {},
   "outputs": [
    {
     "name": "stdout",
     "output_type": "stream",
     "text": [
      "Fitting the NMF model (generalized Kullback-Leibler divergence) with tf-idf features, n_samples=2000 and n_features=1000...\n"
     ]
    },
    {
     "data": {
      "text/plain": [
       "NMF(alpha=0.1, beta_loss='kullback-leibler', l1_ratio=0.5, max_iter=1000,\n",
       "    n_components=10, random_state=1, solver='mu')"
      ]
     },
     "execution_count": 56,
     "metadata": {},
     "output_type": "execute_result"
    }
   ],
   "source": [
    "# Fit the NNMF model\n",
    "print(\"Fitting the NMF model (generalized Kullback-Leibler divergence) with \"\n",
    "      \"tf-idf features, n_samples=%d and n_features=%d...\"\n",
    "      % (n_samples, n_features))\n",
    "\n",
    "nmf = NMF(n_components=n_components, random_state=1,\n",
    "          beta_loss='kullback-leibler', solver='mu', max_iter=1000, alpha=.1,\n",
    "          l1_ratio=.5).fit(tfidf)\n",
    "nmf"
   ]
  },
  {
   "cell_type": "code",
   "execution_count": 57,
   "metadata": {},
   "outputs": [
    {
     "name": "stdout",
     "output_type": "stream",
     "text": [
      "\n",
      "Topics in NMF model (generalized Kullback-Leibler divergence):\n",
      "Topic #0: https amp world today people jcpoa iran global e3 covid19\n",
      "Topic #1: amp iran world today people jcpoa https global e3 covid19\n",
      "Topic #2: iran world today people jcpoa https global e3 covid19 amp\n",
      "Topic #3: e3 jcpoa https world today people iran global covid19 amp\n",
      "Topic #4: world today people jcpoa iran https global e3 covid19 amp\n",
      "Topic #5: people today world jcpoa iran https global e3 covid19 amp\n",
      "Topic #6: covid19 world today people jcpoa iran https global e3 amp\n",
      "Topic #7: global today iran world people jcpoa https e3 covid19 amp\n",
      "Topic #8: today world people jcpoa iran https global e3 covid19 amp\n",
      "Topic #9: jcpoa iran world today people https global e3 covid19 amp\n",
      "\n"
     ]
    }
   ],
   "source": [
    "#Different topics obtained from Kullback-Leibler Divergence\n",
    "print(\"\\nTopics in NMF model (generalized Kullback-Leibler divergence):\")\n",
    "#tfidf_feature_names = tfidf_vectorizer.get_feature_names()\n",
    "print_top_words(nmf, tfidf_feature_names, n_top_words)"
   ]
  },
  {
   "cell_type": "code",
   "execution_count": null,
   "metadata": {},
   "outputs": [],
   "source": []
  },
  {
   "cell_type": "code",
   "execution_count": null,
   "metadata": {},
   "outputs": [],
   "source": []
  },
  {
   "cell_type": "markdown",
   "metadata": {},
   "source": [
    "## Clustering"
   ]
  },
  {
   "cell_type": "markdown",
   "metadata": {},
   "source": [
    "### KMeans Cluster"
   ]
  },
  {
   "cell_type": "code",
   "execution_count": 60,
   "metadata": {},
   "outputs": [
    {
     "ename": "TypeError",
     "evalue": "A sparse matrix was passed, but dense data is required. Use X.toarray() to convert to a dense numpy array.",
     "output_type": "error",
     "traceback": [
      "\u001b[0;31m---------------------------------------------------------------------------\u001b[0m",
      "\u001b[0;31mTypeError\u001b[0m                                 Traceback (most recent call last)",
      "\u001b[0;32m<ipython-input-60-6d77892f82c4>\u001b[0m in \u001b[0;36m<module>\u001b[0;34m\u001b[0m\n\u001b[1;32m      2\u001b[0m \u001b[0;34m\u001b[0m\u001b[0m\n\u001b[1;32m      3\u001b[0m \u001b[0moe\u001b[0m \u001b[0;34m=\u001b[0m \u001b[0mOrdinalEncoder\u001b[0m\u001b[0;34m(\u001b[0m\u001b[0;34m)\u001b[0m\u001b[0;34m\u001b[0m\u001b[0;34m\u001b[0m\u001b[0m\n\u001b[0;32m----> 4\u001b[0;31m \u001b[0mX1\u001b[0m \u001b[0;34m=\u001b[0m \u001b[0moe\u001b[0m\u001b[0;34m.\u001b[0m\u001b[0mfit_transform\u001b[0m\u001b[0;34m(\u001b[0m\u001b[0mtfidf\u001b[0m\u001b[0;34m)\u001b[0m\u001b[0;34m\u001b[0m\u001b[0;34m\u001b[0m\u001b[0m\n\u001b[0m\u001b[1;32m      5\u001b[0m \u001b[0mX1\u001b[0m\u001b[0;34m\u001b[0m\u001b[0;34m\u001b[0m\u001b[0m\n",
      "\u001b[0;32m/opt/anaconda3/lib/python3.7/site-packages/sklearn/base.py\u001b[0m in \u001b[0;36mfit_transform\u001b[0;34m(self, X, y, **fit_params)\u001b[0m\n\u001b[1;32m    688\u001b[0m         \u001b[0;32mif\u001b[0m \u001b[0my\u001b[0m \u001b[0;32mis\u001b[0m \u001b[0;32mNone\u001b[0m\u001b[0;34m:\u001b[0m\u001b[0;34m\u001b[0m\u001b[0;34m\u001b[0m\u001b[0m\n\u001b[1;32m    689\u001b[0m             \u001b[0;31m# fit method of arity 1 (unsupervised transformation)\u001b[0m\u001b[0;34m\u001b[0m\u001b[0;34m\u001b[0m\u001b[0;34m\u001b[0m\u001b[0m\n\u001b[0;32m--> 690\u001b[0;31m             \u001b[0;32mreturn\u001b[0m \u001b[0mself\u001b[0m\u001b[0;34m.\u001b[0m\u001b[0mfit\u001b[0m\u001b[0;34m(\u001b[0m\u001b[0mX\u001b[0m\u001b[0;34m,\u001b[0m \u001b[0;34m**\u001b[0m\u001b[0mfit_params\u001b[0m\u001b[0;34m)\u001b[0m\u001b[0;34m.\u001b[0m\u001b[0mtransform\u001b[0m\u001b[0;34m(\u001b[0m\u001b[0mX\u001b[0m\u001b[0;34m)\u001b[0m\u001b[0;34m\u001b[0m\u001b[0;34m\u001b[0m\u001b[0m\n\u001b[0m\u001b[1;32m    691\u001b[0m         \u001b[0;32melse\u001b[0m\u001b[0;34m:\u001b[0m\u001b[0;34m\u001b[0m\u001b[0;34m\u001b[0m\u001b[0m\n\u001b[1;32m    692\u001b[0m             \u001b[0;31m# fit method of arity 2 (supervised transformation)\u001b[0m\u001b[0;34m\u001b[0m\u001b[0;34m\u001b[0m\u001b[0;34m\u001b[0m\u001b[0m\n",
      "\u001b[0;32m/opt/anaconda3/lib/python3.7/site-packages/sklearn/preprocessing/_encoders.py\u001b[0m in \u001b[0;36mfit\u001b[0;34m(self, X, y)\u001b[0m\n\u001b[1;32m    680\u001b[0m         \u001b[0mself\u001b[0m\u001b[0;34m\u001b[0m\u001b[0;34m\u001b[0m\u001b[0m\n\u001b[1;32m    681\u001b[0m         \"\"\"\n\u001b[0;32m--> 682\u001b[0;31m         \u001b[0mself\u001b[0m\u001b[0;34m.\u001b[0m\u001b[0m_fit\u001b[0m\u001b[0;34m(\u001b[0m\u001b[0mX\u001b[0m\u001b[0;34m)\u001b[0m\u001b[0;34m\u001b[0m\u001b[0;34m\u001b[0m\u001b[0m\n\u001b[0m\u001b[1;32m    683\u001b[0m \u001b[0;34m\u001b[0m\u001b[0m\n\u001b[1;32m    684\u001b[0m         \u001b[0;32mreturn\u001b[0m \u001b[0mself\u001b[0m\u001b[0;34m\u001b[0m\u001b[0;34m\u001b[0m\u001b[0m\n",
      "\u001b[0;32m/opt/anaconda3/lib/python3.7/site-packages/sklearn/preprocessing/_encoders.py\u001b[0m in \u001b[0;36m_fit\u001b[0;34m(self, X, handle_unknown)\u001b[0m\n\u001b[1;32m     72\u001b[0m \u001b[0;34m\u001b[0m\u001b[0m\n\u001b[1;32m     73\u001b[0m     \u001b[0;32mdef\u001b[0m \u001b[0m_fit\u001b[0m\u001b[0;34m(\u001b[0m\u001b[0mself\u001b[0m\u001b[0;34m,\u001b[0m \u001b[0mX\u001b[0m\u001b[0;34m,\u001b[0m \u001b[0mhandle_unknown\u001b[0m\u001b[0;34m=\u001b[0m\u001b[0;34m'error'\u001b[0m\u001b[0;34m)\u001b[0m\u001b[0;34m:\u001b[0m\u001b[0;34m\u001b[0m\u001b[0;34m\u001b[0m\u001b[0m\n\u001b[0;32m---> 74\u001b[0;31m         \u001b[0mX_list\u001b[0m\u001b[0;34m,\u001b[0m \u001b[0mn_samples\u001b[0m\u001b[0;34m,\u001b[0m \u001b[0mn_features\u001b[0m \u001b[0;34m=\u001b[0m \u001b[0mself\u001b[0m\u001b[0;34m.\u001b[0m\u001b[0m_check_X\u001b[0m\u001b[0;34m(\u001b[0m\u001b[0mX\u001b[0m\u001b[0;34m)\u001b[0m\u001b[0;34m\u001b[0m\u001b[0;34m\u001b[0m\u001b[0m\n\u001b[0m\u001b[1;32m     75\u001b[0m \u001b[0;34m\u001b[0m\u001b[0m\n\u001b[1;32m     76\u001b[0m         \u001b[0;32mif\u001b[0m \u001b[0mself\u001b[0m\u001b[0;34m.\u001b[0m\u001b[0mcategories\u001b[0m \u001b[0;34m!=\u001b[0m \u001b[0;34m'auto'\u001b[0m\u001b[0;34m:\u001b[0m\u001b[0;34m\u001b[0m\u001b[0;34m\u001b[0m\u001b[0m\n",
      "\u001b[0;32m/opt/anaconda3/lib/python3.7/site-packages/sklearn/preprocessing/_encoders.py\u001b[0m in \u001b[0;36m_check_X\u001b[0;34m(self, X)\u001b[0m\n\u001b[1;32m     41\u001b[0m         \u001b[0;32mif\u001b[0m \u001b[0;32mnot\u001b[0m \u001b[0;34m(\u001b[0m\u001b[0mhasattr\u001b[0m\u001b[0;34m(\u001b[0m\u001b[0mX\u001b[0m\u001b[0;34m,\u001b[0m \u001b[0;34m'iloc'\u001b[0m\u001b[0;34m)\u001b[0m \u001b[0;32mand\u001b[0m \u001b[0mgetattr\u001b[0m\u001b[0;34m(\u001b[0m\u001b[0mX\u001b[0m\u001b[0;34m,\u001b[0m \u001b[0;34m'ndim'\u001b[0m\u001b[0;34m,\u001b[0m \u001b[0;36m0\u001b[0m\u001b[0;34m)\u001b[0m \u001b[0;34m==\u001b[0m \u001b[0;36m2\u001b[0m\u001b[0;34m)\u001b[0m\u001b[0;34m:\u001b[0m\u001b[0;34m\u001b[0m\u001b[0;34m\u001b[0m\u001b[0m\n\u001b[1;32m     42\u001b[0m             \u001b[0;31m# if not a dataframe, do normal check_array validation\u001b[0m\u001b[0;34m\u001b[0m\u001b[0;34m\u001b[0m\u001b[0;34m\u001b[0m\u001b[0m\n\u001b[0;32m---> 43\u001b[0;31m             \u001b[0mX_temp\u001b[0m \u001b[0;34m=\u001b[0m \u001b[0mcheck_array\u001b[0m\u001b[0;34m(\u001b[0m\u001b[0mX\u001b[0m\u001b[0;34m,\u001b[0m \u001b[0mdtype\u001b[0m\u001b[0;34m=\u001b[0m\u001b[0;32mNone\u001b[0m\u001b[0;34m)\u001b[0m\u001b[0;34m\u001b[0m\u001b[0;34m\u001b[0m\u001b[0m\n\u001b[0m\u001b[1;32m     44\u001b[0m             if (not hasattr(X, 'dtype')\n\u001b[1;32m     45\u001b[0m                     and np.issubdtype(X_temp.dtype, np.str_)):\n",
      "\u001b[0;32m/opt/anaconda3/lib/python3.7/site-packages/sklearn/utils/validation.py\u001b[0m in \u001b[0;36minner_f\u001b[0;34m(*args, **kwargs)\u001b[0m\n\u001b[1;32m     71\u001b[0m                           FutureWarning)\n\u001b[1;32m     72\u001b[0m         \u001b[0mkwargs\u001b[0m\u001b[0;34m.\u001b[0m\u001b[0mupdate\u001b[0m\u001b[0;34m(\u001b[0m\u001b[0;34m{\u001b[0m\u001b[0mk\u001b[0m\u001b[0;34m:\u001b[0m \u001b[0marg\u001b[0m \u001b[0;32mfor\u001b[0m \u001b[0mk\u001b[0m\u001b[0;34m,\u001b[0m \u001b[0marg\u001b[0m \u001b[0;32min\u001b[0m \u001b[0mzip\u001b[0m\u001b[0;34m(\u001b[0m\u001b[0msig\u001b[0m\u001b[0;34m.\u001b[0m\u001b[0mparameters\u001b[0m\u001b[0;34m,\u001b[0m \u001b[0margs\u001b[0m\u001b[0;34m)\u001b[0m\u001b[0;34m}\u001b[0m\u001b[0;34m)\u001b[0m\u001b[0;34m\u001b[0m\u001b[0;34m\u001b[0m\u001b[0m\n\u001b[0;32m---> 73\u001b[0;31m         \u001b[0;32mreturn\u001b[0m \u001b[0mf\u001b[0m\u001b[0;34m(\u001b[0m\u001b[0;34m**\u001b[0m\u001b[0mkwargs\u001b[0m\u001b[0;34m)\u001b[0m\u001b[0;34m\u001b[0m\u001b[0;34m\u001b[0m\u001b[0m\n\u001b[0m\u001b[1;32m     74\u001b[0m     \u001b[0;32mreturn\u001b[0m \u001b[0minner_f\u001b[0m\u001b[0;34m\u001b[0m\u001b[0;34m\u001b[0m\u001b[0m\n\u001b[1;32m     75\u001b[0m \u001b[0;34m\u001b[0m\u001b[0m\n",
      "\u001b[0;32m/opt/anaconda3/lib/python3.7/site-packages/sklearn/utils/validation.py\u001b[0m in \u001b[0;36mcheck_array\u001b[0;34m(array, accept_sparse, accept_large_sparse, dtype, order, copy, force_all_finite, ensure_2d, allow_nd, ensure_min_samples, ensure_min_features, estimator)\u001b[0m\n\u001b[1;32m    577\u001b[0m                                       \u001b[0mdtype\u001b[0m\u001b[0;34m=\u001b[0m\u001b[0mdtype\u001b[0m\u001b[0;34m,\u001b[0m \u001b[0mcopy\u001b[0m\u001b[0;34m=\u001b[0m\u001b[0mcopy\u001b[0m\u001b[0;34m,\u001b[0m\u001b[0;34m\u001b[0m\u001b[0;34m\u001b[0m\u001b[0m\n\u001b[1;32m    578\u001b[0m                                       \u001b[0mforce_all_finite\u001b[0m\u001b[0;34m=\u001b[0m\u001b[0mforce_all_finite\u001b[0m\u001b[0;34m,\u001b[0m\u001b[0;34m\u001b[0m\u001b[0;34m\u001b[0m\u001b[0m\n\u001b[0;32m--> 579\u001b[0;31m                                       accept_large_sparse=accept_large_sparse)\n\u001b[0m\u001b[1;32m    580\u001b[0m     \u001b[0;32melse\u001b[0m\u001b[0;34m:\u001b[0m\u001b[0;34m\u001b[0m\u001b[0;34m\u001b[0m\u001b[0m\n\u001b[1;32m    581\u001b[0m         \u001b[0;31m# If np.array(..) gives ComplexWarning, then we convert the warning\u001b[0m\u001b[0;34m\u001b[0m\u001b[0;34m\u001b[0m\u001b[0;34m\u001b[0m\u001b[0m\n",
      "\u001b[0;32m/opt/anaconda3/lib/python3.7/site-packages/sklearn/utils/validation.py\u001b[0m in \u001b[0;36m_ensure_sparse_format\u001b[0;34m(spmatrix, accept_sparse, dtype, copy, force_all_finite, accept_large_sparse)\u001b[0m\n\u001b[1;32m    352\u001b[0m \u001b[0;34m\u001b[0m\u001b[0m\n\u001b[1;32m    353\u001b[0m     \u001b[0;32mif\u001b[0m \u001b[0maccept_sparse\u001b[0m \u001b[0;32mis\u001b[0m \u001b[0;32mFalse\u001b[0m\u001b[0;34m:\u001b[0m\u001b[0;34m\u001b[0m\u001b[0;34m\u001b[0m\u001b[0m\n\u001b[0;32m--> 354\u001b[0;31m         raise TypeError('A sparse matrix was passed, but dense '\n\u001b[0m\u001b[1;32m    355\u001b[0m                         \u001b[0;34m'data is required. Use X.toarray() to '\u001b[0m\u001b[0;34m\u001b[0m\u001b[0;34m\u001b[0m\u001b[0m\n\u001b[1;32m    356\u001b[0m                         'convert to a dense numpy array.')\n",
      "\u001b[0;31mTypeError\u001b[0m: A sparse matrix was passed, but dense data is required. Use X.toarray() to convert to a dense numpy array."
     ]
    }
   ],
   "source": [
    "from sklearn.preprocessing import OrdinalEncoder\n",
    "\n",
    "oe = OrdinalEncoder()\n",
    "X1 = oe.fit_transform(tfidf)\n",
    "X1"
   ]
  },
  {
   "cell_type": "code",
   "execution_count": 67,
   "metadata": {},
   "outputs": [
    {
     "data": {
      "text/plain": [
       "MiniBatchKMeans(n_clusters=20)"
      ]
     },
     "execution_count": 67,
     "metadata": {},
     "output_type": "execute_result"
    }
   ],
   "source": [
    "from sklearn.cluster import KMeans\n",
    "from sklearn.preprocessing import StandardScaler\n",
    "from sklearn.decomposition import PCA\n",
    "from sklearn.cluster import MiniBatchKMeans\n",
    "from sklearn import cluster\n",
    "\n",
    "kmeans = cluster.MiniBatchKMeans(n_clusters=20)\n",
    "\n",
    "kmeans.fit(X1)"
   ]
  },
  {
   "cell_type": "raw",
   "metadata": {},
   "source": [
    "scaler = StandardScaler()\n",
    "all_data = scaler.fit_transform()"
   ]
  },
  {
   "cell_type": "code",
   "execution_count": 68,
   "metadata": {},
   "outputs": [],
   "source": [
    "k_means = KMeans(n_clusters=20, random_state=123)\n",
    "k_means.fit(X1)\n",
    "y_pred = k_means.predict(X1)\n",
    "\n",
    "## Plot the solution.\n",
    "#plt.scatter(all_data[:,0], all_data[:,1], c=y_pred)\n",
    "#plt.show()"
   ]
  },
  {
   "cell_type": "code",
   "execution_count": 69,
   "metadata": {},
   "outputs": [
    {
     "data": {
      "image/png": "[encoded data removed]",
      "text/plain": [
       "<Figure size 432x288 with 1 Axes>"
      ]
     },
     "metadata": {
      "needs_background": "light"
     },
     "output_type": "display_data"
    }
   ],
   "source": [
    "# Plot the KMeans solution.\n",
    "plt.scatter(X1[:,0], X1[:,1], c=y_pred)\n",
    "plt.show()"
   ]
  },
  {
   "cell_type": "markdown",
   "metadata": {},
   "source": [
    "## Visualizing Vectors: TSNE Plot\n",
    "Using 'word2vec' allows us to identify similarities between words that never occur near one another in the tweets."
   ]
  },
  {
   "cell_type": "code",
   "execution_count": 122,
   "metadata": {},
   "outputs": [],
   "source": [
    "def tsne_plot(model):\n",
    "    \"Creates a TSNE model and plots it\"\n",
    "    labels = []\n",
    "    tokens = []\n",
    "\n",
    "    for word in model.wv.vocab:\n",
    "        tokens.append(model[word])\n",
    "        labels.append(word)\n",
    "    \n",
    "    tsne_model = TSNE(perplexity=40, n_components=2, init='svd', n_iter=2500, random_state=23)\n",
    "    new_values = tsne_model.fit_transform(tweets_by_component) #SVD: substituted dimension reduction for 'pca'\n",
    "\n",
    "    x = []\n",
    "    y = []\n",
    "    for value in new_values:\n",
    "        x.append(value[0])\n",
    "        y.append(value[1])\n",
    "        \n",
    "    plt.figure(figsize=(16, 16)) \n",
    "    for i in range(len(x)):\n",
    "        plt.scatter(x[i],y[i])\n",
    "        plt.annotate(labels[i],\n",
    "                     xy =(x[i], y[i]),\n",
    "                     xytext =(5, 2),\n",
    "                     textcoords ='offset points',\n",
    "                     ha ='right',\n",
    "                     va ='bottom')\n",
    "    plt.show()"
   ]
  },
  {
   "cell_type": "code",
   "execution_count": 127,
   "metadata": {},
   "outputs": [],
   "source": [
    "from gensim.models import Word2Vec\n",
    "\n",
    "word2vec = Word2Vec(df.tweets_fixed, min_count=2)"
   ]
  },
  {
   "cell_type": "code",
   "execution_count": 128,
   "metadata": {},
   "outputs": [
    {
     "name": "stdout",
     "output_type": "stream",
     "text": [
      "{'I': <gensim.models.keyedvectors.Vocab object at 0x120113910>, 'n': <gensim.models.keyedvectors.Vocab object at 0x1201e59d0>, ' ': <gensim.models.keyedvectors.Vocab object at 0x1200c20d0>, 't': <gensim.models.keyedvectors.Vocab object at 0x1200c2190>, 'h': <gensim.models.keyedvectors.Vocab object at 0x1200f2f90>, 'e': <gensim.models.keyedvectors.Vocab object at 0x1200f2f50>, 'i': <gensim.models.keyedvectors.Vocab object at 0x1200f2dd0>, 'r': <gensim.models.keyedvectors.Vocab object at 0x1200f2e10>, 'o': <gensim.models.keyedvectors.Vocab object at 0x1200f2d90>, 'w': <gensim.models.keyedvectors.Vocab object at 0x1200f2c50>, 'd': <gensim.models.keyedvectors.Vocab object at 0x1200f2d10>, 's': <gensim.models.keyedvectors.Vocab object at 0x1200f2b90>, ':': <gensim.models.keyedvectors.Vocab object at 0x1200f2b10>, 'F': <gensim.models.keyedvectors.Vocab object at 0x1200f2b50>, 'a': <gensim.models.keyedvectors.Vocab object at 0x1200f2ad0>, 'c': <gensim.models.keyedvectors.Vocab object at 0x1200f2990>, 'l': <gensim.models.keyedvectors.Vocab object at 0x1200f29d0>, 'g': <gensim.models.keyedvectors.Vocab object at 0x1200f2950>, 'm': <gensim.models.keyedvectors.Vocab object at 0x1200f2910>, 'f': <gensim.models.keyedvectors.Vocab object at 0x1200f2850>, 'u': <gensim.models.keyedvectors.Vocab object at 0x1200f2810>, 'U': <gensim.models.keyedvectors.Vocab object at 0x1200f2790>, '.': <gensim.models.keyedvectors.Vocab object at 0x1200f2750>, 'S': <gensim.models.keyedvectors.Vocab object at 0x1200f2710>, 'p': <gensim.models.keyedvectors.Vocab object at 0x1200f26d0>, '-': <gensim.models.keyedvectors.Vocab object at 0x1200f2690>, 'N': <gensim.models.keyedvectors.Vocab object at 0x1200f25d0>, 'أ': <gensim.models.keyedvectors.Vocab object at 0x1200f2550>, 'ب': <gensim.models.keyedvectors.Vocab object at 0x1200f2510>, 'ا': <gensim.models.keyedvectors.Vocab object at 0x1200f24d0>, 'ر': <gensim.models.keyedvectors.Vocab object at 0x1200f2490>, 'ك': <gensim.models.keyedvectors.Vocab object at 0x1200f2450>, 'ل': <gensim.models.keyedvectors.Vocab object at 0x1200f2390>, 'خ': <gensim.models.keyedvectors.Vocab object at 0x1200f2310>, 'و': <gensim.models.keyedvectors.Vocab object at 0x1200f22d0>, 'ص': <gensim.models.keyedvectors.Vocab object at 0x1200f2290>, 'د': <gensim.models.keyedvectors.Vocab object at 0x1200f2250>, 'ی': <gensim.models.keyedvectors.Vocab object at 0x1200f2210>, 'ق': <gensim.models.keyedvectors.Vocab object at 0x1200f21d0>, 'ح': <gensim.models.keyedvectors.Vocab object at 0x1200f2150>, 'م': <gensim.models.keyedvectors.Vocab object at 0x1200f2110>, 'ع': <gensim.models.keyedvectors.Vocab object at 0x1200f20d0>, 'ي': <gensim.models.keyedvectors.Vocab object at 0x1200f2090>, 'س': <gensim.models.keyedvectors.Vocab object at 0x1200f2050>, 'ن': <gensim.models.keyedvectors.Vocab object at 0x1200f6fd0>, 'ت': <gensim.models.keyedvectors.Vocab object at 0x1200f6f90>, 'ه': <gensim.models.keyedvectors.Vocab object at 0x1200f6f10>, 'ز': <gensim.models.keyedvectors.Vocab object at 0x1200f6ed0>, 'ً': <gensim.models.keyedvectors.Vocab object at 0x1200f6e90>, 'ج': <gensim.models.keyedvectors.Vocab object at 0x1200f6e50>, 'ة': <gensim.models.keyedvectors.Vocab object at 0x1200f6e10>, 'ط': <gensim.models.keyedvectors.Vocab object at 0x1200f6dd0>, 'ش': <gensim.models.keyedvectors.Vocab object at 0x1200f6cd0>, 'ف': <gensim.models.keyedvectors.Vocab object at 0x1200f6c90>, '\\n': <gensim.models.keyedvectors.Vocab object at 0x1200f6c50>, 'ى': <gensim.models.keyedvectors.Vocab object at 0x1200f6c10>, 'إ': <gensim.models.keyedvectors.Vocab object at 0x1200f6bd0>, 'ء': <gensim.models.keyedvectors.Vocab object at 0x1200f6b10>, '6': <gensim.models.keyedvectors.Vocab object at 0x1200f6a90>, '7': <gensim.models.keyedvectors.Vocab object at 0x1200f6a50>, 'y': <gensim.models.keyedvectors.Vocab object at 0x1200f6a10>, ',': <gensim.models.keyedvectors.Vocab object at 0x1200f69d0>, '/': <gensim.models.keyedvectors.Vocab object at 0x1200f6990>, 'K': <gensim.models.keyedvectors.Vocab object at 0x1200f68d0>, '’': <gensim.models.keyedvectors.Vocab object at 0x1200f6850>, 'v': <gensim.models.keyedvectors.Vocab object at 0x1200f6810>, '1': <gensim.models.keyedvectors.Vocab object at 0x1200f67d0>, '9': <gensim.models.keyedvectors.Vocab object at 0x1200f6790>, 'Y': <gensim.models.keyedvectors.Vocab object at 0x1200f6750>, 'k': <gensim.models.keyedvectors.Vocab object at 0x1200f6710>, 'b': <gensim.models.keyedvectors.Vocab object at 0x1200f6690>, 'T': <gensim.models.keyedvectors.Vocab object at 0x1200f6650>, '?': <gensim.models.keyedvectors.Vocab object at 0x1200f6610>, \"'\": <gensim.models.keyedvectors.Vocab object at 0x1200f65d0>, 'W': <gensim.models.keyedvectors.Vocab object at 0x1200f6590>, 'A': <gensim.models.keyedvectors.Vocab object at 0x1200f6550>, '2': <gensim.models.keyedvectors.Vocab object at 0x1200f6510>, '3': <gensim.models.keyedvectors.Vocab object at 0x1200f6450>, '0': <gensim.models.keyedvectors.Vocab object at 0x1200f63d0>, '5': <gensim.models.keyedvectors.Vocab object at 0x1200f6390>, 'C': <gensim.models.keyedvectors.Vocab object at 0x1200f6350>, 'E': <gensim.models.keyedvectors.Vocab object at 0x1200f6310>, 'H': <gensim.models.keyedvectors.Vocab object at 0x1200f62d0>, 'L': <gensim.models.keyedvectors.Vocab object at 0x1200f6290>, '@': <gensim.models.keyedvectors.Vocab object at 0x1200f6210>, '_': <gensim.models.keyedvectors.Vocab object at 0x1200f61d0>, 'J': <gensim.models.keyedvectors.Vocab object at 0x1200f6190>, 'B': <gensim.models.keyedvectors.Vocab object at 0x1200f6150>, 'M': <gensim.models.keyedvectors.Vocab object at 0x1200f6110>, '8': <gensim.models.keyedvectors.Vocab object at 0x1200f60d0>, '—': <gensim.models.keyedvectors.Vocab object at 0x1200f6090>, 'D': <gensim.models.keyedvectors.Vocab object at 0x1201f6750>, 'R': <gensim.models.keyedvectors.Vocab object at 0x120113dd0>, 'O': <gensim.models.keyedvectors.Vocab object at 0x1200f8fd0>, 'G': <gensim.models.keyedvectors.Vocab object at 0x1200f8f90>, '\"': <gensim.models.keyedvectors.Vocab object at 0x1200f8f50>, 'P': <gensim.models.keyedvectors.Vocab object at 0x1200f8f10>, 'j': <gensim.models.keyedvectors.Vocab object at 0x1200f8ed0>, '…': <gensim.models.keyedvectors.Vocab object at 0x1200f8e90>, 'x': <gensim.models.keyedvectors.Vocab object at 0x1200f8e50>, '(': <gensim.models.keyedvectors.Vocab object at 0x1200f8dd0>, ')': <gensim.models.keyedvectors.Vocab object at 0x1200f8d90>, '&': <gensim.models.keyedvectors.Vocab object at 0x1200f8d50>, ';': <gensim.models.keyedvectors.Vocab object at 0x1200f8d10>, 'ذ': <gensim.models.keyedvectors.Vocab object at 0x1200f8cd0>, 'ک': <gensim.models.keyedvectors.Vocab object at 0x1200f8c90>, 'گ': <gensim.models.keyedvectors.Vocab object at 0x1200f8c50>, '،': <gensim.models.keyedvectors.Vocab object at 0x1200f8bd0>, 'پ': <gensim.models.keyedvectors.Vocab object at 0x1200f8b90>, 'آ': <gensim.models.keyedvectors.Vocab object at 0x1200f8b50>, 'چ': <gensim.models.keyedvectors.Vocab object at 0x1200f8b10>, 'غ': <gensim.models.keyedvectors.Vocab object at 0x1200f8ad0>, 'ئ': <gensim.models.keyedvectors.Vocab object at 0x1200f8a90>, '🖤': <gensim.models.keyedvectors.Vocab object at 0x1200f8a50>, '🇱': <gensim.models.keyedvectors.Vocab object at 0x1200f8a10>, '🇧': <gensim.models.keyedvectors.Vocab object at 0x1200f8990>, 'ُ': <gensim.models.keyedvectors.Vocab object at 0x1200f8950>, 'ث': <gensim.models.keyedvectors.Vocab object at 0x1200f8910>, 'ض': <gensim.models.keyedvectors.Vocab object at 0x1200f88d0>, 'ٌ': <gensim.models.keyedvectors.Vocab object at 0x1200f8890>, 'ّ': <gensim.models.keyedvectors.Vocab object at 0x1200f8850>, 'Z': <gensim.models.keyedvectors.Vocab object at 0x1200f8810>, 'V': <gensim.models.keyedvectors.Vocab object at 0x1200f8750>, 'z': <gensim.models.keyedvectors.Vocab object at 0x1200f86d0>, 'q': <gensim.models.keyedvectors.Vocab object at 0x1200f8690>, 'ظ': <gensim.models.keyedvectors.Vocab object at 0x1200f8650>, '“': <gensim.models.keyedvectors.Vocab object at 0x1200f8610>, '”': <gensim.models.keyedvectors.Vocab object at 0x1200f85d0>, '+': <gensim.models.keyedvectors.Vocab object at 0x1200f8590>, 'Q': <gensim.models.keyedvectors.Vocab object at 0x1200f8550>, '|': <gensim.models.keyedvectors.Vocab object at 0x1200f8510>, '在': <gensim.models.keyedvectors.Vocab object at 0x1200f84d0>, '中': <gensim.models.keyedvectors.Vocab object at 0x1200f8490>, '国': <gensim.models.keyedvectors.Vocab object at 0x1200f8450>, '端': <gensim.models.keyedvectors.Vocab object at 0x1200f8410>, '午': <gensim.models.keyedvectors.Vocab object at 0x1200f83d0>, '节': <gensim.models.keyedvectors.Vocab object at 0x1200f8390>, '来': <gensim.models.keyedvectors.Vocab object at 0x1200f82d0>, '，': <gensim.models.keyedvectors.Vocab object at 0x1200f8250>, '很': <gensim.models.keyedvectors.Vocab object at 0x1200f8210>, '高': <gensim.models.keyedvectors.Vocab object at 0x1200f81d0>, '兴': <gensim.models.keyedvectors.Vocab object at 0x1200f8190>, '同': <gensim.models.keyedvectors.Vocab object at 0x1200f8150>, '务': <gensim.models.keyedvectors.Vocab object at 0x1200f8110>, '委': <gensim.models.keyedvectors.Vocab object at 0x1200f8090>, '员': <gensim.models.keyedvectors.Vocab object at 0x1200f8050>, '兼': <gensim.models.keyedvectors.Vocab object at 0x1200ff490>, '外': <gensim.models.keyedvectors.Vocab object at 0x1200fffd0>, '长': <gensim.models.keyedvectors.Vocab object at 0x1200fff90>, '王': <gensim.models.keyedvectors.Vocab object at 0x1200fff50>, '毅': <gensim.models.keyedvectors.Vocab object at 0x1200fff10>, '举': <gensim.models.keyedvectors.Vocab object at 0x1200ffe10>, '会': <gensim.models.keyedvectors.Vocab object at 0x1200ffdd0>, '。': <gensim.models.keyedvectors.Vocab object at 0x1200ffd90>, '我': <gensim.models.keyedvectors.Vocab object at 0x1200ffd50>, '们': <gensim.models.keyedvectors.Vocab object at 0x1200ffd10>, '就': <gensim.models.keyedvectors.Vocab object at 0x1200ffc90>, '深': <gensim.models.keyedvectors.Vocab object at 0x1200ffc50>, '化': <gensim.models.keyedvectors.Vocab object at 0x1200ffbd0>, '两': <gensim.models.keyedvectors.Vocab object at 0x1200ffb90>, '全': <gensim.models.keyedvectors.Vocab object at 0x1200ffb50>, '面': <gensim.models.keyedvectors.Vocab object at 0x1200ffb10>, '战': <gensim.models.keyedvectors.Vocab object at 0x1200ffad0>, '略': <gensim.models.keyedvectors.Vocab object at 0x1200ffa90>, '伙': <gensim.models.keyedvectors.Vocab object at 0x1200ffa10>, '伴': <gensim.models.keyedvectors.Vocab object at 0x1200ff9d0>, '关': <gensim.models.keyedvectors.Vocab object at 0x1200ff990>, '系': <gensim.models.keyedvectors.Vocab object at 0x1200ff950>, '、': <gensim.models.keyedvectors.Vocab object at 0x1200ff910>, '推': <gensim.models.keyedvectors.Vocab object at 0x1200ff8d0>, '动': <gensim.models.keyedvectors.Vocab object at 0x1200ff7d0>, '年': <gensim.models.keyedvectors.Vocab object at 0x1200ff790>, '边': <gensim.models.keyedvectors.Vocab object at 0x1200ff750>, '际': <gensim.models.keyedvectors.Vocab object at 0x1200ff710>, '支': <gensim.models.keyedvectors.Vocab object at 0x1200ff6d0>, '持': <gensim.models.keyedvectors.Vocab object at 0x1200ff690>, '等': <gensim.models.keyedvectors.Vocab object at 0x1200ff5d0>, '议': <gensim.models.keyedvectors.Vocab object at 0x1200ff550>, '题': <gensim.models.keyedvectors.Vocab object at 0x1200ff510>, '成': <gensim.models.keyedvectors.Vocab object at 0x1200ff450>, '共': <gensim.models.keyedvectors.Vocab object at 0x1200ff410>, '都': <gensim.models.keyedvectors.Vocab object at 0x1200ff3d0>, '重': <gensim.models.keyedvectors.Vocab object at 0x1200ff2d0>, '对': <gensim.models.keyedvectors.Vocab object at 0x1200ff290>, '伊': <gensim.models.keyedvectors.Vocab object at 0x1200ff250>, '核': <gensim.models.keyedvectors.Vocab object at 0x1200ff210>, '协': <gensim.models.keyedvectors.Vocab object at 0x1200ff1d0>, '主': <gensim.models.keyedvectors.Vocab object at 0x1200ff190>, '义': <gensim.models.keyedvectors.Vocab object at 0x1200ff150>, '及': <gensim.models.keyedvectors.Vocab object at 0x1200ff110>, '法': <gensim.models.keyedvectors.Vocab object at 0x1200ff0d0>, '的': <gensim.models.keyedvectors.Vocab object at 0x1200ff090>, '反': <gensim.models.keyedvectors.Vocab object at 0x1200ff050>, '祝': <gensim.models.keyedvectors.Vocab object at 0x1200fefd0>, '朋': <gensim.models.keyedvectors.Vocab object at 0x1200fef90>, '友': <gensim.models.keyedvectors.Vocab object at 0x1200fef50>, '安': <gensim.models.keyedvectors.Vocab object at 0x1200fee90>, '康': <gensim.models.keyedvectors.Vocab object at 0x1200fee10>, '！': <gensim.models.keyedvectors.Vocab object at 0x1200fedd0>, '📌': <gensim.models.keyedvectors.Vocab object at 0x1200fed90>, '‘': <gensim.models.keyedvectors.Vocab object at 0x1200fed50>, '*': <gensim.models.keyedvectors.Vocab object at 0x1200fed10>, 'ؤ': <gensim.models.keyedvectors.Vocab object at 0x1200fecd0>, '4': <gensim.models.keyedvectors.Vocab object at 0x1200fec90>, 'X': <gensim.models.keyedvectors.Vocab object at 0x1200fec50>, '非': <gensim.models.keyedvectors.Vocab object at 0x1200fec10>, '和': <gensim.models.keyedvectors.Vocab object at 0x1200febd0>, '通': <gensim.models.keyedvectors.Vocab object at 0x1200feb90>, '话': <gensim.models.keyedvectors.Vocab object at 0x1200feb50>, '抗': <gensim.models.keyedvectors.Vocab object at 0x1200feb10>, '击': <gensim.models.keyedvectors.Vocab object at 0x1200fead0>, '新': <gensim.models.keyedvectors.Vocab object at 0x1200fea10>, '冠': <gensim.models.keyedvectors.Vocab object at 0x1200fe990>, '肺': <gensim.models.keyedvectors.Vocab object at 0x1200fe950>, '炎': <gensim.models.keyedvectors.Vocab object at 0x1200fe910>, '疫': <gensim.models.keyedvectors.Vocab object at 0x1200fe8d0>, '情': <gensim.models.keyedvectors.Vocab object at 0x1200fe890>, '阿': <gensim.models.keyedvectors.Vocab object at 0x1200fe850>, '程': <gensim.models.keyedvectors.Vocab object at 0x1200fe7d0>, '心': <gensim.models.keyedvectors.Vocab object at 0x1200fe790>, '了': <gensim.models.keyedvectors.Vocab object at 0x1200fe750>, '向': <gensim.models.keyedvectors.Vocab object at 0x1200fe710>, '朗': <gensim.models.keyedvectors.Vocab object at 0x1200fe6d0>, '物': <gensim.models.keyedvectors.Vocab object at 0x1200fe690>, '表': <gensim.models.keyedvectors.Vocab object at 0x1200fe650>, '示': <gensim.models.keyedvectors.Vocab object at 0x1200fe5d0>, '感': <gensim.models.keyedvectors.Vocab object at 0x1200fe590>, '谢': <gensim.models.keyedvectors.Vocab object at 0x1200fe550>, '谴': <gensim.models.keyedvectors.Vocab object at 0x1200fe510>, '责': <gensim.models.keyedvectors.Vocab object at 0x1200fe4d0>, '美': <gensim.models.keyedvectors.Vocab object at 0x1200fe490>, '续': <gensim.models.keyedvectors.Vocab object at 0x1200fe390>, '制': <gensim.models.keyedvectors.Vocab object at 0x1200fe350>, 'И': <gensim.models.keyedvectors.Vocab object at 0x1200fe310>, 'р': <gensim.models.keyedvectors.Vocab object at 0x1200fe2d0>, 'а': <gensim.models.keyedvectors.Vocab object at 0x1200fe290>, 'н': <gensim.models.keyedvectors.Vocab object at 0x1200fe1d0>, 'п': <gensim.models.keyedvectors.Vocab object at 0x1200fe150>, 'и': <gensim.models.keyedvectors.Vocab object at 0x1200fe110>, 'в': <gensim.models.keyedvectors.Vocab object at 0x1200fe0d0>, 'е': <gensim.models.keyedvectors.Vocab object at 0x1200fe090>, 'т': <gensim.models.keyedvectors.Vocab object at 0x1200fe050>, 'с': <gensim.models.keyedvectors.Vocab object at 0x1200c30d0>, 'у': <gensim.models.keyedvectors.Vocab object at 0x1200c3150>, 'о': <gensim.models.keyedvectors.Vocab object at 0x1200c3190>, 'й': <gensim.models.keyedvectors.Vocab object at 0x1200c31d0>, 'к': <gensim.models.keyedvectors.Vocab object at 0x1200c3210>, 'ю': <gensim.models.keyedvectors.Vocab object at 0x1200c3250>, 'д': <gensim.models.keyedvectors.Vocab object at 0x1200c3290>, 'з': <gensim.models.keyedvectors.Vocab object at 0x1200c32d0>, 'л': <gensim.models.keyedvectors.Vocab object at 0x1200c3310>, 'г': <gensim.models.keyedvectors.Vocab object at 0x1200c3350>, 'м': <gensim.models.keyedvectors.Vocab object at 0x1200c3390>, 'ч': <gensim.models.keyedvectors.Vocab object at 0x1200c33d0>, 'ы': <gensim.models.keyedvectors.Vocab object at 0x1200c3450>, 'ц': <gensim.models.keyedvectors.Vocab object at 0x1200c3410>, 'ж': <gensim.models.keyedvectors.Vocab object at 0x1200c3490>, 'я': <gensim.models.keyedvectors.Vocab object at 0x1200c3550>, 'б': <gensim.models.keyedvectors.Vocab object at 0x1200c35d0>, 'щ': <gensim.models.keyedvectors.Vocab object at 0x1200c3610>, 'х': <gensim.models.keyedvectors.Vocab object at 0x1200c3650>, 'ф': <gensim.models.keyedvectors.Vocab object at 0x1200c36d0>, 'é': <gensim.models.keyedvectors.Vocab object at 0x1200c3710>, 'َ': <gensim.models.keyedvectors.Vocab object at 0x1200c3790>, 'ْ': <gensim.models.keyedvectors.Vocab object at 0x1200c3810>, 'ِ': <gensim.models.keyedvectors.Vocab object at 0x1200c3850>, '人': <gensim.models.keyedvectors.Vocab object at 0x1200c3890>, '说': <gensim.models.keyedvectors.Vocab object at 0x1200c38d0>, '子': <gensim.models.keyedvectors.Vocab object at 0x1200c3910>, '兄': <gensim.models.keyedvectors.Vocab object at 0x1200c3950>, '弟': <gensim.models.keyedvectors.Vocab object at 0x1200c39d0>, '之': <gensim.models.keyedvectors.Vocab object at 0x1200c3990>, '一': <gensim.models.keyedvectors.Vocab object at 0x1200c3a50>, '体': <gensim.models.keyedvectors.Vocab object at 0x1200c3a90>, '病': <gensim.models.keyedvectors.Vocab object at 0x1200c3ad0>, '染': <gensim.models.keyedvectors.Vocab object at 0x1200c3b10>, '无': <gensim.models.keyedvectors.Vocab object at 0x1200c3b50>, '与': <gensim.models.keyedvectors.Vocab object at 0x1200c3b90>, '论': <gensim.models.keyedvectors.Vocab object at 0x1200c3c10>, '何': <gensim.models.keyedvectors.Vocab object at 0x1200c3c50>, '时': <gensim.models.keyedvectors.Vocab object at 0x1200c3c90>, '站': <gensim.models.keyedvectors.Vocab object at 0x1200c3cd0>, '起': <gensim.models.keyedvectors.Vocab object at 0x1200c3d10>, '功': <gensim.models.keyedvectors.Vocab object at 0x1200c3d90>, '止': <gensim.models.keyedvectors.Vocab object at 0x1200c3d50>, '更': <gensim.models.keyedvectors.Vocab object at 0x1200c3e10>, '防': <gensim.models.keyedvectors.Vocab object at 0x1200c3e50>, '控': <gensim.models.keyedvectors.Vocab object at 0x1200c3e90>, '也': <gensim.models.keyedvectors.Vocab object at 0x1200c3ed0>, '过': <gensim.models.keyedvectors.Vocab object at 0x1200c3f10>, '希': <gensim.models.keyedvectors.Vocab object at 0x1200c3f50>, '望': <gensim.models.keyedvectors.Vocab object at 0x1200c9050>, '民': <gensim.models.keyedvectors.Vocab object at 0x1200c9090>, '度': <gensim.models.keyedvectors.Vocab object at 0x1200c9150>, '祥': <gensim.models.keyedvectors.Vocab object at 0x1200c9110>, '鼠': <gensim.models.keyedvectors.Vocab object at 0x1200c9190>, '境': <gensim.models.keyedvectors.Vocab object at 0x1200c91d0>, '✔': <gensim.models.keyedvectors.Vocab object at 0x1200c9250>, '️': <gensim.models.keyedvectors.Vocab object at 0x1200c9290>, '北': <gensim.models.keyedvectors.Vocab object at 0x1200c9350>, '京': <gensim.models.keyedvectors.Vocab object at 0x1200c9390>, '天': <gensim.models.keyedvectors.Vocab object at 0x1200c93d0>}\n"
     ]
    }
   ],
   "source": [
    "vocabulary = word2vec.wv.vocab\n",
    "print(vocabulary)"
   ]
  },
  {
   "cell_type": "code",
   "execution_count": null,
   "metadata": {},
   "outputs": [],
   "source": [
    "#Substituted tweets_fixed_tfidf \n",
    "# then tweets_by_component for corpus \n",
    "##Correction\n",
    "#print(tweets_by_component)\n",
    "\n",
    "model = word2vec.Word2Vec(vocabulary, size=100, window=20, min_count=500, workers=4)\n",
    "tsne_plot(model)"
   ]
  },
  {
   "cell_type": "markdown",
   "metadata": {},
   "source": [
    "## DBSCAN Cluster\n"
   ]
  },
  {
   "cell_type": "code",
   "execution_count": 132,
   "metadata": {},
   "outputs": [],
   "source": [
    "#new cluster \n",
    "import matplotlib.pyplot as plt\n",
    "from sklearn.preprocessing import StandardScaler\n",
    "from sklearn.cluster import DBSCAN\n",
    "from sklearn.decomposition import PCA\n",
    "from sklearn import datasets, metrics\n",
    "\n",
    "dbscan_cluster = DBSCAN(eps=1, min_samples=5)\n",
    "\n",
    "# Fit model\n",
    "clusters = dbscan_cluster.fit_predict(tweets_by_component)"
   ]
  },
  {
   "cell_type": "code",
   "execution_count": 133,
   "metadata": {},
   "outputs": [
    {
     "data": {
      "image/png": "[encoded data removed]",
      "text/plain": [
       "<Figure size 720x360 with 1 Axes>"
      ]
     },
     "metadata": {},
     "output_type": "display_data"
    }
   ],
   "source": [
    "pca = PCA(n_components=2).fit_transform(tweets_by_component)\n",
    "\n",
    "plt.figure(figsize=(10,5))\n",
    "colours = 'rbg'\n",
    "for i in range(pca.shape[0]):\n",
    "    plt.text(pca[i, 0], pca[i, 1], str(clusters[i]),\n",
    "             #color=colours[y[i]],\n",
    "             fontdict={'weight': 'bold', 'size': 50}\n",
    "        )\n",
    "\n",
    "plt.xticks([])\n",
    "plt.yticks([])\n",
    "plt.axis('off')\n",
    "plt.show()"
   ]
  },
  {
   "cell_type": "code",
   "execution_count": null,
   "metadata": {},
   "outputs": [],
   "source": []
  },
  {
   "cell_type": "code",
   "execution_count": 136,
   "metadata": {},
   "outputs": [
    {
     "data": {
      "text/plain": [
       "array([0, 3, 0, 3, 0, 1, 1, 1, 1, 0, 3, 0, 1, 0, 0, 0, 0, 1, 0, 0, 1, 1,\n",
       "       1, 0, 1, 0, 1, 1, 3, 1, 0, 1, 1, 0, 0, 1, 1, 0, 1, 3, 4, 1, 0, 0,\n",
       "       1, 0, 0, 0, 2, 0, 1, 1, 0, 2, 3, 1, 1, 1, 0, 0, 1, 0, 0, 2, 1, 0,\n",
       "       0, 1, 1, 0, 1, 3, 4, 1, 1, 1, 0, 0, 1, 1, 0, 0, 0, 0, 1, 4, 1, 0,\n",
       "       0, 4, 0, 1, 4, 1, 1, 1, 0, 3, 3, 0, 1, 0, 1, 1, 1, 1, 1, 1, 1, 0,\n",
       "       3, 1, 1, 1, 0, 0, 1, 0, 1, 0])"
      ]
     },
     "execution_count": 136,
     "metadata": {},
     "output_type": "execute_result"
    }
   ],
   "source": [
    "from sklearn.cluster import AgglomerativeClustering\n",
    "# Defining the agglomerative clustering\n",
    "agg_cluster = AgglomerativeClustering(linkage='complete', \n",
    "                                      affinity='cosine',\n",
    "                                      n_clusters=5) #select 5 clusters\n",
    "\n",
    "# Fit model\n",
    "clusters = agg_cluster.fit_predict(tweets_by_component)\n",
    "clusters"
   ]
  },
  {
   "cell_type": "code",
   "execution_count": null,
   "metadata": {},
   "outputs": [],
   "source": []
  }
 ],
 "metadata": {
  "kernelspec": {
   "display_name": "Python 3",
   "language": "python",
   "name": "python3"
  },
  "language_info": {
   "codemirror_mode": {
    "name": "ipython",
    "version": 3
   },
   "file_extension": ".py",
   "mimetype": "text/x-python",
   "name": "python",
   "nbconvert_exporter": "python",
   "pygments_lexer": "ipython3",
   "version": "3.7.4"
  }
 },
 "nbformat": 4,
 "nbformat_minor": 2
}
