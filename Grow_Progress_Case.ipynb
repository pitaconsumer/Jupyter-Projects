{
  "nbformat": 4,
  "nbformat_minor": 0,
  "metadata": {
    "colab": {
      "name": "Grow-Progress_Case",
      "provenance": []
    },
    "kernelspec": {
      "name": "python3",
      "display_name": "Python 3"
    },
    "language_info": {
      "name": "python"
    }
  },
  "cells": [
    {
      "cell_type": "markdown",
      "metadata": {
        "id": "civ_ktqOOIYd"
      },
      "source": [
        "# Problem: You have been assigned the task of identifying potential donors for BlueRoots, a group focused on electing Democrats down-ballot, which is based in a swing state. Luckily, BlueRoots already has some data from its own list of members, with additional columns appended from commercial and other external sources. Your overall task is to load the data, clean it, impute missing values, and figure out how you would build a model of potential donors who can be targeted by the fundraising team.\n",
        "\n",
        " "
      ]
    },
    {
      "cell_type": "markdown",
      "metadata": {
        "id": "MIbLl8P3QO0Q"
      },
      "source": [
        "Question 1: As a first step, write code to load the data from gp_test_data.csv into your working environment.\n",
        "● Write some code to examine the data for any issues that might make analysis difficult. Don’t try to fix anything now, just look. Briefly describe any issues you find in a document file saved as GPTest_LASTNAME, with the appropriate file extension (.docx, .pdf, etc.). You will continue to use this document for additional questions."
      ]
    },
    {
      "cell_type": "code",
      "metadata": {
        "colab": {
          "base_uri": "https://localhost:8080/"
        },
        "id": "LafC4LwXQj4l",
        "outputId": "ae5c3ded-c45f-4dde-8744-5daf5fe636cc"
      },
      "source": [
        "!pip install empiricaldist"
      ],
      "execution_count": 2,
      "outputs": [
        {
          "output_type": "stream",
          "text": [
            "Collecting empiricaldist\n",
            "  Downloading https://files.pythonhosted.org/packages/64/ce/732891161f5ca77d8a50616ad3081ec307bddcaa5ad604702bdb2f7654ad/empiricaldist-0.6.1.tar.gz\n",
            "Building wheels for collected packages: empiricaldist\n",
            "  Building wheel for empiricaldist (setup.py) ... \u001b[?25l\u001b[?25hdone\n",
            "  Created wheel for empiricaldist: filename=empiricaldist-0.6.1-cp37-none-any.whl size=10629 sha256=4c2390a0cc6cde37c65ce6207603d4255f32879406345552ddb94ab41d0e78f5\n",
            "  Stored in directory: /root/.cache/pip/wheels/9d/93/b1/92742aa428b2a83dd6aa6ece18a908f7e38c15895b1c37a462\n",
            "Successfully built empiricaldist\n",
            "Installing collected packages: empiricaldist\n",
            "Successfully installed empiricaldist-0.6.1\n"
          ],
          "name": "stdout"
        }
      ]
    },
    {
      "cell_type": "code",
      "metadata": {
        "id": "T1exoPzvQfVw"
      },
      "source": [
        "import numpy as np\n",
        "import pandas as pd\n",
        "import seaborn as sns\n",
        "import scipy as sp\n",
        "import matplotlib.pyplot as plt\n",
        "from empiricaldist import Cdf\n",
        "\n"
      ],
      "execution_count": 41,
      "outputs": []
    },
    {
      "cell_type": "markdown",
      "metadata": {
        "id": "qhng3WecRt1G"
      },
      "source": [
        "**1. Open to Access File and Libraries**"
      ]
    },
    {
      "cell_type": "code",
      "metadata": {
        "colab": {
          "base_uri": "https://localhost:8080/"
        },
        "id": "_wCAh8kBQmth",
        "outputId": "7e8b8d28-b079-4871-e7b3-b73623cd7623"
      },
      "source": [
        "#Upload Grow Progress file and mount Google Drive to access csv file\n",
        "from google.colab import drive\n",
        "drive.mount('/content/drive')"
      ],
      "execution_count": 4,
      "outputs": [
        {
          "output_type": "stream",
          "text": [
            "Mounted at /content/drive\n"
          ],
          "name": "stdout"
        }
      ]
    },
    {
      "cell_type": "code",
      "metadata": {
        "colab": {
          "base_uri": "https://localhost:8080/",
          "height": 439
        },
        "id": "gda52RyUQzRe",
        "outputId": "87d10dbe-4c0c-42fd-81de-d412660c9742"
      },
      "source": [
        "#Open Grow Progress file to review\n",
        "#Use Pandas to read data, explore for missing values, and manipulate for feature analysis supporting a model\n",
        "potential_donors = pd.read_csv('/content/gp_test_data.csv')\n",
        "potential_donors"
      ],
      "execution_count": 5,
      "outputs": [
        {
          "output_type": "execute_result",
          "data": {
            "text/html": [
              "<div>\n",
              "<style scoped>\n",
              "    .dataframe tbody tr th:only-of-type {\n",
              "        vertical-align: middle;\n",
              "    }\n",
              "\n",
              "    .dataframe tbody tr th {\n",
              "        vertical-align: top;\n",
              "    }\n",
              "\n",
              "    .dataframe thead th {\n",
              "        text-align: right;\n",
              "    }\n",
              "</style>\n",
              "<table border=\"1\" class=\"dataframe\">\n",
              "  <thead>\n",
              "    <tr style=\"text-align: right;\">\n",
              "      <th></th>\n",
              "      <th>voterID</th>\n",
              "      <th>Urbanicity</th>\n",
              "      <th>Date_of_birth</th>\n",
              "      <th>Gender</th>\n",
              "      <th>Married</th>\n",
              "      <th>Homeowner</th>\n",
              "      <th>Has_children</th>\n",
              "      <th>Zipcode</th>\n",
              "      <th>Modeled_charitable_giving</th>\n",
              "      <th>Household_income</th>\n",
              "      <th>Unaffiliated_voter</th>\n",
              "      <th>Modeled_activist_score</th>\n",
              "      <th>Modeled_turnout_score</th>\n",
              "      <th>Discretionary_income_level</th>\n",
              "      <th>Nonsaver_level</th>\n",
              "      <th>Modeled_partisan_score</th>\n",
              "      <th>Survey_Respondent</th>\n",
              "      <th>Liberal_cause_donation</th>\n",
              "    </tr>\n",
              "  </thead>\n",
              "  <tbody>\n",
              "    <tr>\n",
              "      <th>0</th>\n",
              "      <td>101</td>\n",
              "      <td>Rural</td>\n",
              "      <td>NaN</td>\n",
              "      <td>M</td>\n",
              "      <td>0.0</td>\n",
              "      <td>0.0</td>\n",
              "      <td>NaN</td>\n",
              "      <td>5370</td>\n",
              "      <td>6.0</td>\n",
              "      <td>90000.0</td>\n",
              "      <td>NaN</td>\n",
              "      <td>19.3</td>\n",
              "      <td>51.6</td>\n",
              "      <td>5.0</td>\n",
              "      <td>7.0</td>\n",
              "      <td>49.8</td>\n",
              "      <td>0</td>\n",
              "      <td>NaN</td>\n",
              "    </tr>\n",
              "    <tr>\n",
              "      <th>1</th>\n",
              "      <td>102</td>\n",
              "      <td>Suburban</td>\n",
              "      <td>1946.0</td>\n",
              "      <td>F</td>\n",
              "      <td>1.0</td>\n",
              "      <td>1.0</td>\n",
              "      <td>NaN</td>\n",
              "      <td>5151</td>\n",
              "      <td>10.0</td>\n",
              "      <td>44000.0</td>\n",
              "      <td>1.0</td>\n",
              "      <td>69.4</td>\n",
              "      <td>91.8</td>\n",
              "      <td>8.0</td>\n",
              "      <td>5.0</td>\n",
              "      <td>2.4</td>\n",
              "      <td>1</td>\n",
              "      <td>15.0</td>\n",
              "    </tr>\n",
              "    <tr>\n",
              "      <th>2</th>\n",
              "      <td>103</td>\n",
              "      <td>Suburban</td>\n",
              "      <td>1995.0</td>\n",
              "      <td>NaN</td>\n",
              "      <td>1.0</td>\n",
              "      <td>NaN</td>\n",
              "      <td>NaN</td>\n",
              "      <td>4144</td>\n",
              "      <td>NaN</td>\n",
              "      <td>NaN</td>\n",
              "      <td>1.0</td>\n",
              "      <td>73.0</td>\n",
              "      <td>47.4</td>\n",
              "      <td>NaN</td>\n",
              "      <td>NaN</td>\n",
              "      <td>47.3</td>\n",
              "      <td>0</td>\n",
              "      <td>NaN</td>\n",
              "    </tr>\n",
              "    <tr>\n",
              "      <th>3</th>\n",
              "      <td>104</td>\n",
              "      <td>Suburban</td>\n",
              "      <td>1979.0</td>\n",
              "      <td>NaN</td>\n",
              "      <td>1.0</td>\n",
              "      <td>1.0</td>\n",
              "      <td>NaN</td>\n",
              "      <td>4440</td>\n",
              "      <td>8.0</td>\n",
              "      <td>62000.0</td>\n",
              "      <td>1.0</td>\n",
              "      <td>29.3</td>\n",
              "      <td>88.2</td>\n",
              "      <td>1.0</td>\n",
              "      <td>7.0</td>\n",
              "      <td>98.1</td>\n",
              "      <td>1</td>\n",
              "      <td>63.0</td>\n",
              "    </tr>\n",
              "    <tr>\n",
              "      <th>4</th>\n",
              "      <td>105</td>\n",
              "      <td>Suburban</td>\n",
              "      <td>1947.0</td>\n",
              "      <td>NaN</td>\n",
              "      <td>0.0</td>\n",
              "      <td>1.0</td>\n",
              "      <td>NaN</td>\n",
              "      <td>5064</td>\n",
              "      <td>NaN</td>\n",
              "      <td>47000.0</td>\n",
              "      <td>1.0</td>\n",
              "      <td>41.0</td>\n",
              "      <td>73.4</td>\n",
              "      <td>9.0</td>\n",
              "      <td>NaN</td>\n",
              "      <td>75.0</td>\n",
              "      <td>0</td>\n",
              "      <td>NaN</td>\n",
              "    </tr>\n",
              "    <tr>\n",
              "      <th>...</th>\n",
              "      <td>...</td>\n",
              "      <td>...</td>\n",
              "      <td>...</td>\n",
              "      <td>...</td>\n",
              "      <td>...</td>\n",
              "      <td>...</td>\n",
              "      <td>...</td>\n",
              "      <td>...</td>\n",
              "      <td>...</td>\n",
              "      <td>...</td>\n",
              "      <td>...</td>\n",
              "      <td>...</td>\n",
              "      <td>...</td>\n",
              "      <td>...</td>\n",
              "      <td>...</td>\n",
              "      <td>...</td>\n",
              "      <td>...</td>\n",
              "      <td>...</td>\n",
              "    </tr>\n",
              "    <tr>\n",
              "      <th>19995</th>\n",
              "      <td>20096</td>\n",
              "      <td>Suburban</td>\n",
              "      <td>1942.0</td>\n",
              "      <td>M</td>\n",
              "      <td>1.0</td>\n",
              "      <td>1.0</td>\n",
              "      <td>NaN</td>\n",
              "      <td>4310</td>\n",
              "      <td>10.0</td>\n",
              "      <td>27000.0</td>\n",
              "      <td>1.0</td>\n",
              "      <td>10.3</td>\n",
              "      <td>22.4</td>\n",
              "      <td>10.0</td>\n",
              "      <td>2.0</td>\n",
              "      <td>67.9</td>\n",
              "      <td>0</td>\n",
              "      <td>NaN</td>\n",
              "    </tr>\n",
              "    <tr>\n",
              "      <th>19996</th>\n",
              "      <td>20097</td>\n",
              "      <td>Suburban</td>\n",
              "      <td>1981.0</td>\n",
              "      <td>M</td>\n",
              "      <td>1.0</td>\n",
              "      <td>1.0</td>\n",
              "      <td>NaN</td>\n",
              "      <td>5152</td>\n",
              "      <td>9.0</td>\n",
              "      <td>53000.0</td>\n",
              "      <td>1.0</td>\n",
              "      <td>15.1</td>\n",
              "      <td>2.2</td>\n",
              "      <td>3.0</td>\n",
              "      <td>4.0</td>\n",
              "      <td>20.0</td>\n",
              "      <td>0</td>\n",
              "      <td>NaN</td>\n",
              "    </tr>\n",
              "    <tr>\n",
              "      <th>19997</th>\n",
              "      <td>20098</td>\n",
              "      <td>Rural</td>\n",
              "      <td>1917.0</td>\n",
              "      <td>F</td>\n",
              "      <td>0.0</td>\n",
              "      <td>1.0</td>\n",
              "      <td>NaN</td>\n",
              "      <td>3758</td>\n",
              "      <td>NaN</td>\n",
              "      <td>11000.0</td>\n",
              "      <td>1.0</td>\n",
              "      <td>23.8</td>\n",
              "      <td>1.6</td>\n",
              "      <td>11.0</td>\n",
              "      <td>1.0</td>\n",
              "      <td>78.9</td>\n",
              "      <td>0</td>\n",
              "      <td>NaN</td>\n",
              "    </tr>\n",
              "    <tr>\n",
              "      <th>19998</th>\n",
              "      <td>20099</td>\n",
              "      <td>Rural</td>\n",
              "      <td>1958.0</td>\n",
              "      <td>F</td>\n",
              "      <td>0.0</td>\n",
              "      <td>NaN</td>\n",
              "      <td>NaN</td>\n",
              "      <td>4440</td>\n",
              "      <td>NaN</td>\n",
              "      <td>NaN</td>\n",
              "      <td>1.0</td>\n",
              "      <td>31.4</td>\n",
              "      <td>38.6</td>\n",
              "      <td>NaN</td>\n",
              "      <td>NaN</td>\n",
              "      <td>39.5</td>\n",
              "      <td>0</td>\n",
              "      <td>NaN</td>\n",
              "    </tr>\n",
              "    <tr>\n",
              "      <th>19999</th>\n",
              "      <td>20100</td>\n",
              "      <td>Urban</td>\n",
              "      <td>1947.0</td>\n",
              "      <td>F</td>\n",
              "      <td>0.0</td>\n",
              "      <td>1.0</td>\n",
              "      <td>NaN</td>\n",
              "      <td>4121</td>\n",
              "      <td>8.0</td>\n",
              "      <td>15000.0</td>\n",
              "      <td>1.0</td>\n",
              "      <td>87.6</td>\n",
              "      <td>93.9</td>\n",
              "      <td>9.0</td>\n",
              "      <td>2.0</td>\n",
              "      <td>99.2</td>\n",
              "      <td>0</td>\n",
              "      <td>NaN</td>\n",
              "    </tr>\n",
              "  </tbody>\n",
              "</table>\n",
              "<p>20000 rows × 18 columns</p>\n",
              "</div>"
            ],
            "text/plain": [
              "       voterID Urbanicity  ...  Survey_Respondent Liberal_cause_donation\n",
              "0          101      Rural  ...                  0                    NaN\n",
              "1          102   Suburban  ...                  1                   15.0\n",
              "2          103   Suburban  ...                  0                    NaN\n",
              "3          104   Suburban  ...                  1                   63.0\n",
              "4          105   Suburban  ...                  0                    NaN\n",
              "...        ...        ...  ...                ...                    ...\n",
              "19995    20096   Suburban  ...                  0                    NaN\n",
              "19996    20097   Suburban  ...                  0                    NaN\n",
              "19997    20098      Rural  ...                  0                    NaN\n",
              "19998    20099      Rural  ...                  0                    NaN\n",
              "19999    20100      Urban  ...                  0                    NaN\n",
              "\n",
              "[20000 rows x 18 columns]"
            ]
          },
          "metadata": {
            "tags": []
          },
          "execution_count": 5
        }
      ]
    },
    {
      "cell_type": "code",
      "metadata": {
        "colab": {
          "base_uri": "https://localhost:8080/"
        },
        "id": "b95bYh1ZWxMZ",
        "outputId": "28aaa1bb-b89d-4ce4-d7c5-bef79b8c6cb2"
      },
      "source": [
        "len(potential_donors)"
      ],
      "execution_count": 16,
      "outputs": [
        {
          "output_type": "execute_result",
          "data": {
            "text/plain": [
              "20000"
            ]
          },
          "metadata": {
            "tags": []
          },
          "execution_count": 16
        }
      ]
    },
    {
      "cell_type": "markdown",
      "metadata": {
        "id": "pZsSvr6-RmQz"
      },
      "source": [
        "2**. Exploratory Data Analysis**\n",
        "Count the number of people who have a modeled partisan score above 80 (meaning they are at least 80% likely to support Democratic candidates) and a modeled turnout score above 70 (meaning they are at least 70% likely to vote in the 2018 midterm election"
      ]
    },
    {
      "cell_type": "code",
      "metadata": {
        "colab": {
          "base_uri": "https://localhost:8080/"
        },
        "id": "MfV-c6CORbk6",
        "outputId": "a9e77912-3370-4398-af70-fd8690c8032b"
      },
      "source": [
        "# Note the data types for each coolumn for the 17 variables included\n",
        "potential_donors.info()"
      ],
      "execution_count": 6,
      "outputs": [
        {
          "output_type": "stream",
          "text": [
            "<class 'pandas.core.frame.DataFrame'>\n",
            "RangeIndex: 20000 entries, 0 to 19999\n",
            "Data columns (total 18 columns):\n",
            " #   Column                      Non-Null Count  Dtype  \n",
            "---  ------                      --------------  -----  \n",
            " 0   voterID                     20000 non-null  int64  \n",
            " 1   Urbanicity                  19997 non-null  object \n",
            " 2   Date_of_birth               15203 non-null  float64\n",
            " 3   Gender                      15382 non-null  object \n",
            " 4   Married                     19793 non-null  float64\n",
            " 5   Homeowner                   11561 non-null  float64\n",
            " 6   Has_children                1141 non-null   float64\n",
            " 7   Zipcode                     20000 non-null  object \n",
            " 8   Modeled_charitable_giving   13549 non-null  float64\n",
            " 9   Household_income            16913 non-null  float64\n",
            " 10  Unaffiliated_voter          15218 non-null  float64\n",
            " 11  Modeled_activist_score      19591 non-null  float64\n",
            " 12  Modeled_turnout_score       20000 non-null  float64\n",
            " 13  Discretionary_income_level  16913 non-null  float64\n",
            " 14  Nonsaver_level              14377 non-null  float64\n",
            " 15  Modeled_partisan_score      20000 non-null  float64\n",
            " 16  Survey_Respondent           20000 non-null  int64  \n",
            " 17  Liberal_cause_donation      3098 non-null   float64\n",
            "dtypes: float64(13), int64(2), object(3)\n",
            "memory usage: 2.7+ MB\n"
          ],
          "name": "stdout"
        }
      ]
    },
    {
      "cell_type": "code",
      "metadata": {
        "colab": {
          "base_uri": "https://localhost:8080/"
        },
        "id": "scVkwGPBVLoq",
        "outputId": "0022beb1-1046-4a2d-f143-c0a047b6f46e"
      },
      "source": [
        "potential_donors.columns"
      ],
      "execution_count": 15,
      "outputs": [
        {
          "output_type": "execute_result",
          "data": {
            "text/plain": [
              "Index(['voterID', 'Urbanicity', 'Date_of_birth', 'Gender', 'Married',\n",
              "       'Homeowner', 'Has_children', 'Zipcode', 'Modeled_charitable_giving',\n",
              "       'Household_income', 'Unaffiliated_voter', 'Modeled_activist_score',\n",
              "       'Modeled_turnout_score', 'Discretionary_income_level', 'Nonsaver_level',\n",
              "       'Modeled_partisan_score', 'Survey_Respondent',\n",
              "       'Liberal_cause_donation'],\n",
              "      dtype='object')"
            ]
          },
          "metadata": {
            "tags": []
          },
          "execution_count": 15
        }
      ]
    },
    {
      "cell_type": "markdown",
      "metadata": {
        "id": "EBcOHNm6Sftb"
      },
      "source": [
        "Observations: String variables include: (1) 'Urbanicity', (2) 'Gender', which will be categorical, and (3) Zipcode, which could be converted to a numeric type or recategorized to serve as an ordinal variable if we want to derive state/location information and regroup. \n",
        "\n",
        "Our target variable will be 'Liberal_cause_donation',  a scoring column for propensity to donate, according to Question 3."
      ]
    },
    {
      "cell_type": "code",
      "metadata": {
        "colab": {
          "base_uri": "https://localhost:8080/"
        },
        "id": "3c5n3OnrTnTz",
        "outputId": "fd7b4a4a-bfa9-4327-c183-251babd042a4"
      },
      "source": [
        "#Run a Value Counts on 'potential_donors' to highlight some descriptive statistics regarding counts per column\n",
        "potential_donors.value_counts()"
      ],
      "execution_count": 9,
      "outputs": [
        {
          "output_type": "execute_result",
          "data": {
            "text/plain": [
              "voterID  Urbanicity  Date_of_birth  Gender  Married  Homeowner  Has_children  Zipcode  Modeled_charitable_giving  Household_income  Unaffiliated_voter  Modeled_activist_score  Modeled_turnout_score  Discretionary_income_level  Nonsaver_level  Modeled_partisan_score  Survey_Respondent  Liberal_cause_donation\n",
              "5037     Suburban    1961.0         F       0.0      1.0        1.0           5011     9.0                        39000.0           1.0                 70.0                    93.7                   6.0                         5.0             97.6                    1                  33.0                      1\n",
              "1791     Suburban    1956.0         M       1.0      1.0        1.0           5011     7.0                        74000.0           1.0                 54.0                    84.9                   5.0                         8.0             7.4                     1                  36.0                      1\n",
              "2083     Rural       1959.0         M       1.0      1.0        1.0           4467     4.0                        85000.0           1.0                 29.8                    87.9                   4.0                         9.0             9.0                     1                  44.0                      1\n",
              "2065     Urban       1997.0         M       1.0      1.0        1.0           3225     1.0                        299000.0          1.0                 90.8                    37.0                   1.0                         9.0             40.2                    1                  11.0                      1\n",
              "2063     Urban       1964.0         F       0.0      1.0        1.0           5238     9.0                        49000.0           1.0                 57.3                    95.8                   2.0                         2.0             3.3                     1                  97.0                      1\n",
              "                                                                                                                                                                                                                                                                                                                       ..\n",
              "3444     Suburban    1957.0         F       1.0      1.0        1.0           5069     4.0                        110000.0          1.0                 60.3                    96.5                   4.0                         8.0             1.1                     1                  38.0                      1\n",
              "3429     Rural       1944.0         M       1.0      1.0        1.0           5350     10.0                       17000.0           1.0                 21.8                    51.8                   11.0                        4.0             23.0                    1                  33.0                      1\n",
              "3396     Suburban    1947.0         F       0.0      1.0        1.0           4093     7.0                        83000.0           1.0                 51.5                    90.4                   4.0                         6.0             2.0                     1                  64.0                      1\n",
              "3375     Suburban    1971.0         F       1.0      1.0        1.0           4078     9.0                        52000.0           1.0                 39.2                    83.8                   6.0                         7.0             95.0                    1                  51.0                      1\n",
              "139      Suburban    1962.0         F       1.0      1.0        1.0           5428     7.0                        48000.0           1.0                 19.2                    89.8                   2.0                         5.0             1.3                     1                  100.0                     1\n",
              "Length: 188, dtype: int64"
            ]
          },
          "metadata": {
            "tags": []
          },
          "execution_count": 9
        }
      ]
    },
    {
      "cell_type": "code",
      "metadata": {
        "colab": {
          "base_uri": "https://localhost:8080/",
          "height": 317
        },
        "id": "LlAfZJLOSY4W",
        "outputId": "7be510dd-181e-462f-b221-2ebcf5387fa2"
      },
      "source": [
        "#Identify the size of potential donors and their demographic info using describe method on 'potential_donors' to highlight some descriptive statistics regarding counts per column\n",
        "potential_donors.describe()"
      ],
      "execution_count": 7,
      "outputs": [
        {
          "output_type": "execute_result",
          "data": {
            "text/html": [
              "<div>\n",
              "<style scoped>\n",
              "    .dataframe tbody tr th:only-of-type {\n",
              "        vertical-align: middle;\n",
              "    }\n",
              "\n",
              "    .dataframe tbody tr th {\n",
              "        vertical-align: top;\n",
              "    }\n",
              "\n",
              "    .dataframe thead th {\n",
              "        text-align: right;\n",
              "    }\n",
              "</style>\n",
              "<table border=\"1\" class=\"dataframe\">\n",
              "  <thead>\n",
              "    <tr style=\"text-align: right;\">\n",
              "      <th></th>\n",
              "      <th>voterID</th>\n",
              "      <th>Date_of_birth</th>\n",
              "      <th>Married</th>\n",
              "      <th>Homeowner</th>\n",
              "      <th>Has_children</th>\n",
              "      <th>Modeled_charitable_giving</th>\n",
              "      <th>Household_income</th>\n",
              "      <th>Unaffiliated_voter</th>\n",
              "      <th>Modeled_activist_score</th>\n",
              "      <th>Modeled_turnout_score</th>\n",
              "      <th>Discretionary_income_level</th>\n",
              "      <th>Nonsaver_level</th>\n",
              "      <th>Modeled_partisan_score</th>\n",
              "      <th>Survey_Respondent</th>\n",
              "      <th>Liberal_cause_donation</th>\n",
              "    </tr>\n",
              "  </thead>\n",
              "  <tbody>\n",
              "    <tr>\n",
              "      <th>count</th>\n",
              "      <td>20000.000000</td>\n",
              "      <td>15203.000000</td>\n",
              "      <td>19793.000000</td>\n",
              "      <td>11561.000000</td>\n",
              "      <td>1141.0</td>\n",
              "      <td>13549.000000</td>\n",
              "      <td>1.691300e+04</td>\n",
              "      <td>15218.0</td>\n",
              "      <td>19591.000000</td>\n",
              "      <td>20000.00000</td>\n",
              "      <td>16913.00000</td>\n",
              "      <td>14377.000000</td>\n",
              "      <td>20000.000000</td>\n",
              "      <td>20000.000000</td>\n",
              "      <td>3098.000000</td>\n",
              "    </tr>\n",
              "    <tr>\n",
              "      <th>mean</th>\n",
              "      <td>10100.500000</td>\n",
              "      <td>1967.944616</td>\n",
              "      <td>0.415248</td>\n",
              "      <td>0.891013</td>\n",
              "      <td>1.0</td>\n",
              "      <td>6.845376</td>\n",
              "      <td>6.418838e+04</td>\n",
              "      <td>1.0</td>\n",
              "      <td>38.211373</td>\n",
              "      <td>56.24909</td>\n",
              "      <td>6.49258</td>\n",
              "      <td>5.476664</td>\n",
              "      <td>54.503425</td>\n",
              "      <td>0.154900</td>\n",
              "      <td>55.851517</td>\n",
              "    </tr>\n",
              "    <tr>\n",
              "      <th>std</th>\n",
              "      <td>5773.647028</td>\n",
              "      <td>18.556398</td>\n",
              "      <td>0.492777</td>\n",
              "      <td>0.311637</td>\n",
              "      <td>0.0</td>\n",
              "      <td>2.658846</td>\n",
              "      <td>4.903734e+04</td>\n",
              "      <td>0.0</td>\n",
              "      <td>20.599557</td>\n",
              "      <td>28.25587</td>\n",
              "      <td>3.21626</td>\n",
              "      <td>2.626865</td>\n",
              "      <td>34.120779</td>\n",
              "      <td>0.361818</td>\n",
              "      <td>30.590168</td>\n",
              "    </tr>\n",
              "    <tr>\n",
              "      <th>min</th>\n",
              "      <td>101.000000</td>\n",
              "      <td>1903.000000</td>\n",
              "      <td>0.000000</td>\n",
              "      <td>0.000000</td>\n",
              "      <td>1.0</td>\n",
              "      <td>1.000000</td>\n",
              "      <td>5.000000e+03</td>\n",
              "      <td>1.0</td>\n",
              "      <td>6.200000</td>\n",
              "      <td>0.20000</td>\n",
              "      <td>1.00000</td>\n",
              "      <td>1.000000</td>\n",
              "      <td>0.200000</td>\n",
              "      <td>0.000000</td>\n",
              "      <td>1.000000</td>\n",
              "    </tr>\n",
              "    <tr>\n",
              "      <th>25%</th>\n",
              "      <td>5100.750000</td>\n",
              "      <td>1954.000000</td>\n",
              "      <td>0.000000</td>\n",
              "      <td>1.000000</td>\n",
              "      <td>1.0</td>\n",
              "      <td>5.000000</td>\n",
              "      <td>4.200000e+04</td>\n",
              "      <td>1.0</td>\n",
              "      <td>21.200000</td>\n",
              "      <td>36.80000</td>\n",
              "      <td>4.00000</td>\n",
              "      <td>3.000000</td>\n",
              "      <td>23.500000</td>\n",
              "      <td>0.000000</td>\n",
              "      <td>29.000000</td>\n",
              "    </tr>\n",
              "    <tr>\n",
              "      <th>50%</th>\n",
              "      <td>10100.500000</td>\n",
              "      <td>1968.000000</td>\n",
              "      <td>0.000000</td>\n",
              "      <td>1.000000</td>\n",
              "      <td>1.0</td>\n",
              "      <td>7.000000</td>\n",
              "      <td>5.900000e+04</td>\n",
              "      <td>1.0</td>\n",
              "      <td>33.300000</td>\n",
              "      <td>52.10000</td>\n",
              "      <td>6.00000</td>\n",
              "      <td>5.000000</td>\n",
              "      <td>58.300000</td>\n",
              "      <td>0.000000</td>\n",
              "      <td>56.000000</td>\n",
              "    </tr>\n",
              "    <tr>\n",
              "      <th>75%</th>\n",
              "      <td>15100.250000</td>\n",
              "      <td>1984.000000</td>\n",
              "      <td>1.000000</td>\n",
              "      <td>1.000000</td>\n",
              "      <td>1.0</td>\n",
              "      <td>9.000000</td>\n",
              "      <td>7.800000e+04</td>\n",
              "      <td>1.0</td>\n",
              "      <td>53.000000</td>\n",
              "      <td>84.60000</td>\n",
              "      <td>9.00000</td>\n",
              "      <td>8.000000</td>\n",
              "      <td>87.800000</td>\n",
              "      <td>0.000000</td>\n",
              "      <td>84.000000</td>\n",
              "    </tr>\n",
              "    <tr>\n",
              "      <th>max</th>\n",
              "      <td>20100.000000</td>\n",
              "      <td>2002.000000</td>\n",
              "      <td>1.000000</td>\n",
              "      <td>1.000000</td>\n",
              "      <td>1.0</td>\n",
              "      <td>10.000000</td>\n",
              "      <td>1.997000e+06</td>\n",
              "      <td>1.0</td>\n",
              "      <td>92.500000</td>\n",
              "      <td>98.60000</td>\n",
              "      <td>11.00000</td>\n",
              "      <td>10.000000</td>\n",
              "      <td>99.500000</td>\n",
              "      <td>1.000000</td>\n",
              "      <td>100.000000</td>\n",
              "    </tr>\n",
              "  </tbody>\n",
              "</table>\n",
              "</div>"
            ],
            "text/plain": [
              "            voterID  Date_of_birth  ...  Survey_Respondent  Liberal_cause_donation\n",
              "count  20000.000000   15203.000000  ...       20000.000000             3098.000000\n",
              "mean   10100.500000    1967.944616  ...           0.154900               55.851517\n",
              "std     5773.647028      18.556398  ...           0.361818               30.590168\n",
              "min      101.000000    1903.000000  ...           0.000000                1.000000\n",
              "25%     5100.750000    1954.000000  ...           0.000000               29.000000\n",
              "50%    10100.500000    1968.000000  ...           0.000000               56.000000\n",
              "75%    15100.250000    1984.000000  ...           0.000000               84.000000\n",
              "max    20100.000000    2002.000000  ...           1.000000              100.000000\n",
              "\n",
              "[8 rows x 15 columns]"
            ]
          },
          "metadata": {
            "tags": []
          },
          "execution_count": 7
        }
      ]
    },
    {
      "cell_type": "markdown",
      "metadata": {
        "id": "xvp0uOuuTtzt"
      },
      "source": [
        "Observations: Based on the count, we see that we havae 20K potential donors. Age-wise: the youngest donor was born in 2002. The oldest donor was born in 1903. The median age of our potential donors is: 53 (born in 1968). "
      ]
    },
    {
      "cell_type": "code",
      "metadata": {
        "colab": {
          "base_uri": "https://localhost:8080/",
          "height": 266
        },
        "id": "hXtGxlYwW_Y0",
        "outputId": "a167371c-ca12-4d46-ea31-fd476c3c4079"
      },
      "source": [
        "#Find voters who earned: 'Modeled_partisan_score' of >80%  AND 'Modeled_turnout_score' of > 70%\n",
        "#Use Cummulative Distribution Function to represent all between 81% and 100% score\n",
        "##Sort by partisan score by using sort_values, ascending=True\n",
        "\n",
        "plt.hist('Modeled_partisan_score')\n",
        "\n",
        "# Show histogram\n",
        "plt.show()\n"
      ],
      "execution_count": 17,
      "outputs": [
        {
          "output_type": "display_data",
          "data": {
            "image/png": "[encoded data removed]",
            "text/plain": [
              "<Figure size 432x288 with 1 Axes>"
            ]
          },
          "metadata": {
            "tags": [],
            "needs_background": "light"
          }
        }
      ]
    },
    {
      "cell_type": "code",
      "metadata": {
        "colab": {
          "base_uri": "https://localhost:8080/",
          "height": 280
        },
        "id": "r-yZ2J1MaDs9",
        "outputId": "5bab6d9b-1cee-4fab-d50d-ad86f54d97d7"
      },
      "source": [
        "# Show univariate counts across 2 target scores ~stat{“count”, “frequency”, “density”, “probability”} \n",
        "#Aggregate statistic to compute in each bin. And count shows the number of observation Make sure partisan score is along the x-axis Specify 'Modeled_turnout_score' as the column to create individual graphics for\n",
        "\n",
        "sns.histplot(data=potential_donors, x=\"Modeled_partisan_score\")\n",
        "plt.show()"
      ],
      "execution_count": 24,
      "outputs": [
        {
          "output_type": "display_data",
          "data": {
            "image/png": "[encoded data removed]",
            "text/plain": [
              "<Figure size 432x288 with 1 Axes>"
            ]
          },
          "metadata": {
            "tags": [],
            "needs_background": "light"
          }
        }
      ]
    },
    {
      "cell_type": "code",
      "metadata": {
        "colab": {
          "base_uri": "https://localhost:8080/",
          "height": 297
        },
        "id": "GVDWYcVncoPs",
        "outputId": "48c46f28-5e26-4e83-c562-93e0e3279653"
      },
      "source": [
        "sns.histplot(data=potential_donors, x=\"Modeled_partisan_score\", y=\"Modeled_turnout_score\",\n",
        "    bins=30, discrete=(True, False), log_scale=(False, True),)\n"
      ],
      "execution_count": 25,
      "outputs": [
        {
          "output_type": "execute_result",
          "data": {
            "text/plain": [
              "<matplotlib.axes._subplots.AxesSubplot at 0x7f36a1b94210>"
            ]
          },
          "metadata": {
            "tags": []
          },
          "execution_count": 25
        },
        {
          "output_type": "display_data",
          "data": {
            "image/png": "[encoded data removed]",
            "text/plain": [
              "<Figure size 432x288 with 1 Axes>"
            ]
          },
          "metadata": {
            "tags": [],
            "needs_background": "light"
          }
        }
      ]
    },
    {
      "cell_type": "code",
      "metadata": {
        "colab": {
          "base_uri": "https://localhost:8080/",
          "height": 439
        },
        "id": "0396IG0CdR7n",
        "outputId": "315421ed-fd37-4d4d-c783-ad7bef015963"
      },
      "source": [
        "score_more_80_partisan = potential_donors[potential_donors[\"Modeled_partisan_score\"] > 80]\n",
        "score_more_80_partisan"
      ],
      "execution_count": 27,
      "outputs": [
        {
          "output_type": "execute_result",
          "data": {
            "text/html": [
              "<div>\n",
              "<style scoped>\n",
              "    .dataframe tbody tr th:only-of-type {\n",
              "        vertical-align: middle;\n",
              "    }\n",
              "\n",
              "    .dataframe tbody tr th {\n",
              "        vertical-align: top;\n",
              "    }\n",
              "\n",
              "    .dataframe thead th {\n",
              "        text-align: right;\n",
              "    }\n",
              "</style>\n",
              "<table border=\"1\" class=\"dataframe\">\n",
              "  <thead>\n",
              "    <tr style=\"text-align: right;\">\n",
              "      <th></th>\n",
              "      <th>voterID</th>\n",
              "      <th>Urbanicity</th>\n",
              "      <th>Date_of_birth</th>\n",
              "      <th>Gender</th>\n",
              "      <th>Married</th>\n",
              "      <th>Homeowner</th>\n",
              "      <th>Has_children</th>\n",
              "      <th>Zipcode</th>\n",
              "      <th>Modeled_charitable_giving</th>\n",
              "      <th>Household_income</th>\n",
              "      <th>Unaffiliated_voter</th>\n",
              "      <th>Modeled_activist_score</th>\n",
              "      <th>Modeled_turnout_score</th>\n",
              "      <th>Discretionary_income_level</th>\n",
              "      <th>Nonsaver_level</th>\n",
              "      <th>Modeled_partisan_score</th>\n",
              "      <th>Survey_Respondent</th>\n",
              "      <th>Liberal_cause_donation</th>\n",
              "    </tr>\n",
              "  </thead>\n",
              "  <tbody>\n",
              "    <tr>\n",
              "      <th>3</th>\n",
              "      <td>104</td>\n",
              "      <td>Suburban</td>\n",
              "      <td>1979.0</td>\n",
              "      <td>NaN</td>\n",
              "      <td>1.0</td>\n",
              "      <td>1.0</td>\n",
              "      <td>NaN</td>\n",
              "      <td>4440</td>\n",
              "      <td>8.0</td>\n",
              "      <td>62000.0</td>\n",
              "      <td>1.0</td>\n",
              "      <td>29.3</td>\n",
              "      <td>88.2</td>\n",
              "      <td>1.0</td>\n",
              "      <td>7.0</td>\n",
              "      <td>98.1</td>\n",
              "      <td>1</td>\n",
              "      <td>63.0</td>\n",
              "    </tr>\n",
              "    <tr>\n",
              "      <th>6</th>\n",
              "      <td>107</td>\n",
              "      <td>Urban</td>\n",
              "      <td>1958.0</td>\n",
              "      <td>M</td>\n",
              "      <td>0.0</td>\n",
              "      <td>1.0</td>\n",
              "      <td>NaN</td>\n",
              "      <td>3216</td>\n",
              "      <td>3.0</td>\n",
              "      <td>115000.0</td>\n",
              "      <td>1.0</td>\n",
              "      <td>77.4</td>\n",
              "      <td>83.0</td>\n",
              "      <td>2.0</td>\n",
              "      <td>10.0</td>\n",
              "      <td>98.2</td>\n",
              "      <td>1</td>\n",
              "      <td>32.0</td>\n",
              "    </tr>\n",
              "    <tr>\n",
              "      <th>8</th>\n",
              "      <td>109</td>\n",
              "      <td>Suburban</td>\n",
              "      <td>1979.0</td>\n",
              "      <td>NaN</td>\n",
              "      <td>0.0</td>\n",
              "      <td>NaN</td>\n",
              "      <td>NaN</td>\n",
              "      <td>3611</td>\n",
              "      <td>NaN</td>\n",
              "      <td>NaN</td>\n",
              "      <td>1.0</td>\n",
              "      <td>54.8</td>\n",
              "      <td>58.7</td>\n",
              "      <td>NaN</td>\n",
              "      <td>NaN</td>\n",
              "      <td>85.6</td>\n",
              "      <td>0</td>\n",
              "      <td>NaN</td>\n",
              "    </tr>\n",
              "    <tr>\n",
              "      <th>9</th>\n",
              "      <td>110</td>\n",
              "      <td>Urban</td>\n",
              "      <td>1970.0</td>\n",
              "      <td>M</td>\n",
              "      <td>1.0</td>\n",
              "      <td>NaN</td>\n",
              "      <td>NaN</td>\n",
              "      <td>3628</td>\n",
              "      <td>NaN</td>\n",
              "      <td>61000.0</td>\n",
              "      <td>1.0</td>\n",
              "      <td>52.0</td>\n",
              "      <td>90.9</td>\n",
              "      <td>7.0</td>\n",
              "      <td>NaN</td>\n",
              "      <td>91.9</td>\n",
              "      <td>0</td>\n",
              "      <td>NaN</td>\n",
              "    </tr>\n",
              "    <tr>\n",
              "      <th>13</th>\n",
              "      <td>114</td>\n",
              "      <td>Urban</td>\n",
              "      <td>1965.0</td>\n",
              "      <td>F</td>\n",
              "      <td>0.0</td>\n",
              "      <td>1.0</td>\n",
              "      <td>NaN</td>\n",
              "      <td>3234</td>\n",
              "      <td>4.0</td>\n",
              "      <td>101000.0</td>\n",
              "      <td>1.0</td>\n",
              "      <td>28.8</td>\n",
              "      <td>87.6</td>\n",
              "      <td>5.0</td>\n",
              "      <td>9.0</td>\n",
              "      <td>97.5</td>\n",
              "      <td>1</td>\n",
              "      <td>69.0</td>\n",
              "    </tr>\n",
              "    <tr>\n",
              "      <th>...</th>\n",
              "      <td>...</td>\n",
              "      <td>...</td>\n",
              "      <td>...</td>\n",
              "      <td>...</td>\n",
              "      <td>...</td>\n",
              "      <td>...</td>\n",
              "      <td>...</td>\n",
              "      <td>...</td>\n",
              "      <td>...</td>\n",
              "      <td>...</td>\n",
              "      <td>...</td>\n",
              "      <td>...</td>\n",
              "      <td>...</td>\n",
              "      <td>...</td>\n",
              "      <td>...</td>\n",
              "      <td>...</td>\n",
              "      <td>...</td>\n",
              "      <td>...</td>\n",
              "    </tr>\n",
              "    <tr>\n",
              "      <th>19989</th>\n",
              "      <td>20090</td>\n",
              "      <td>Suburban</td>\n",
              "      <td>1982.0</td>\n",
              "      <td>NaN</td>\n",
              "      <td>1.0</td>\n",
              "      <td>NaN</td>\n",
              "      <td>NaN</td>\n",
              "      <td>4440</td>\n",
              "      <td>NaN</td>\n",
              "      <td>46000.0</td>\n",
              "      <td>1.0</td>\n",
              "      <td>19.6</td>\n",
              "      <td>18.2</td>\n",
              "      <td>11.0</td>\n",
              "      <td>NaN</td>\n",
              "      <td>95.3</td>\n",
              "      <td>0</td>\n",
              "      <td>NaN</td>\n",
              "    </tr>\n",
              "    <tr>\n",
              "      <th>19992</th>\n",
              "      <td>20093</td>\n",
              "      <td>Urban</td>\n",
              "      <td>1958.0</td>\n",
              "      <td>F</td>\n",
              "      <td>0.0</td>\n",
              "      <td>1.0</td>\n",
              "      <td>NaN</td>\n",
              "      <td>5401</td>\n",
              "      <td>3.0</td>\n",
              "      <td>56000.0</td>\n",
              "      <td>1.0</td>\n",
              "      <td>71.4</td>\n",
              "      <td>80.0</td>\n",
              "      <td>8.0</td>\n",
              "      <td>5.0</td>\n",
              "      <td>98.0</td>\n",
              "      <td>0</td>\n",
              "      <td>NaN</td>\n",
              "    </tr>\n",
              "    <tr>\n",
              "      <th>19993</th>\n",
              "      <td>20094</td>\n",
              "      <td>Suburban</td>\n",
              "      <td>1984.0</td>\n",
              "      <td>M</td>\n",
              "      <td>1.0</td>\n",
              "      <td>1.0</td>\n",
              "      <td>NaN</td>\n",
              "      <td>4511</td>\n",
              "      <td>9.0</td>\n",
              "      <td>66000.0</td>\n",
              "      <td>1.0</td>\n",
              "      <td>21.9</td>\n",
              "      <td>25.0</td>\n",
              "      <td>5.0</td>\n",
              "      <td>3.0</td>\n",
              "      <td>89.3</td>\n",
              "      <td>0</td>\n",
              "      <td>NaN</td>\n",
              "    </tr>\n",
              "    <tr>\n",
              "      <th>19994</th>\n",
              "      <td>20095</td>\n",
              "      <td>Urban</td>\n",
              "      <td>1938.0</td>\n",
              "      <td>F</td>\n",
              "      <td>0.0</td>\n",
              "      <td>1.0</td>\n",
              "      <td>1.0</td>\n",
              "      <td>3223</td>\n",
              "      <td>5.0</td>\n",
              "      <td>66000.0</td>\n",
              "      <td>1.0</td>\n",
              "      <td>70.4</td>\n",
              "      <td>85.7</td>\n",
              "      <td>9.0</td>\n",
              "      <td>5.0</td>\n",
              "      <td>98.8</td>\n",
              "      <td>0</td>\n",
              "      <td>NaN</td>\n",
              "    </tr>\n",
              "    <tr>\n",
              "      <th>19999</th>\n",
              "      <td>20100</td>\n",
              "      <td>Urban</td>\n",
              "      <td>1947.0</td>\n",
              "      <td>F</td>\n",
              "      <td>0.0</td>\n",
              "      <td>1.0</td>\n",
              "      <td>NaN</td>\n",
              "      <td>4121</td>\n",
              "      <td>8.0</td>\n",
              "      <td>15000.0</td>\n",
              "      <td>1.0</td>\n",
              "      <td>87.6</td>\n",
              "      <td>93.9</td>\n",
              "      <td>9.0</td>\n",
              "      <td>2.0</td>\n",
              "      <td>99.2</td>\n",
              "      <td>0</td>\n",
              "      <td>NaN</td>\n",
              "    </tr>\n",
              "  </tbody>\n",
              "</table>\n",
              "<p>6598 rows × 18 columns</p>\n",
              "</div>"
            ],
            "text/plain": [
              "       voterID Urbanicity  ...  Survey_Respondent Liberal_cause_donation\n",
              "3          104   Suburban  ...                  1                   63.0\n",
              "6          107      Urban  ...                  1                   32.0\n",
              "8          109   Suburban  ...                  0                    NaN\n",
              "9          110      Urban  ...                  0                    NaN\n",
              "13         114      Urban  ...                  1                   69.0\n",
              "...        ...        ...  ...                ...                    ...\n",
              "19989    20090   Suburban  ...                  0                    NaN\n",
              "19992    20093      Urban  ...                  0                    NaN\n",
              "19993    20094   Suburban  ...                  0                    NaN\n",
              "19994    20095      Urban  ...                  0                    NaN\n",
              "19999    20100      Urban  ...                  0                    NaN\n",
              "\n",
              "[6598 rows x 18 columns]"
            ]
          },
          "metadata": {
            "tags": []
          },
          "execution_count": 27
        }
      ]
    },
    {
      "cell_type": "markdown",
      "metadata": {
        "id": "0sGy--zsdwhV"
      },
      "source": [
        "Analyst Note: We have 6,598 potential donors who score more than 80% in 'Modeled_partisan_score'. Let's filter this further down by those having 'Modeled_turnout_score' of >= 70%."
      ]
    },
    {
      "cell_type": "code",
      "metadata": {
        "colab": {
          "base_uri": "https://localhost:8080/",
          "height": 439
        },
        "id": "-FAxdaB4eL1b",
        "outputId": "8e494d09-1713-4130-a020-2e062e6049c3"
      },
      "source": [
        "score_more_80_partisan_70_turn = score_more_80_partisan[score_more_80_partisan['Modeled_turnout_score']>70]\n",
        "score_more_80_partisan_70_turn"
      ],
      "execution_count": 28,
      "outputs": [
        {
          "output_type": "execute_result",
          "data": {
            "text/html": [
              "<div>\n",
              "<style scoped>\n",
              "    .dataframe tbody tr th:only-of-type {\n",
              "        vertical-align: middle;\n",
              "    }\n",
              "\n",
              "    .dataframe tbody tr th {\n",
              "        vertical-align: top;\n",
              "    }\n",
              "\n",
              "    .dataframe thead th {\n",
              "        text-align: right;\n",
              "    }\n",
              "</style>\n",
              "<table border=\"1\" class=\"dataframe\">\n",
              "  <thead>\n",
              "    <tr style=\"text-align: right;\">\n",
              "      <th></th>\n",
              "      <th>voterID</th>\n",
              "      <th>Urbanicity</th>\n",
              "      <th>Date_of_birth</th>\n",
              "      <th>Gender</th>\n",
              "      <th>Married</th>\n",
              "      <th>Homeowner</th>\n",
              "      <th>Has_children</th>\n",
              "      <th>Zipcode</th>\n",
              "      <th>Modeled_charitable_giving</th>\n",
              "      <th>Household_income</th>\n",
              "      <th>Unaffiliated_voter</th>\n",
              "      <th>Modeled_activist_score</th>\n",
              "      <th>Modeled_turnout_score</th>\n",
              "      <th>Discretionary_income_level</th>\n",
              "      <th>Nonsaver_level</th>\n",
              "      <th>Modeled_partisan_score</th>\n",
              "      <th>Survey_Respondent</th>\n",
              "      <th>Liberal_cause_donation</th>\n",
              "    </tr>\n",
              "  </thead>\n",
              "  <tbody>\n",
              "    <tr>\n",
              "      <th>3</th>\n",
              "      <td>104</td>\n",
              "      <td>Suburban</td>\n",
              "      <td>1979.0</td>\n",
              "      <td>NaN</td>\n",
              "      <td>1.0</td>\n",
              "      <td>1.0</td>\n",
              "      <td>NaN</td>\n",
              "      <td>4440</td>\n",
              "      <td>8.0</td>\n",
              "      <td>62000.0</td>\n",
              "      <td>1.0</td>\n",
              "      <td>29.3</td>\n",
              "      <td>88.2</td>\n",
              "      <td>1.0</td>\n",
              "      <td>7.0</td>\n",
              "      <td>98.1</td>\n",
              "      <td>1</td>\n",
              "      <td>63.0</td>\n",
              "    </tr>\n",
              "    <tr>\n",
              "      <th>6</th>\n",
              "      <td>107</td>\n",
              "      <td>Urban</td>\n",
              "      <td>1958.0</td>\n",
              "      <td>M</td>\n",
              "      <td>0.0</td>\n",
              "      <td>1.0</td>\n",
              "      <td>NaN</td>\n",
              "      <td>3216</td>\n",
              "      <td>3.0</td>\n",
              "      <td>115000.0</td>\n",
              "      <td>1.0</td>\n",
              "      <td>77.4</td>\n",
              "      <td>83.0</td>\n",
              "      <td>2.0</td>\n",
              "      <td>10.0</td>\n",
              "      <td>98.2</td>\n",
              "      <td>1</td>\n",
              "      <td>32.0</td>\n",
              "    </tr>\n",
              "    <tr>\n",
              "      <th>9</th>\n",
              "      <td>110</td>\n",
              "      <td>Urban</td>\n",
              "      <td>1970.0</td>\n",
              "      <td>M</td>\n",
              "      <td>1.0</td>\n",
              "      <td>NaN</td>\n",
              "      <td>NaN</td>\n",
              "      <td>3628</td>\n",
              "      <td>NaN</td>\n",
              "      <td>61000.0</td>\n",
              "      <td>1.0</td>\n",
              "      <td>52.0</td>\n",
              "      <td>90.9</td>\n",
              "      <td>7.0</td>\n",
              "      <td>NaN</td>\n",
              "      <td>91.9</td>\n",
              "      <td>0</td>\n",
              "      <td>NaN</td>\n",
              "    </tr>\n",
              "    <tr>\n",
              "      <th>13</th>\n",
              "      <td>114</td>\n",
              "      <td>Urban</td>\n",
              "      <td>1965.0</td>\n",
              "      <td>F</td>\n",
              "      <td>0.0</td>\n",
              "      <td>1.0</td>\n",
              "      <td>NaN</td>\n",
              "      <td>3234</td>\n",
              "      <td>4.0</td>\n",
              "      <td>101000.0</td>\n",
              "      <td>1.0</td>\n",
              "      <td>28.8</td>\n",
              "      <td>87.6</td>\n",
              "      <td>5.0</td>\n",
              "      <td>9.0</td>\n",
              "      <td>97.5</td>\n",
              "      <td>1</td>\n",
              "      <td>69.0</td>\n",
              "    </tr>\n",
              "    <tr>\n",
              "      <th>19</th>\n",
              "      <td>120</td>\n",
              "      <td>Urban</td>\n",
              "      <td>1957.0</td>\n",
              "      <td>F</td>\n",
              "      <td>0.0</td>\n",
              "      <td>1.0</td>\n",
              "      <td>NaN</td>\n",
              "      <td>3212</td>\n",
              "      <td>5.0</td>\n",
              "      <td>84000.0</td>\n",
              "      <td>1.0</td>\n",
              "      <td>84.5</td>\n",
              "      <td>96.7</td>\n",
              "      <td>1.0</td>\n",
              "      <td>10.0</td>\n",
              "      <td>98.8</td>\n",
              "      <td>1</td>\n",
              "      <td>17.0</td>\n",
              "    </tr>\n",
              "    <tr>\n",
              "      <th>...</th>\n",
              "      <td>...</td>\n",
              "      <td>...</td>\n",
              "      <td>...</td>\n",
              "      <td>...</td>\n",
              "      <td>...</td>\n",
              "      <td>...</td>\n",
              "      <td>...</td>\n",
              "      <td>...</td>\n",
              "      <td>...</td>\n",
              "      <td>...</td>\n",
              "      <td>...</td>\n",
              "      <td>...</td>\n",
              "      <td>...</td>\n",
              "      <td>...</td>\n",
              "      <td>...</td>\n",
              "      <td>...</td>\n",
              "      <td>...</td>\n",
              "      <td>...</td>\n",
              "    </tr>\n",
              "    <tr>\n",
              "      <th>19975</th>\n",
              "      <td>20076</td>\n",
              "      <td>Suburban</td>\n",
              "      <td>1961.0</td>\n",
              "      <td>F</td>\n",
              "      <td>1.0</td>\n",
              "      <td>1.0</td>\n",
              "      <td>NaN</td>\n",
              "      <td>3069</td>\n",
              "      <td>6.0</td>\n",
              "      <td>79000.0</td>\n",
              "      <td>1.0</td>\n",
              "      <td>65.1</td>\n",
              "      <td>93.6</td>\n",
              "      <td>1.0</td>\n",
              "      <td>8.0</td>\n",
              "      <td>97.2</td>\n",
              "      <td>0</td>\n",
              "      <td>NaN</td>\n",
              "    </tr>\n",
              "    <tr>\n",
              "      <th>19986</th>\n",
              "      <td>20087</td>\n",
              "      <td>Urban</td>\n",
              "      <td>1962.0</td>\n",
              "      <td>M</td>\n",
              "      <td>0.0</td>\n",
              "      <td>NaN</td>\n",
              "      <td>NaN</td>\n",
              "      <td>3213</td>\n",
              "      <td>9.0</td>\n",
              "      <td>26000.0</td>\n",
              "      <td>1.0</td>\n",
              "      <td>57.7</td>\n",
              "      <td>86.9</td>\n",
              "      <td>11.0</td>\n",
              "      <td>4.0</td>\n",
              "      <td>98.0</td>\n",
              "      <td>0</td>\n",
              "      <td>NaN</td>\n",
              "    </tr>\n",
              "    <tr>\n",
              "      <th>19992</th>\n",
              "      <td>20093</td>\n",
              "      <td>Urban</td>\n",
              "      <td>1958.0</td>\n",
              "      <td>F</td>\n",
              "      <td>0.0</td>\n",
              "      <td>1.0</td>\n",
              "      <td>NaN</td>\n",
              "      <td>5401</td>\n",
              "      <td>3.0</td>\n",
              "      <td>56000.0</td>\n",
              "      <td>1.0</td>\n",
              "      <td>71.4</td>\n",
              "      <td>80.0</td>\n",
              "      <td>8.0</td>\n",
              "      <td>5.0</td>\n",
              "      <td>98.0</td>\n",
              "      <td>0</td>\n",
              "      <td>NaN</td>\n",
              "    </tr>\n",
              "    <tr>\n",
              "      <th>19994</th>\n",
              "      <td>20095</td>\n",
              "      <td>Urban</td>\n",
              "      <td>1938.0</td>\n",
              "      <td>F</td>\n",
              "      <td>0.0</td>\n",
              "      <td>1.0</td>\n",
              "      <td>1.0</td>\n",
              "      <td>3223</td>\n",
              "      <td>5.0</td>\n",
              "      <td>66000.0</td>\n",
              "      <td>1.0</td>\n",
              "      <td>70.4</td>\n",
              "      <td>85.7</td>\n",
              "      <td>9.0</td>\n",
              "      <td>5.0</td>\n",
              "      <td>98.8</td>\n",
              "      <td>0</td>\n",
              "      <td>NaN</td>\n",
              "    </tr>\n",
              "    <tr>\n",
              "      <th>19999</th>\n",
              "      <td>20100</td>\n",
              "      <td>Urban</td>\n",
              "      <td>1947.0</td>\n",
              "      <td>F</td>\n",
              "      <td>0.0</td>\n",
              "      <td>1.0</td>\n",
              "      <td>NaN</td>\n",
              "      <td>4121</td>\n",
              "      <td>8.0</td>\n",
              "      <td>15000.0</td>\n",
              "      <td>1.0</td>\n",
              "      <td>87.6</td>\n",
              "      <td>93.9</td>\n",
              "      <td>9.0</td>\n",
              "      <td>2.0</td>\n",
              "      <td>99.2</td>\n",
              "      <td>0</td>\n",
              "      <td>NaN</td>\n",
              "    </tr>\n",
              "  </tbody>\n",
              "</table>\n",
              "<p>2960 rows × 18 columns</p>\n",
              "</div>"
            ],
            "text/plain": [
              "       voterID Urbanicity  ...  Survey_Respondent Liberal_cause_donation\n",
              "3          104   Suburban  ...                  1                   63.0\n",
              "6          107      Urban  ...                  1                   32.0\n",
              "9          110      Urban  ...                  0                    NaN\n",
              "13         114      Urban  ...                  1                   69.0\n",
              "19         120      Urban  ...                  1                   17.0\n",
              "...        ...        ...  ...                ...                    ...\n",
              "19975    20076   Suburban  ...                  0                    NaN\n",
              "19986    20087      Urban  ...                  0                    NaN\n",
              "19992    20093      Urban  ...                  0                    NaN\n",
              "19994    20095      Urban  ...                  0                    NaN\n",
              "19999    20100      Urban  ...                  0                    NaN\n",
              "\n",
              "[2960 rows x 18 columns]"
            ]
          },
          "metadata": {
            "tags": []
          },
          "execution_count": 28
        }
      ]
    },
    {
      "cell_type": "markdown",
      "metadata": {
        "id": "M-b9cBfIewAK"
      },
      "source": [
        "Analyst Note: Of the 20,000 potential donors, we calculated that 2,960 have both a partisan score greater than 80 percent AND a turnout score greater than 70 percent. "
      ]
    },
    {
      "cell_type": "code",
      "metadata": {
        "colab": {
          "base_uri": "https://localhost:8080/",
          "height": 317
        },
        "id": "uyVcdi18fFWk",
        "outputId": "09f53eee-22b2-40b3-9496-9fc40298a9cf"
      },
      "source": [
        "score_more_80_partisan_70_turn.describe()"
      ],
      "execution_count": 30,
      "outputs": [
        {
          "output_type": "execute_result",
          "data": {
            "text/html": [
              "<div>\n",
              "<style scoped>\n",
              "    .dataframe tbody tr th:only-of-type {\n",
              "        vertical-align: middle;\n",
              "    }\n",
              "\n",
              "    .dataframe tbody tr th {\n",
              "        vertical-align: top;\n",
              "    }\n",
              "\n",
              "    .dataframe thead th {\n",
              "        text-align: right;\n",
              "    }\n",
              "</style>\n",
              "<table border=\"1\" class=\"dataframe\">\n",
              "  <thead>\n",
              "    <tr style=\"text-align: right;\">\n",
              "      <th></th>\n",
              "      <th>voterID</th>\n",
              "      <th>Date_of_birth</th>\n",
              "      <th>Married</th>\n",
              "      <th>Homeowner</th>\n",
              "      <th>Has_children</th>\n",
              "      <th>Modeled_charitable_giving</th>\n",
              "      <th>Household_income</th>\n",
              "      <th>Unaffiliated_voter</th>\n",
              "      <th>Modeled_activist_score</th>\n",
              "      <th>Modeled_turnout_score</th>\n",
              "      <th>Discretionary_income_level</th>\n",
              "      <th>Nonsaver_level</th>\n",
              "      <th>Modeled_partisan_score</th>\n",
              "      <th>Survey_Respondent</th>\n",
              "      <th>Liberal_cause_donation</th>\n",
              "    </tr>\n",
              "  </thead>\n",
              "  <tbody>\n",
              "    <tr>\n",
              "      <th>count</th>\n",
              "      <td>2960.000000</td>\n",
              "      <td>2957.000000</td>\n",
              "      <td>2952.000000</td>\n",
              "      <td>2137.000000</td>\n",
              "      <td>192.0</td>\n",
              "      <td>2212.000000</td>\n",
              "      <td>2.773000e+03</td>\n",
              "      <td>2960.0</td>\n",
              "      <td>2960.000000</td>\n",
              "      <td>2960.000000</td>\n",
              "      <td>2773.000000</td>\n",
              "      <td>2342.000000</td>\n",
              "      <td>2960.000000</td>\n",
              "      <td>2960.000000</td>\n",
              "      <td>565.000000</td>\n",
              "    </tr>\n",
              "    <tr>\n",
              "      <th>mean</th>\n",
              "      <td>10168.657432</td>\n",
              "      <td>1958.251945</td>\n",
              "      <td>0.523374</td>\n",
              "      <td>0.924661</td>\n",
              "      <td>1.0</td>\n",
              "      <td>6.992767</td>\n",
              "      <td>6.100108e+04</td>\n",
              "      <td>1.0</td>\n",
              "      <td>57.528176</td>\n",
              "      <td>87.048818</td>\n",
              "      <td>6.481067</td>\n",
              "      <td>5.283518</td>\n",
              "      <td>95.136419</td>\n",
              "      <td>0.190878</td>\n",
              "      <td>46.472566</td>\n",
              "    </tr>\n",
              "    <tr>\n",
              "      <th>std</th>\n",
              "      <td>5790.495717</td>\n",
              "      <td>15.197408</td>\n",
              "      <td>0.499538</td>\n",
              "      <td>0.264000</td>\n",
              "      <td>0.0</td>\n",
              "      <td>2.591072</td>\n",
              "      <td>4.859275e+04</td>\n",
              "      <td>0.0</td>\n",
              "      <td>20.496115</td>\n",
              "      <td>7.073987</td>\n",
              "      <td>3.233029</td>\n",
              "      <td>2.609887</td>\n",
              "      <td>4.138329</td>\n",
              "      <td>0.393060</td>\n",
              "      <td>29.695226</td>\n",
              "    </tr>\n",
              "    <tr>\n",
              "      <th>min</th>\n",
              "      <td>104.000000</td>\n",
              "      <td>1919.000000</td>\n",
              "      <td>0.000000</td>\n",
              "      <td>0.000000</td>\n",
              "      <td>1.0</td>\n",
              "      <td>1.000000</td>\n",
              "      <td>6.000000e+03</td>\n",
              "      <td>1.0</td>\n",
              "      <td>8.600000</td>\n",
              "      <td>70.100000</td>\n",
              "      <td>1.000000</td>\n",
              "      <td>1.000000</td>\n",
              "      <td>80.100000</td>\n",
              "      <td>0.000000</td>\n",
              "      <td>1.000000</td>\n",
              "    </tr>\n",
              "    <tr>\n",
              "      <th>25%</th>\n",
              "      <td>5198.250000</td>\n",
              "      <td>1947.000000</td>\n",
              "      <td>0.000000</td>\n",
              "      <td>1.000000</td>\n",
              "      <td>1.0</td>\n",
              "      <td>5.000000</td>\n",
              "      <td>4.000000e+04</td>\n",
              "      <td>1.0</td>\n",
              "      <td>41.600000</td>\n",
              "      <td>82.100000</td>\n",
              "      <td>4.000000</td>\n",
              "      <td>3.000000</td>\n",
              "      <td>94.100000</td>\n",
              "      <td>0.000000</td>\n",
              "      <td>21.000000</td>\n",
              "    </tr>\n",
              "    <tr>\n",
              "      <th>50%</th>\n",
              "      <td>10229.500000</td>\n",
              "      <td>1957.000000</td>\n",
              "      <td>1.000000</td>\n",
              "      <td>1.000000</td>\n",
              "      <td>1.0</td>\n",
              "      <td>8.000000</td>\n",
              "      <td>5.500000e+04</td>\n",
              "      <td>1.0</td>\n",
              "      <td>60.800000</td>\n",
              "      <td>87.450000</td>\n",
              "      <td>7.000000</td>\n",
              "      <td>5.000000</td>\n",
              "      <td>96.600000</td>\n",
              "      <td>0.000000</td>\n",
              "      <td>42.000000</td>\n",
              "    </tr>\n",
              "    <tr>\n",
              "      <th>75%</th>\n",
              "      <td>15255.500000</td>\n",
              "      <td>1969.000000</td>\n",
              "      <td>1.000000</td>\n",
              "      <td>1.000000</td>\n",
              "      <td>1.0</td>\n",
              "      <td>9.000000</td>\n",
              "      <td>7.500000e+04</td>\n",
              "      <td>1.0</td>\n",
              "      <td>74.725000</td>\n",
              "      <td>93.400000</td>\n",
              "      <td>10.000000</td>\n",
              "      <td>7.000000</td>\n",
              "      <td>97.825000</td>\n",
              "      <td>0.000000</td>\n",
              "      <td>71.000000</td>\n",
              "    </tr>\n",
              "    <tr>\n",
              "      <th>max</th>\n",
              "      <td>20100.000000</td>\n",
              "      <td>2001.000000</td>\n",
              "      <td>1.000000</td>\n",
              "      <td>1.000000</td>\n",
              "      <td>1.0</td>\n",
              "      <td>10.000000</td>\n",
              "      <td>1.472000e+06</td>\n",
              "      <td>1.0</td>\n",
              "      <td>92.500000</td>\n",
              "      <td>98.600000</td>\n",
              "      <td>11.000000</td>\n",
              "      <td>10.000000</td>\n",
              "      <td>99.500000</td>\n",
              "      <td>1.000000</td>\n",
              "      <td>100.000000</td>\n",
              "    </tr>\n",
              "  </tbody>\n",
              "</table>\n",
              "</div>"
            ],
            "text/plain": [
              "            voterID  Date_of_birth  ...  Survey_Respondent  Liberal_cause_donation\n",
              "count   2960.000000    2957.000000  ...        2960.000000              565.000000\n",
              "mean   10168.657432    1958.251945  ...           0.190878               46.472566\n",
              "std     5790.495717      15.197408  ...           0.393060               29.695226\n",
              "min      104.000000    1919.000000  ...           0.000000                1.000000\n",
              "25%     5198.250000    1947.000000  ...           0.000000               21.000000\n",
              "50%    10229.500000    1957.000000  ...           0.000000               42.000000\n",
              "75%    15255.500000    1969.000000  ...           0.000000               71.000000\n",
              "max    20100.000000    2001.000000  ...           1.000000              100.000000\n",
              "\n",
              "[8 rows x 15 columns]"
            ]
          },
          "metadata": {
            "tags": []
          },
          "execution_count": 30
        }
      ]
    },
    {
      "cell_type": "code",
      "metadata": {
        "colab": {
          "base_uri": "https://localhost:8080/"
        },
        "id": "acKPUqGPfSyU",
        "outputId": "3771ebcb-c552-4a4a-e7a2-c106b5f33e0f"
      },
      "source": [
        "score_more_80_partisan_70_turn.value_counts('Liberal_cause_donation')"
      ],
      "execution_count": 31,
      "outputs": [
        {
          "output_type": "execute_result",
          "data": {
            "text/plain": [
              "Liberal_cause_donation\n",
              "100.0    16\n",
              "23.0     14\n",
              "42.0     12\n",
              "22.0     12\n",
              "6.0      12\n",
              "         ..\n",
              "11.0      1\n",
              "65.0      1\n",
              "45.0      1\n",
              "96.0      1\n",
              "75.0      1\n",
              "Length: 100, dtype: int64"
            ]
          },
          "metadata": {
            "tags": []
          },
          "execution_count": 31
        }
      ]
    },
    {
      "cell_type": "markdown",
      "metadata": {
        "id": "KZxVGcC0f1VP"
      },
      "source": [
        "Question 2: Address some missing data in the column “Household_income”. Impute missing values. "
      ]
    },
    {
      "cell_type": "code",
      "metadata": {
        "colab": {
          "base_uri": "https://localhost:8080/"
        },
        "id": "q5LyFlRwgmEJ",
        "outputId": "39e0a832-8672-40bc-d445-13a6155cfe1d"
      },
      "source": [
        "#Check for missing values across columns\n",
        "potential_donors.isnull().sum(axis = 0).sort_values()"
      ],
      "execution_count": 34,
      "outputs": [
        {
          "output_type": "execute_result",
          "data": {
            "text/plain": [
              "voterID                           0\n",
              "Modeled_partisan_score            0\n",
              "Zipcode                           0\n",
              "Survey_Respondent                 0\n",
              "Modeled_turnout_score             0\n",
              "Urbanicity                        3\n",
              "Married                         207\n",
              "Modeled_activist_score          409\n",
              "Household_income               3087\n",
              "Discretionary_income_level     3087\n",
              "Gender                         4618\n",
              "Unaffiliated_voter             4782\n",
              "Date_of_birth                  4797\n",
              "Nonsaver_level                 5623\n",
              "Modeled_charitable_giving      6451\n",
              "Homeowner                      8439\n",
              "Liberal_cause_donation        16902\n",
              "Has_children                  18859\n",
              "dtype: int64"
            ]
          },
          "metadata": {
            "tags": []
          },
          "execution_count": 34
        }
      ]
    },
    {
      "cell_type": "markdown",
      "metadata": {
        "id": "OXTkFJDxgv2U"
      },
      "source": [
        "Analyst Note: We see that the top 3 columns with most missing values are: 1) 'Has_children', 2) 'Liberal_cause_donation, and 3) 'Homeowner'. (The second one is our target variable! We will need to implement a strategy to deal with this column's missing value challenge for our prediction model.) Specifically, we see that there are 3,087 missing values for 'Household_income'. Refer back to descriptive statistics under EDA to pinpoint both mean and median for 'Household_income' column. We can address by imputing with 'Household_income' mean, which is 6.418838e+04\t($64,188) , its median value, which is 5.900000e+04\t($59,000)."
      ]
    },
    {
      "cell_type": "code",
      "metadata": {
        "colab": {
          "base_uri": "https://localhost:8080/"
        },
        "id": "zUucdWk3f4kw",
        "outputId": "dce8da0f-313a-4d9e-c4bb-b876347b744d"
      },
      "source": [
        "potential_donors.value_counts(\"Household_income\")"
      ],
      "execution_count": 32,
      "outputs": [
        {
          "output_type": "execute_result",
          "data": {
            "text/plain": [
              "Household_income\n",
              "50000.0     337\n",
              "51000.0     329\n",
              "71000.0     328\n",
              "48000.0     321\n",
              "53000.0     309\n",
              "           ... \n",
              "270000.0      1\n",
              "273000.0      1\n",
              "274000.0      1\n",
              "275000.0      1\n",
              "5000.0        1\n",
              "Length: 288, dtype: int64"
            ]
          },
          "metadata": {
            "tags": []
          },
          "execution_count": 32
        }
      ]
    },
    {
      "cell_type": "code",
      "metadata": {
        "colab": {
          "base_uri": "https://localhost:8080/",
          "height": 280
        },
        "id": "5ufGb3h5inuJ",
        "outputId": "4b44d5ff-5f41-471e-c77e-a01409e507e7"
      },
      "source": [
        "#Visualize distribution of income for subgroup identified.\n",
        "sns.histplot(data= score_more_80_partisan_70_turn, x=\"Household_income\")\n",
        "plt.show()"
      ],
      "execution_count": 35,
      "outputs": [
        {
          "output_type": "display_data",
          "data": {
            "image/png": "[encoded data removed]",
            "text/plain": [
              "<Figure size 432x288 with 1 Axes>"
            ]
          },
          "metadata": {
            "tags": [],
            "needs_background": "light"
          }
        }
      ]
    },
    {
      "cell_type": "code",
      "metadata": {
        "colab": {
          "base_uri": "https://localhost:8080/",
          "height": 301
        },
        "id": "Km048XECgY-6",
        "outputId": "809c4653-f8a8-49b4-dc9a-c16005870128"
      },
      "source": [
        "sns.histplot(\n",
        "    data= potential_donors , x=\"Household_income\", hue= \"Married\" ,\n",
        "    log_scale=True, element=\"step\", fill=False,\n",
        "    cumulative=True, stat=\"density\", common_norm=False,\n",
        ")"
      ],
      "execution_count": 37,
      "outputs": [
        {
          "output_type": "execute_result",
          "data": {
            "text/plain": [
              "<matplotlib.axes._subplots.AxesSubplot at 0x7f3699ba7c50>"
            ]
          },
          "metadata": {
            "tags": []
          },
          "execution_count": 37
        },
        {
          "output_type": "display_data",
          "data": {
            "image/png": "[encoded data removed]",
            "text/plain": [
              "<Figure size 432x288 with 1 Axes>"
            ]
          },
          "metadata": {
            "tags": [],
            "needs_background": "light"
          }
        }
      ]
    },
    {
      "cell_type": "code",
      "metadata": {
        "colab": {
          "base_uri": "https://localhost:8080/",
          "height": 439
        },
        "id": "m4jJyBxwp_Qu",
        "outputId": "1c0c755c-6785-4dcc-a000-21d468c4eb7e"
      },
      "source": [
        "#Impute with mean for target column with missing values, including 'Household_income'\n",
        "#Create New data set where missing address and is potential_donors_fixed\n",
        "potential_donors_fixed = potential_donors.fillna(potential_donors['Household_income'].mean())\n",
        "potential_donors_fixed"
      ],
      "execution_count": 48,
      "outputs": [
        {
          "output_type": "execute_result",
          "data": {
            "text/html": [
              "<div>\n",
              "<style scoped>\n",
              "    .dataframe tbody tr th:only-of-type {\n",
              "        vertical-align: middle;\n",
              "    }\n",
              "\n",
              "    .dataframe tbody tr th {\n",
              "        vertical-align: top;\n",
              "    }\n",
              "\n",
              "    .dataframe thead th {\n",
              "        text-align: right;\n",
              "    }\n",
              "</style>\n",
              "<table border=\"1\" class=\"dataframe\">\n",
              "  <thead>\n",
              "    <tr style=\"text-align: right;\">\n",
              "      <th></th>\n",
              "      <th>voterID</th>\n",
              "      <th>Urbanicity</th>\n",
              "      <th>Date_of_birth</th>\n",
              "      <th>Gender</th>\n",
              "      <th>Married</th>\n",
              "      <th>Homeowner</th>\n",
              "      <th>Has_children</th>\n",
              "      <th>Zipcode</th>\n",
              "      <th>Modeled_charitable_giving</th>\n",
              "      <th>Household_income</th>\n",
              "      <th>Unaffiliated_voter</th>\n",
              "      <th>Modeled_activist_score</th>\n",
              "      <th>Modeled_turnout_score</th>\n",
              "      <th>Discretionary_income_level</th>\n",
              "      <th>Nonsaver_level</th>\n",
              "      <th>Modeled_partisan_score</th>\n",
              "      <th>Survey_Respondent</th>\n",
              "      <th>Liberal_cause_donation</th>\n",
              "    </tr>\n",
              "  </thead>\n",
              "  <tbody>\n",
              "    <tr>\n",
              "      <th>0</th>\n",
              "      <td>101</td>\n",
              "      <td>Rural</td>\n",
              "      <td>64188.375806</td>\n",
              "      <td>M</td>\n",
              "      <td>0.0</td>\n",
              "      <td>0.000000</td>\n",
              "      <td>64188.375806</td>\n",
              "      <td>5370</td>\n",
              "      <td>6.000000</td>\n",
              "      <td>90000.000000</td>\n",
              "      <td>64188.375806</td>\n",
              "      <td>19.3</td>\n",
              "      <td>51.6</td>\n",
              "      <td>5.000000</td>\n",
              "      <td>7.000000</td>\n",
              "      <td>49.8</td>\n",
              "      <td>0</td>\n",
              "      <td>64188.375806</td>\n",
              "    </tr>\n",
              "    <tr>\n",
              "      <th>1</th>\n",
              "      <td>102</td>\n",
              "      <td>Suburban</td>\n",
              "      <td>1946.000000</td>\n",
              "      <td>F</td>\n",
              "      <td>1.0</td>\n",
              "      <td>1.000000</td>\n",
              "      <td>64188.375806</td>\n",
              "      <td>5151</td>\n",
              "      <td>10.000000</td>\n",
              "      <td>44000.000000</td>\n",
              "      <td>1.000000</td>\n",
              "      <td>69.4</td>\n",
              "      <td>91.8</td>\n",
              "      <td>8.000000</td>\n",
              "      <td>5.000000</td>\n",
              "      <td>2.4</td>\n",
              "      <td>1</td>\n",
              "      <td>15.000000</td>\n",
              "    </tr>\n",
              "    <tr>\n",
              "      <th>2</th>\n",
              "      <td>103</td>\n",
              "      <td>Suburban</td>\n",
              "      <td>1995.000000</td>\n",
              "      <td>64188.4</td>\n",
              "      <td>1.0</td>\n",
              "      <td>64188.375806</td>\n",
              "      <td>64188.375806</td>\n",
              "      <td>4144</td>\n",
              "      <td>64188.375806</td>\n",
              "      <td>64188.375806</td>\n",
              "      <td>1.000000</td>\n",
              "      <td>73.0</td>\n",
              "      <td>47.4</td>\n",
              "      <td>64188.375806</td>\n",
              "      <td>64188.375806</td>\n",
              "      <td>47.3</td>\n",
              "      <td>0</td>\n",
              "      <td>64188.375806</td>\n",
              "    </tr>\n",
              "    <tr>\n",
              "      <th>3</th>\n",
              "      <td>104</td>\n",
              "      <td>Suburban</td>\n",
              "      <td>1979.000000</td>\n",
              "      <td>64188.4</td>\n",
              "      <td>1.0</td>\n",
              "      <td>1.000000</td>\n",
              "      <td>64188.375806</td>\n",
              "      <td>4440</td>\n",
              "      <td>8.000000</td>\n",
              "      <td>62000.000000</td>\n",
              "      <td>1.000000</td>\n",
              "      <td>29.3</td>\n",
              "      <td>88.2</td>\n",
              "      <td>1.000000</td>\n",
              "      <td>7.000000</td>\n",
              "      <td>98.1</td>\n",
              "      <td>1</td>\n",
              "      <td>63.000000</td>\n",
              "    </tr>\n",
              "    <tr>\n",
              "      <th>4</th>\n",
              "      <td>105</td>\n",
              "      <td>Suburban</td>\n",
              "      <td>1947.000000</td>\n",
              "      <td>64188.4</td>\n",
              "      <td>0.0</td>\n",
              "      <td>1.000000</td>\n",
              "      <td>64188.375806</td>\n",
              "      <td>5064</td>\n",
              "      <td>64188.375806</td>\n",
              "      <td>47000.000000</td>\n",
              "      <td>1.000000</td>\n",
              "      <td>41.0</td>\n",
              "      <td>73.4</td>\n",
              "      <td>9.000000</td>\n",
              "      <td>64188.375806</td>\n",
              "      <td>75.0</td>\n",
              "      <td>0</td>\n",
              "      <td>64188.375806</td>\n",
              "    </tr>\n",
              "    <tr>\n",
              "      <th>...</th>\n",
              "      <td>...</td>\n",
              "      <td>...</td>\n",
              "      <td>...</td>\n",
              "      <td>...</td>\n",
              "      <td>...</td>\n",
              "      <td>...</td>\n",
              "      <td>...</td>\n",
              "      <td>...</td>\n",
              "      <td>...</td>\n",
              "      <td>...</td>\n",
              "      <td>...</td>\n",
              "      <td>...</td>\n",
              "      <td>...</td>\n",
              "      <td>...</td>\n",
              "      <td>...</td>\n",
              "      <td>...</td>\n",
              "      <td>...</td>\n",
              "      <td>...</td>\n",
              "    </tr>\n",
              "    <tr>\n",
              "      <th>19995</th>\n",
              "      <td>20096</td>\n",
              "      <td>Suburban</td>\n",
              "      <td>1942.000000</td>\n",
              "      <td>M</td>\n",
              "      <td>1.0</td>\n",
              "      <td>1.000000</td>\n",
              "      <td>64188.375806</td>\n",
              "      <td>4310</td>\n",
              "      <td>10.000000</td>\n",
              "      <td>27000.000000</td>\n",
              "      <td>1.000000</td>\n",
              "      <td>10.3</td>\n",
              "      <td>22.4</td>\n",
              "      <td>10.000000</td>\n",
              "      <td>2.000000</td>\n",
              "      <td>67.9</td>\n",
              "      <td>0</td>\n",
              "      <td>64188.375806</td>\n",
              "    </tr>\n",
              "    <tr>\n",
              "      <th>19996</th>\n",
              "      <td>20097</td>\n",
              "      <td>Suburban</td>\n",
              "      <td>1981.000000</td>\n",
              "      <td>M</td>\n",
              "      <td>1.0</td>\n",
              "      <td>1.000000</td>\n",
              "      <td>64188.375806</td>\n",
              "      <td>5152</td>\n",
              "      <td>9.000000</td>\n",
              "      <td>53000.000000</td>\n",
              "      <td>1.000000</td>\n",
              "      <td>15.1</td>\n",
              "      <td>2.2</td>\n",
              "      <td>3.000000</td>\n",
              "      <td>4.000000</td>\n",
              "      <td>20.0</td>\n",
              "      <td>0</td>\n",
              "      <td>64188.375806</td>\n",
              "    </tr>\n",
              "    <tr>\n",
              "      <th>19997</th>\n",
              "      <td>20098</td>\n",
              "      <td>Rural</td>\n",
              "      <td>1917.000000</td>\n",
              "      <td>F</td>\n",
              "      <td>0.0</td>\n",
              "      <td>1.000000</td>\n",
              "      <td>64188.375806</td>\n",
              "      <td>3758</td>\n",
              "      <td>64188.375806</td>\n",
              "      <td>11000.000000</td>\n",
              "      <td>1.000000</td>\n",
              "      <td>23.8</td>\n",
              "      <td>1.6</td>\n",
              "      <td>11.000000</td>\n",
              "      <td>1.000000</td>\n",
              "      <td>78.9</td>\n",
              "      <td>0</td>\n",
              "      <td>64188.375806</td>\n",
              "    </tr>\n",
              "    <tr>\n",
              "      <th>19998</th>\n",
              "      <td>20099</td>\n",
              "      <td>Rural</td>\n",
              "      <td>1958.000000</td>\n",
              "      <td>F</td>\n",
              "      <td>0.0</td>\n",
              "      <td>64188.375806</td>\n",
              "      <td>64188.375806</td>\n",
              "      <td>4440</td>\n",
              "      <td>64188.375806</td>\n",
              "      <td>64188.375806</td>\n",
              "      <td>1.000000</td>\n",
              "      <td>31.4</td>\n",
              "      <td>38.6</td>\n",
              "      <td>64188.375806</td>\n",
              "      <td>64188.375806</td>\n",
              "      <td>39.5</td>\n",
              "      <td>0</td>\n",
              "      <td>64188.375806</td>\n",
              "    </tr>\n",
              "    <tr>\n",
              "      <th>19999</th>\n",
              "      <td>20100</td>\n",
              "      <td>Urban</td>\n",
              "      <td>1947.000000</td>\n",
              "      <td>F</td>\n",
              "      <td>0.0</td>\n",
              "      <td>1.000000</td>\n",
              "      <td>64188.375806</td>\n",
              "      <td>4121</td>\n",
              "      <td>8.000000</td>\n",
              "      <td>15000.000000</td>\n",
              "      <td>1.000000</td>\n",
              "      <td>87.6</td>\n",
              "      <td>93.9</td>\n",
              "      <td>9.000000</td>\n",
              "      <td>2.000000</td>\n",
              "      <td>99.2</td>\n",
              "      <td>0</td>\n",
              "      <td>64188.375806</td>\n",
              "    </tr>\n",
              "  </tbody>\n",
              "</table>\n",
              "<p>20000 rows × 18 columns</p>\n",
              "</div>"
            ],
            "text/plain": [
              "       voterID Urbanicity  ...  Survey_Respondent Liberal_cause_donation\n",
              "0          101      Rural  ...                  0           64188.375806\n",
              "1          102   Suburban  ...                  1              15.000000\n",
              "2          103   Suburban  ...                  0           64188.375806\n",
              "3          104   Suburban  ...                  1              63.000000\n",
              "4          105   Suburban  ...                  0           64188.375806\n",
              "...        ...        ...  ...                ...                    ...\n",
              "19995    20096   Suburban  ...                  0           64188.375806\n",
              "19996    20097   Suburban  ...                  0           64188.375806\n",
              "19997    20098      Rural  ...                  0           64188.375806\n",
              "19998    20099      Rural  ...                  0           64188.375806\n",
              "19999    20100      Urban  ...                  0           64188.375806\n",
              "\n",
              "[20000 rows x 18 columns]"
            ]
          },
          "metadata": {
            "tags": []
          },
          "execution_count": 48
        }
      ]
    },
    {
      "cell_type": "code",
      "metadata": {
        "colab": {
          "base_uri": "https://localhost:8080/"
        },
        "id": "yWY5HQEmrfhv",
        "outputId": "18fc167e-fb7c-4dfd-d20a-814000642ba4"
      },
      "source": [
        "#Check column 'Household_income'\n",
        "potential_donors_fixed['Household_income'].value_counts().sort_values()"
      ],
      "execution_count": 49,
      "outputs": [
        {
          "output_type": "execute_result",
          "data": {
            "text/plain": [
              "247000.000000       1\n",
              "598000.000000       1\n",
              "361000.000000       1\n",
              "258000.000000       1\n",
              "704000.000000       1\n",
              "                 ... \n",
              "48000.000000      321\n",
              "71000.000000      328\n",
              "51000.000000      329\n",
              "50000.000000      337\n",
              "64188.375806     3087\n",
              "Name: Household_income, Length: 289, dtype: int64"
            ]
          },
          "metadata": {
            "tags": []
          },
          "execution_count": 49
        }
      ]
    },
    {
      "cell_type": "markdown",
      "metadata": {
        "id": "vSoDAHEtPurB"
      },
      "source": [
        "Question 3 (20 points)\n",
        "It’s finally time to build a predictive model of donors. Luckily, BlueRoots has recently run a survey that reached approximately 3,000 of its members (see “Survey_Respondent” column), asking them some questions about their background and whether they’ve recently given a one-time gift to a progressive cause or non-profit that they are passionate about and, if so, how much they gave. The column with those survey responses is named “Liberal_cause_donation”. (People who gave $100 or more are listed as having given $100 in the data.) Using this data as a training set, your task is to build a model of BlueRoots’ members.\n",
        "BlueRoots’ fundraising plan is to write to all of its members (despite your previous work) who your model predicts are likely to give $75 or more to a liberal cause. BlueRoots needs your help figuring out who those members are based on the survey it conducted.\n",
        "As a first step in your model, you’ll need to select a set of variables for inclusion in the model. Write code to identify the set of variables that you will use to predict donation levels. Be sure to explain in your code comments why you are using the methods you are using to select variables for the model.\n",
        "Save your commented code as Question3_LASTNAME, with the appropriate file extension (.R, .py). Be sure that your code is clearly commented."
      ]
    },
    {
      "cell_type": "code",
      "metadata": {
        "colab": {
          "base_uri": "https://localhost:8080/",
          "height": 534
        },
        "id": "_onIvn16yFIz",
        "outputId": "c2dbe364-bf01-4209-d770-5d1d7ecb6cad"
      },
      "source": [
        "#Note correlation across features\n",
        "potential_donors.corr()"
      ],
      "execution_count": 55,
      "outputs": [
        {
          "output_type": "execute_result",
          "data": {
            "text/html": [
              "<div>\n",
              "<style scoped>\n",
              "    .dataframe tbody tr th:only-of-type {\n",
              "        vertical-align: middle;\n",
              "    }\n",
              "\n",
              "    .dataframe tbody tr th {\n",
              "        vertical-align: top;\n",
              "    }\n",
              "\n",
              "    .dataframe thead th {\n",
              "        text-align: right;\n",
              "    }\n",
              "</style>\n",
              "<table border=\"1\" class=\"dataframe\">\n",
              "  <thead>\n",
              "    <tr style=\"text-align: right;\">\n",
              "      <th></th>\n",
              "      <th>voterID</th>\n",
              "      <th>Date_of_birth</th>\n",
              "      <th>Married</th>\n",
              "      <th>Homeowner</th>\n",
              "      <th>Has_children</th>\n",
              "      <th>Modeled_charitable_giving</th>\n",
              "      <th>Household_income</th>\n",
              "      <th>Unaffiliated_voter</th>\n",
              "      <th>Modeled_activist_score</th>\n",
              "      <th>Modeled_turnout_score</th>\n",
              "      <th>Discretionary_income_level</th>\n",
              "      <th>Nonsaver_level</th>\n",
              "      <th>Modeled_partisan_score</th>\n",
              "      <th>Survey_Respondent</th>\n",
              "      <th>Liberal_cause_donation</th>\n",
              "    </tr>\n",
              "  </thead>\n",
              "  <tbody>\n",
              "    <tr>\n",
              "      <th>voterID</th>\n",
              "      <td>1.000000</td>\n",
              "      <td>0.010600</td>\n",
              "      <td>0.004329</td>\n",
              "      <td>-0.010183</td>\n",
              "      <td>NaN</td>\n",
              "      <td>0.009412</td>\n",
              "      <td>-0.011681</td>\n",
              "      <td>NaN</td>\n",
              "      <td>0.004758</td>\n",
              "      <td>0.007260</td>\n",
              "      <td>-0.000108</td>\n",
              "      <td>-0.004971</td>\n",
              "      <td>0.002267</td>\n",
              "      <td>-0.556626</td>\n",
              "      <td>0.021535</td>\n",
              "    </tr>\n",
              "    <tr>\n",
              "      <th>Date_of_birth</th>\n",
              "      <td>0.010600</td>\n",
              "      <td>1.000000</td>\n",
              "      <td>-0.142417</td>\n",
              "      <td>-0.115644</td>\n",
              "      <td>NaN</td>\n",
              "      <td>-0.170227</td>\n",
              "      <td>0.167489</td>\n",
              "      <td>NaN</td>\n",
              "      <td>-0.231964</td>\n",
              "      <td>-0.382412</td>\n",
              "      <td>-0.211974</td>\n",
              "      <td>0.132063</td>\n",
              "      <td>0.081431</td>\n",
              "      <td>-0.119194</td>\n",
              "      <td>0.629914</td>\n",
              "    </tr>\n",
              "    <tr>\n",
              "      <th>Married</th>\n",
              "      <td>0.004329</td>\n",
              "      <td>-0.142417</td>\n",
              "      <td>1.000000</td>\n",
              "      <td>0.205819</td>\n",
              "      <td>NaN</td>\n",
              "      <td>-0.095046</td>\n",
              "      <td>0.123211</td>\n",
              "      <td>NaN</td>\n",
              "      <td>0.127947</td>\n",
              "      <td>0.341195</td>\n",
              "      <td>-0.197612</td>\n",
              "      <td>0.136633</td>\n",
              "      <td>-0.280500</td>\n",
              "      <td>0.104939</td>\n",
              "      <td>0.001293</td>\n",
              "    </tr>\n",
              "    <tr>\n",
              "      <th>Homeowner</th>\n",
              "      <td>-0.010183</td>\n",
              "      <td>-0.115644</td>\n",
              "      <td>0.205819</td>\n",
              "      <td>1.000000</td>\n",
              "      <td>NaN</td>\n",
              "      <td>-0.048373</td>\n",
              "      <td>0.082251</td>\n",
              "      <td>NaN</td>\n",
              "      <td>0.113447</td>\n",
              "      <td>0.185196</td>\n",
              "      <td>-0.114136</td>\n",
              "      <td>0.111729</td>\n",
              "      <td>-0.134167</td>\n",
              "      <td>0.046808</td>\n",
              "      <td>-0.056325</td>\n",
              "    </tr>\n",
              "    <tr>\n",
              "      <th>Has_children</th>\n",
              "      <td>NaN</td>\n",
              "      <td>NaN</td>\n",
              "      <td>NaN</td>\n",
              "      <td>NaN</td>\n",
              "      <td>NaN</td>\n",
              "      <td>NaN</td>\n",
              "      <td>NaN</td>\n",
              "      <td>NaN</td>\n",
              "      <td>NaN</td>\n",
              "      <td>NaN</td>\n",
              "      <td>NaN</td>\n",
              "      <td>NaN</td>\n",
              "      <td>NaN</td>\n",
              "      <td>NaN</td>\n",
              "      <td>NaN</td>\n",
              "    </tr>\n",
              "    <tr>\n",
              "      <th>Modeled_charitable_giving</th>\n",
              "      <td>0.009412</td>\n",
              "      <td>-0.170227</td>\n",
              "      <td>-0.095046</td>\n",
              "      <td>-0.048373</td>\n",
              "      <td>NaN</td>\n",
              "      <td>1.000000</td>\n",
              "      <td>-0.579831</td>\n",
              "      <td>NaN</td>\n",
              "      <td>-0.070978</td>\n",
              "      <td>-0.059435</td>\n",
              "      <td>0.451392</td>\n",
              "      <td>-0.480901</td>\n",
              "      <td>0.084977</td>\n",
              "      <td>-0.021526</td>\n",
              "      <td>-0.172302</td>\n",
              "    </tr>\n",
              "    <tr>\n",
              "      <th>Household_income</th>\n",
              "      <td>-0.011681</td>\n",
              "      <td>0.167489</td>\n",
              "      <td>0.123211</td>\n",
              "      <td>0.082251</td>\n",
              "      <td>NaN</td>\n",
              "      <td>-0.579831</td>\n",
              "      <td>1.000000</td>\n",
              "      <td>NaN</td>\n",
              "      <td>0.027959</td>\n",
              "      <td>0.099785</td>\n",
              "      <td>-0.536943</td>\n",
              "      <td>0.526770</td>\n",
              "      <td>-0.126026</td>\n",
              "      <td>0.026868</td>\n",
              "      <td>0.152997</td>\n",
              "    </tr>\n",
              "    <tr>\n",
              "      <th>Unaffiliated_voter</th>\n",
              "      <td>NaN</td>\n",
              "      <td>NaN</td>\n",
              "      <td>NaN</td>\n",
              "      <td>NaN</td>\n",
              "      <td>NaN</td>\n",
              "      <td>NaN</td>\n",
              "      <td>NaN</td>\n",
              "      <td>NaN</td>\n",
              "      <td>NaN</td>\n",
              "      <td>NaN</td>\n",
              "      <td>NaN</td>\n",
              "      <td>NaN</td>\n",
              "      <td>NaN</td>\n",
              "      <td>NaN</td>\n",
              "      <td>NaN</td>\n",
              "    </tr>\n",
              "    <tr>\n",
              "      <th>Modeled_activist_score</th>\n",
              "      <td>0.004758</td>\n",
              "      <td>-0.231964</td>\n",
              "      <td>0.127947</td>\n",
              "      <td>0.113447</td>\n",
              "      <td>NaN</td>\n",
              "      <td>-0.070978</td>\n",
              "      <td>0.027959</td>\n",
              "      <td>NaN</td>\n",
              "      <td>1.000000</td>\n",
              "      <td>0.531993</td>\n",
              "      <td>-0.040036</td>\n",
              "      <td>0.036406</td>\n",
              "      <td>0.072325</td>\n",
              "      <td>-0.007595</td>\n",
              "      <td>-0.354126</td>\n",
              "    </tr>\n",
              "    <tr>\n",
              "      <th>Modeled_turnout_score</th>\n",
              "      <td>0.007260</td>\n",
              "      <td>-0.382412</td>\n",
              "      <td>0.341195</td>\n",
              "      <td>0.185196</td>\n",
              "      <td>NaN</td>\n",
              "      <td>-0.059435</td>\n",
              "      <td>0.099785</td>\n",
              "      <td>NaN</td>\n",
              "      <td>0.531993</td>\n",
              "      <td>1.000000</td>\n",
              "      <td>-0.146777</td>\n",
              "      <td>0.164694</td>\n",
              "      <td>-0.188562</td>\n",
              "      <td>0.068493</td>\n",
              "      <td>-0.157244</td>\n",
              "    </tr>\n",
              "    <tr>\n",
              "      <th>Discretionary_income_level</th>\n",
              "      <td>-0.000108</td>\n",
              "      <td>-0.211974</td>\n",
              "      <td>-0.197612</td>\n",
              "      <td>-0.114136</td>\n",
              "      <td>NaN</td>\n",
              "      <td>0.451392</td>\n",
              "      <td>-0.536943</td>\n",
              "      <td>NaN</td>\n",
              "      <td>-0.040036</td>\n",
              "      <td>-0.146777</td>\n",
              "      <td>1.000000</td>\n",
              "      <td>-0.493918</td>\n",
              "      <td>0.121139</td>\n",
              "      <td>-0.042925</td>\n",
              "      <td>-0.335482</td>\n",
              "    </tr>\n",
              "    <tr>\n",
              "      <th>Nonsaver_level</th>\n",
              "      <td>-0.004971</td>\n",
              "      <td>0.132063</td>\n",
              "      <td>0.136633</td>\n",
              "      <td>0.111729</td>\n",
              "      <td>NaN</td>\n",
              "      <td>-0.480901</td>\n",
              "      <td>0.526770</td>\n",
              "      <td>NaN</td>\n",
              "      <td>0.036406</td>\n",
              "      <td>0.164694</td>\n",
              "      <td>-0.493918</td>\n",
              "      <td>1.000000</td>\n",
              "      <td>-0.196708</td>\n",
              "      <td>-0.003523</td>\n",
              "      <td>0.063195</td>\n",
              "    </tr>\n",
              "    <tr>\n",
              "      <th>Modeled_partisan_score</th>\n",
              "      <td>0.002267</td>\n",
              "      <td>0.081431</td>\n",
              "      <td>-0.280500</td>\n",
              "      <td>-0.134167</td>\n",
              "      <td>NaN</td>\n",
              "      <td>0.084977</td>\n",
              "      <td>-0.126026</td>\n",
              "      <td>NaN</td>\n",
              "      <td>0.072325</td>\n",
              "      <td>-0.188562</td>\n",
              "      <td>0.121139</td>\n",
              "      <td>-0.196708</td>\n",
              "      <td>1.000000</td>\n",
              "      <td>-0.033984</td>\n",
              "      <td>0.018075</td>\n",
              "    </tr>\n",
              "    <tr>\n",
              "      <th>Survey_Respondent</th>\n",
              "      <td>-0.556626</td>\n",
              "      <td>-0.119194</td>\n",
              "      <td>0.104939</td>\n",
              "      <td>0.046808</td>\n",
              "      <td>NaN</td>\n",
              "      <td>-0.021526</td>\n",
              "      <td>0.026868</td>\n",
              "      <td>NaN</td>\n",
              "      <td>-0.007595</td>\n",
              "      <td>0.068493</td>\n",
              "      <td>-0.042925</td>\n",
              "      <td>-0.003523</td>\n",
              "      <td>-0.033984</td>\n",
              "      <td>1.000000</td>\n",
              "      <td>NaN</td>\n",
              "    </tr>\n",
              "    <tr>\n",
              "      <th>Liberal_cause_donation</th>\n",
              "      <td>0.021535</td>\n",
              "      <td>0.629914</td>\n",
              "      <td>0.001293</td>\n",
              "      <td>-0.056325</td>\n",
              "      <td>NaN</td>\n",
              "      <td>-0.172302</td>\n",
              "      <td>0.152997</td>\n",
              "      <td>NaN</td>\n",
              "      <td>-0.354126</td>\n",
              "      <td>-0.157244</td>\n",
              "      <td>-0.335482</td>\n",
              "      <td>0.063195</td>\n",
              "      <td>0.018075</td>\n",
              "      <td>NaN</td>\n",
              "      <td>1.000000</td>\n",
              "    </tr>\n",
              "  </tbody>\n",
              "</table>\n",
              "</div>"
            ],
            "text/plain": [
              "                             voterID  ...  Liberal_cause_donation\n",
              "voterID                     1.000000  ...                0.021535\n",
              "Date_of_birth               0.010600  ...                0.629914\n",
              "Married                     0.004329  ...                0.001293\n",
              "Homeowner                  -0.010183  ...               -0.056325\n",
              "Has_children                     NaN  ...                     NaN\n",
              "Modeled_charitable_giving   0.009412  ...               -0.172302\n",
              "Household_income           -0.011681  ...                0.152997\n",
              "Unaffiliated_voter               NaN  ...                     NaN\n",
              "Modeled_activist_score      0.004758  ...               -0.354126\n",
              "Modeled_turnout_score       0.007260  ...               -0.157244\n",
              "Discretionary_income_level -0.000108  ...               -0.335482\n",
              "Nonsaver_level             -0.004971  ...                0.063195\n",
              "Modeled_partisan_score      0.002267  ...                0.018075\n",
              "Survey_Respondent          -0.556626  ...                     NaN\n",
              "Liberal_cause_donation      0.021535  ...                1.000000\n",
              "\n",
              "[15 rows x 15 columns]"
            ]
          },
          "metadata": {
            "tags": []
          },
          "execution_count": 55
        }
      ]
    },
    {
      "cell_type": "code",
      "metadata": {
        "colab": {
          "base_uri": "https://localhost:8080/",
          "height": 562
        },
        "id": "M0hR47q7yN2t",
        "outputId": "210a3a9a-f59f-493a-d963-adc609f5cd45"
      },
      "source": [
        "potential_donors_numeric = potential_donors['Modeled_charitable_giving', 'Household_income','Date_of_birth']\n",
        "sns.heatmap(potential_donors_numeric)"
      ],
      "execution_count": 57,
      "outputs": [
        {
          "output_type": "error",
          "ename": "KeyError",
          "evalue": "ignored",
          "traceback": [
            "\u001b[0;31m---------------------------------------------------------------------------\u001b[0m",
            "\u001b[0;31mKeyError\u001b[0m                                  Traceback (most recent call last)",
            "\u001b[0;32m/usr/local/lib/python3.7/dist-packages/pandas/core/indexes/base.py\u001b[0m in \u001b[0;36mget_loc\u001b[0;34m(self, key, method, tolerance)\u001b[0m\n\u001b[1;32m   2897\u001b[0m             \u001b[0;32mtry\u001b[0m\u001b[0;34m:\u001b[0m\u001b[0;34m\u001b[0m\u001b[0;34m\u001b[0m\u001b[0m\n\u001b[0;32m-> 2898\u001b[0;31m                 \u001b[0;32mreturn\u001b[0m \u001b[0mself\u001b[0m\u001b[0;34m.\u001b[0m\u001b[0m_engine\u001b[0m\u001b[0;34m.\u001b[0m\u001b[0mget_loc\u001b[0m\u001b[0;34m(\u001b[0m\u001b[0mcasted_key\u001b[0m\u001b[0;34m)\u001b[0m\u001b[0;34m\u001b[0m\u001b[0;34m\u001b[0m\u001b[0m\n\u001b[0m\u001b[1;32m   2899\u001b[0m             \u001b[0;32mexcept\u001b[0m \u001b[0mKeyError\u001b[0m \u001b[0;32mas\u001b[0m \u001b[0merr\u001b[0m\u001b[0;34m:\u001b[0m\u001b[0;34m\u001b[0m\u001b[0;34m\u001b[0m\u001b[0m\n",
            "\u001b[0;32mpandas/_libs/index.pyx\u001b[0m in \u001b[0;36mpandas._libs.index.IndexEngine.get_loc\u001b[0;34m()\u001b[0m\n",
            "\u001b[0;32mpandas/_libs/index.pyx\u001b[0m in \u001b[0;36mpandas._libs.index.IndexEngine.get_loc\u001b[0;34m()\u001b[0m\n",
            "\u001b[0;32mpandas/_libs/hashtable_class_helper.pxi\u001b[0m in \u001b[0;36mpandas._libs.hashtable.PyObjectHashTable.get_item\u001b[0;34m()\u001b[0m\n",
            "\u001b[0;32mpandas/_libs/hashtable_class_helper.pxi\u001b[0m in \u001b[0;36mpandas._libs.hashtable.PyObjectHashTable.get_item\u001b[0;34m()\u001b[0m\n",
            "\u001b[0;31mKeyError\u001b[0m: ('Modeled_charitable_giving', 'Household_income', 'Date_of_birth')",
            "\nThe above exception was the direct cause of the following exception:\n",
            "\u001b[0;31mKeyError\u001b[0m                                  Traceback (most recent call last)",
            "\u001b[0;32m<ipython-input-57-b4f8ad09f09b>\u001b[0m in \u001b[0;36m<module>\u001b[0;34m()\u001b[0m\n\u001b[0;32m----> 1\u001b[0;31m \u001b[0mpotential_donors_numeric\u001b[0m \u001b[0;34m=\u001b[0m \u001b[0mpotential_donors\u001b[0m\u001b[0;34m[\u001b[0m\u001b[0;34m'Modeled_charitable_giving'\u001b[0m\u001b[0;34m,\u001b[0m \u001b[0;34m'Household_income'\u001b[0m\u001b[0;34m,\u001b[0m\u001b[0;34m'Date_of_birth'\u001b[0m\u001b[0;34m]\u001b[0m\u001b[0;34m\u001b[0m\u001b[0;34m\u001b[0m\u001b[0m\n\u001b[0m\u001b[1;32m      2\u001b[0m \u001b[0msns\u001b[0m\u001b[0;34m.\u001b[0m\u001b[0mheatmap\u001b[0m\u001b[0;34m(\u001b[0m\u001b[0mpotential_donors_numeric\u001b[0m\u001b[0;34m)\u001b[0m\u001b[0;34m\u001b[0m\u001b[0;34m\u001b[0m\u001b[0m\n",
            "\u001b[0;32m/usr/local/lib/python3.7/dist-packages/pandas/core/frame.py\u001b[0m in \u001b[0;36m__getitem__\u001b[0;34m(self, key)\u001b[0m\n\u001b[1;32m   2904\u001b[0m             \u001b[0;32mif\u001b[0m \u001b[0mself\u001b[0m\u001b[0;34m.\u001b[0m\u001b[0mcolumns\u001b[0m\u001b[0;34m.\u001b[0m\u001b[0mnlevels\u001b[0m \u001b[0;34m>\u001b[0m \u001b[0;36m1\u001b[0m\u001b[0;34m:\u001b[0m\u001b[0;34m\u001b[0m\u001b[0;34m\u001b[0m\u001b[0m\n\u001b[1;32m   2905\u001b[0m                 \u001b[0;32mreturn\u001b[0m \u001b[0mself\u001b[0m\u001b[0;34m.\u001b[0m\u001b[0m_getitem_multilevel\u001b[0m\u001b[0;34m(\u001b[0m\u001b[0mkey\u001b[0m\u001b[0;34m)\u001b[0m\u001b[0;34m\u001b[0m\u001b[0;34m\u001b[0m\u001b[0m\n\u001b[0;32m-> 2906\u001b[0;31m             \u001b[0mindexer\u001b[0m \u001b[0;34m=\u001b[0m \u001b[0mself\u001b[0m\u001b[0;34m.\u001b[0m\u001b[0mcolumns\u001b[0m\u001b[0;34m.\u001b[0m\u001b[0mget_loc\u001b[0m\u001b[0;34m(\u001b[0m\u001b[0mkey\u001b[0m\u001b[0;34m)\u001b[0m\u001b[0;34m\u001b[0m\u001b[0;34m\u001b[0m\u001b[0m\n\u001b[0m\u001b[1;32m   2907\u001b[0m             \u001b[0;32mif\u001b[0m \u001b[0mis_integer\u001b[0m\u001b[0;34m(\u001b[0m\u001b[0mindexer\u001b[0m\u001b[0;34m)\u001b[0m\u001b[0;34m:\u001b[0m\u001b[0;34m\u001b[0m\u001b[0;34m\u001b[0m\u001b[0m\n\u001b[1;32m   2908\u001b[0m                 \u001b[0mindexer\u001b[0m \u001b[0;34m=\u001b[0m \u001b[0;34m[\u001b[0m\u001b[0mindexer\u001b[0m\u001b[0;34m]\u001b[0m\u001b[0;34m\u001b[0m\u001b[0;34m\u001b[0m\u001b[0m\n",
            "\u001b[0;32m/usr/local/lib/python3.7/dist-packages/pandas/core/indexes/base.py\u001b[0m in \u001b[0;36mget_loc\u001b[0;34m(self, key, method, tolerance)\u001b[0m\n\u001b[1;32m   2898\u001b[0m                 \u001b[0;32mreturn\u001b[0m \u001b[0mself\u001b[0m\u001b[0;34m.\u001b[0m\u001b[0m_engine\u001b[0m\u001b[0;34m.\u001b[0m\u001b[0mget_loc\u001b[0m\u001b[0;34m(\u001b[0m\u001b[0mcasted_key\u001b[0m\u001b[0;34m)\u001b[0m\u001b[0;34m\u001b[0m\u001b[0;34m\u001b[0m\u001b[0m\n\u001b[1;32m   2899\u001b[0m             \u001b[0;32mexcept\u001b[0m \u001b[0mKeyError\u001b[0m \u001b[0;32mas\u001b[0m \u001b[0merr\u001b[0m\u001b[0;34m:\u001b[0m\u001b[0;34m\u001b[0m\u001b[0;34m\u001b[0m\u001b[0m\n\u001b[0;32m-> 2900\u001b[0;31m                 \u001b[0;32mraise\u001b[0m \u001b[0mKeyError\u001b[0m\u001b[0;34m(\u001b[0m\u001b[0mkey\u001b[0m\u001b[0;34m)\u001b[0m \u001b[0;32mfrom\u001b[0m \u001b[0merr\u001b[0m\u001b[0;34m\u001b[0m\u001b[0;34m\u001b[0m\u001b[0m\n\u001b[0m\u001b[1;32m   2901\u001b[0m \u001b[0;34m\u001b[0m\u001b[0m\n\u001b[1;32m   2902\u001b[0m         \u001b[0;32mif\u001b[0m \u001b[0mtolerance\u001b[0m \u001b[0;32mis\u001b[0m \u001b[0;32mnot\u001b[0m \u001b[0;32mNone\u001b[0m\u001b[0;34m:\u001b[0m\u001b[0;34m\u001b[0m\u001b[0;34m\u001b[0m\u001b[0m\n",
            "\u001b[0;31mKeyError\u001b[0m: ('Modeled_charitable_giving', 'Household_income', 'Date_of_birth')"
          ]
        }
      ]
    },
    {
      "cell_type": "code",
      "metadata": {
        "id": "zMoTfKeHrxIh"
      },
      "source": [
        "import numpy as np\n",
        "from sklearn.linear_model import LinearRegression\n",
        "# Import train_test_split\n",
        "from sklearn.model_selection import train_test_split\n",
        "\n",
        "# Drop the missing value features and convert the DataFrame to a NumPy array\n",
        "#Build prediction model\n",
        "## Use “Liberal_cause_donation” =  'Household_income' + 'Homeowner' + 'Married' + 'Modeled_turnout_score' + 'Modeled_partisan_score' + 'Discretionary_income_level'\n"
      ],
      "execution_count": 50,
      "outputs": []
    },
    {
      "cell_type": "code",
      "metadata": {
        "colab": {
          "base_uri": "https://localhost:8080/",
          "height": 130
        },
        "id": "QD5RDrO9xK5L",
        "outputId": "cf9c5863-6aa7-4212-c167-c51363ff168e"
      },
      "source": [
        "X = potential_donors[['Household_income','Homeowner', 'Married','Modeled_turnout_score','Modeled_partisan_score','Discretionary_income_level']\n",
        "\n",
        "y = potential_donors['Liberal_cause_donation']\n",
        "\n",
        "#Split the data into 70% train and aand 30% test sets\n",
        "X_train, X_test, y_train, y_test = train_test_split(X, y,test_size=.30,)"
      ],
      "execution_count": 54,
      "outputs": [
        {
          "output_type": "error",
          "ename": "SyntaxError",
          "evalue": "ignored",
          "traceback": [
            "\u001b[0;36m  File \u001b[0;32m\"<ipython-input-54-7b65dc159782>\"\u001b[0;36m, line \u001b[0;32m2\u001b[0m\n\u001b[0;31m    y = potential_donors['Liberal_cause_donation']\u001b[0m\n\u001b[0m    ^\u001b[0m\n\u001b[0;31mSyntaxError\u001b[0m\u001b[0;31m:\u001b[0m invalid syntax\n"
          ]
        }
      ]
    },
    {
      "cell_type": "code",
      "metadata": {
        "id": "ky_H3YlExjYu"
      },
      "source": [
        ""
      ],
      "execution_count": null,
      "outputs": []
    },
    {
      "cell_type": "code",
      "metadata": {
        "id": "W7TdJEFywQGi"
      },
      "source": [
        "model = LinearRegression()"
      ],
      "execution_count": null,
      "outputs": []
    },
    {
      "cell_type": "code",
      "metadata": {
        "id": "yFR1dF2EwRRh"
      },
      "source": [
        "#Fit the model\n",
        "model.fit(x, y)"
      ],
      "execution_count": null,
      "outputs": []
    },
    {
      "cell_type": "code",
      "metadata": {
        "id": "z-q8gP9hwqIV"
      },
      "source": [
        "model = LinearRegression().fit(x, y)"
      ],
      "execution_count": null,
      "outputs": []
    },
    {
      "cell_type": "code",
      "metadata": {
        "id": "RuUPWJWKwygz"
      },
      "source": [
        "r_sq = model.score(x, y)\n",
        "print('coefficient of determination:', r_sq)"
      ],
      "execution_count": null,
      "outputs": []
    },
    {
      "cell_type": "code",
      "metadata": {
        "colab": {
          "base_uri": "https://localhost:8080/"
        },
        "id": "q1a2pQkZoEP3",
        "outputId": "90062d7e-7547-4af1-f4c1-cd22808002f4"
      },
      "source": [
        "#How likely is it that potential donor will donate at least $75 too a liberal cause?\n",
        "#Need the cdf\n",
        "from scipy import stats\n",
        "test=stats.ttest_1samp(potential_donors['Liberal_cause_donation'], 75)\n",
        "print(test.pvalue.round(3))"
      ],
      "execution_count": 44,
      "outputs": [
        {
          "output_type": "stream",
          "text": [
            "nan\n"
          ],
          "name": "stdout"
        }
      ]
    },
    {
      "cell_type": "code",
      "metadata": {
        "colab": {
          "base_uri": "https://localhost:8080/",
          "height": 198
        },
        "id": "gxwOHWL5nQgZ",
        "outputId": "e75e5615-0953-41a0-d813-74047e0b54f8"
      },
      "source": [
        "x_1 = potential_donors['Liberal_cause_donation']\n",
        "ecdf = ECDF(x_1)\n",
        "print(ecdf(75))"
      ],
      "execution_count": 38,
      "outputs": [
        {
          "output_type": "error",
          "ename": "NameError",
          "evalue": "ignored",
          "traceback": [
            "\u001b[0;31m---------------------------------------------------------------------------\u001b[0m",
            "\u001b[0;31mNameError\u001b[0m                                 Traceback (most recent call last)",
            "\u001b[0;32m<ipython-input-38-c44b14c507d4>\u001b[0m in \u001b[0;36m<module>\u001b[0;34m()\u001b[0m\n\u001b[1;32m      1\u001b[0m \u001b[0mx_1\u001b[0m \u001b[0;34m=\u001b[0m \u001b[0mpotential_donors\u001b[0m\u001b[0;34m[\u001b[0m\u001b[0;34m'Liberal_cause_donation'\u001b[0m\u001b[0;34m]\u001b[0m\u001b[0;34m\u001b[0m\u001b[0;34m\u001b[0m\u001b[0m\n\u001b[0;32m----> 2\u001b[0;31m \u001b[0mecdf\u001b[0m \u001b[0;34m=\u001b[0m \u001b[0mECDF\u001b[0m\u001b[0;34m(\u001b[0m\u001b[0mx_1\u001b[0m\u001b[0;34m)\u001b[0m\u001b[0;34m\u001b[0m\u001b[0;34m\u001b[0m\u001b[0m\n\u001b[0m\u001b[1;32m      3\u001b[0m \u001b[0mprint\u001b[0m\u001b[0;34m(\u001b[0m\u001b[0mecdf\u001b[0m\u001b[0;34m(\u001b[0m\u001b[0;36m75\u001b[0m\u001b[0;34m)\u001b[0m\u001b[0;34m)\u001b[0m\u001b[0;34m\u001b[0m\u001b[0;34m\u001b[0m\u001b[0m\n",
            "\u001b[0;31mNameError\u001b[0m: name 'ECDF' is not defined"
          ]
        }
      ]
    },
    {
      "cell_type": "markdown",
      "metadata": {
        "id": "ke9ZW7rvPzoI"
      },
      "source": [
        "Analyst Note: Develop a Regression Model to predict who is likely to donate $75  or more to a liberal cause."
      ]
    },
    {
      "cell_type": "markdown",
      "metadata": {
        "id": "JpaCuHDclnfn"
      },
      "source": [
        "We will build a regression model and propose that the following independent variables will predict the target (dependent variable) 'Liberal_cause_donation' to see who is more likely to donate $75 or more to a liberal cause by calculating their coefficients and determining the bias term, or intercept. Divide the model data into training and test set by 80% of data to train our model, and use remaining 20% to test accuracy of model by checking if proposed model severely overfits the data.\n",
        "\n",
        "\n",
        " "
      ]
    },
    {
      "cell_type": "code",
      "metadata": {
        "id": "j3kBvlSkN_ap"
      },
      "source": [
        "#Propose Independent variables to predict the target (dependent variable) of liberal cause donation: 'Liberal_cause_donation'.\n",
        " #Run correlation matrix to see which variables are highly correlated with one another.\n",
        " "
      ],
      "execution_count": null,
      "outputs": []
    },
    {
      "cell_type": "markdown",
      "metadata": {
        "id": "YzEJgLoEQFkn"
      },
      "source": [
        "Question 4 (30 points) Now build a simple model that predicts how much people will donate to a liberal cause (using “Liberal_cause_donation” as the outcome). This model does not need to be perfect, we understand that you don’t have much time. But show us in code the basic steps that you would use to build the model, including: how you would set up the data, how you would model the outcome, how you would evaluate model performance, how you would generate predictions for the rest of the membership list. Your approach should take into account the variables you selected in the previous question. For any steps you don’t have time to complete in the code (or just want to elaborate on), describe what you would do in words. Be as specific as you can. Lay out the exact steps you would take in this process, how you would organize the data, what analyses you would run at each step, and how you would get the data in final form to help the fundraising team with its donation request. Be sure to explain how you would evaluate the quality of your model. Write this section in as much technical detail as you can. You can use language directed to a technical audience, such as other analysts. Feel free to use pseudocode, reference specific software packages by name, etc. Save your commented code as Question4_LASTNAME, with the appropriate file extension (.R, .py). Add the written explanation to your document: GPTest_LASTNAME.\n",
        "\n"
      ]
    },
    {
      "cell_type": "markdown",
      "metadata": {
        "id": "FJE5oSb3QHiE"
      },
      "source": [
        "Question 5 (30 points) ● Great! Switching gears from model building, BlueRoots asks you to help them run a test to evaluate which types of fundraising messages increase donations the most. The BlueRoots team wants to test 3 different messages (A, B, and C) that its creative team has developed. BlueRoots plans to send the messages by mail and email. ● Describe how you would advise BlueRoots to design and execute this test (no coding needed, just explain in writing). In particular, be sure to address: ○ How would you decide on the size of the test and each group? ○ How would you decide who gets which message? ○ How would you make sure that BlueRoots implements the design correctly? ● Describe how you would analyze the test (no coding needed, just explain in writing). In particular, be sure to address: ○ What outcomes would you be looking at? ○ How would you know if any findings were likely due to chance or not? ○ How would you test if the effect of a given message is different for different groups, like men vs women? ● Write this section in as much technical detail as you can. You can use language directed to a technical audience, such as other analysts. Feel free to use pseudocode, reference specific software packages by name, etc. ● Add this written explanation to your document for BlueRoots, GPTest_LASTNAME."
      ]
    },
    {
      "cell_type": "markdown",
      "metadata": {
        "id": "maUmgVDEkRkH"
      },
      "source": [
        "#Analyst Note Recommendation for Evaluation: We could import either Scipy or Statsmodel libraries to calculate the test-statistics in parametric testing of our A group (men) versus B group (women). Gender is one level of testing across comparison groups. However, we may also want to test how the audience receives a new message, thus resulting in two separate groups before and after: 1) Men before message, 2) same Men after message, 3) Women before same message, measured against 4) same Women after same message. We will be controlling for the message. "
      ]
    }
  ]
}